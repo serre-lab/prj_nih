{
 "cells": [
  {
   "cell_type": "code",
   "execution_count": 503,
   "metadata": {},
   "outputs": [],
   "source": [
    "import os\n",
    "all_files_with_actions = []\n",
    "for folder in [\"preexposure_action\", \"postcond_action\", \"postext_action\", \"postret_action\"]:\n",
    "    all_files_with_actions += os.listdir(\"/media/data_cifs/anagara8/\"+ folder)"
   ]
  },
  {
   "cell_type": "code",
   "execution_count": 505,
   "metadata": {},
   "outputs": [],
   "source": [
    "# SAVE ALL_FILES_WITH_ACTIONS\n",
    "np.save(\"all_frame_and_action_list.npy\", all_files_with_actions)"
   ]
  },
  {
   "cell_type": "code",
   "execution_count": 506,
   "metadata": {},
   "outputs": [
    {
     "data": {
      "text/plain": [
       "8387210"
      ]
     },
     "execution_count": 506,
     "metadata": {},
     "output_type": "execute_result"
    }
   ],
   "source": [
    "len(all_files_with_actions)"
   ]
  },
  {
   "cell_type": "code",
   "execution_count": 1,
   "metadata": {},
   "outputs": [
    {
     "name": "stderr",
     "output_type": "stream",
     "text": [
      "/home/anagara8/.conda/envs/pytorch/lib/python3.9/site-packages/tqdm/auto.py:22: TqdmWarning: IProgress not found. Please update jupyter and ipywidgets. See https://ipywidgets.readthedocs.io/en/stable/user_install.html\n",
      "  from .autonotebook import tqdm as notebook_tqdm\n"
     ]
    }
   ],
   "source": [
    "from datetime import timedelta\n",
    "import torch\n",
    "from torch.autograd import Variable\n",
    "import torchvision\n",
    "import torch.nn as nn\n",
    "import torch.nn.functional as F\n",
    "from torchvision import datasets, models,transforms\n",
    "import torch.optim as optim\n",
    "from torch.optim import lr_scheduler\n",
    "from torch.utils.data import TensorDataset, DataLoader,random_split\n",
    "from __future__ import print_function\n",
    "import numpy as np \n",
    "import pandas as pd\n",
    "import os\n",
    "import time\n",
    "import random\n",
    "import matplotlib.pyplot as plt \n",
    "from torch.autograd import Function\n",
    "from collections import OrderedDict\n",
    "import torch.nn as nn\n",
    "import math\n",
    "import torchvision.models as models\n",
    "import pickle\n",
    "from tqdm.auto import tqdm\n",
    "import cv2\n",
    "import wandb\n",
    "from sklearn.model_selection import KFold\n",
    "# from torchsummary import summary\n",
    "import glob\n",
    "from sklearn.manifold import TSNE\n",
    "import seaborn as sns\n",
    "import collections\n",
    "from PIL import Image\n",
    "from sklearn.preprocessing import StandardScaler\n",
    "from sklearn.decomposition import PCA\n",
    "import umap\n",
    "import umap.umap_ as UMAP\n",
    "import pims"
   ]
  },
  {
   "cell_type": "code",
   "execution_count": 2,
   "metadata": {},
   "outputs": [],
   "source": [
    "class ResizeConv2d(nn.Module):\n",
    "\n",
    "    def __init__(self, in_channels, out_channels, kernel_size, scale_factor, mode='nearest'):\n",
    "        super().__init__()\n",
    "        self.scale_factor = scale_factor\n",
    "        self.mode = mode\n",
    "        self.conv = nn.Conv2d(in_channels, out_channels, kernel_size, stride=1, padding=1)\n",
    "\n",
    "    def forward(self, x):\n",
    "        x = F.interpolate(x, scale_factor=self.scale_factor, mode=self.mode)\n",
    "        x = self.conv(x)\n",
    "        return x\n",
    "\n",
    "class BasicBlockEnc(nn.Module):\n",
    "\n",
    "    def __init__(self, in_planes, stride=1):\n",
    "        super().__init__()\n",
    "\n",
    "        planes = in_planes*stride\n",
    "\n",
    "        self.conv1 = nn.Conv2d(in_planes, planes, kernel_size=3, stride=stride, padding=1, bias=False)\n",
    "        self.bn1 = nn.BatchNorm2d(planes)\n",
    "        self.conv2 = nn.Conv2d(planes, planes, kernel_size=3, stride=1, padding=1, bias=False)\n",
    "        self.bn2 = nn.BatchNorm2d(planes)\n",
    "\n",
    "        if stride == 1:\n",
    "            self.shortcut = nn.Sequential()\n",
    "        else:\n",
    "            self.shortcut = nn.Sequential(\n",
    "                nn.Conv2d(in_planes, planes, kernel_size=1, stride=stride, bias=False),\n",
    "                nn.BatchNorm2d(planes)\n",
    "            )\n",
    "\n",
    "    def forward(self, x):\n",
    "        out = torch.relu(self.bn1(self.conv1(x)))\n",
    "        out = self.bn2(self.conv2(out))\n",
    "        out += self.shortcut(x)\n",
    "        out = torch.relu(out)\n",
    "        return out\n",
    "\n",
    "class BasicBlockDec(nn.Module):\n",
    "\n",
    "    def __init__(self, in_planes, stride=1):\n",
    "        super().__init__()\n",
    "\n",
    "        planes = int(in_planes/stride)\n",
    "\n",
    "        self.conv2 = nn.Conv2d(in_planes, in_planes, kernel_size=3, stride=1, padding=1, bias=False)\n",
    "        self.bn2 = nn.BatchNorm2d(in_planes)\n",
    "        # self.bn1 could have been placed here, but that messes up the order of the layers when printing the class\n",
    "\n",
    "        if stride == 1:\n",
    "            self.conv1 = nn.Conv2d(in_planes, planes, kernel_size=3, stride=1, padding=1, bias=False)\n",
    "            self.bn1 = nn.BatchNorm2d(planes)\n",
    "            self.shortcut = nn.Sequential()\n",
    "        else:\n",
    "            self.conv1 = ResizeConv2d(in_planes, planes, kernel_size=3, scale_factor=stride)\n",
    "            self.bn1 = nn.BatchNorm2d(planes)\n",
    "            self.shortcut = nn.Sequential(\n",
    "                ResizeConv2d(in_planes, planes, kernel_size=3, scale_factor=stride),\n",
    "                nn.BatchNorm2d(planes)\n",
    "            )\n",
    "\n",
    "    def forward(self, x):\n",
    "        out = torch.relu(self.bn2(self.conv2(x)))\n",
    "        out = self.bn1(self.conv1(out))\n",
    "        out += self.shortcut(x)\n",
    "        out = torch.relu(out)\n",
    "        return out\n",
    "\n",
    "class ResNet18Enc(nn.Module):\n",
    "    def __init__(self, z_dim=32):\n",
    "        super(ResNet18Enc, self).__init__()\n",
    "        self.z_dim = z_dim\n",
    "        self.ResNet18 = models.resnet18(pretrained=True)\n",
    "        self.num_feature = self.ResNet18.fc.in_features\n",
    "        self.ResNet18.fc = nn.Linear(self.num_feature, 1*self.z_dim)\n",
    "        \n",
    "    def forward(self, x):\n",
    "        x = self.ResNet18(x)\n",
    "        return x\n",
    "\n",
    "class ResNet18Dec(nn.Module):\n",
    "\n",
    "    def __init__(self, num_Blocks=[2,2,2,2], z_dim=32, nc=3):\n",
    "        super().__init__()\n",
    "        self.in_planes = 512\n",
    "\n",
    "        self.linear = nn.Linear(z_dim, 512)\n",
    "\n",
    "        self.layer4 = self._make_layer(BasicBlockDec, 256, num_Blocks[3], stride=2)\n",
    "        self.layer3 = self._make_layer(BasicBlockDec, 128, num_Blocks[2], stride=2)\n",
    "        self.layer2 = self._make_layer(BasicBlockDec, 64, num_Blocks[1], stride=2)\n",
    "        self.layer1 = self._make_layer(BasicBlockDec, 64, num_Blocks[0], stride=1)\n",
    "        self.conv1 = ResizeConv2d(64, nc, kernel_size=3, scale_factor=2)\n",
    "\n",
    "    def _make_layer(self, BasicBlockDec, planes, num_Blocks, stride):\n",
    "        strides = [stride] + [1]*(num_Blocks-1)\n",
    "        layers = []\n",
    "        for stride in reversed(strides):\n",
    "            layers += [BasicBlockDec(self.in_planes, stride)]\n",
    "        self.in_planes = planes\n",
    "        return nn.Sequential(*layers)\n",
    "\n",
    "    def forward(self, z):\n",
    "        x = self.linear(z)\n",
    "        x = x.view(z.size(0), 512, 1, 1)\n",
    "        x = F.interpolate(x, scale_factor=7)\n",
    "        x = self.layer4(x)\n",
    "        x = self.layer3(x)\n",
    "        x = self.layer2(x)\n",
    "        x = self.layer1(x)\n",
    "        x = F.interpolate(x, size=(112,112), mode='bilinear')\n",
    "        x = torch.sigmoid(self.conv1(x))\n",
    "        # [x, channels, height, width]\n",
    "        x = x.view(x.size(0), 3, 224, 224)\n",
    "        return x\n",
    "\n",
    "class newAE(nn.Module):\n",
    "\n",
    "    def __init__(self, z_dim):\n",
    "        super(newAE, self).__init__()\n",
    "        self.encoder = ResNet18Enc(z_dim=z_dim)\n",
    "        self.decoder = ResNet18Dec(z_dim=z_dim)\n",
    "\n",
    "    def forward(self, x):\n",
    "        z = self.encoder(x)\n",
    "#         mean, logvar = self.encoder(x)\n",
    "#         z = self.reparameterize(mean, logvar)\n",
    "        x = self.decoder(z)\n",
    "        return x\n",
    "\n",
    "    @staticmethod\n",
    "    def reparameterize(mean, logvar):\n",
    "        std = torch.exp(logvar / 2) # in log-space, squareroot is divide by two\n",
    "        epsilon = torch.randn_like(std)\n",
    "        return epsilon * std + mean"
   ]
  },
  {
   "cell_type": "code",
   "execution_count": 3,
   "metadata": {},
   "outputs": [
    {
     "name": "stdout",
     "output_type": "stream",
     "text": [
      "Training File List containing 8086880 frames loaded in: 40.378238677978516\n"
     ]
    }
   ],
   "source": [
    "start = time.time()\n",
    "frame_data_list = np.load(\"/media/data_cifs/anagara8/OnePercentFramesList.npy\")\n",
    "end = time.time()\n",
    "print(\"Training File List containing\", len(frame_data_list), \"frames loaded in:\", end - start)"
   ]
  },
  {
   "cell_type": "code",
   "execution_count": 4,
   "metadata": {},
   "outputs": [],
   "source": [
    "final_training_list = []\n",
    "\n",
    "preexposure_count = 0\n",
    "postcond_count = 0\n",
    "postext_count = 0\n",
    "postret_count = 0\n",
    "\n",
    "# 1353968 -> Number of frames of postret (smallest class)\n",
    "for sample in frame_data_list:\n",
    "    if \"preexposure\" in sample:\n",
    "        if preexposure_count < 200000:\n",
    "            final_training_list.append(sample)\n",
    "            preexposure_count += 1\n",
    "    elif \"postcond\" in sample:\n",
    "        if postcond_count < 200000:\n",
    "            final_training_list.append(sample)\n",
    "            postcond_count += 1\n",
    "    elif \"postext\" in sample:\n",
    "        if postext_count < 200000:\n",
    "            final_training_list.append(sample)\n",
    "            postext_count += 1\n",
    "    elif \"postret\" in sample:\n",
    "        if postret_count < 200000:\n",
    "            final_training_list.append(sample)\n",
    "            postret_count += 1"
   ]
  },
  {
   "cell_type": "code",
   "execution_count": 5,
   "metadata": {},
   "outputs": [
    {
     "data": {
      "text/plain": [
       "800000"
      ]
     },
     "execution_count": 5,
     "metadata": {},
     "output_type": "execute_result"
    }
   ],
   "source": [
    "len(final_training_list)"
   ]
  },
  {
   "cell_type": "code",
   "execution_count": 6,
   "metadata": {},
   "outputs": [],
   "source": [
    "random.seed(42)\n",
    "random.shuffle(final_training_list)"
   ]
  },
  {
   "cell_type": "code",
   "execution_count": 7,
   "metadata": {},
   "outputs": [
    {
     "data": {
      "text/plain": [
       "['/media/data_cifs/anagara8/postcond/FC-B_1-6_postcond_09-21_09-23_2video_2018Y_09M_23D_00h_39m_36s_cam_17202346-0000_156.jpg',\n",
       " '/media/data_cifs/anagara8/postret/FC-A_08-15-18_postretvideo_2018Y_08M_20D_10h_03m_29s_cam_17202339-0000_921.jpg',\n",
       " '/media/data_cifs/anagara8/postret/FC-C_1-6_postret_10-19_10-video_2018Y_10M_21D_19h_41m_14s_cam_17202345-0000_335.jpg',\n",
       " '/media/data_cifs/anagara8/preexposure/FC-D_preexposure_W1_06-01-2019video_2019Y_06M_02D_12h_45m_22s_cam_17202339-0000_724.jpg',\n",
       " '/media/data_cifs/anagara8/postcond/FC-D_postcond_W2_06-07-2019_comp2video_2019Y_06M_07D_20h_23m_25s_cam_6394839-0000_623.jpg',\n",
       " '/media/data_cifs/anagara8/postret/FC-C_1-6_postret_10-19_10-video_2018Y_10M_19D_12h_41m_05s_cam_17202345-0000_89.jpg',\n",
       " '/media/data_cifs/anagara8/postext/FC-D_postext_W3_06-08-2019video_2019Y_06M_08D_20h_08m_23s_cam_6394836-0000_686.jpg',\n",
       " '/media/data_cifs/anagara8/preexposure/FC-A_08-07-18_preexposurevideo_2018Y_08M_07D_20h_13m_13s_cam_17202346-0000_568.jpg',\n",
       " '/media/data_cifs/anagara8/postext/FC-C_1-6_postext_10-17_10-19video_2018Y_10M_18D_22h_50m_42s_cam_17202346-0000_105.jpg',\n",
       " '/media/data_cifs/anagara8/preexposure/FC-D_preexposure_W1_05-30-2019_comp2video_2019Y_05M_31D_06h_51m_26s_cam_17202346-0000_825.jpg']"
      ]
     },
     "execution_count": 7,
     "metadata": {},
     "output_type": "execute_result"
    }
   ],
   "source": [
    "final_training_list[0:10]"
   ]
  },
  {
   "cell_type": "code",
   "execution_count": 8,
   "metadata": {},
   "outputs": [],
   "source": [
    "preexposure_count = 0\n",
    "postcond_count = 0\n",
    "postext_count = 0\n",
    "postret_count = 0\n",
    "\n",
    "preexposure_average = np.zeros((480, 640, 3))\n",
    "postcond_average = np.zeros((480, 640, 3))\n",
    "postext_average = np.zeros((480, 640, 3))\n",
    "postret_average = np.zeros((480, 640, 3))\n",
    "\n",
    "for sample in final_training_list:\n",
    "    if \"preexposure\" in sample:\n",
    "        if preexposure_count < 1000:\n",
    "            image = cv2.imread(sample)\n",
    "            preexposure_average += image/1000\n",
    "#             cv2.imwrite(\"/media/data_cifs/anagara8/TrainingViz/preexposure100/frame\"+str(preexposure_count)+\".jpg\", image)\n",
    "            preexposure_count += 1\n",
    "    elif \"postcond\" in sample:\n",
    "        if postcond_count < 1000:\n",
    "            image = cv2.imread(sample)\n",
    "            postcond_average += image/1000\n",
    "#             cv2.imwrite(\"/media/data_cifs/anagara8/TrainingViz/postcond100/frame\"+str(postcond_count)+\".jpg\", image)\n",
    "            postcond_count += 1\n",
    "    elif \"postext\" in sample:\n",
    "        if postext_count < 1000:\n",
    "            image = cv2.imread(sample)\n",
    "            postext_average += image/1000\n",
    "#             cv2.imwrite(\"/media/data_cifs/anagara8/TrainingViz/postext100/frame\"+str(postext_count)+\".jpg\", image)\n",
    "            postext_count += 1\n",
    "    elif \"postret\" in sample:\n",
    "        if postret_count < 1000:\n",
    "            image = cv2.imread(sample)\n",
    "            postret_average += image/1000\n",
    "#             cv2.imwrite(\"/media/data_cifs/anagara8/TrainingViz/postret100/frame\"+str(postret_count)+\".jpg\", image)\n",
    "            postret_count += 1"
   ]
  },
  {
   "cell_type": "markdown",
   "metadata": {},
   "source": [
    "### Average Images from Training Set"
   ]
  },
  {
   "cell_type": "code",
   "execution_count": 9,
   "metadata": {},
   "outputs": [
    {
     "data": {
      "text/plain": [
       "<matplotlib.image.AxesImage at 0x7f8685fdfb50>"
      ]
     },
     "execution_count": 9,
     "metadata": {},
     "output_type": "execute_result"
    },
    {
     "data": {
      "image/png": "[encoded data removed]",
      "text/plain": [
       "<Figure size 432x288 with 1 Axes>"
      ]
     },
     "metadata": {
      "needs_background": "light"
     },
     "output_type": "display_data"
    }
   ],
   "source": [
    "plt.imshow(preexposure_average/255.0, cmap='gray')"
   ]
  },
  {
   "cell_type": "code",
   "execution_count": 10,
   "metadata": {},
   "outputs": [
    {
     "data": {
      "text/plain": [
       "<matplotlib.image.AxesImage at 0x7f8685eb9820>"
      ]
     },
     "execution_count": 10,
     "metadata": {},
     "output_type": "execute_result"
    },
    {
     "data": {
      "image/png": "[encoded data removed]",
      "text/plain": [
       "<Figure size 432x288 with 1 Axes>"
      ]
     },
     "metadata": {
      "needs_background": "light"
     },
     "output_type": "display_data"
    }
   ],
   "source": [
    "plt.imshow(postcond_average/255.0, cmap='gray')"
   ]
  },
  {
   "cell_type": "code",
   "execution_count": 11,
   "metadata": {},
   "outputs": [
    {
     "data": {
      "text/plain": [
       "<matplotlib.image.AxesImage at 0x7f8791ca0cd0>"
      ]
     },
     "execution_count": 11,
     "metadata": {},
     "output_type": "execute_result"
    },
    {
     "data": {
      "image/png": "[encoded data removed]",
      "text/plain": [
       "<Figure size 432x288 with 1 Axes>"
      ]
     },
     "metadata": {
      "needs_background": "light"
     },
     "output_type": "display_data"
    }
   ],
   "source": [
    "plt.imshow(postext_average/255.0, cmap='gray')"
   ]
  },
  {
   "cell_type": "code",
   "execution_count": 12,
   "metadata": {
    "scrolled": true
   },
   "outputs": [
    {
     "data": {
      "text/plain": [
       "<matplotlib.image.AxesImage at 0x7f8791dccc40>"
      ]
     },
     "execution_count": 12,
     "metadata": {},
     "output_type": "execute_result"
    },
    {
     "data": {
      "image/png": "[encoded data removed]",
      "text/plain": [
       "<Figure size 432x288 with 1 Axes>"
      ]
     },
     "metadata": {
      "needs_background": "light"
     },
     "output_type": "display_data"
    }
   ],
   "source": [
    "plt.imshow(postret_average/255.0, cmap='gray')"
   ]
  },
  {
   "cell_type": "markdown",
   "metadata": {},
   "source": [
    "## Disjoint Training Set based on Frames"
   ]
  },
  {
   "cell_type": "code",
   "execution_count": 13,
   "metadata": {},
   "outputs": [
    {
     "data": {
      "text/plain": [
       "800000"
      ]
     },
     "execution_count": 13,
     "metadata": {},
     "output_type": "execute_result"
    }
   ],
   "source": [
    "len(final_training_list)"
   ]
  },
  {
   "cell_type": "code",
   "execution_count": 262,
   "metadata": {},
   "outputs": [
    {
     "name": "stdout",
     "output_type": "stream",
     "text": [
      "before_loss_600.p\t      new_architecture_MSE_e1900.p\r\n",
      "lights_e0.p\t\t      new_architecture_MSE_e2000.p\r\n",
      "Model_new_arch.p\t      new_architecture_MSE_e2400.p\r\n",
      "Model_new_arch_wLoss.p\t      new_architecture_MSE_e800.p\r\n",
      "new_architecture_MSE_e1200.p  new_architecture_weighted_loss_e490.p\r\n",
      "new_architecture_MSE_e1550.p  old_unnormalized.p\r\n",
      "new_architecture_MSE_e1800.p\r\n"
     ]
    }
   ],
   "source": [
    "!ls *.p"
   ]
  },
  {
   "cell_type": "code",
   "execution_count": 263,
   "metadata": {},
   "outputs": [
    {
     "data": {
      "text/plain": [
       "DataParallel(\n",
       "  (module): newAE(\n",
       "    (encoder): ResNet18Enc(\n",
       "      (ResNet18): ResNet(\n",
       "        (conv1): Conv2d(3, 64, kernel_size=(7, 7), stride=(2, 2), padding=(3, 3), bias=False)\n",
       "        (bn1): BatchNorm2d(64, eps=1e-05, momentum=0.1, affine=True, track_running_stats=True)\n",
       "        (relu): ReLU(inplace=True)\n",
       "        (maxpool): MaxPool2d(kernel_size=3, stride=2, padding=1, dilation=1, ceil_mode=False)\n",
       "        (layer1): Sequential(\n",
       "          (0): BasicBlock(\n",
       "            (conv1): Conv2d(64, 64, kernel_size=(3, 3), stride=(1, 1), padding=(1, 1), bias=False)\n",
       "            (bn1): BatchNorm2d(64, eps=1e-05, momentum=0.1, affine=True, track_running_stats=True)\n",
       "            (relu): ReLU(inplace=True)\n",
       "            (conv2): Conv2d(64, 64, kernel_size=(3, 3), stride=(1, 1), padding=(1, 1), bias=False)\n",
       "            (bn2): BatchNorm2d(64, eps=1e-05, momentum=0.1, affine=True, track_running_stats=True)\n",
       "          )\n",
       "          (1): BasicBlock(\n",
       "            (conv1): Conv2d(64, 64, kernel_size=(3, 3), stride=(1, 1), padding=(1, 1), bias=False)\n",
       "            (bn1): BatchNorm2d(64, eps=1e-05, momentum=0.1, affine=True, track_running_stats=True)\n",
       "            (relu): ReLU(inplace=True)\n",
       "            (conv2): Conv2d(64, 64, kernel_size=(3, 3), stride=(1, 1), padding=(1, 1), bias=False)\n",
       "            (bn2): BatchNorm2d(64, eps=1e-05, momentum=0.1, affine=True, track_running_stats=True)\n",
       "          )\n",
       "        )\n",
       "        (layer2): Sequential(\n",
       "          (0): BasicBlock(\n",
       "            (conv1): Conv2d(64, 128, kernel_size=(3, 3), stride=(2, 2), padding=(1, 1), bias=False)\n",
       "            (bn1): BatchNorm2d(128, eps=1e-05, momentum=0.1, affine=True, track_running_stats=True)\n",
       "            (relu): ReLU(inplace=True)\n",
       "            (conv2): Conv2d(128, 128, kernel_size=(3, 3), stride=(1, 1), padding=(1, 1), bias=False)\n",
       "            (bn2): BatchNorm2d(128, eps=1e-05, momentum=0.1, affine=True, track_running_stats=True)\n",
       "            (downsample): Sequential(\n",
       "              (0): Conv2d(64, 128, kernel_size=(1, 1), stride=(2, 2), bias=False)\n",
       "              (1): BatchNorm2d(128, eps=1e-05, momentum=0.1, affine=True, track_running_stats=True)\n",
       "            )\n",
       "          )\n",
       "          (1): BasicBlock(\n",
       "            (conv1): Conv2d(128, 128, kernel_size=(3, 3), stride=(1, 1), padding=(1, 1), bias=False)\n",
       "            (bn1): BatchNorm2d(128, eps=1e-05, momentum=0.1, affine=True, track_running_stats=True)\n",
       "            (relu): ReLU(inplace=True)\n",
       "            (conv2): Conv2d(128, 128, kernel_size=(3, 3), stride=(1, 1), padding=(1, 1), bias=False)\n",
       "            (bn2): BatchNorm2d(128, eps=1e-05, momentum=0.1, affine=True, track_running_stats=True)\n",
       "          )\n",
       "        )\n",
       "        (layer3): Sequential(\n",
       "          (0): BasicBlock(\n",
       "            (conv1): Conv2d(128, 256, kernel_size=(3, 3), stride=(2, 2), padding=(1, 1), bias=False)\n",
       "            (bn1): BatchNorm2d(256, eps=1e-05, momentum=0.1, affine=True, track_running_stats=True)\n",
       "            (relu): ReLU(inplace=True)\n",
       "            (conv2): Conv2d(256, 256, kernel_size=(3, 3), stride=(1, 1), padding=(1, 1), bias=False)\n",
       "            (bn2): BatchNorm2d(256, eps=1e-05, momentum=0.1, affine=True, track_running_stats=True)\n",
       "            (downsample): Sequential(\n",
       "              (0): Conv2d(128, 256, kernel_size=(1, 1), stride=(2, 2), bias=False)\n",
       "              (1): BatchNorm2d(256, eps=1e-05, momentum=0.1, affine=True, track_running_stats=True)\n",
       "            )\n",
       "          )\n",
       "          (1): BasicBlock(\n",
       "            (conv1): Conv2d(256, 256, kernel_size=(3, 3), stride=(1, 1), padding=(1, 1), bias=False)\n",
       "            (bn1): BatchNorm2d(256, eps=1e-05, momentum=0.1, affine=True, track_running_stats=True)\n",
       "            (relu): ReLU(inplace=True)\n",
       "            (conv2): Conv2d(256, 256, kernel_size=(3, 3), stride=(1, 1), padding=(1, 1), bias=False)\n",
       "            (bn2): BatchNorm2d(256, eps=1e-05, momentum=0.1, affine=True, track_running_stats=True)\n",
       "          )\n",
       "        )\n",
       "        (layer4): Sequential(\n",
       "          (0): BasicBlock(\n",
       "            (conv1): Conv2d(256, 512, kernel_size=(3, 3), stride=(2, 2), padding=(1, 1), bias=False)\n",
       "            (bn1): BatchNorm2d(512, eps=1e-05, momentum=0.1, affine=True, track_running_stats=True)\n",
       "            (relu): ReLU(inplace=True)\n",
       "            (conv2): Conv2d(512, 512, kernel_size=(3, 3), stride=(1, 1), padding=(1, 1), bias=False)\n",
       "            (bn2): BatchNorm2d(512, eps=1e-05, momentum=0.1, affine=True, track_running_stats=True)\n",
       "            (downsample): Sequential(\n",
       "              (0): Conv2d(256, 512, kernel_size=(1, 1), stride=(2, 2), bias=False)\n",
       "              (1): BatchNorm2d(512, eps=1e-05, momentum=0.1, affine=True, track_running_stats=True)\n",
       "            )\n",
       "          )\n",
       "          (1): BasicBlock(\n",
       "            (conv1): Conv2d(512, 512, kernel_size=(3, 3), stride=(1, 1), padding=(1, 1), bias=False)\n",
       "            (bn1): BatchNorm2d(512, eps=1e-05, momentum=0.1, affine=True, track_running_stats=True)\n",
       "            (relu): ReLU(inplace=True)\n",
       "            (conv2): Conv2d(512, 512, kernel_size=(3, 3), stride=(1, 1), padding=(1, 1), bias=False)\n",
       "            (bn2): BatchNorm2d(512, eps=1e-05, momentum=0.1, affine=True, track_running_stats=True)\n",
       "          )\n",
       "        )\n",
       "        (avgpool): AdaptiveAvgPool2d(output_size=(1, 1))\n",
       "        (fc): Linear(in_features=512, out_features=32, bias=True)\n",
       "      )\n",
       "    )\n",
       "    (decoder): ResNet18Dec(\n",
       "      (linear): Linear(in_features=32, out_features=512, bias=True)\n",
       "      (layer4): Sequential(\n",
       "        (0): BasicBlockDec(\n",
       "          (conv2): Conv2d(512, 512, kernel_size=(3, 3), stride=(1, 1), padding=(1, 1), bias=False)\n",
       "          (bn2): BatchNorm2d(512, eps=1e-05, momentum=0.1, affine=True, track_running_stats=True)\n",
       "          (conv1): Conv2d(512, 512, kernel_size=(3, 3), stride=(1, 1), padding=(1, 1), bias=False)\n",
       "          (bn1): BatchNorm2d(512, eps=1e-05, momentum=0.1, affine=True, track_running_stats=True)\n",
       "          (shortcut): Sequential()\n",
       "        )\n",
       "        (1): BasicBlockDec(\n",
       "          (conv2): Conv2d(512, 512, kernel_size=(3, 3), stride=(1, 1), padding=(1, 1), bias=False)\n",
       "          (bn2): BatchNorm2d(512, eps=1e-05, momentum=0.1, affine=True, track_running_stats=True)\n",
       "          (conv1): ResizeConv2d(\n",
       "            (conv): Conv2d(512, 256, kernel_size=(3, 3), stride=(1, 1), padding=(1, 1))\n",
       "          )\n",
       "          (bn1): BatchNorm2d(256, eps=1e-05, momentum=0.1, affine=True, track_running_stats=True)\n",
       "          (shortcut): Sequential(\n",
       "            (0): ResizeConv2d(\n",
       "              (conv): Conv2d(512, 256, kernel_size=(3, 3), stride=(1, 1), padding=(1, 1))\n",
       "            )\n",
       "            (1): BatchNorm2d(256, eps=1e-05, momentum=0.1, affine=True, track_running_stats=True)\n",
       "          )\n",
       "        )\n",
       "      )\n",
       "      (layer3): Sequential(\n",
       "        (0): BasicBlockDec(\n",
       "          (conv2): Conv2d(256, 256, kernel_size=(3, 3), stride=(1, 1), padding=(1, 1), bias=False)\n",
       "          (bn2): BatchNorm2d(256, eps=1e-05, momentum=0.1, affine=True, track_running_stats=True)\n",
       "          (conv1): Conv2d(256, 256, kernel_size=(3, 3), stride=(1, 1), padding=(1, 1), bias=False)\n",
       "          (bn1): BatchNorm2d(256, eps=1e-05, momentum=0.1, affine=True, track_running_stats=True)\n",
       "          (shortcut): Sequential()\n",
       "        )\n",
       "        (1): BasicBlockDec(\n",
       "          (conv2): Conv2d(256, 256, kernel_size=(3, 3), stride=(1, 1), padding=(1, 1), bias=False)\n",
       "          (bn2): BatchNorm2d(256, eps=1e-05, momentum=0.1, affine=True, track_running_stats=True)\n",
       "          (conv1): ResizeConv2d(\n",
       "            (conv): Conv2d(256, 128, kernel_size=(3, 3), stride=(1, 1), padding=(1, 1))\n",
       "          )\n",
       "          (bn1): BatchNorm2d(128, eps=1e-05, momentum=0.1, affine=True, track_running_stats=True)\n",
       "          (shortcut): Sequential(\n",
       "            (0): ResizeConv2d(\n",
       "              (conv): Conv2d(256, 128, kernel_size=(3, 3), stride=(1, 1), padding=(1, 1))\n",
       "            )\n",
       "            (1): BatchNorm2d(128, eps=1e-05, momentum=0.1, affine=True, track_running_stats=True)\n",
       "          )\n",
       "        )\n",
       "      )\n",
       "      (layer2): Sequential(\n",
       "        (0): BasicBlockDec(\n",
       "          (conv2): Conv2d(128, 128, kernel_size=(3, 3), stride=(1, 1), padding=(1, 1), bias=False)\n",
       "          (bn2): BatchNorm2d(128, eps=1e-05, momentum=0.1, affine=True, track_running_stats=True)\n",
       "          (conv1): Conv2d(128, 128, kernel_size=(3, 3), stride=(1, 1), padding=(1, 1), bias=False)\n",
       "          (bn1): BatchNorm2d(128, eps=1e-05, momentum=0.1, affine=True, track_running_stats=True)\n",
       "          (shortcut): Sequential()\n",
       "        )\n",
       "        (1): BasicBlockDec(\n",
       "          (conv2): Conv2d(128, 128, kernel_size=(3, 3), stride=(1, 1), padding=(1, 1), bias=False)\n",
       "          (bn2): BatchNorm2d(128, eps=1e-05, momentum=0.1, affine=True, track_running_stats=True)\n",
       "          (conv1): ResizeConv2d(\n",
       "            (conv): Conv2d(128, 64, kernel_size=(3, 3), stride=(1, 1), padding=(1, 1))\n",
       "          )\n",
       "          (bn1): BatchNorm2d(64, eps=1e-05, momentum=0.1, affine=True, track_running_stats=True)\n",
       "          (shortcut): Sequential(\n",
       "            (0): ResizeConv2d(\n",
       "              (conv): Conv2d(128, 64, kernel_size=(3, 3), stride=(1, 1), padding=(1, 1))\n",
       "            )\n",
       "            (1): BatchNorm2d(64, eps=1e-05, momentum=0.1, affine=True, track_running_stats=True)\n",
       "          )\n",
       "        )\n",
       "      )\n",
       "      (layer1): Sequential(\n",
       "        (0): BasicBlockDec(\n",
       "          (conv2): Conv2d(64, 64, kernel_size=(3, 3), stride=(1, 1), padding=(1, 1), bias=False)\n",
       "          (bn2): BatchNorm2d(64, eps=1e-05, momentum=0.1, affine=True, track_running_stats=True)\n",
       "          (conv1): Conv2d(64, 64, kernel_size=(3, 3), stride=(1, 1), padding=(1, 1), bias=False)\n",
       "          (bn1): BatchNorm2d(64, eps=1e-05, momentum=0.1, affine=True, track_running_stats=True)\n",
       "          (shortcut): Sequential()\n",
       "        )\n",
       "        (1): BasicBlockDec(\n",
       "          (conv2): Conv2d(64, 64, kernel_size=(3, 3), stride=(1, 1), padding=(1, 1), bias=False)\n",
       "          (bn2): BatchNorm2d(64, eps=1e-05, momentum=0.1, affine=True, track_running_stats=True)\n",
       "          (conv1): Conv2d(64, 64, kernel_size=(3, 3), stride=(1, 1), padding=(1, 1), bias=False)\n",
       "          (bn1): BatchNorm2d(64, eps=1e-05, momentum=0.1, affine=True, track_running_stats=True)\n",
       "          (shortcut): Sequential()\n",
       "        )\n",
       "      )\n",
       "      (conv1): ResizeConv2d(\n",
       "        (conv): Conv2d(64, 3, kernel_size=(3, 3), stride=(1, 1), padding=(1, 1))\n",
       "      )\n",
       "    )\n",
       "  )\n",
       ")"
      ]
     },
     "execution_count": 263,
     "metadata": {},
     "output_type": "execute_result"
    }
   ],
   "source": [
    "ae_model_weighted = newAE(32)\n",
    "ae_model_weighted = nn.DataParallel(ae_model_weighted)\n",
    "ae_model_weighted = ae_model_weighted.cuda()\n",
    "ae_model_weighted.load_state_dict(torch.load(\"new_architecture_MSE_e2400.p\"))\n",
    "ae_model_weighted.eval()"
   ]
  },
  {
   "cell_type": "code",
   "execution_count": 264,
   "metadata": {},
   "outputs": [],
   "source": [
    "all_latents_array = []\n",
    "all_labels_array = []"
   ]
  },
  {
   "cell_type": "code",
   "execution_count": null,
   "metadata": {},
   "outputs": [],
   "source": [
    "image_count = 0\n",
    "\n",
    "for image in final_training_list[len(all_labels_array):]:\n",
    "    image_count += 1\n",
    "    if image_count % 10000 == 0:\n",
    "        print(\"Processed\", image_count, \"Images..\")\n",
    "    name = image\n",
    "    \n",
    "    image = cv2.imread(image)\n",
    "    image = cv2.resize(image, (224, 224), interpolation = cv2.INTER_AREA)\n",
    "    tensor_frame = torchvision.transforms.functional.to_tensor(image).unsqueeze(0).cuda()\n",
    "    with torch.no_grad():\n",
    "        latent_representation = ae_model_weighted.module.encoder(tensor_frame)\n",
    "    all_latents_array.append(latent_representation.squeeze().cpu().numpy())\n",
    "    \n",
    "    # Append One Hot encoded Labels\n",
    "    if \"preexposure\" in name:\n",
    "        all_labels_array.append([1.0, 0.0, 0.0, 0.0])\n",
    "    elif \"postcond\" in name:\n",
    "        all_labels_array.append([0.0, 1.0, 0.0, 0.0])\n",
    "    elif \"postext\" in name:\n",
    "        all_labels_array.append([0.0, 0.0, 1.0, 0.0])\n",
    "    elif \"postret\" in name:\n",
    "        all_labels_array.append([0.0, 0.0, 0.0, 1.0])\n",
    "    else:\n",
    "        print(\"ERROR: Incorrect Experiment Phase, no label associated.\")\n",
    "\n",
    "        \n",
    "print(\"All done!\")"
   ]
  },
  {
   "cell_type": "code",
   "execution_count": 400,
   "metadata": {},
   "outputs": [
    {
     "data": {
      "text/plain": [
       "800000"
      ]
     },
     "execution_count": 400,
     "metadata": {},
     "output_type": "execute_result"
    }
   ],
   "source": [
    "len(all_latents_array)"
   ]
  },
  {
   "cell_type": "code",
   "execution_count": 403,
   "metadata": {},
   "outputs": [],
   "source": [
    "# np.save(\"800kTrainingLatents_ae_mse.npy\", all_latents_array)\n",
    "# np.save(\"800kTrainingLabels_ae_mse.npy\", all_labels_array)\n",
    "# np.save(\"framesUsedFor800kTraining_ae_mse.npy\", final_training_list)\n",
    "\n",
    "# final_training_list = np.load(\"framesUsedFor800kTraining.npy\")\n",
    "# all_latents_array = np.load(\"800kTrainingLatents.npy\")\n",
    "# all_labels_array = np.load(\"800kTrainingLabels.npy\")\n",
    "\n",
    "# final_training_list = np.load(\"framesUsedFor800kTraining_ae_weighted.npy\")\n",
    "# all_latents_array = np.load(\"800kTrainingLatents_ae_weighted.npy\")\n",
    "# all_labels_array = np.load(\"800kTrainingLabels_ae_weighted.npy\")\n",
    "\n",
    "final_training_list = np.load(\"framesUsedFor800kTraining_ae_mse.npy\")\n",
    "all_latents_array = np.load(\"800kTrainingLatents_ae_mse.npy\")\n",
    "all_labels_array = np.load(\"800kTrainingLabels_ae_mse.npy\")"
   ]
  },
  {
   "cell_type": "code",
   "execution_count": 405,
   "metadata": {},
   "outputs": [
    {
     "name": "stdout",
     "output_type": "stream",
     "text": [
      "Length of untouched Training list: 800000\n",
      "Length of training list without control animals: 638325\n",
      "Length of control animal list: 161675\n",
      "Length of edited training + control animals: 800000\n",
      "Length of corresponding latents and labels: 638325 638325\n",
      "Length of Testing vectors: 161675\n"
     ]
    }
   ],
   "source": [
    "# Control animals Experiments:\n",
    "# final_training_list = np.load(\"framesUsedFor800kTraining_ae_weighted.npy\")\n",
    "# all_latents_array = np.load(\"800kTrainingLatents_ae_weighted.npy\")\n",
    "# all_labels_array = np.load(\"800kTrainingLabels_ae_weighted.npy\")\n",
    "\n",
    "# Control animal camera IDs:\n",
    "control_animal_list = [\"cam_17202338\",\n",
    "                        \"cam_17202345\",\n",
    "                        \"cam_17202346\",#('9')\n",
    "                        \"cam_6394839\",\n",
    "                        \"cam_6394846\",\n",
    "                        \"cam_6394840\"]\n",
    "\n",
    "control_animal_samples = []\n",
    "# Store indices for poping\n",
    "control_animal_indices = []\n",
    "\n",
    "# Convert from Numpy Array to Python List\n",
    "final_training_list = final_training_list.tolist()\n",
    "# Create a copy for sanity checks\n",
    "final_training_list2 = []\n",
    "\n",
    "training_latents = []\n",
    "training_labels = []\n",
    "\n",
    "testing_latents = []\n",
    "testing_labels = []\n",
    "\n",
    "for idx in range(len(final_training_list)):\n",
    "    # We know all control animals are from FC-D\n",
    "    animal_found = False\n",
    "    if \"FC-D\" in final_training_list[idx]:\n",
    "        for control_animal in control_animal_list:\n",
    "            if control_animal in final_training_list[idx]:\n",
    "                control_animal_samples.append(final_training_list[idx])\n",
    "                control_animal_indices.append(idx)\n",
    "                animal_found = True\n",
    "    if not animal_found:\n",
    "        training_latents.append(all_latents_array[idx])\n",
    "        training_labels.append(all_labels_array[idx])\n",
    "    else:\n",
    "        testing_latents.append(all_latents_array[idx])\n",
    "        testing_labels.append(all_labels_array[idx])\n",
    "            \n",
    "initial_training_set = set(final_training_list)\n",
    "control_set = set(control_animal_samples)\n",
    "final_training_list2 = list(initial_training_set-control_set)\n",
    "\n",
    "print(\"Length of untouched Training list:\", len(final_training_list))\n",
    "print(\"Length of training list without control animals:\", len(final_training_list2))\n",
    "print(\"Length of control animal list:\", len(control_animal_samples))\n",
    "print(\"Length of edited training + control animals:\", len(control_animal_samples) + len(final_training_list2))\n",
    "print(\"Length of corresponding latents and labels:\", len(training_latents), len(training_labels))\n",
    "print(\"Length of Testing vectors:\", len(testing_latents))"
   ]
  },
  {
   "cell_type": "code",
   "execution_count": 404,
   "metadata": {
    "scrolled": false
   },
   "outputs": [
    {
     "data": {
      "text/plain": [
       "800000"
      ]
     },
     "execution_count": 404,
     "metadata": {},
     "output_type": "execute_result"
    }
   ],
   "source": [
    "len(all_labels_array)"
   ]
  },
  {
   "cell_type": "code",
   "execution_count": 271,
   "metadata": {},
   "outputs": [
    {
     "name": "stdout",
     "output_type": "stream",
     "text": [
      "PCA Training Samples split:\n",
      "Preexposure: 132739 \n",
      "Postcond: 167446 \n",
      "Postext: 160721 \n",
      "Postret: 177419\n"
     ]
    }
   ],
   "source": [
    "preexposure = 0\n",
    "postcond = 0\n",
    "postext = 0\n",
    "postret = 0\n",
    "\n",
    "for sample in final_training_list2:\n",
    "    if \"preexposure\" in sample:\n",
    "        preexposure += 1\n",
    "    elif \"postcond\" in sample:\n",
    "        postcond += 1\n",
    "    elif \"postext\" in sample:\n",
    "        postext += 1\n",
    "    elif \"postret\" in sample:\n",
    "        postret += 1\n",
    "\n",
    "print(\"PCA Training Samples split:\\nPreexposure:\", preexposure, \"\\nPostcond:\", postcond, \"\\nPostext:\", postext, \"\\nPostret:\", postret)"
   ]
  },
  {
   "cell_type": "code",
   "execution_count": null,
   "metadata": {},
   "outputs": [],
   "source": [
    "folder_name = files[0].split(\"video\")[0].split(\"/\")[-1]\n",
    "video_name = \"video\" + files[0].split(\"video\")[-1].split(\"-0000_\")[-2] + \"-0000.csv\"\n",
    "frame_index = files[0].split(\"0000_\")[-1].split(\".\")[0]\n",
    "folder_name, video_name, frame_index"
   ]
  },
  {
   "cell_type": "code",
   "execution_count": null,
   "metadata": {},
   "outputs": [],
   "source": [
    "postcond = pd.read_csv(action_data_folder + \"/\" + folder_name + \"/\" + video_name, header=None)"
   ]
  },
  {
   "cell_type": "code",
   "execution_count": 272,
   "metadata": {},
   "outputs": [],
   "source": [
    "# Creating the DataLoader\n",
    "class LatentDataset(torch.utils.data.Dataset):\n",
    "    def __init__(self, dataset, augmentations = None):\n",
    "        super(LatentDataset, self).__init__()\n",
    "        \n",
    "        # Latents are stored as the first element\n",
    "        self.vector_list = [item[0] for item in dataset]\n",
    "        # Labels are stored as the second element\n",
    "        self.label_list = [item[1] for item in dataset]\n",
    "        \n",
    "        self.augmentations = augmentations\n",
    "    \n",
    "    def __len__(self):\n",
    "        return len(self.label_list)\n",
    "\n",
    "    def __getitem__(self, idx):\n",
    "        vector = torch.tensor(self.vector_list[idx])\n",
    "        label = torch.tensor(self.label_list[idx])\n",
    "        return vector, label"
   ]
  },
  {
   "cell_type": "code",
   "execution_count": 23,
   "metadata": {},
   "outputs": [],
   "source": [
    "# Processing the Action Classes\n",
    "\n",
    "action_data_folder = \"/media/data_cifs/projects/prj_nih/prj_andrew_holmes/inference/batch_inference/akash/\"\n",
    "\n",
    "preexposure_actions = action_data_folder + \"FC-A_08-09-18_preexposure/video_2018Y_08M_09D_19h_18m_24s_cam_17202338-0000.csv\"\n",
    "postcond_actions = action_data_folder + \"FC-A_08-10-18_postcond/video_2018Y_08M_13D_19h_21m_04s_cam_17202338-0000.csv\"\n",
    "postext_actions = action_data_folder + \"FC-A_08-15-18_postext/video_2018Y_08M_15D_18h_58m_45s_cam_17202338-0000.csv\"\n",
    "postret_actions = action_data_folder + \"FC-A_08-15-18_postret/video_2018Y_08M_17D_19h_03m_18s_cam_17202338-0000.csv\"\n",
    "\n",
    "preexposure_actions = pd.read_csv(preexposure_actions, header=None)\n",
    "postcond_actions = pd.read_csv(postcond_actions, header=None)\n",
    "postext_actions = pd.read_csv(postext_actions, header=None)\n",
    "postret_actions = pd.read_csv(postret_actions, header=None)"
   ]
  },
  {
   "cell_type": "code",
   "execution_count": 24,
   "metadata": {
    "scrolled": true
   },
   "outputs": [
    {
     "data": {
      "text/plain": [
       "('FC-B_1-6_postcond_09-21_09-23_2',\n",
       " 'video_2018Y_09M_23D_00h_39m_36s_cam_17202346-0000.csv')"
      ]
     },
     "execution_count": 24,
     "metadata": {},
     "output_type": "execute_result"
    }
   ],
   "source": [
    "folder_name = final_training_list[0].split(\"video\")[0].split(\"/\")[-1]\n",
    "video_name = \"video\" + final_training_list[0].split(\"video\")[-1].split(\"-0000_\")[-2] + \"-0000.csv\"\n",
    "folder_name, video_name"
   ]
  },
  {
   "cell_type": "code",
   "execution_count": 406,
   "metadata": {},
   "outputs": [
    {
     "name": "stdout",
     "output_type": "stream",
     "text": [
      "Length: 638325 -> Training set size: 510660 | Validation set size: 127665\n"
     ]
    }
   ],
   "source": [
    "m = len(training_labels)\n",
    "test_train_split = 0.2\n",
    "\n",
    "torch.manual_seed(42)\n",
    "\n",
    "train_data, val_data = random_split(list(zip(training_latents, training_labels)), [int(math.ceil(m-m*test_train_split)), int(m*test_train_split)])\n",
    "print(\"Length:\", len(train_data) + len(val_data), \"-> Training set size:\", len(train_data), \"| Validation set size:\", len(val_data))\n",
    "\n",
    "# train_data, val_data = random_split(list(zip(all_latents_array, all_labels_array)), [int(math.ceil(m-m*test_train_split)), int(m*test_train_split)])\n",
    "# print(\"Length:\", len(train_data) + len(val_data), \"-> Training set size:\", len(train_data), \"| Validation set size:\", len(val_data))"
   ]
  },
  {
   "cell_type": "code",
   "execution_count": 407,
   "metadata": {},
   "outputs": [],
   "source": [
    "class NotReproducibleError(Exception):\n",
    "    \"\"\"Base class for other exceptions\"\"\"\n",
    "    pass\n",
    "\n",
    "def get_experiment_phase_from_name(file_name):\n",
    "    if \"preexposure\" in file_name:\n",
    "        return [1.0, 0.0, 0.0, 0.0]\n",
    "    elif \"postcond\" in file_name:\n",
    "        return [0.0, 1.0, 0.0, 0.0]\n",
    "    elif \"postext\" in file_name:\n",
    "        return [0.0, 0.0, 1.0, 0.0]\n",
    "    elif \"postret\" in file_name:\n",
    "        return [0.0, 0.0, 0.0, 1.0]\n",
    "    else:\n",
    "        raise NotReproducibleError"
   ]
  },
  {
   "cell_type": "code",
   "execution_count": 408,
   "metadata": {},
   "outputs": [
    {
     "data": {
      "text/plain": [
       "510660"
      ]
     },
     "execution_count": 408,
     "metadata": {},
     "output_type": "execute_result"
    }
   ],
   "source": [
    "len(train_data)"
   ]
  },
  {
   "cell_type": "code",
   "execution_count": null,
   "metadata": {},
   "outputs": [],
   "source": [
    "# Ensuring reproducibility of the dataset\n",
    "torch.manual_seed(42)\n",
    "# train_frame_names, val_frame_names = random_split(final_training_list, [int(math.ceil(m-m*test_train_split)), int(m*test_train_split)])\n",
    "train_frame_names, val_frame_names = random_split(final_training_list2, [int(math.ceil(m-m*test_train_split)), int(m*test_train_split)])\n",
    "\n",
    "for i in range(len(train_frame_names)):\n",
    "    if get_experiment_phase_from_name(train_frame_names[i]) != train_data[i][1]:\n",
    "        raise NotReproducibleError\n",
    "\n",
    "for i in range(len(val_frame_names)):\n",
    "    if get_experiment_phase_from_name(val_frame_names[i]) != val_data[i][1]:\n",
    "        raise NotReproducibleError"
   ]
  },
  {
   "cell_type": "code",
   "execution_count": 409,
   "metadata": {},
   "outputs": [],
   "source": [
    "train_dataset = LatentDataset(train_data)\n",
    "val_dataset = LatentDataset(val_data)"
   ]
  },
  {
   "cell_type": "code",
   "execution_count": 410,
   "metadata": {},
   "outputs": [],
   "source": [
    "batch_size = 256\n",
    "\n",
    "train_loader = torch.utils.data.DataLoader(train_dataset, batch_size=batch_size, num_workers = 4, shuffle=True)\n",
    "val_loader = torch.utils.data.DataLoader(val_dataset, batch_size=batch_size, num_workers = 4, shuffle=False)"
   ]
  },
  {
   "cell_type": "code",
   "execution_count": 411,
   "metadata": {},
   "outputs": [
    {
     "name": "stdout",
     "output_type": "stream",
     "text": [
      "(tensor([ 0.3428, -0.2076,  0.3324,  0.9764,  0.7692,  0.8998, -0.3560, -0.5751,\n",
      "        -0.5972,  0.8268, -0.2625, -0.3528,  0.3090, -0.4744,  0.0620,  0.2573,\n",
      "         0.8760,  0.3243, -0.2564,  0.1605,  0.1661,  0.8547, -0.3663,  1.5286,\n",
      "        -0.9543, -0.3689, -0.6496, -0.5108, -0.5864, -0.0694, -0.0921,  0.3921]), tensor([0., 0., 0., 1.], dtype=torch.float64))\n",
      "(tensor([-0.1530,  0.1166, -0.6178,  0.3668,  0.6301, -0.2644,  0.1747,  0.0162,\n",
      "         0.3426,  0.2690, -0.5883, -0.2161, -0.2267,  0.8721, -1.1197,  0.1585,\n",
      "        -0.6383,  0.6939, -0.3768, -0.2747, -0.4912, -0.4533, -0.3500, -0.3440,\n",
      "        -0.4425,  0.2185, -0.2332,  0.0899,  0.4734,  0.9023,  0.7854,  0.3469]), tensor([1., 0., 0., 0.], dtype=torch.float64))\n",
      "(tensor([ 0.5078, -0.2479, -0.0342, -0.4497, -0.1571,  0.7459,  0.1853, -0.2814,\n",
      "         0.0388,  1.0600,  0.7733, -0.4461, -0.4148, -0.4531,  0.4860, -0.1203,\n",
      "         0.3355,  0.2938,  0.1367,  0.3119,  0.0569, -0.6398,  1.2347,  0.2288,\n",
      "        -0.7323, -0.0097,  0.0552, -0.1835, -0.3547,  0.2933,  0.4878, -0.7846]), tensor([1., 0., 0., 0.], dtype=torch.float64))\n",
      "(tensor([ 0.4115, -0.4137, -0.3572,  0.0970,  0.4430,  0.5560, -0.4100, -0.0065,\n",
      "        -0.0553,  0.7203,  1.1507, -0.4286, -0.7718, -0.3481,  0.6473, -0.8503,\n",
      "        -0.0398, -0.0243,  0.6046, -0.8225, -0.8626, -0.8637,  0.7098,  0.2962,\n",
      "        -0.5410,  0.3533,  0.1039, -0.0828, -0.0722,  0.1496,  0.9378, -0.5945]), tensor([0., 1., 0., 0.], dtype=torch.float64))\n",
      "(tensor([ 0.6273, -0.4030, -0.8654, -0.3639,  0.3627,  0.7047, -0.0537, -0.7349,\n",
      "        -0.1415,  0.3038,  0.6459, -0.6278, -0.9677, -0.1207, -0.2214, -0.5671,\n",
      "         0.0266, -0.1010,  0.1734,  0.1802, -0.2302,  0.1454,  0.8641,  0.1950,\n",
      "        -0.2387,  0.3520, -0.0035, -0.5101, -0.5820, -0.1704,  1.3807, -0.2620]), tensor([0., 0., 1., 0.], dtype=torch.float64))\n",
      "(tensor([ 0.0420, -0.2692,  0.7262, -0.1446,  0.4033,  0.0150, -0.0433, -1.2081,\n",
      "        -0.1705,  0.1973, -0.1458,  0.5146, -0.1883,  1.3933, -0.3963,  0.1748,\n",
      "        -0.0810,  0.4309,  0.1084,  0.6556,  0.6313, -0.4074, -0.0399,  0.2449,\n",
      "         0.4441, -0.3293, -0.6143,  0.2900, -0.9631, -0.8368,  0.5958, -0.4201]), tensor([0., 1., 0., 0.], dtype=torch.float64))\n"
     ]
    }
   ],
   "source": [
    "# Ensuring shuffling by printing the first 6 samples\n",
    "for i in range(6):\n",
    "    print(train_loader.dataset[i])"
   ]
  },
  {
   "cell_type": "code",
   "execution_count": 412,
   "metadata": {},
   "outputs": [],
   "source": [
    "class MLP(nn.Module):\n",
    "    def __init__(self, input_dim, output_dim):\n",
    "        super().__init__()\n",
    "\n",
    "        self.input_fc = nn.Linear(input_dim, 128)\n",
    "        self.hidden_fc1 = nn.Linear(128, 64)\n",
    "        self.hidden_fc2 = nn.Linear(64, 32)\n",
    "        self.output_fc = nn.Linear(32, output_dim)\n",
    "\n",
    "    def forward(self, x):\n",
    "        batch_size = x.shape[0]\n",
    "        x = x.view(batch_size, -1)\n",
    "        h_1 = F.relu(self.input_fc(x))\n",
    "        h_2 = F.relu(self.hidden_fc1(h_1))\n",
    "        h_3 = F.relu(self.hidden_fc2(h_2))\n",
    "        y_out = self.output_fc(h_3)\n",
    "        y_pred = torch.sigmoid(y_out)\n",
    "        \n",
    "        return y_out"
   ]
  },
  {
   "cell_type": "code",
   "execution_count": 413,
   "metadata": {},
   "outputs": [],
   "source": [
    "INPUT_DIM = 32\n",
    "OUTPUT_DIM = 4\n",
    "\n",
    "model = MLP(INPUT_DIM, OUTPUT_DIM)"
   ]
  },
  {
   "cell_type": "code",
   "execution_count": 414,
   "metadata": {},
   "outputs": [
    {
     "name": "stdout",
     "output_type": "stream",
     "text": [
      "Using cuda\n"
     ]
    }
   ],
   "source": [
    "device = torch.device('cuda' if torch.cuda.is_available() else 'cpu')\n",
    "print(\"Using\", device)"
   ]
  },
  {
   "cell_type": "code",
   "execution_count": 415,
   "metadata": {},
   "outputs": [],
   "source": [
    "model = model.to(device)\n",
    "\n",
    "optimizer = optim.Adam(model.parameters(), lr = 0.000001)\n",
    "\n",
    "criterion = nn.CrossEntropyLoss()\n",
    "criterion = criterion.to(device)"
   ]
  },
  {
   "cell_type": "code",
   "execution_count": 416,
   "metadata": {},
   "outputs": [],
   "source": [
    "def epoch_time(start_time, end_time):\n",
    "    elapsed_time = end_time - start_time\n",
    "    elapsed_mins = int(elapsed_time / 60)\n",
    "    elapsed_secs = int(elapsed_time - (elapsed_mins * 60))\n",
    "    return elapsed_mins, elapsed_secs"
   ]
  },
  {
   "cell_type": "code",
   "execution_count": 417,
   "metadata": {},
   "outputs": [
    {
     "name": "stdout",
     "output_type": "stream",
     "text": [
      "The model has 14,692 trainable parameters\n"
     ]
    }
   ],
   "source": [
    "def epoch_time(start_time, end_time):\n",
    "    elapsed_time = end_time - start_time\n",
    "    elapsed_mins = int(elapsed_time / 60)\n",
    "    elapsed_secs = int(elapsed_time - (elapsed_mins * 60))\n",
    "    return elapsed_mins, elapsed_secs\n",
    "\n",
    "def calculate_accuracy(y_pred, y):\n",
    "    y_pred = torch.argmax(y_pred, dim = 1)\n",
    "    y = torch.argmax(y, dim = 1)\n",
    "    \n",
    "    acc = torch.unique(y_pred[y_pred==y], return_counts = True)[1].sum()\n",
    "    acc = acc / y.shape[0]\n",
    "    return acc\n",
    "\n",
    "def count_parameters(model):\n",
    "    return sum(p.numel() for p in model.parameters() if p.requires_grad)\n",
    "\n",
    "print(f'The model has {count_parameters(model):,} trainable parameters')"
   ]
  },
  {
   "cell_type": "code",
   "execution_count": 418,
   "metadata": {},
   "outputs": [],
   "source": [
    "def evaluate(model, iterator, criterion, device):\n",
    "\n",
    "    epoch_loss = 0\n",
    "    epoch_acc = 0\n",
    "\n",
    "    model.eval()\n",
    "    with torch.no_grad():\n",
    "        for sample in tqdm(iterator, desc=\"Validating\", leave=False):\n",
    "            latent, label = sample\n",
    "        \n",
    "            latent = latent.to(device)\n",
    "            label = label.squeeze().to(device)\n",
    "            \n",
    "            y_pred = model(latent)\n",
    "\n",
    "            loss = criterion(y_pred, label)\n",
    "            acc = calculate_accuracy(y_pred, label)\n",
    "\n",
    "            epoch_loss += loss.item()\n",
    "            epoch_acc += acc.item()\n",
    "\n",
    "    return epoch_loss / len(iterator), epoch_acc / len(iterator)"
   ]
  },
  {
   "cell_type": "code",
   "execution_count": 419,
   "metadata": {},
   "outputs": [],
   "source": [
    "def train(model, iterator, optimizer, criterion, device):\n",
    "    epoch_loss = 0\n",
    "    epoch_acc = 0\n",
    "    model.train()\n",
    "\n",
    "    for sample in tqdm(iterator, desc=\"Training\", leave=False):\n",
    "        latent, label = sample\n",
    "        \n",
    "        latent = latent.to(device)\n",
    "        label = label.to(device)\n",
    "\n",
    "        optimizer.zero_grad()\n",
    "        y_pred = model(latent)\n",
    "\n",
    "        loss = criterion(y_pred, label)\n",
    "        acc = calculate_accuracy(y_pred, label)\n",
    "        \n",
    "        loss.backward()\n",
    "        optimizer.step()\n",
    "        epoch_loss += loss.item()\n",
    "        epoch_acc += acc.item()\n",
    "\n",
    "    return epoch_loss / len(iterator), epoch_acc / len(iterator)"
   ]
  },
  {
   "cell_type": "code",
   "execution_count": 293,
   "metadata": {},
   "outputs": [
    {
     "ename": "KeyboardInterrupt",
     "evalue": "",
     "output_type": "error",
     "traceback": [
      "\u001b[0;31m---------------------------------------------------------------------------\u001b[0m",
      "\u001b[0;31mKeyboardInterrupt\u001b[0m                         Traceback (most recent call last)",
      "Input \u001b[0;32mIn [293]\u001b[0m, in \u001b[0;36m<cell line: 6>\u001b[0;34m()\u001b[0m\n\u001b[1;32m     10\u001b[0m     test_list\u001b[38;5;241m.\u001b[39mappend(frame_data_list[i])\n\u001b[1;32m     11\u001b[0m     test_sample_count \u001b[38;5;241m+\u001b[39m\u001b[38;5;241m=\u001b[39m \u001b[38;5;241m1\u001b[39m\n\u001b[0;32m---> 12\u001b[0m \u001b[38;5;28;01mif\u001b[39;00m \u001b[43mtest_sample_count\u001b[49m \u001b[38;5;241m%\u001b[39m \u001b[38;5;241m10000\u001b[39m \u001b[38;5;241m==\u001b[39m \u001b[38;5;241m0\u001b[39m:\n\u001b[1;32m     13\u001b[0m     \u001b[38;5;28mprint\u001b[39m(\u001b[38;5;124m\"\u001b[39m\u001b[38;5;124mProcessed\u001b[39m\u001b[38;5;124m\"\u001b[39m, test_sample_count, \u001b[38;5;124m\"\u001b[39m\u001b[38;5;124msamples..\u001b[39m\u001b[38;5;124m\"\u001b[39m)\n",
      "\u001b[0;31mKeyboardInterrupt\u001b[0m: "
     ]
    }
   ],
   "source": [
    "random.seed(1234)\n",
    "testing_sample_number = 1200000\n",
    "test_list = []#random.sample(training_data_list, testing_sample_number)\n",
    "\n",
    "test_sample_count = 1\n",
    "for i in range(len(frame_data_list)):\n",
    "    if test_sample_count > testing_sample_number:\n",
    "        break\n",
    "    if frame_data_list[i] not in final_training_list:\n",
    "        test_list.append(frame_data_list[i])\n",
    "        test_sample_count += 1\n",
    "    if test_sample_count % 10000 == 0:\n",
    "        print(\"Processed\", test_sample_count, \"samples..\")\n",
    "#     else:\n",
    "#         print(frame_data_list[i], \"occurs in the Training list, so it is excluded from the training list.\")"
   ]
  },
  {
   "cell_type": "code",
   "execution_count": 172,
   "metadata": {},
   "outputs": [
    {
     "data": {
      "text/plain": [
       "638325"
      ]
     },
     "execution_count": 172,
     "metadata": {},
     "output_type": "execute_result"
    }
   ],
   "source": [
    "len(final_training_list2)"
   ]
  },
  {
   "cell_type": "code",
   "execution_count": 288,
   "metadata": {},
   "outputs": [
    {
     "name": "stderr",
     "output_type": "stream",
     "text": [
      "                                                                                \r"
     ]
    },
    {
     "name": "stdout",
     "output_type": "stream",
     "text": [
      "Epoch: 01 | Epoch Time: 0m 16s\n",
      "\tTrain Loss: 1.3986822 | Train Acc: 20.79%\n",
      "\t Val. Loss: 1.3952351 |  Val. Acc: 20.83%\n"
     ]
    },
    {
     "name": "stderr",
     "output_type": "stream",
     "text": [
      "                                                                                \r"
     ]
    },
    {
     "name": "stdout",
     "output_type": "stream",
     "text": [
      "Epoch: 02 | Epoch Time: 0m 15s\n",
      "\tTrain Loss: 1.3917273 | Train Acc: 20.79%\n",
      "\t Val. Loss: 1.3883116 |  Val. Acc: 20.86%\n"
     ]
    },
    {
     "name": "stderr",
     "output_type": "stream",
     "text": [
      "                                                                                \r"
     ]
    },
    {
     "name": "stdout",
     "output_type": "stream",
     "text": [
      "Epoch: 03 | Epoch Time: 0m 15s\n",
      "\tTrain Loss: 1.3847469 | Train Acc: 22.56%\n",
      "\t Val. Loss: 1.3812695 |  Val. Acc: 25.85%\n"
     ]
    },
    {
     "name": "stderr",
     "output_type": "stream",
     "text": [
      "                                                                                \r"
     ]
    },
    {
     "name": "stdout",
     "output_type": "stream",
     "text": [
      "Epoch: 04 | Epoch Time: 0m 17s\n",
      "\tTrain Loss: 1.3775698 | Train Acc: 28.76%\n",
      "\t Val. Loss: 1.3740143 |  Val. Acc: 31.63%\n"
     ]
    },
    {
     "name": "stderr",
     "output_type": "stream",
     "text": [
      "                                                                                \r"
     ]
    },
    {
     "name": "stdout",
     "output_type": "stream",
     "text": [
      "Epoch: 05 | Epoch Time: 0m 17s\n",
      "\tTrain Loss: 1.3700955 | Train Acc: 33.70%\n",
      "\t Val. Loss: 1.3663213 |  Val. Acc: 35.05%\n"
     ]
    },
    {
     "name": "stderr",
     "output_type": "stream",
     "text": [
      "                                                                                \r"
     ]
    },
    {
     "name": "stdout",
     "output_type": "stream",
     "text": [
      "Epoch: 06 | Epoch Time: 0m 16s\n",
      "\tTrain Loss: 1.3620009 | Train Acc: 37.18%\n",
      "\t Val. Loss: 1.3579658 |  Val. Acc: 39.55%\n"
     ]
    },
    {
     "name": "stderr",
     "output_type": "stream",
     "text": [
      "                                                                                \r"
     ]
    },
    {
     "name": "stdout",
     "output_type": "stream",
     "text": [
      "Epoch: 07 | Epoch Time: 0m 17s\n",
      "\tTrain Loss: 1.3533332 | Train Acc: 40.47%\n",
      "\t Val. Loss: 1.3491101 |  Val. Acc: 40.17%\n"
     ]
    },
    {
     "name": "stderr",
     "output_type": "stream",
     "text": [
      "                                                                                \r"
     ]
    },
    {
     "name": "stdout",
     "output_type": "stream",
     "text": [
      "Epoch: 08 | Epoch Time: 0m 17s\n",
      "\tTrain Loss: 1.3441686 | Train Acc: 40.17%\n",
      "\t Val. Loss: 1.3397732 |  Val. Acc: 39.89%\n"
     ]
    },
    {
     "name": "stderr",
     "output_type": "stream",
     "text": [
      "                                                                                \r"
     ]
    },
    {
     "name": "stdout",
     "output_type": "stream",
     "text": [
      "Epoch: 09 | Epoch Time: 0m 16s\n",
      "\tTrain Loss: 1.3345455 | Train Acc: 39.99%\n",
      "\t Val. Loss: 1.3299765 |  Val. Acc: 39.69%\n"
     ]
    },
    {
     "name": "stderr",
     "output_type": "stream",
     "text": [
      "                                                                                \r"
     ]
    },
    {
     "name": "stdout",
     "output_type": "stream",
     "text": [
      "Epoch: 10 | Epoch Time: 0m 17s\n",
      "\tTrain Loss: 1.3244249 | Train Acc: 39.82%\n",
      "\t Val. Loss: 1.3197022 |  Val. Acc: 39.66%\n"
     ]
    },
    {
     "name": "stderr",
     "output_type": "stream",
     "text": [
      "                                                                                \r"
     ]
    },
    {
     "name": "stdout",
     "output_type": "stream",
     "text": [
      "Epoch: 11 | Epoch Time: 0m 17s\n",
      "\tTrain Loss: 1.3138786 | Train Acc: 39.87%\n",
      "\t Val. Loss: 1.3090597 |  Val. Acc: 39.83%\n"
     ]
    },
    {
     "name": "stderr",
     "output_type": "stream",
     "text": [
      "                                                                                \r"
     ]
    },
    {
     "name": "stdout",
     "output_type": "stream",
     "text": [
      "Epoch: 12 | Epoch Time: 0m 16s\n",
      "\tTrain Loss: 1.3029872 | Train Acc: 40.12%\n",
      "\t Val. Loss: 1.2981039 |  Val. Acc: 40.15%\n"
     ]
    },
    {
     "name": "stderr",
     "output_type": "stream",
     "text": [
      "                                                                                \r"
     ]
    },
    {
     "name": "stdout",
     "output_type": "stream",
     "text": [
      "Epoch: 13 | Epoch Time: 0m 16s\n",
      "\tTrain Loss: 1.2918452 | Train Acc: 40.41%\n",
      "\t Val. Loss: 1.2869452 |  Val. Acc: 40.45%\n"
     ]
    },
    {
     "name": "stderr",
     "output_type": "stream",
     "text": [
      "                                                                                \r"
     ]
    },
    {
     "name": "stdout",
     "output_type": "stream",
     "text": [
      "Epoch: 14 | Epoch Time: 0m 16s\n",
      "\tTrain Loss: 1.2805142 | Train Acc: 40.74%\n",
      "\t Val. Loss: 1.2755792 |  Val. Acc: 40.80%\n"
     ]
    },
    {
     "name": "stderr",
     "output_type": "stream",
     "text": [
      "                                                                                \r"
     ]
    },
    {
     "name": "stdout",
     "output_type": "stream",
     "text": [
      "Epoch: 15 | Epoch Time: 0m 16s\n",
      "\tTrain Loss: 1.2689973 | Train Acc: 41.13%\n",
      "\t Val. Loss: 1.2640484 |  Val. Acc: 41.21%\n"
     ]
    },
    {
     "name": "stderr",
     "output_type": "stream",
     "text": [
      "                                                                                \r"
     ]
    },
    {
     "name": "stdout",
     "output_type": "stream",
     "text": [
      "Epoch: 16 | Epoch Time: 0m 17s\n",
      "\tTrain Loss: 1.2573694 | Train Acc: 41.59%\n",
      "\t Val. Loss: 1.2524194 |  Val. Acc: 41.71%\n"
     ]
    },
    {
     "name": "stderr",
     "output_type": "stream",
     "text": [
      "                                                                                \r"
     ]
    },
    {
     "name": "stdout",
     "output_type": "stream",
     "text": [
      "Epoch: 17 | Epoch Time: 0m 16s\n",
      "\tTrain Loss: 1.2456290 | Train Acc: 42.00%\n",
      "\t Val. Loss: 1.2406572 |  Val. Acc: 42.09%\n"
     ]
    },
    {
     "name": "stderr",
     "output_type": "stream",
     "text": [
      "                                                                                \r"
     ]
    },
    {
     "name": "stdout",
     "output_type": "stream",
     "text": [
      "Epoch: 18 | Epoch Time: 0m 17s\n",
      "\tTrain Loss: 1.2337968 | Train Acc: 42.33%\n",
      "\t Val. Loss: 1.2288049 |  Val. Acc: 42.47%\n"
     ]
    },
    {
     "name": "stderr",
     "output_type": "stream",
     "text": [
      "                                                                                \r"
     ]
    },
    {
     "name": "stdout",
     "output_type": "stream",
     "text": [
      "Epoch: 19 | Epoch Time: 0m 17s\n",
      "\tTrain Loss: 1.2218777 | Train Acc: 42.72%\n",
      "\t Val. Loss: 1.2168734 |  Val. Acc: 42.83%\n"
     ]
    },
    {
     "name": "stderr",
     "output_type": "stream",
     "text": [
      "                                                                                \r"
     ]
    },
    {
     "name": "stdout",
     "output_type": "stream",
     "text": [
      "Epoch: 20 | Epoch Time: 0m 16s\n",
      "\tTrain Loss: 1.2099116 | Train Acc: 43.11%\n",
      "\t Val. Loss: 1.2049143 |  Val. Acc: 43.20%\n"
     ]
    },
    {
     "name": "stderr",
     "output_type": "stream",
     "text": [
      "                                                                                \r"
     ]
    },
    {
     "name": "stdout",
     "output_type": "stream",
     "text": [
      "Epoch: 21 | Epoch Time: 0m 16s\n",
      "\tTrain Loss: 1.1979843 | Train Acc: 43.47%\n",
      "\t Val. Loss: 1.1929827 |  Val. Acc: 43.57%\n"
     ]
    },
    {
     "name": "stderr",
     "output_type": "stream",
     "text": [
      "                                                                                \r"
     ]
    },
    {
     "name": "stdout",
     "output_type": "stream",
     "text": [
      "Epoch: 22 | Epoch Time: 0m 16s\n",
      "\tTrain Loss: 1.1860431 | Train Acc: 43.93%\n",
      "\t Val. Loss: 1.1810267 |  Val. Acc: 44.04%\n"
     ]
    },
    {
     "name": "stderr",
     "output_type": "stream",
     "text": [
      "                                                                                \r"
     ]
    },
    {
     "name": "stdout",
     "output_type": "stream",
     "text": [
      "Epoch: 23 | Epoch Time: 0m 16s\n",
      "\tTrain Loss: 1.1740942 | Train Acc: 44.45%\n",
      "\t Val. Loss: 1.1690299 |  Val. Acc: 44.66%\n"
     ]
    },
    {
     "name": "stderr",
     "output_type": "stream",
     "text": [
      "                                                                                \r"
     ]
    },
    {
     "name": "stdout",
     "output_type": "stream",
     "text": [
      "Epoch: 24 | Epoch Time: 0m 17s\n",
      "\tTrain Loss: 1.1621580 | Train Acc: 45.23%\n",
      "\t Val. Loss: 1.1571256 |  Val. Acc: 45.44%\n"
     ]
    },
    {
     "name": "stderr",
     "output_type": "stream",
     "text": [
      "                                                                                \r"
     ]
    },
    {
     "name": "stdout",
     "output_type": "stream",
     "text": [
      "Epoch: 25 | Epoch Time: 0m 16s\n",
      "\tTrain Loss: 1.1503216 | Train Acc: 45.99%\n",
      "\t Val. Loss: 1.1452948 |  Val. Acc: 46.13%\n"
     ]
    },
    {
     "name": "stderr",
     "output_type": "stream",
     "text": [
      "                                                                                \r"
     ]
    },
    {
     "name": "stdout",
     "output_type": "stream",
     "text": [
      "Epoch: 26 | Epoch Time: 0m 16s\n",
      "\tTrain Loss: 1.1385998 | Train Acc: 46.62%\n",
      "\t Val. Loss: 1.1335718 |  Val. Acc: 46.64%\n"
     ]
    },
    {
     "name": "stderr",
     "output_type": "stream",
     "text": [
      "                                                                                \r"
     ]
    },
    {
     "name": "stdout",
     "output_type": "stream",
     "text": [
      "Epoch: 27 | Epoch Time: 0m 17s\n",
      "\tTrain Loss: 1.1269946 | Train Acc: 47.17%\n",
      "\t Val. Loss: 1.1220063 |  Val. Acc: 47.28%\n"
     ]
    },
    {
     "name": "stderr",
     "output_type": "stream",
     "text": [
      "                                                                                \r"
     ]
    },
    {
     "name": "stdout",
     "output_type": "stream",
     "text": [
      "Epoch: 28 | Epoch Time: 0m 16s\n",
      "\tTrain Loss: 1.1155513 | Train Acc: 47.80%\n",
      "\t Val. Loss: 1.1105914 |  Val. Acc: 47.96%\n"
     ]
    },
    {
     "name": "stderr",
     "output_type": "stream",
     "text": [
      "                                                                                \r"
     ]
    },
    {
     "name": "stdout",
     "output_type": "stream",
     "text": [
      "Epoch: 29 | Epoch Time: 0m 17s\n",
      "\tTrain Loss: 1.1042740 | Train Acc: 48.53%\n",
      "\t Val. Loss: 1.0993336 |  Val. Acc: 48.73%\n"
     ]
    },
    {
     "name": "stderr",
     "output_type": "stream",
     "text": [
      "                                                                                \r"
     ]
    },
    {
     "name": "stdout",
     "output_type": "stream",
     "text": [
      "Epoch: 30 | Epoch Time: 0m 17s\n",
      "\tTrain Loss: 1.0931535 | Train Acc: 49.18%\n",
      "\t Val. Loss: 1.0882478 |  Val. Acc: 49.36%\n"
     ]
    },
    {
     "name": "stderr",
     "output_type": "stream",
     "text": [
      "                                                                                \r"
     ]
    },
    {
     "name": "stdout",
     "output_type": "stream",
     "text": [
      "Epoch: 31 | Epoch Time: 0m 16s\n",
      "\tTrain Loss: 1.0822084 | Train Acc: 49.80%\n",
      "\t Val. Loss: 1.0773417 |  Val. Acc: 50.06%\n"
     ]
    },
    {
     "name": "stderr",
     "output_type": "stream",
     "text": [
      "                                                                                \r"
     ]
    },
    {
     "name": "stdout",
     "output_type": "stream",
     "text": [
      "Epoch: 32 | Epoch Time: 0m 17s\n",
      "\tTrain Loss: 1.0714520 | Train Acc: 50.50%\n",
      "\t Val. Loss: 1.0666431 |  Val. Acc: 50.76%\n"
     ]
    },
    {
     "name": "stderr",
     "output_type": "stream",
     "text": [
      "                                                                                \r"
     ]
    },
    {
     "name": "stdout",
     "output_type": "stream",
     "text": [
      "Epoch: 33 | Epoch Time: 0m 17s\n",
      "\tTrain Loss: 1.0609239 | Train Acc: 51.26%\n",
      "\t Val. Loss: 1.0561669 |  Val. Acc: 51.42%\n"
     ]
    },
    {
     "name": "stderr",
     "output_type": "stream",
     "text": [
      "                                                                                \r"
     ]
    },
    {
     "name": "stdout",
     "output_type": "stream",
     "text": [
      "Epoch: 34 | Epoch Time: 0m 17s\n",
      "\tTrain Loss: 1.0505553 | Train Acc: 51.85%\n",
      "\t Val. Loss: 1.0458195 |  Val. Acc: 52.03%\n"
     ]
    },
    {
     "name": "stderr",
     "output_type": "stream",
     "text": [
      "                                                                                \r"
     ]
    },
    {
     "name": "stdout",
     "output_type": "stream",
     "text": [
      "Epoch: 35 | Epoch Time: 0m 17s\n",
      "\tTrain Loss: 1.0403402 | Train Acc: 52.44%\n",
      "\t Val. Loss: 1.0356283 |  Val. Acc: 52.61%\n"
     ]
    },
    {
     "name": "stderr",
     "output_type": "stream",
     "text": [
      "                                                                                \r"
     ]
    },
    {
     "name": "stdout",
     "output_type": "stream",
     "text": [
      "Epoch: 36 | Epoch Time: 0m 17s\n",
      "\tTrain Loss: 1.0302635 | Train Acc: 53.02%\n",
      "\t Val. Loss: 1.0255855 |  Val. Acc: 53.11%\n"
     ]
    },
    {
     "name": "stderr",
     "output_type": "stream",
     "text": [
      "                                                                                \r"
     ]
    },
    {
     "name": "stdout",
     "output_type": "stream",
     "text": [
      "Epoch: 37 | Epoch Time: 0m 16s\n",
      "\tTrain Loss: 1.0203385 | Train Acc: 53.63%\n",
      "\t Val. Loss: 1.0156789 |  Val. Acc: 53.73%\n"
     ]
    },
    {
     "name": "stderr",
     "output_type": "stream",
     "text": [
      "                                                                                \r"
     ]
    },
    {
     "name": "stdout",
     "output_type": "stream",
     "text": [
      "Epoch: 38 | Epoch Time: 0m 16s\n",
      "\tTrain Loss: 1.0105593 | Train Acc: 54.29%\n",
      "\t Val. Loss: 1.0059122 |  Val. Acc: 54.37%\n"
     ]
    },
    {
     "name": "stderr",
     "output_type": "stream",
     "text": [
      "                                                                                \r"
     ]
    },
    {
     "name": "stdout",
     "output_type": "stream",
     "text": [
      "Epoch: 39 | Epoch Time: 0m 16s\n",
      "\tTrain Loss: 1.0009404 | Train Acc: 54.90%\n",
      "\t Val. Loss: 0.9963484 |  Val. Acc: 55.03%\n"
     ]
    },
    {
     "name": "stderr",
     "output_type": "stream",
     "text": [
      "                                                                                \r"
     ]
    },
    {
     "name": "stdout",
     "output_type": "stream",
     "text": [
      "Epoch: 40 | Epoch Time: 0m 17s\n",
      "\tTrain Loss: 0.9915197 | Train Acc: 55.58%\n",
      "\t Val. Loss: 0.9869666 |  Val. Acc: 55.74%\n"
     ]
    },
    {
     "name": "stderr",
     "output_type": "stream",
     "text": [
      "                                                                                \r"
     ]
    },
    {
     "name": "stdout",
     "output_type": "stream",
     "text": [
      "Epoch: 41 | Epoch Time: 0m 16s\n",
      "\tTrain Loss: 0.9822670 | Train Acc: 56.27%\n",
      "\t Val. Loss: 0.9777653 |  Val. Acc: 56.41%\n"
     ]
    },
    {
     "name": "stderr",
     "output_type": "stream",
     "text": [
      "                                                                                \r"
     ]
    },
    {
     "name": "stdout",
     "output_type": "stream",
     "text": [
      "Epoch: 42 | Epoch Time: 0m 15s\n",
      "\tTrain Loss: 0.9731928 | Train Acc: 56.94%\n",
      "\t Val. Loss: 0.9687030 |  Val. Acc: 57.05%\n"
     ]
    },
    {
     "name": "stderr",
     "output_type": "stream",
     "text": [
      "                                                                                \r"
     ]
    },
    {
     "name": "stdout",
     "output_type": "stream",
     "text": [
      "Epoch: 43 | Epoch Time: 0m 15s\n",
      "\tTrain Loss: 0.9642519 | Train Acc: 57.53%\n",
      "\t Val. Loss: 0.9597817 |  Val. Acc: 57.71%\n"
     ]
    },
    {
     "name": "stderr",
     "output_type": "stream",
     "text": [
      "                                                                                \r"
     ]
    },
    {
     "name": "stdout",
     "output_type": "stream",
     "text": [
      "Epoch: 44 | Epoch Time: 0m 16s\n",
      "\tTrain Loss: 0.9554462 | Train Acc: 58.13%\n",
      "\t Val. Loss: 0.9510017 |  Val. Acc: 58.25%\n"
     ]
    },
    {
     "name": "stderr",
     "output_type": "stream",
     "text": [
      "                                                                                \r"
     ]
    },
    {
     "name": "stdout",
     "output_type": "stream",
     "text": [
      "Epoch: 45 | Epoch Time: 0m 15s\n",
      "\tTrain Loss: 0.9467647 | Train Acc: 58.65%\n",
      "\t Val. Loss: 0.9423631 |  Val. Acc: 58.74%\n"
     ]
    },
    {
     "name": "stderr",
     "output_type": "stream",
     "text": [
      "                                                                                \r"
     ]
    },
    {
     "name": "stdout",
     "output_type": "stream",
     "text": [
      "Epoch: 46 | Epoch Time: 0m 16s\n",
      "\tTrain Loss: 0.9382554 | Train Acc: 59.11%\n",
      "\t Val. Loss: 0.9339220 |  Val. Acc: 59.21%\n"
     ]
    },
    {
     "name": "stderr",
     "output_type": "stream",
     "text": [
      "                                                                                \r"
     ]
    },
    {
     "name": "stdout",
     "output_type": "stream",
     "text": [
      "Epoch: 47 | Epoch Time: 0m 16s\n",
      "\tTrain Loss: 0.9299264 | Train Acc: 59.64%\n",
      "\t Val. Loss: 0.9256451 |  Val. Acc: 59.75%\n"
     ]
    },
    {
     "name": "stderr",
     "output_type": "stream",
     "text": [
      "                                                                                \r"
     ]
    },
    {
     "name": "stdout",
     "output_type": "stream",
     "text": [
      "Epoch: 48 | Epoch Time: 0m 17s\n",
      "\tTrain Loss: 0.9217725 | Train Acc: 60.16%\n",
      "\t Val. Loss: 0.9175250 |  Val. Acc: 60.32%\n"
     ]
    },
    {
     "name": "stderr",
     "output_type": "stream",
     "text": [
      "                                                                                \r"
     ]
    },
    {
     "name": "stdout",
     "output_type": "stream",
     "text": [
      "Epoch: 49 | Epoch Time: 0m 16s\n",
      "\tTrain Loss: 0.9138022 | Train Acc: 60.68%\n",
      "\t Val. Loss: 0.9096205 |  Val. Acc: 60.80%\n"
     ]
    },
    {
     "name": "stderr",
     "output_type": "stream",
     "text": [
      "                                                                                \r"
     ]
    },
    {
     "name": "stdout",
     "output_type": "stream",
     "text": [
      "Epoch: 50 | Epoch Time: 0m 16s\n",
      "\tTrain Loss: 0.9059771 | Train Acc: 61.18%\n",
      "\t Val. Loss: 0.9018256 |  Val. Acc: 61.31%\n"
     ]
    },
    {
     "name": "stderr",
     "output_type": "stream",
     "text": [
      "                                                                                \r"
     ]
    },
    {
     "name": "stdout",
     "output_type": "stream",
     "text": [
      "Epoch: 51 | Epoch Time: 0m 17s\n",
      "\tTrain Loss: 0.8983032 | Train Acc: 61.66%\n",
      "\t Val. Loss: 0.8942049 |  Val. Acc: 61.86%\n"
     ]
    },
    {
     "name": "stderr",
     "output_type": "stream",
     "text": [
      "                                                                                \r"
     ]
    },
    {
     "name": "stdout",
     "output_type": "stream",
     "text": [
      "Epoch: 52 | Epoch Time: 0m 15s\n",
      "\tTrain Loss: 0.8907879 | Train Acc: 62.16%\n",
      "\t Val. Loss: 0.8867223 |  Val. Acc: 62.30%\n"
     ]
    },
    {
     "name": "stderr",
     "output_type": "stream",
     "text": [
      "                                                                                \r"
     ]
    },
    {
     "name": "stdout",
     "output_type": "stream",
     "text": [
      "Epoch: 53 | Epoch Time: 0m 16s\n",
      "\tTrain Loss: 0.8834042 | Train Acc: 62.59%\n",
      "\t Val. Loss: 0.8793959 |  Val. Acc: 62.75%\n"
     ]
    },
    {
     "name": "stderr",
     "output_type": "stream",
     "text": [
      "                                                                                \r"
     ]
    },
    {
     "name": "stdout",
     "output_type": "stream",
     "text": [
      "Epoch: 54 | Epoch Time: 0m 17s\n",
      "\tTrain Loss: 0.8761644 | Train Acc: 63.05%\n",
      "\t Val. Loss: 0.8721900 |  Val. Acc: 63.18%\n"
     ]
    },
    {
     "name": "stderr",
     "output_type": "stream",
     "text": [
      "                                                                                \r"
     ]
    },
    {
     "name": "stdout",
     "output_type": "stream",
     "text": [
      "Epoch: 55 | Epoch Time: 0m 16s\n",
      "\tTrain Loss: 0.8690585 | Train Acc: 63.48%\n",
      "\t Val. Loss: 0.8651186 |  Val. Acc: 63.65%\n"
     ]
    },
    {
     "name": "stderr",
     "output_type": "stream",
     "text": [
      "                                                                                \r"
     ]
    },
    {
     "name": "stdout",
     "output_type": "stream",
     "text": [
      "Epoch: 56 | Epoch Time: 0m 16s\n",
      "\tTrain Loss: 0.8620679 | Train Acc: 63.90%\n",
      "\t Val. Loss: 0.8581793 |  Val. Acc: 64.07%\n"
     ]
    },
    {
     "name": "stderr",
     "output_type": "stream",
     "text": [
      "                                                                                \r"
     ]
    },
    {
     "name": "stdout",
     "output_type": "stream",
     "text": [
      "Epoch: 57 | Epoch Time: 0m 16s\n",
      "\tTrain Loss: 0.8552102 | Train Acc: 64.32%\n",
      "\t Val. Loss: 0.8513456 |  Val. Acc: 64.51%\n"
     ]
    },
    {
     "name": "stderr",
     "output_type": "stream",
     "text": [
      "                                                                                \r"
     ]
    },
    {
     "name": "stdout",
     "output_type": "stream",
     "text": [
      "Epoch: 58 | Epoch Time: 0m 16s\n",
      "\tTrain Loss: 0.8484237 | Train Acc: 64.74%\n",
      "\t Val. Loss: 0.8445843 |  Val. Acc: 64.88%\n"
     ]
    },
    {
     "name": "stderr",
     "output_type": "stream",
     "text": [
      "                                                                                \r"
     ]
    },
    {
     "name": "stdout",
     "output_type": "stream",
     "text": [
      "Epoch: 59 | Epoch Time: 0m 16s\n",
      "\tTrain Loss: 0.8417538 | Train Acc: 65.13%\n",
      "\t Val. Loss: 0.8379421 |  Val. Acc: 65.27%\n"
     ]
    },
    {
     "name": "stderr",
     "output_type": "stream",
     "text": [
      "                                                                                \r"
     ]
    },
    {
     "name": "stdout",
     "output_type": "stream",
     "text": [
      "Epoch: 60 | Epoch Time: 0m 16s\n",
      "\tTrain Loss: 0.8351698 | Train Acc: 65.50%\n",
      "\t Val. Loss: 0.8313807 |  Val. Acc: 65.61%\n"
     ]
    },
    {
     "name": "stderr",
     "output_type": "stream",
     "text": [
      "                                                                                \r"
     ]
    },
    {
     "name": "stdout",
     "output_type": "stream",
     "text": [
      "Epoch: 61 | Epoch Time: 0m 16s\n",
      "\tTrain Loss: 0.8286940 | Train Acc: 65.83%\n",
      "\t Val. Loss: 0.8249490 |  Val. Acc: 66.00%\n"
     ]
    },
    {
     "name": "stderr",
     "output_type": "stream",
     "text": [
      "                                                                                \r"
     ]
    },
    {
     "name": "stdout",
     "output_type": "stream",
     "text": [
      "Epoch: 62 | Epoch Time: 0m 15s\n",
      "\tTrain Loss: 0.8223260 | Train Acc: 66.16%\n",
      "\t Val. Loss: 0.8186041 |  Val. Acc: 66.32%\n"
     ]
    },
    {
     "name": "stderr",
     "output_type": "stream",
     "text": [
      "                                                                                \r"
     ]
    },
    {
     "name": "stdout",
     "output_type": "stream",
     "text": [
      "Epoch: 63 | Epoch Time: 0m 16s\n",
      "\tTrain Loss: 0.8160290 | Train Acc: 66.46%\n",
      "\t Val. Loss: 0.8123092 |  Val. Acc: 66.62%\n"
     ]
    },
    {
     "name": "stderr",
     "output_type": "stream",
     "text": [
      "                                                                                \r"
     ]
    },
    {
     "name": "stdout",
     "output_type": "stream",
     "text": [
      "Epoch: 64 | Epoch Time: 0m 17s\n",
      "\tTrain Loss: 0.8097713 | Train Acc: 66.77%\n",
      "\t Val. Loss: 0.8060607 |  Val. Acc: 66.94%\n"
     ]
    },
    {
     "name": "stderr",
     "output_type": "stream",
     "text": [
      "                                                                                \r"
     ]
    },
    {
     "name": "stdout",
     "output_type": "stream",
     "text": [
      "Epoch: 65 | Epoch Time: 0m 16s\n",
      "\tTrain Loss: 0.8035840 | Train Acc: 67.08%\n",
      "\t Val. Loss: 0.7998917 |  Val. Acc: 67.29%\n"
     ]
    },
    {
     "name": "stderr",
     "output_type": "stream",
     "text": [
      "                                                                                \r"
     ]
    },
    {
     "name": "stdout",
     "output_type": "stream",
     "text": [
      "Epoch: 66 | Epoch Time: 0m 17s\n",
      "\tTrain Loss: 0.7974757 | Train Acc: 67.41%\n",
      "\t Val. Loss: 0.7937978 |  Val. Acc: 67.58%\n"
     ]
    },
    {
     "name": "stderr",
     "output_type": "stream",
     "text": [
      "                                                                                \r"
     ]
    },
    {
     "name": "stdout",
     "output_type": "stream",
     "text": [
      "Epoch: 67 | Epoch Time: 0m 16s\n",
      "\tTrain Loss: 0.7914064 | Train Acc: 67.71%\n",
      "\t Val. Loss: 0.7877268 |  Val. Acc: 67.89%\n"
     ]
    },
    {
     "name": "stderr",
     "output_type": "stream",
     "text": [
      "                                                                                \r"
     ]
    },
    {
     "name": "stdout",
     "output_type": "stream",
     "text": [
      "Epoch: 68 | Epoch Time: 0m 17s\n",
      "\tTrain Loss: 0.7853688 | Train Acc: 68.02%\n",
      "\t Val. Loss: 0.7816913 |  Val. Acc: 68.25%\n"
     ]
    },
    {
     "name": "stderr",
     "output_type": "stream",
     "text": [
      "                                                                                \r"
     ]
    },
    {
     "name": "stdout",
     "output_type": "stream",
     "text": [
      "Epoch: 69 | Epoch Time: 0m 17s\n",
      "\tTrain Loss: 0.7793659 | Train Acc: 68.35%\n",
      "\t Val. Loss: 0.7757056 |  Val. Acc: 68.54%\n"
     ]
    },
    {
     "name": "stderr",
     "output_type": "stream",
     "text": [
      "                                                                                \r"
     ]
    },
    {
     "name": "stdout",
     "output_type": "stream",
     "text": [
      "Epoch: 70 | Epoch Time: 0m 17s\n",
      "\tTrain Loss: 0.7734266 | Train Acc: 68.66%\n",
      "\t Val. Loss: 0.7697776 |  Val. Acc: 68.88%\n"
     ]
    },
    {
     "name": "stderr",
     "output_type": "stream",
     "text": [
      "                                                                                \r"
     ]
    },
    {
     "name": "stdout",
     "output_type": "stream",
     "text": [
      "Epoch: 71 | Epoch Time: 0m 17s\n",
      "\tTrain Loss: 0.7675082 | Train Acc: 69.04%\n",
      "\t Val. Loss: 0.7638552 |  Val. Acc: 69.17%\n"
     ]
    },
    {
     "name": "stderr",
     "output_type": "stream",
     "text": [
      "                                                                                \r"
     ]
    },
    {
     "name": "stdout",
     "output_type": "stream",
     "text": [
      "Epoch: 72 | Epoch Time: 0m 16s\n",
      "\tTrain Loss: 0.7616225 | Train Acc: 69.33%\n",
      "\t Val. Loss: 0.7579644 |  Val. Acc: 69.57%\n"
     ]
    },
    {
     "name": "stderr",
     "output_type": "stream",
     "text": [
      "                                                                                \r"
     ]
    },
    {
     "name": "stdout",
     "output_type": "stream",
     "text": [
      "Epoch: 73 | Epoch Time: 0m 16s\n",
      "\tTrain Loss: 0.7557453 | Train Acc: 69.68%\n",
      "\t Val. Loss: 0.7520833 |  Val. Acc: 69.85%\n"
     ]
    },
    {
     "name": "stderr",
     "output_type": "stream",
     "text": [
      "                                                                                \r"
     ]
    },
    {
     "name": "stdout",
     "output_type": "stream",
     "text": [
      "Epoch: 74 | Epoch Time: 0m 17s\n",
      "\tTrain Loss: 0.7498986 | Train Acc: 69.99%\n",
      "\t Val. Loss: 0.7462920 |  Val. Acc: 70.23%\n"
     ]
    },
    {
     "name": "stderr",
     "output_type": "stream",
     "text": [
      "                                                                                \r"
     ]
    },
    {
     "name": "stdout",
     "output_type": "stream",
     "text": [
      "Epoch: 75 | Epoch Time: 0m 16s\n",
      "\tTrain Loss: 0.7441153 | Train Acc: 70.31%\n",
      "\t Val. Loss: 0.7404899 |  Val. Acc: 70.56%\n"
     ]
    },
    {
     "name": "stderr",
     "output_type": "stream",
     "text": [
      "                                                                                \r"
     ]
    },
    {
     "name": "stdout",
     "output_type": "stream",
     "text": [
      "Epoch: 76 | Epoch Time: 0m 17s\n",
      "\tTrain Loss: 0.7383212 | Train Acc: 70.61%\n",
      "\t Val. Loss: 0.7347029 |  Val. Acc: 70.84%\n"
     ]
    },
    {
     "name": "stderr",
     "output_type": "stream",
     "text": [
      "                                                                                \r"
     ]
    },
    {
     "name": "stdout",
     "output_type": "stream",
     "text": [
      "Epoch: 77 | Epoch Time: 0m 16s\n",
      "\tTrain Loss: 0.7325464 | Train Acc: 70.91%\n",
      "\t Val. Loss: 0.7289211 |  Val. Acc: 71.11%\n"
     ]
    },
    {
     "name": "stderr",
     "output_type": "stream",
     "text": [
      "                                                                                \r"
     ]
    },
    {
     "name": "stdout",
     "output_type": "stream",
     "text": [
      "Epoch: 78 | Epoch Time: 0m 17s\n",
      "\tTrain Loss: 0.7267780 | Train Acc: 71.21%\n",
      "\t Val. Loss: 0.7231683 |  Val. Acc: 71.38%\n"
     ]
    },
    {
     "name": "stderr",
     "output_type": "stream",
     "text": [
      "                                                                                \r"
     ]
    },
    {
     "name": "stdout",
     "output_type": "stream",
     "text": [
      "Epoch: 79 | Epoch Time: 0m 17s\n",
      "\tTrain Loss: 0.7210451 | Train Acc: 71.48%\n",
      "\t Val. Loss: 0.7174569 |  Val. Acc: 71.77%\n"
     ]
    },
    {
     "name": "stderr",
     "output_type": "stream",
     "text": [
      "                                                                                \r"
     ]
    },
    {
     "name": "stdout",
     "output_type": "stream",
     "text": [
      "Epoch: 80 | Epoch Time: 0m 17s\n",
      "\tTrain Loss: 0.7153291 | Train Acc: 71.78%\n",
      "\t Val. Loss: 0.7117426 |  Val. Acc: 72.09%\n"
     ]
    },
    {
     "name": "stderr",
     "output_type": "stream",
     "text": [
      "                                                                                \r"
     ]
    },
    {
     "name": "stdout",
     "output_type": "stream",
     "text": [
      "Epoch: 81 | Epoch Time: 0m 17s\n",
      "\tTrain Loss: 0.7096127 | Train Acc: 72.13%\n",
      "\t Val. Loss: 0.7060494 |  Val. Acc: 72.25%\n"
     ]
    },
    {
     "name": "stderr",
     "output_type": "stream",
     "text": [
      "                                                                                \r"
     ]
    },
    {
     "name": "stdout",
     "output_type": "stream",
     "text": [
      "Epoch: 82 | Epoch Time: 0m 15s\n",
      "\tTrain Loss: 0.7039444 | Train Acc: 72.38%\n",
      "\t Val. Loss: 0.7004185 |  Val. Acc: 72.69%\n"
     ]
    },
    {
     "name": "stderr",
     "output_type": "stream",
     "text": [
      "                                                                                \r"
     ]
    },
    {
     "name": "stdout",
     "output_type": "stream",
     "text": [
      "Epoch: 83 | Epoch Time: 0m 15s\n",
      "\tTrain Loss: 0.6982781 | Train Acc: 72.71%\n",
      "\t Val. Loss: 0.6947423 |  Val. Acc: 72.93%\n"
     ]
    },
    {
     "name": "stderr",
     "output_type": "stream",
     "text": [
      "                                                                                \r"
     ]
    },
    {
     "name": "stdout",
     "output_type": "stream",
     "text": [
      "Epoch: 84 | Epoch Time: 0m 17s\n",
      "\tTrain Loss: 0.6926544 | Train Acc: 73.01%\n",
      "\t Val. Loss: 0.6891222 |  Val. Acc: 73.23%\n"
     ]
    },
    {
     "name": "stderr",
     "output_type": "stream",
     "text": [
      "                                                                                \r"
     ]
    },
    {
     "name": "stdout",
     "output_type": "stream",
     "text": [
      "Epoch: 85 | Epoch Time: 0m 16s\n",
      "\tTrain Loss: 0.6870219 | Train Acc: 73.33%\n",
      "\t Val. Loss: 0.6835100 |  Val. Acc: 73.58%\n"
     ]
    },
    {
     "name": "stderr",
     "output_type": "stream",
     "text": [
      "                                                                                \r"
     ]
    },
    {
     "name": "stdout",
     "output_type": "stream",
     "text": [
      "Epoch: 86 | Epoch Time: 0m 17s\n",
      "\tTrain Loss: 0.6814266 | Train Acc: 73.65%\n",
      "\t Val. Loss: 0.6779333 |  Val. Acc: 73.89%\n"
     ]
    },
    {
     "name": "stderr",
     "output_type": "stream",
     "text": [
      "                                                                                \r"
     ]
    },
    {
     "name": "stdout",
     "output_type": "stream",
     "text": [
      "Epoch: 87 | Epoch Time: 0m 17s\n",
      "\tTrain Loss: 0.6758290 | Train Acc: 73.96%\n",
      "\t Val. Loss: 0.6723817 |  Val. Acc: 74.17%\n"
     ]
    },
    {
     "name": "stderr",
     "output_type": "stream",
     "text": [
      "                                                                                \r"
     ]
    },
    {
     "name": "stdout",
     "output_type": "stream",
     "text": [
      "Epoch: 88 | Epoch Time: 0m 16s\n",
      "\tTrain Loss: 0.6702859 | Train Acc: 74.26%\n",
      "\t Val. Loss: 0.6668563 |  Val. Acc: 74.49%\n"
     ]
    },
    {
     "name": "stderr",
     "output_type": "stream",
     "text": [
      "                                                                                \r"
     ]
    },
    {
     "name": "stdout",
     "output_type": "stream",
     "text": [
      "Epoch: 89 | Epoch Time: 0m 16s\n",
      "\tTrain Loss: 0.6647410 | Train Acc: 74.59%\n",
      "\t Val. Loss: 0.6613220 |  Val. Acc: 74.80%\n"
     ]
    },
    {
     "name": "stderr",
     "output_type": "stream",
     "text": [
      "                                                                                \r"
     ]
    },
    {
     "name": "stdout",
     "output_type": "stream",
     "text": [
      "Epoch: 90 | Epoch Time: 0m 16s\n",
      "\tTrain Loss: 0.6592101 | Train Acc: 74.88%\n",
      "\t Val. Loss: 0.6558133 |  Val. Acc: 75.12%\n"
     ]
    },
    {
     "name": "stderr",
     "output_type": "stream",
     "text": [
      "                                                                                \r"
     ]
    },
    {
     "name": "stdout",
     "output_type": "stream",
     "text": [
      "Epoch: 91 | Epoch Time: 0m 17s\n",
      "\tTrain Loss: 0.6536884 | Train Acc: 75.16%\n",
      "\t Val. Loss: 0.6503103 |  Val. Acc: 75.44%\n"
     ]
    },
    {
     "name": "stderr",
     "output_type": "stream",
     "text": [
      "                                                                                \r"
     ]
    },
    {
     "name": "stdout",
     "output_type": "stream",
     "text": [
      "Epoch: 92 | Epoch Time: 0m 17s\n",
      "\tTrain Loss: 0.6481734 | Train Acc: 75.44%\n",
      "\t Val. Loss: 0.6448324 |  Val. Acc: 75.74%\n"
     ]
    },
    {
     "name": "stderr",
     "output_type": "stream",
     "text": [
      "                                                                                \r"
     ]
    },
    {
     "name": "stdout",
     "output_type": "stream",
     "text": [
      "Epoch: 93 | Epoch Time: 0m 16s\n",
      "\tTrain Loss: 0.6426772 | Train Acc: 75.73%\n",
      "\t Val. Loss: 0.6393560 |  Val. Acc: 75.97%\n"
     ]
    },
    {
     "name": "stderr",
     "output_type": "stream",
     "text": [
      "                                                                                \r"
     ]
    },
    {
     "name": "stdout",
     "output_type": "stream",
     "text": [
      "Epoch: 94 | Epoch Time: 0m 17s\n",
      "\tTrain Loss: 0.6371946 | Train Acc: 75.99%\n",
      "\t Val. Loss: 0.6338790 |  Val. Acc: 76.22%\n"
     ]
    },
    {
     "name": "stderr",
     "output_type": "stream",
     "text": [
      "                                                                                \r"
     ]
    },
    {
     "name": "stdout",
     "output_type": "stream",
     "text": [
      "Epoch: 95 | Epoch Time: 0m 16s\n",
      "\tTrain Loss: 0.6317095 | Train Acc: 76.24%\n",
      "\t Val. Loss: 0.6284151 |  Val. Acc: 76.44%\n"
     ]
    },
    {
     "name": "stderr",
     "output_type": "stream",
     "text": [
      "                                                                                \r"
     ]
    },
    {
     "name": "stdout",
     "output_type": "stream",
     "text": [
      "Epoch: 96 | Epoch Time: 0m 16s\n",
      "\tTrain Loss: 0.6262262 | Train Acc: 76.53%\n",
      "\t Val. Loss: 0.6229689 |  Val. Acc: 76.68%\n"
     ]
    },
    {
     "name": "stderr",
     "output_type": "stream",
     "text": [
      "                                                                                \r"
     ]
    },
    {
     "name": "stdout",
     "output_type": "stream",
     "text": [
      "Epoch: 97 | Epoch Time: 0m 16s\n",
      "\tTrain Loss: 0.6207735 | Train Acc: 76.77%\n",
      "\t Val. Loss: 0.6175519 |  Val. Acc: 76.97%\n"
     ]
    },
    {
     "name": "stderr",
     "output_type": "stream",
     "text": [
      "                                                                                \r"
     ]
    },
    {
     "name": "stdout",
     "output_type": "stream",
     "text": [
      "Epoch: 98 | Epoch Time: 0m 17s\n",
      "\tTrain Loss: 0.6153246 | Train Acc: 77.01%\n",
      "\t Val. Loss: 0.6121081 |  Val. Acc: 77.27%\n"
     ]
    },
    {
     "name": "stderr",
     "output_type": "stream",
     "text": [
      "                                                                                \r"
     ]
    },
    {
     "name": "stdout",
     "output_type": "stream",
     "text": [
      "Epoch: 99 | Epoch Time: 0m 16s\n",
      "\tTrain Loss: 0.6098766 | Train Acc: 77.28%\n",
      "\t Val. Loss: 0.6066875 |  Val. Acc: 77.55%\n"
     ]
    },
    {
     "name": "stderr",
     "output_type": "stream",
     "text": [
      "                                                                                \r"
     ]
    },
    {
     "name": "stdout",
     "output_type": "stream",
     "text": [
      "Epoch: 100 | Epoch Time: 0m 17s\n",
      "\tTrain Loss: 0.6044359 | Train Acc: 77.56%\n",
      "\t Val. Loss: 0.6012510 |  Val. Acc: 77.75%\n"
     ]
    },
    {
     "name": "stderr",
     "output_type": "stream",
     "text": [
      "                                                                                \r"
     ]
    },
    {
     "name": "stdout",
     "output_type": "stream",
     "text": [
      "Epoch: 101 | Epoch Time: 0m 17s\n",
      "\tTrain Loss: 0.5989967 | Train Acc: 77.82%\n",
      "\t Val. Loss: 0.5958431 |  Val. Acc: 78.04%\n"
     ]
    },
    {
     "name": "stderr",
     "output_type": "stream",
     "text": [
      "                                                                                \r"
     ]
    },
    {
     "name": "stdout",
     "output_type": "stream",
     "text": [
      "Epoch: 102 | Epoch Time: 0m 16s\n",
      "\tTrain Loss: 0.5935596 | Train Acc: 78.11%\n",
      "\t Val. Loss: 0.5904214 |  Val. Acc: 78.31%\n"
     ]
    },
    {
     "name": "stderr",
     "output_type": "stream",
     "text": [
      "                                                                                \r"
     ]
    },
    {
     "name": "stdout",
     "output_type": "stream",
     "text": [
      "Epoch: 103 | Epoch Time: 0m 15s\n",
      "\tTrain Loss: 0.5880789 | Train Acc: 78.40%\n",
      "\t Val. Loss: 0.5849316 |  Val. Acc: 78.59%\n"
     ]
    },
    {
     "name": "stderr",
     "output_type": "stream",
     "text": [
      "                                                                                \r"
     ]
    },
    {
     "name": "stdout",
     "output_type": "stream",
     "text": [
      "Epoch: 104 | Epoch Time: 0m 16s\n",
      "\tTrain Loss: 0.5825989 | Train Acc: 78.70%\n",
      "\t Val. Loss: 0.5794883 |  Val. Acc: 78.88%\n"
     ]
    },
    {
     "name": "stderr",
     "output_type": "stream",
     "text": [
      "                                                                                \r"
     ]
    },
    {
     "name": "stdout",
     "output_type": "stream",
     "text": [
      "Epoch: 105 | Epoch Time: 0m 17s\n",
      "\tTrain Loss: 0.5771351 | Train Acc: 78.98%\n",
      "\t Val. Loss: 0.5740361 |  Val. Acc: 79.17%\n"
     ]
    },
    {
     "name": "stderr",
     "output_type": "stream",
     "text": [
      "                                                                                \r"
     ]
    },
    {
     "name": "stdout",
     "output_type": "stream",
     "text": [
      "Epoch: 106 | Epoch Time: 0m 17s\n",
      "\tTrain Loss: 0.5716699 | Train Acc: 79.26%\n",
      "\t Val. Loss: 0.5686126 |  Val. Acc: 79.39%\n"
     ]
    },
    {
     "name": "stderr",
     "output_type": "stream",
     "text": [
      "                                                                                \r"
     ]
    },
    {
     "name": "stdout",
     "output_type": "stream",
     "text": [
      "Epoch: 107 | Epoch Time: 0m 17s\n",
      "\tTrain Loss: 0.5662255 | Train Acc: 79.50%\n",
      "\t Val. Loss: 0.5631792 |  Val. Acc: 79.64%\n"
     ]
    },
    {
     "name": "stderr",
     "output_type": "stream",
     "text": [
      "                                                                                \r"
     ]
    },
    {
     "name": "stdout",
     "output_type": "stream",
     "text": [
      "Epoch: 108 | Epoch Time: 0m 17s\n",
      "\tTrain Loss: 0.5607845 | Train Acc: 79.75%\n",
      "\t Val. Loss: 0.5577713 |  Val. Acc: 79.88%\n"
     ]
    },
    {
     "name": "stderr",
     "output_type": "stream",
     "text": [
      "                                                                                \r"
     ]
    },
    {
     "name": "stdout",
     "output_type": "stream",
     "text": [
      "Epoch: 109 | Epoch Time: 0m 17s\n",
      "\tTrain Loss: 0.5553418 | Train Acc: 79.99%\n",
      "\t Val. Loss: 0.5523500 |  Val. Acc: 80.14%\n"
     ]
    },
    {
     "name": "stderr",
     "output_type": "stream",
     "text": [
      "                                                                                \r"
     ]
    },
    {
     "name": "stdout",
     "output_type": "stream",
     "text": [
      "Epoch: 110 | Epoch Time: 0m 17s\n",
      "\tTrain Loss: 0.5499212 | Train Acc: 80.22%\n",
      "\t Val. Loss: 0.5469656 |  Val. Acc: 80.37%\n"
     ]
    },
    {
     "name": "stderr",
     "output_type": "stream",
     "text": [
      "                                                                                \r"
     ]
    },
    {
     "name": "stdout",
     "output_type": "stream",
     "text": [
      "Epoch: 111 | Epoch Time: 0m 16s\n",
      "\tTrain Loss: 0.5445078 | Train Acc: 80.43%\n",
      "\t Val. Loss: 0.5415573 |  Val. Acc: 80.63%\n"
     ]
    },
    {
     "name": "stderr",
     "output_type": "stream",
     "text": [
      "                                                                                \r"
     ]
    },
    {
     "name": "stdout",
     "output_type": "stream",
     "text": [
      "Epoch: 112 | Epoch Time: 0m 16s\n",
      "\tTrain Loss: 0.5390774 | Train Acc: 80.68%\n",
      "\t Val. Loss: 0.5361496 |  Val. Acc: 80.85%\n"
     ]
    },
    {
     "name": "stderr",
     "output_type": "stream",
     "text": [
      "                                                                                \r"
     ]
    },
    {
     "name": "stdout",
     "output_type": "stream",
     "text": [
      "Epoch: 113 | Epoch Time: 0m 17s\n",
      "\tTrain Loss: 0.5336625 | Train Acc: 80.91%\n",
      "\t Val. Loss: 0.5307558 |  Val. Acc: 81.07%\n"
     ]
    },
    {
     "name": "stderr",
     "output_type": "stream",
     "text": [
      "                                                                                \r"
     ]
    },
    {
     "name": "stdout",
     "output_type": "stream",
     "text": [
      "Epoch: 114 | Epoch Time: 0m 17s\n",
      "\tTrain Loss: 0.5282505 | Train Acc: 81.14%\n",
      "\t Val. Loss: 0.5253751 |  Val. Acc: 81.32%\n"
     ]
    },
    {
     "name": "stderr",
     "output_type": "stream",
     "text": [
      "                                                                                \r"
     ]
    },
    {
     "name": "stdout",
     "output_type": "stream",
     "text": [
      "Epoch: 115 | Epoch Time: 0m 17s\n",
      "\tTrain Loss: 0.5228501 | Train Acc: 81.39%\n",
      "\t Val. Loss: 0.5199962 |  Val. Acc: 81.53%\n"
     ]
    },
    {
     "name": "stderr",
     "output_type": "stream",
     "text": [
      "                                                                                \r"
     ]
    },
    {
     "name": "stdout",
     "output_type": "stream",
     "text": [
      "Epoch: 116 | Epoch Time: 0m 16s\n",
      "\tTrain Loss: 0.5174668 | Train Acc: 81.61%\n",
      "\t Val. Loss: 0.5146468 |  Val. Acc: 81.78%\n"
     ]
    },
    {
     "name": "stderr",
     "output_type": "stream",
     "text": [
      "                                                                                \r"
     ]
    },
    {
     "name": "stdout",
     "output_type": "stream",
     "text": [
      "Epoch: 117 | Epoch Time: 0m 17s\n",
      "\tTrain Loss: 0.5120792 | Train Acc: 81.86%\n",
      "\t Val. Loss: 0.5092791 |  Val. Acc: 82.07%\n"
     ]
    },
    {
     "name": "stderr",
     "output_type": "stream",
     "text": [
      "                                                                                \r"
     ]
    },
    {
     "name": "stdout",
     "output_type": "stream",
     "text": [
      "Epoch: 118 | Epoch Time: 0m 17s\n",
      "\tTrain Loss: 0.5067016 | Train Acc: 82.13%\n",
      "\t Val. Loss: 0.5039107 |  Val. Acc: 82.31%\n"
     ]
    },
    {
     "name": "stderr",
     "output_type": "stream",
     "text": [
      "                                                                                \r"
     ]
    },
    {
     "name": "stdout",
     "output_type": "stream",
     "text": [
      "Epoch: 119 | Epoch Time: 0m 17s\n",
      "\tTrain Loss: 0.5013303 | Train Acc: 82.40%\n",
      "\t Val. Loss: 0.4985529 |  Val. Acc: 82.53%\n"
     ]
    },
    {
     "name": "stderr",
     "output_type": "stream",
     "text": [
      "                                                                                \r"
     ]
    },
    {
     "name": "stdout",
     "output_type": "stream",
     "text": [
      "Epoch: 120 | Epoch Time: 0m 17s\n",
      "\tTrain Loss: 0.4959757 | Train Acc: 82.63%\n",
      "\t Val. Loss: 0.4932315 |  Val. Acc: 82.79%\n"
     ]
    },
    {
     "name": "stderr",
     "output_type": "stream",
     "text": [
      "                                                                                \r"
     ]
    },
    {
     "name": "stdout",
     "output_type": "stream",
     "text": [
      "Epoch: 121 | Epoch Time: 0m 17s\n",
      "\tTrain Loss: 0.4906311 | Train Acc: 82.87%\n",
      "\t Val. Loss: 0.4879225 |  Val. Acc: 83.09%\n"
     ]
    },
    {
     "name": "stderr",
     "output_type": "stream",
     "text": [
      "                                                                                \r"
     ]
    },
    {
     "name": "stdout",
     "output_type": "stream",
     "text": [
      "Epoch: 122 | Epoch Time: 0m 15s\n",
      "\tTrain Loss: 0.4852920 | Train Acc: 83.12%\n",
      "\t Val. Loss: 0.4825735 |  Val. Acc: 83.33%\n"
     ]
    },
    {
     "name": "stderr",
     "output_type": "stream",
     "text": [
      "                                                                                \r"
     ]
    },
    {
     "name": "stdout",
     "output_type": "stream",
     "text": [
      "Epoch: 123 | Epoch Time: 0m 16s\n",
      "\tTrain Loss: 0.4799347 | Train Acc: 83.34%\n",
      "\t Val. Loss: 0.4772466 |  Val. Acc: 83.57%\n"
     ]
    },
    {
     "name": "stderr",
     "output_type": "stream",
     "text": [
      "                                                                                \r"
     ]
    },
    {
     "name": "stdout",
     "output_type": "stream",
     "text": [
      "Epoch: 124 | Epoch Time: 0m 17s\n",
      "\tTrain Loss: 0.4746029 | Train Acc: 83.59%\n",
      "\t Val. Loss: 0.4719269 |  Val. Acc: 83.77%\n"
     ]
    },
    {
     "name": "stderr",
     "output_type": "stream",
     "text": [
      "                                                                                \r"
     ]
    },
    {
     "name": "stdout",
     "output_type": "stream",
     "text": [
      "Epoch: 125 | Epoch Time: 0m 16s\n",
      "\tTrain Loss: 0.4692679 | Train Acc: 83.84%\n",
      "\t Val. Loss: 0.4665917 |  Val. Acc: 84.03%\n"
     ]
    },
    {
     "name": "stderr",
     "output_type": "stream",
     "text": [
      "                                                                                \r"
     ]
    },
    {
     "name": "stdout",
     "output_type": "stream",
     "text": [
      "Epoch: 126 | Epoch Time: 0m 16s\n",
      "\tTrain Loss: 0.4639327 | Train Acc: 84.07%\n",
      "\t Val. Loss: 0.4612806 |  Val. Acc: 84.28%\n"
     ]
    },
    {
     "name": "stderr",
     "output_type": "stream",
     "text": [
      "                                                                                \r"
     ]
    },
    {
     "name": "stdout",
     "output_type": "stream",
     "text": [
      "Epoch: 127 | Epoch Time: 0m 17s\n",
      "\tTrain Loss: 0.4586180 | Train Acc: 84.33%\n",
      "\t Val. Loss: 0.4559761 |  Val. Acc: 84.53%\n"
     ]
    },
    {
     "name": "stderr",
     "output_type": "stream",
     "text": [
      "                                                                                \r"
     ]
    },
    {
     "name": "stdout",
     "output_type": "stream",
     "text": [
      "Epoch: 128 | Epoch Time: 0m 16s\n",
      "\tTrain Loss: 0.4533278 | Train Acc: 84.57%\n",
      "\t Val. Loss: 0.4507177 |  Val. Acc: 84.80%\n"
     ]
    },
    {
     "name": "stderr",
     "output_type": "stream",
     "text": [
      "                                                                                \r"
     ]
    },
    {
     "name": "stdout",
     "output_type": "stream",
     "text": [
      "Epoch: 129 | Epoch Time: 0m 17s\n",
      "\tTrain Loss: 0.4480334 | Train Acc: 84.83%\n",
      "\t Val. Loss: 0.4454204 |  Val. Acc: 85.03%\n"
     ]
    },
    {
     "name": "stderr",
     "output_type": "stream",
     "text": [
      "                                                                                \r"
     ]
    },
    {
     "name": "stdout",
     "output_type": "stream",
     "text": [
      "Epoch: 130 | Epoch Time: 0m 16s\n",
      "\tTrain Loss: 0.4427210 | Train Acc: 85.07%\n",
      "\t Val. Loss: 0.4401006 |  Val. Acc: 85.26%\n"
     ]
    },
    {
     "name": "stderr",
     "output_type": "stream",
     "text": [
      "                                                                                \r"
     ]
    },
    {
     "name": "stdout",
     "output_type": "stream",
     "text": [
      "Epoch: 131 | Epoch Time: 0m 16s\n",
      "\tTrain Loss: 0.4373975 | Train Acc: 85.32%\n",
      "\t Val. Loss: 0.4348205 |  Val. Acc: 85.52%\n"
     ]
    },
    {
     "name": "stderr",
     "output_type": "stream",
     "text": [
      "                                                                                \r"
     ]
    },
    {
     "name": "stdout",
     "output_type": "stream",
     "text": [
      "Epoch: 132 | Epoch Time: 0m 16s\n",
      "\tTrain Loss: 0.4321051 | Train Acc: 85.56%\n",
      "\t Val. Loss: 0.4295354 |  Val. Acc: 85.75%\n"
     ]
    },
    {
     "name": "stderr",
     "output_type": "stream",
     "text": [
      "                                                                                \r"
     ]
    },
    {
     "name": "stdout",
     "output_type": "stream",
     "text": [
      "Epoch: 133 | Epoch Time: 0m 16s\n",
      "\tTrain Loss: 0.4268193 | Train Acc: 85.80%\n",
      "\t Val. Loss: 0.4242424 |  Val. Acc: 85.97%\n"
     ]
    },
    {
     "name": "stderr",
     "output_type": "stream",
     "text": [
      "                                                                                \r"
     ]
    },
    {
     "name": "stdout",
     "output_type": "stream",
     "text": [
      "Epoch: 134 | Epoch Time: 0m 16s\n",
      "\tTrain Loss: 0.4215144 | Train Acc: 86.06%\n",
      "\t Val. Loss: 0.4189574 |  Val. Acc: 86.23%\n"
     ]
    },
    {
     "name": "stderr",
     "output_type": "stream",
     "text": [
      "                                                                                \r"
     ]
    },
    {
     "name": "stdout",
     "output_type": "stream",
     "text": [
      "Epoch: 135 | Epoch Time: 0m 17s\n",
      "\tTrain Loss: 0.4162035 | Train Acc: 86.34%\n",
      "\t Val. Loss: 0.4136581 |  Val. Acc: 86.54%\n"
     ]
    },
    {
     "name": "stderr",
     "output_type": "stream",
     "text": [
      "                                                                                \r"
     ]
    },
    {
     "name": "stdout",
     "output_type": "stream",
     "text": [
      "Epoch: 136 | Epoch Time: 0m 17s\n",
      "\tTrain Loss: 0.4108833 | Train Acc: 86.63%\n",
      "\t Val. Loss: 0.4083472 |  Val. Acc: 86.77%\n"
     ]
    },
    {
     "name": "stderr",
     "output_type": "stream",
     "text": [
      "                                                                                \r"
     ]
    },
    {
     "name": "stdout",
     "output_type": "stream",
     "text": [
      "Epoch: 137 | Epoch Time: 0m 16s\n",
      "\tTrain Loss: 0.4055431 | Train Acc: 86.91%\n",
      "\t Val. Loss: 0.4030201 |  Val. Acc: 87.03%\n"
     ]
    },
    {
     "name": "stderr",
     "output_type": "stream",
     "text": [
      "                                                                                \r"
     ]
    },
    {
     "name": "stdout",
     "output_type": "stream",
     "text": [
      "Epoch: 138 | Epoch Time: 0m 17s\n",
      "\tTrain Loss: 0.4001984 | Train Acc: 87.16%\n",
      "\t Val. Loss: 0.3976801 |  Val. Acc: 87.28%\n"
     ]
    },
    {
     "name": "stderr",
     "output_type": "stream",
     "text": [
      "                                                                                \r"
     ]
    },
    {
     "name": "stdout",
     "output_type": "stream",
     "text": [
      "Epoch: 139 | Epoch Time: 0m 16s\n",
      "\tTrain Loss: 0.3948762 | Train Acc: 87.41%\n",
      "\t Val. Loss: 0.3924062 |  Val. Acc: 87.52%\n"
     ]
    },
    {
     "name": "stderr",
     "output_type": "stream",
     "text": [
      "                                                                                \r"
     ]
    },
    {
     "name": "stdout",
     "output_type": "stream",
     "text": [
      "Epoch: 140 | Epoch Time: 0m 16s\n",
      "\tTrain Loss: 0.3895901 | Train Acc: 87.65%\n",
      "\t Val. Loss: 0.3871562 |  Val. Acc: 87.78%\n"
     ]
    },
    {
     "name": "stderr",
     "output_type": "stream",
     "text": [
      "                                                                                \r"
     ]
    },
    {
     "name": "stdout",
     "output_type": "stream",
     "text": [
      "Epoch: 141 | Epoch Time: 0m 16s\n",
      "\tTrain Loss: 0.3843352 | Train Acc: 87.90%\n",
      "\t Val. Loss: 0.3819638 |  Val. Acc: 88.05%\n"
     ]
    },
    {
     "name": "stderr",
     "output_type": "stream",
     "text": [
      "                                                                                \r"
     ]
    },
    {
     "name": "stdout",
     "output_type": "stream",
     "text": [
      "Epoch: 142 | Epoch Time: 0m 16s\n",
      "\tTrain Loss: 0.3791190 | Train Acc: 88.17%\n",
      "\t Val. Loss: 0.3767779 |  Val. Acc: 88.30%\n"
     ]
    },
    {
     "name": "stderr",
     "output_type": "stream",
     "text": [
      "                                                                                \r"
     ]
    },
    {
     "name": "stdout",
     "output_type": "stream",
     "text": [
      "Epoch: 143 | Epoch Time: 0m 16s\n",
      "\tTrain Loss: 0.3739755 | Train Acc: 88.46%\n",
      "\t Val. Loss: 0.3716365 |  Val. Acc: 88.52%\n"
     ]
    },
    {
     "name": "stderr",
     "output_type": "stream",
     "text": [
      "                                                                                \r"
     ]
    },
    {
     "name": "stdout",
     "output_type": "stream",
     "text": [
      "Epoch: 144 | Epoch Time: 0m 16s\n",
      "\tTrain Loss: 0.3688422 | Train Acc: 88.73%\n",
      "\t Val. Loss: 0.3665354 |  Val. Acc: 88.79%\n"
     ]
    },
    {
     "name": "stderr",
     "output_type": "stream",
     "text": [
      "                                                                                \r"
     ]
    },
    {
     "name": "stdout",
     "output_type": "stream",
     "text": [
      "Epoch: 145 | Epoch Time: 0m 16s\n",
      "\tTrain Loss: 0.3637364 | Train Acc: 88.99%\n",
      "\t Val. Loss: 0.3614474 |  Val. Acc: 89.07%\n"
     ]
    },
    {
     "name": "stderr",
     "output_type": "stream",
     "text": [
      "                                                                                \r"
     ]
    },
    {
     "name": "stdout",
     "output_type": "stream",
     "text": [
      "Epoch: 146 | Epoch Time: 0m 17s\n",
      "\tTrain Loss: 0.3586556 | Train Acc: 89.23%\n",
      "\t Val. Loss: 0.3564029 |  Val. Acc: 89.30%\n"
     ]
    },
    {
     "name": "stderr",
     "output_type": "stream",
     "text": [
      "                                                                                \r"
     ]
    },
    {
     "name": "stdout",
     "output_type": "stream",
     "text": [
      "Epoch: 147 | Epoch Time: 0m 17s\n",
      "\tTrain Loss: 0.3536160 | Train Acc: 89.46%\n",
      "\t Val. Loss: 0.3513936 |  Val. Acc: 89.53%\n"
     ]
    },
    {
     "name": "stderr",
     "output_type": "stream",
     "text": [
      "                                                                                \r"
     ]
    },
    {
     "name": "stdout",
     "output_type": "stream",
     "text": [
      "Epoch: 148 | Epoch Time: 0m 17s\n",
      "\tTrain Loss: 0.3486137 | Train Acc: 89.71%\n",
      "\t Val. Loss: 0.3464286 |  Val. Acc: 89.77%\n"
     ]
    },
    {
     "name": "stderr",
     "output_type": "stream",
     "text": [
      "                                                                                \r"
     ]
    },
    {
     "name": "stdout",
     "output_type": "stream",
     "text": [
      "Epoch: 149 | Epoch Time: 0m 17s\n",
      "\tTrain Loss: 0.3436679 | Train Acc: 89.96%\n",
      "\t Val. Loss: 0.3415203 |  Val. Acc: 89.97%\n"
     ]
    },
    {
     "name": "stderr",
     "output_type": "stream",
     "text": [
      "                                                                                \r"
     ]
    },
    {
     "name": "stdout",
     "output_type": "stream",
     "text": [
      "Epoch: 150 | Epoch Time: 0m 17s\n",
      "\tTrain Loss: 0.3387655 | Train Acc: 90.19%\n",
      "\t Val. Loss: 0.3366077 |  Val. Acc: 90.22%\n"
     ]
    },
    {
     "name": "stderr",
     "output_type": "stream",
     "text": [
      "                                                                                \r"
     ]
    },
    {
     "name": "stdout",
     "output_type": "stream",
     "text": [
      "Epoch: 151 | Epoch Time: 0m 17s\n",
      "\tTrain Loss: 0.3338694 | Train Acc: 90.42%\n",
      "\t Val. Loss: 0.3317628 |  Val. Acc: 90.40%\n"
     ]
    },
    {
     "name": "stderr",
     "output_type": "stream",
     "text": [
      "                                                                                \r"
     ]
    },
    {
     "name": "stdout",
     "output_type": "stream",
     "text": [
      "Epoch: 152 | Epoch Time: 0m 16s\n",
      "\tTrain Loss: 0.3290397 | Train Acc: 90.62%\n",
      "\t Val. Loss: 0.3269703 |  Val. Acc: 90.60%\n"
     ]
    },
    {
     "name": "stderr",
     "output_type": "stream",
     "text": [
      "                                                                                \r"
     ]
    },
    {
     "name": "stdout",
     "output_type": "stream",
     "text": [
      "Epoch: 153 | Epoch Time: 0m 16s\n",
      "\tTrain Loss: 0.3242610 | Train Acc: 90.80%\n",
      "\t Val. Loss: 0.3222258 |  Val. Acc: 90.77%\n"
     ]
    },
    {
     "name": "stderr",
     "output_type": "stream",
     "text": [
      "                                                                                \r"
     ]
    },
    {
     "name": "stdout",
     "output_type": "stream",
     "text": [
      "Epoch: 154 | Epoch Time: 0m 16s\n",
      "\tTrain Loss: 0.3195342 | Train Acc: 90.99%\n",
      "\t Val. Loss: 0.3175205 |  Val. Acc: 90.98%\n"
     ]
    },
    {
     "name": "stderr",
     "output_type": "stream",
     "text": [
      "                                                                                \r"
     ]
    },
    {
     "name": "stdout",
     "output_type": "stream",
     "text": [
      "Epoch: 155 | Epoch Time: 0m 17s\n",
      "\tTrain Loss: 0.3148322 | Train Acc: 91.17%\n",
      "\t Val. Loss: 0.3128171 |  Val. Acc: 91.16%\n"
     ]
    },
    {
     "name": "stderr",
     "output_type": "stream",
     "text": [
      "                                                                                \r"
     ]
    },
    {
     "name": "stdout",
     "output_type": "stream",
     "text": [
      "Epoch: 156 | Epoch Time: 0m 16s\n",
      "\tTrain Loss: 0.3101687 | Train Acc: 91.35%\n",
      "\t Val. Loss: 0.3082145 |  Val. Acc: 91.31%\n"
     ]
    },
    {
     "name": "stderr",
     "output_type": "stream",
     "text": [
      "                                                                                \r"
     ]
    },
    {
     "name": "stdout",
     "output_type": "stream",
     "text": [
      "Epoch: 157 | Epoch Time: 0m 16s\n",
      "\tTrain Loss: 0.3055563 | Train Acc: 91.53%\n",
      "\t Val. Loss: 0.3035981 |  Val. Acc: 91.51%\n"
     ]
    },
    {
     "name": "stderr",
     "output_type": "stream",
     "text": [
      "                                                                                \r"
     ]
    },
    {
     "name": "stdout",
     "output_type": "stream",
     "text": [
      "Epoch: 158 | Epoch Time: 0m 17s\n",
      "\tTrain Loss: 0.3009759 | Train Acc: 91.72%\n",
      "\t Val. Loss: 0.2990712 |  Val. Acc: 91.69%\n"
     ]
    },
    {
     "name": "stderr",
     "output_type": "stream",
     "text": [
      "                                                                                \r"
     ]
    },
    {
     "name": "stdout",
     "output_type": "stream",
     "text": [
      "Epoch: 159 | Epoch Time: 0m 16s\n",
      "\tTrain Loss: 0.2964743 | Train Acc: 91.90%\n",
      "\t Val. Loss: 0.2945836 |  Val. Acc: 91.89%\n"
     ]
    },
    {
     "name": "stderr",
     "output_type": "stream",
     "text": [
      "                                                                                \r"
     ]
    },
    {
     "name": "stdout",
     "output_type": "stream",
     "text": [
      "Epoch: 160 | Epoch Time: 0m 17s\n",
      "\tTrain Loss: 0.2920146 | Train Acc: 92.10%\n",
      "\t Val. Loss: 0.2901500 |  Val. Acc: 92.09%\n"
     ]
    },
    {
     "name": "stderr",
     "output_type": "stream",
     "text": [
      "                                                                                \r"
     ]
    },
    {
     "name": "stdout",
     "output_type": "stream",
     "text": [
      "Epoch: 161 | Epoch Time: 0m 16s\n",
      "\tTrain Loss: 0.2876040 | Train Acc: 92.28%\n",
      "\t Val. Loss: 0.2857497 |  Val. Acc: 92.29%\n"
     ]
    },
    {
     "name": "stderr",
     "output_type": "stream",
     "text": [
      "                                                                                \r"
     ]
    },
    {
     "name": "stdout",
     "output_type": "stream",
     "text": [
      "Epoch: 162 | Epoch Time: 0m 16s\n",
      "\tTrain Loss: 0.2832487 | Train Acc: 92.46%\n",
      "\t Val. Loss: 0.2814201 |  Val. Acc: 92.44%\n"
     ]
    },
    {
     "name": "stderr",
     "output_type": "stream",
     "text": [
      "                                                                                \r"
     ]
    },
    {
     "name": "stdout",
     "output_type": "stream",
     "text": [
      "Epoch: 163 | Epoch Time: 0m 15s\n",
      "\tTrain Loss: 0.2789529 | Train Acc: 92.64%\n",
      "\t Val. Loss: 0.2771508 |  Val. Acc: 92.60%\n"
     ]
    },
    {
     "name": "stderr",
     "output_type": "stream",
     "text": [
      "                                                                                \r"
     ]
    },
    {
     "name": "stdout",
     "output_type": "stream",
     "text": [
      "Epoch: 164 | Epoch Time: 0m 17s\n",
      "\tTrain Loss: 0.2746900 | Train Acc: 92.79%\n",
      "\t Val. Loss: 0.2729349 |  Val. Acc: 92.77%\n"
     ]
    },
    {
     "name": "stderr",
     "output_type": "stream",
     "text": [
      "                                                                                \r"
     ]
    },
    {
     "name": "stdout",
     "output_type": "stream",
     "text": [
      "Epoch: 165 | Epoch Time: 0m 16s\n",
      "\tTrain Loss: 0.2704764 | Train Acc: 92.95%\n",
      "\t Val. Loss: 0.2687393 |  Val. Acc: 92.91%\n"
     ]
    },
    {
     "name": "stderr",
     "output_type": "stream",
     "text": [
      "                                                                                \r"
     ]
    },
    {
     "name": "stdout",
     "output_type": "stream",
     "text": [
      "Epoch: 166 | Epoch Time: 0m 15s\n",
      "\tTrain Loss: 0.2663275 | Train Acc: 93.09%\n",
      "\t Val. Loss: 0.2646160 |  Val. Acc: 93.04%\n"
     ]
    },
    {
     "name": "stderr",
     "output_type": "stream",
     "text": [
      "                                                                                \r"
     ]
    },
    {
     "name": "stdout",
     "output_type": "stream",
     "text": [
      "Epoch: 167 | Epoch Time: 0m 16s\n",
      "\tTrain Loss: 0.2622252 | Train Acc: 93.23%\n",
      "\t Val. Loss: 0.2605407 |  Val. Acc: 93.21%\n"
     ]
    },
    {
     "name": "stderr",
     "output_type": "stream",
     "text": [
      "                                                                                \r"
     ]
    },
    {
     "name": "stdout",
     "output_type": "stream",
     "text": [
      "Epoch: 168 | Epoch Time: 0m 17s\n",
      "\tTrain Loss: 0.2581733 | Train Acc: 93.37%\n",
      "\t Val. Loss: 0.2565137 |  Val. Acc: 93.36%\n"
     ]
    },
    {
     "name": "stderr",
     "output_type": "stream",
     "text": [
      "                                                                                \r"
     ]
    },
    {
     "name": "stdout",
     "output_type": "stream",
     "text": [
      "Epoch: 169 | Epoch Time: 0m 16s\n",
      "\tTrain Loss: 0.2541743 | Train Acc: 93.49%\n",
      "\t Val. Loss: 0.2525492 |  Val. Acc: 93.52%\n"
     ]
    },
    {
     "name": "stderr",
     "output_type": "stream",
     "text": [
      "                                                                                \r"
     ]
    },
    {
     "name": "stdout",
     "output_type": "stream",
     "text": [
      "Epoch: 170 | Epoch Time: 0m 16s\n",
      "\tTrain Loss: 0.2502356 | Train Acc: 93.64%\n",
      "\t Val. Loss: 0.2486121 |  Val. Acc: 93.64%\n"
     ]
    },
    {
     "name": "stderr",
     "output_type": "stream",
     "text": [
      "                                                                                \r"
     ]
    },
    {
     "name": "stdout",
     "output_type": "stream",
     "text": [
      "Epoch: 171 | Epoch Time: 0m 17s\n",
      "\tTrain Loss: 0.2463194 | Train Acc: 93.76%\n",
      "\t Val. Loss: 0.2447077 |  Val. Acc: 93.77%\n"
     ]
    },
    {
     "name": "stderr",
     "output_type": "stream",
     "text": [
      "                                                                                \r"
     ]
    },
    {
     "name": "stdout",
     "output_type": "stream",
     "text": [
      "Epoch: 172 | Epoch Time: 0m 16s\n",
      "\tTrain Loss: 0.2424604 | Train Acc: 93.89%\n",
      "\t Val. Loss: 0.2408975 |  Val. Acc: 93.88%\n"
     ]
    },
    {
     "name": "stderr",
     "output_type": "stream",
     "text": [
      "                                                                                \r"
     ]
    },
    {
     "name": "stdout",
     "output_type": "stream",
     "text": [
      "Epoch: 173 | Epoch Time: 0m 16s\n",
      "\tTrain Loss: 0.2386779 | Train Acc: 94.01%\n",
      "\t Val. Loss: 0.2371462 |  Val. Acc: 94.04%\n"
     ]
    },
    {
     "name": "stderr",
     "output_type": "stream",
     "text": [
      "                                                                                \r"
     ]
    },
    {
     "name": "stdout",
     "output_type": "stream",
     "text": [
      "Epoch: 174 | Epoch Time: 0m 17s\n",
      "\tTrain Loss: 0.2349478 | Train Acc: 94.15%\n",
      "\t Val. Loss: 0.2334482 |  Val. Acc: 94.15%\n"
     ]
    },
    {
     "name": "stderr",
     "output_type": "stream",
     "text": [
      "                                                                                \r"
     ]
    },
    {
     "name": "stdout",
     "output_type": "stream",
     "text": [
      "Epoch: 175 | Epoch Time: 0m 16s\n",
      "\tTrain Loss: 0.2312679 | Train Acc: 94.27%\n",
      "\t Val. Loss: 0.2298124 |  Val. Acc: 94.29%\n"
     ]
    },
    {
     "name": "stderr",
     "output_type": "stream",
     "text": [
      "                                                                                \r"
     ]
    },
    {
     "name": "stdout",
     "output_type": "stream",
     "text": [
      "Epoch: 176 | Epoch Time: 0m 17s\n",
      "\tTrain Loss: 0.2276491 | Train Acc: 94.39%\n",
      "\t Val. Loss: 0.2262248 |  Val. Acc: 94.41%\n"
     ]
    },
    {
     "name": "stderr",
     "output_type": "stream",
     "text": [
      "                                                                                \r"
     ]
    },
    {
     "name": "stdout",
     "output_type": "stream",
     "text": [
      "Epoch: 177 | Epoch Time: 0m 16s\n",
      "\tTrain Loss: 0.2240800 | Train Acc: 94.51%\n",
      "\t Val. Loss: 0.2227032 |  Val. Acc: 94.52%\n"
     ]
    },
    {
     "name": "stderr",
     "output_type": "stream",
     "text": [
      "                                                                                \r"
     ]
    },
    {
     "name": "stdout",
     "output_type": "stream",
     "text": [
      "Epoch: 178 | Epoch Time: 0m 16s\n",
      "\tTrain Loss: 0.2205608 | Train Acc: 94.62%\n",
      "\t Val. Loss: 0.2191743 |  Val. Acc: 94.62%\n"
     ]
    },
    {
     "name": "stderr",
     "output_type": "stream",
     "text": [
      "                                                                                \r"
     ]
    },
    {
     "name": "stdout",
     "output_type": "stream",
     "text": [
      "Epoch: 179 | Epoch Time: 0m 16s\n",
      "\tTrain Loss: 0.2170973 | Train Acc: 94.74%\n",
      "\t Val. Loss: 0.2157405 |  Val. Acc: 94.73%\n"
     ]
    },
    {
     "name": "stderr",
     "output_type": "stream",
     "text": [
      "                                                                                \r"
     ]
    },
    {
     "name": "stdout",
     "output_type": "stream",
     "text": [
      "Epoch: 180 | Epoch Time: 0m 16s\n",
      "\tTrain Loss: 0.2136888 | Train Acc: 94.85%\n",
      "\t Val. Loss: 0.2123602 |  Val. Acc: 94.84%\n"
     ]
    },
    {
     "name": "stderr",
     "output_type": "stream",
     "text": [
      "                                                                                \r"
     ]
    },
    {
     "name": "stdout",
     "output_type": "stream",
     "text": [
      "Epoch: 181 | Epoch Time: 0m 17s\n",
      "\tTrain Loss: 0.2103219 | Train Acc: 94.95%\n",
      "\t Val. Loss: 0.2090301 |  Val. Acc: 94.97%\n"
     ]
    },
    {
     "name": "stderr",
     "output_type": "stream",
     "text": [
      "                                                                                \r"
     ]
    },
    {
     "name": "stdout",
     "output_type": "stream",
     "text": [
      "Epoch: 182 | Epoch Time: 0m 16s\n",
      "\tTrain Loss: 0.2070176 | Train Acc: 95.07%\n",
      "\t Val. Loss: 0.2057562 |  Val. Acc: 95.07%\n"
     ]
    },
    {
     "name": "stderr",
     "output_type": "stream",
     "text": [
      "                                                                                \r"
     ]
    },
    {
     "name": "stdout",
     "output_type": "stream",
     "text": [
      "Epoch: 183 | Epoch Time: 0m 16s\n",
      "\tTrain Loss: 0.2037734 | Train Acc: 95.17%\n",
      "\t Val. Loss: 0.2025449 |  Val. Acc: 95.17%\n"
     ]
    },
    {
     "name": "stderr",
     "output_type": "stream",
     "text": [
      "                                                                                \r"
     ]
    },
    {
     "name": "stdout",
     "output_type": "stream",
     "text": [
      "Epoch: 184 | Epoch Time: 0m 17s\n",
      "\tTrain Loss: 0.2005956 | Train Acc: 95.26%\n",
      "\t Val. Loss: 0.1994083 |  Val. Acc: 95.25%\n"
     ]
    },
    {
     "name": "stderr",
     "output_type": "stream",
     "text": [
      "                                                                                \r"
     ]
    },
    {
     "name": "stdout",
     "output_type": "stream",
     "text": [
      "Epoch: 185 | Epoch Time: 0m 16s\n",
      "\tTrain Loss: 0.1974593 | Train Acc: 95.35%\n",
      "\t Val. Loss: 0.1962712 |  Val. Acc: 95.34%\n"
     ]
    },
    {
     "name": "stderr",
     "output_type": "stream",
     "text": [
      "                                                                                \r"
     ]
    },
    {
     "name": "stdout",
     "output_type": "stream",
     "text": [
      "Epoch: 186 | Epoch Time: 0m 17s\n",
      "\tTrain Loss: 0.1943608 | Train Acc: 95.43%\n",
      "\t Val. Loss: 0.1932200 |  Val. Acc: 95.42%\n"
     ]
    },
    {
     "name": "stderr",
     "output_type": "stream",
     "text": [
      "                                                                                \r"
     ]
    },
    {
     "name": "stdout",
     "output_type": "stream",
     "text": [
      "Epoch: 187 | Epoch Time: 0m 16s\n",
      "\tTrain Loss: 0.1913098 | Train Acc: 95.51%\n",
      "\t Val. Loss: 0.1901734 |  Val. Acc: 95.49%\n"
     ]
    },
    {
     "name": "stderr",
     "output_type": "stream",
     "text": [
      "                                                                                \r"
     ]
    },
    {
     "name": "stdout",
     "output_type": "stream",
     "text": [
      "Epoch: 188 | Epoch Time: 0m 16s\n",
      "\tTrain Loss: 0.1883168 | Train Acc: 95.60%\n",
      "\t Val. Loss: 0.1872148 |  Val. Acc: 95.56%\n"
     ]
    },
    {
     "name": "stderr",
     "output_type": "stream",
     "text": [
      "                                                                                \r"
     ]
    },
    {
     "name": "stdout",
     "output_type": "stream",
     "text": [
      "Epoch: 189 | Epoch Time: 0m 16s\n",
      "\tTrain Loss: 0.1853821 | Train Acc: 95.68%\n",
      "\t Val. Loss: 0.1843144 |  Val. Acc: 95.65%\n"
     ]
    },
    {
     "name": "stderr",
     "output_type": "stream",
     "text": [
      "                                                                                \r"
     ]
    },
    {
     "name": "stdout",
     "output_type": "stream",
     "text": [
      "Epoch: 190 | Epoch Time: 0m 17s\n",
      "\tTrain Loss: 0.1824818 | Train Acc: 95.77%\n",
      "\t Val. Loss: 0.1814475 |  Val. Acc: 95.72%\n"
     ]
    },
    {
     "name": "stderr",
     "output_type": "stream",
     "text": [
      "                                                                                \r"
     ]
    },
    {
     "name": "stdout",
     "output_type": "stream",
     "text": [
      "Epoch: 191 | Epoch Time: 0m 16s\n",
      "\tTrain Loss: 0.1796487 | Train Acc: 95.85%\n",
      "\t Val. Loss: 0.1786395 |  Val. Acc: 95.81%\n"
     ]
    },
    {
     "name": "stderr",
     "output_type": "stream",
     "text": [
      "                                                                                \r"
     ]
    },
    {
     "name": "stdout",
     "output_type": "stream",
     "text": [
      "Epoch: 192 | Epoch Time: 0m 17s\n",
      "\tTrain Loss: 0.1768524 | Train Acc: 95.93%\n",
      "\t Val. Loss: 0.1758668 |  Val. Acc: 95.89%\n"
     ]
    },
    {
     "name": "stderr",
     "output_type": "stream",
     "text": [
      "                                                                                \r"
     ]
    },
    {
     "name": "stdout",
     "output_type": "stream",
     "text": [
      "Epoch: 193 | Epoch Time: 0m 17s\n",
      "\tTrain Loss: 0.1740991 | Train Acc: 96.01%\n",
      "\t Val. Loss: 0.1731363 |  Val. Acc: 95.98%\n"
     ]
    },
    {
     "name": "stderr",
     "output_type": "stream",
     "text": [
      "                                                                                \r"
     ]
    },
    {
     "name": "stdout",
     "output_type": "stream",
     "text": [
      "Epoch: 194 | Epoch Time: 0m 16s\n",
      "\tTrain Loss: 0.1714024 | Train Acc: 96.09%\n",
      "\t Val. Loss: 0.1704724 |  Val. Acc: 96.05%\n"
     ]
    },
    {
     "name": "stderr",
     "output_type": "stream",
     "text": [
      "                                                                                \r"
     ]
    },
    {
     "name": "stdout",
     "output_type": "stream",
     "text": [
      "Epoch: 195 | Epoch Time: 0m 16s\n",
      "\tTrain Loss: 0.1687349 | Train Acc: 96.15%\n",
      "\t Val. Loss: 0.1678257 |  Val. Acc: 96.12%\n"
     ]
    },
    {
     "name": "stderr",
     "output_type": "stream",
     "text": [
      "                                                                                \r"
     ]
    },
    {
     "name": "stdout",
     "output_type": "stream",
     "text": [
      "Epoch: 196 | Epoch Time: 0m 17s\n",
      "\tTrain Loss: 0.1661367 | Train Acc: 96.23%\n",
      "\t Val. Loss: 0.1652597 |  Val. Acc: 96.22%\n"
     ]
    },
    {
     "name": "stderr",
     "output_type": "stream",
     "text": [
      "                                                                                \r"
     ]
    },
    {
     "name": "stdout",
     "output_type": "stream",
     "text": [
      "Epoch: 197 | Epoch Time: 0m 16s\n",
      "\tTrain Loss: 0.1635604 | Train Acc: 96.30%\n",
      "\t Val. Loss: 0.1626768 |  Val. Acc: 96.27%\n"
     ]
    },
    {
     "name": "stderr",
     "output_type": "stream",
     "text": [
      "                                                                                \r"
     ]
    },
    {
     "name": "stdout",
     "output_type": "stream",
     "text": [
      "Epoch: 198 | Epoch Time: 0m 16s\n",
      "\tTrain Loss: 0.1610236 | Train Acc: 96.36%\n",
      "\t Val. Loss: 0.1602056 |  Val. Acc: 96.34%\n"
     ]
    },
    {
     "name": "stderr",
     "output_type": "stream",
     "text": [
      "                                                                                \r"
     ]
    },
    {
     "name": "stdout",
     "output_type": "stream",
     "text": [
      "Epoch: 199 | Epoch Time: 0m 17s\n",
      "\tTrain Loss: 0.1585525 | Train Acc: 96.43%\n",
      "\t Val. Loss: 0.1577442 |  Val. Acc: 96.39%\n"
     ]
    },
    {
     "name": "stderr",
     "output_type": "stream",
     "text": [
      "                                                                                \r"
     ]
    },
    {
     "name": "stdout",
     "output_type": "stream",
     "text": [
      "Epoch: 200 | Epoch Time: 0m 17s\n",
      "\tTrain Loss: 0.1561278 | Train Acc: 96.49%\n",
      "\t Val. Loss: 0.1553468 |  Val. Acc: 96.45%\n"
     ]
    },
    {
     "name": "stderr",
     "output_type": "stream",
     "text": [
      "                                                                                \r"
     ]
    },
    {
     "name": "stdout",
     "output_type": "stream",
     "text": [
      "Epoch: 201 | Epoch Time: 0m 16s\n",
      "\tTrain Loss: 0.1537474 | Train Acc: 96.55%\n",
      "\t Val. Loss: 0.1529733 |  Val. Acc: 96.51%\n"
     ]
    },
    {
     "name": "stderr",
     "output_type": "stream",
     "text": [
      "                                                                                \r"
     ]
    },
    {
     "name": "stdout",
     "output_type": "stream",
     "text": [
      "Epoch: 202 | Epoch Time: 0m 15s\n",
      "\tTrain Loss: 0.1514030 | Train Acc: 96.61%\n",
      "\t Val. Loss: 0.1506785 |  Val. Acc: 96.57%\n"
     ]
    },
    {
     "name": "stderr",
     "output_type": "stream",
     "text": [
      "                                                                                \r"
     ]
    },
    {
     "name": "stdout",
     "output_type": "stream",
     "text": [
      "Epoch: 203 | Epoch Time: 0m 16s\n",
      "\tTrain Loss: 0.1491120 | Train Acc: 96.67%\n",
      "\t Val. Loss: 0.1483904 |  Val. Acc: 96.62%\n"
     ]
    },
    {
     "name": "stderr",
     "output_type": "stream",
     "text": [
      "                                                                                \r"
     ]
    },
    {
     "name": "stdout",
     "output_type": "stream",
     "text": [
      "Epoch: 204 | Epoch Time: 0m 17s\n",
      "\tTrain Loss: 0.1468552 | Train Acc: 96.73%\n",
      "\t Val. Loss: 0.1461608 |  Val. Acc: 96.69%\n"
     ]
    },
    {
     "name": "stderr",
     "output_type": "stream",
     "text": [
      "                                                                                \r"
     ]
    },
    {
     "name": "stdout",
     "output_type": "stream",
     "text": [
      "Epoch: 205 | Epoch Time: 0m 16s\n",
      "\tTrain Loss: 0.1446385 | Train Acc: 96.78%\n",
      "\t Val. Loss: 0.1439657 |  Val. Acc: 96.74%\n"
     ]
    },
    {
     "name": "stderr",
     "output_type": "stream",
     "text": [
      "                                                                                \r"
     ]
    },
    {
     "name": "stdout",
     "output_type": "stream",
     "text": [
      "Epoch: 206 | Epoch Time: 0m 16s\n",
      "\tTrain Loss: 0.1424614 | Train Acc: 96.83%\n",
      "\t Val. Loss: 0.1418347 |  Val. Acc: 96.80%\n"
     ]
    },
    {
     "name": "stderr",
     "output_type": "stream",
     "text": [
      "                                                                                \r"
     ]
    },
    {
     "name": "stdout",
     "output_type": "stream",
     "text": [
      "Epoch: 207 | Epoch Time: 0m 16s\n",
      "\tTrain Loss: 0.1403348 | Train Acc: 96.90%\n",
      "\t Val. Loss: 0.1397105 |  Val. Acc: 96.86%\n"
     ]
    },
    {
     "name": "stderr",
     "output_type": "stream",
     "text": [
      "                                                                                \r"
     ]
    },
    {
     "name": "stdout",
     "output_type": "stream",
     "text": [
      "Epoch: 208 | Epoch Time: 0m 15s\n",
      "\tTrain Loss: 0.1382466 | Train Acc: 96.95%\n",
      "\t Val. Loss: 0.1376629 |  Val. Acc: 96.90%\n"
     ]
    },
    {
     "name": "stderr",
     "output_type": "stream",
     "text": [
      "                                                                                \r"
     ]
    },
    {
     "name": "stdout",
     "output_type": "stream",
     "text": [
      "Epoch: 209 | Epoch Time: 0m 16s\n",
      "\tTrain Loss: 0.1362146 | Train Acc: 97.01%\n",
      "\t Val. Loss: 0.1356111 |  Val. Acc: 96.94%\n"
     ]
    },
    {
     "name": "stderr",
     "output_type": "stream",
     "text": [
      "                                                                                \r"
     ]
    },
    {
     "name": "stdout",
     "output_type": "stream",
     "text": [
      "Epoch: 210 | Epoch Time: 0m 17s\n",
      "\tTrain Loss: 0.1342114 | Train Acc: 97.06%\n",
      "\t Val. Loss: 0.1336273 |  Val. Acc: 96.99%\n"
     ]
    },
    {
     "name": "stderr",
     "output_type": "stream",
     "text": [
      "                                                                                \r"
     ]
    },
    {
     "name": "stdout",
     "output_type": "stream",
     "text": [
      "Epoch: 211 | Epoch Time: 0m 16s\n",
      "\tTrain Loss: 0.1322512 | Train Acc: 97.11%\n",
      "\t Val. Loss: 0.1316813 |  Val. Acc: 97.05%\n"
     ]
    },
    {
     "name": "stderr",
     "output_type": "stream",
     "text": [
      "                                                                                \r"
     ]
    },
    {
     "name": "stdout",
     "output_type": "stream",
     "text": [
      "Epoch: 212 | Epoch Time: 0m 16s\n",
      "\tTrain Loss: 0.1303215 | Train Acc: 97.15%\n",
      "\t Val. Loss: 0.1297829 |  Val. Acc: 97.09%\n"
     ]
    },
    {
     "name": "stderr",
     "output_type": "stream",
     "text": [
      "                                                                                \r"
     ]
    },
    {
     "name": "stdout",
     "output_type": "stream",
     "text": [
      "Epoch: 213 | Epoch Time: 0m 16s\n",
      "\tTrain Loss: 0.1284310 | Train Acc: 97.20%\n",
      "\t Val. Loss: 0.1279089 |  Val. Acc: 97.14%\n"
     ]
    },
    {
     "name": "stderr",
     "output_type": "stream",
     "text": [
      "                                                                                \r"
     ]
    },
    {
     "name": "stdout",
     "output_type": "stream",
     "text": [
      "Epoch: 214 | Epoch Time: 0m 16s\n",
      "\tTrain Loss: 0.1265755 | Train Acc: 97.25%\n",
      "\t Val. Loss: 0.1260679 |  Val. Acc: 97.18%\n"
     ]
    },
    {
     "name": "stderr",
     "output_type": "stream",
     "text": [
      "                                                                                \r"
     ]
    },
    {
     "name": "stdout",
     "output_type": "stream",
     "text": [
      "Epoch: 215 | Epoch Time: 0m 16s\n",
      "\tTrain Loss: 0.1247533 | Train Acc: 97.29%\n",
      "\t Val. Loss: 0.1242737 |  Val. Acc: 97.22%\n"
     ]
    },
    {
     "name": "stderr",
     "output_type": "stream",
     "text": [
      "                                                                                \r"
     ]
    },
    {
     "name": "stdout",
     "output_type": "stream",
     "text": [
      "Epoch: 216 | Epoch Time: 0m 16s\n",
      "\tTrain Loss: 0.1229732 | Train Acc: 97.34%\n",
      "\t Val. Loss: 0.1225198 |  Val. Acc: 97.25%\n"
     ]
    },
    {
     "name": "stderr",
     "output_type": "stream",
     "text": [
      "                                                                                \r"
     ]
    },
    {
     "name": "stdout",
     "output_type": "stream",
     "text": [
      "Epoch: 217 | Epoch Time: 0m 16s\n",
      "\tTrain Loss: 0.1212224 | Train Acc: 97.38%\n",
      "\t Val. Loss: 0.1207665 |  Val. Acc: 97.31%\n"
     ]
    },
    {
     "name": "stderr",
     "output_type": "stream",
     "text": [
      "                                                                                \r"
     ]
    },
    {
     "name": "stdout",
     "output_type": "stream",
     "text": [
      "Epoch: 218 | Epoch Time: 0m 16s\n",
      "\tTrain Loss: 0.1195098 | Train Acc: 97.42%\n",
      "\t Val. Loss: 0.1190666 |  Val. Acc: 97.35%\n"
     ]
    },
    {
     "name": "stderr",
     "output_type": "stream",
     "text": [
      "                                                                                \r"
     ]
    },
    {
     "name": "stdout",
     "output_type": "stream",
     "text": [
      "Epoch: 219 | Epoch Time: 0m 17s\n",
      "\tTrain Loss: 0.1178293 | Train Acc: 97.45%\n",
      "\t Val. Loss: 0.1174025 |  Val. Acc: 97.40%\n"
     ]
    },
    {
     "name": "stderr",
     "output_type": "stream",
     "text": [
      "                                                                                \r"
     ]
    },
    {
     "name": "stdout",
     "output_type": "stream",
     "text": [
      "Epoch: 220 | Epoch Time: 0m 16s\n",
      "\tTrain Loss: 0.1161690 | Train Acc: 97.49%\n",
      "\t Val. Loss: 0.1157657 |  Val. Acc: 97.43%\n"
     ]
    },
    {
     "name": "stderr",
     "output_type": "stream",
     "text": [
      "                                                                                \r"
     ]
    },
    {
     "name": "stdout",
     "output_type": "stream",
     "text": [
      "Epoch: 221 | Epoch Time: 0m 17s\n",
      "\tTrain Loss: 0.1145548 | Train Acc: 97.53%\n",
      "\t Val. Loss: 0.1141379 |  Val. Acc: 97.47%\n"
     ]
    },
    {
     "name": "stderr",
     "output_type": "stream",
     "text": [
      "                                                                                \r"
     ]
    },
    {
     "name": "stdout",
     "output_type": "stream",
     "text": [
      "Epoch: 222 | Epoch Time: 0m 16s\n",
      "\tTrain Loss: 0.1129581 | Train Acc: 97.56%\n",
      "\t Val. Loss: 0.1125798 |  Val. Acc: 97.50%\n"
     ]
    },
    {
     "name": "stderr",
     "output_type": "stream",
     "text": [
      "                                                                                \r"
     ]
    },
    {
     "name": "stdout",
     "output_type": "stream",
     "text": [
      "Epoch: 223 | Epoch Time: 0m 15s\n",
      "\tTrain Loss: 0.1114041 | Train Acc: 97.60%\n",
      "\t Val. Loss: 0.1110124 |  Val. Acc: 97.54%\n"
     ]
    },
    {
     "name": "stderr",
     "output_type": "stream",
     "text": [
      "                                                                                \r"
     ]
    },
    {
     "name": "stdout",
     "output_type": "stream",
     "text": [
      "Epoch: 224 | Epoch Time: 0m 16s\n",
      "\tTrain Loss: 0.1098784 | Train Acc: 97.64%\n",
      "\t Val. Loss: 0.1095129 |  Val. Acc: 97.58%\n"
     ]
    },
    {
     "name": "stderr",
     "output_type": "stream",
     "text": [
      "                                                                                \r"
     ]
    },
    {
     "name": "stdout",
     "output_type": "stream",
     "text": [
      "Epoch: 225 | Epoch Time: 0m 17s\n",
      "\tTrain Loss: 0.1083828 | Train Acc: 97.67%\n",
      "\t Val. Loss: 0.1080268 |  Val. Acc: 97.62%\n"
     ]
    },
    {
     "name": "stderr",
     "output_type": "stream",
     "text": [
      "                                                                                \r"
     ]
    },
    {
     "name": "stdout",
     "output_type": "stream",
     "text": [
      "Epoch: 226 | Epoch Time: 0m 16s\n",
      "\tTrain Loss: 0.1069086 | Train Acc: 97.70%\n",
      "\t Val. Loss: 0.1065609 |  Val. Acc: 97.66%\n"
     ]
    },
    {
     "name": "stderr",
     "output_type": "stream",
     "text": [
      "                                                                                \r"
     ]
    },
    {
     "name": "stdout",
     "output_type": "stream",
     "text": [
      "Epoch: 227 | Epoch Time: 0m 16s\n",
      "\tTrain Loss: 0.1054647 | Train Acc: 97.74%\n",
      "\t Val. Loss: 0.1051406 |  Val. Acc: 97.70%\n"
     ]
    },
    {
     "name": "stderr",
     "output_type": "stream",
     "text": [
      "                                                                                \r"
     ]
    },
    {
     "name": "stdout",
     "output_type": "stream",
     "text": [
      "Epoch: 228 | Epoch Time: 0m 15s\n",
      "\tTrain Loss: 0.1040443 | Train Acc: 97.77%\n",
      "\t Val. Loss: 0.1037216 |  Val. Acc: 97.74%\n"
     ]
    },
    {
     "name": "stderr",
     "output_type": "stream",
     "text": [
      "                                                                                \r"
     ]
    },
    {
     "name": "stdout",
     "output_type": "stream",
     "text": [
      "Epoch: 229 | Epoch Time: 0m 16s\n",
      "\tTrain Loss: 0.1026498 | Train Acc: 97.81%\n",
      "\t Val. Loss: 0.1023401 |  Val. Acc: 97.77%\n"
     ]
    },
    {
     "name": "stderr",
     "output_type": "stream",
     "text": [
      "                                                                                \r"
     ]
    },
    {
     "name": "stdout",
     "output_type": "stream",
     "text": [
      "Epoch: 230 | Epoch Time: 0m 16s\n",
      "\tTrain Loss: 0.1012926 | Train Acc: 97.84%\n",
      "\t Val. Loss: 0.1009885 |  Val. Acc: 97.81%\n"
     ]
    },
    {
     "name": "stderr",
     "output_type": "stream",
     "text": [
      "                                                                                \r"
     ]
    },
    {
     "name": "stdout",
     "output_type": "stream",
     "text": [
      "Epoch: 231 | Epoch Time: 0m 17s\n",
      "\tTrain Loss: 0.0999508 | Train Acc: 97.87%\n",
      "\t Val. Loss: 0.0996618 |  Val. Acc: 97.84%\n"
     ]
    },
    {
     "name": "stderr",
     "output_type": "stream",
     "text": [
      "                                                                                \r"
     ]
    },
    {
     "name": "stdout",
     "output_type": "stream",
     "text": [
      "Epoch: 232 | Epoch Time: 0m 16s\n",
      "\tTrain Loss: 0.0986368 | Train Acc: 97.90%\n",
      "\t Val. Loss: 0.0983517 |  Val. Acc: 97.87%\n"
     ]
    },
    {
     "name": "stderr",
     "output_type": "stream",
     "text": [
      "                                                                                \r"
     ]
    },
    {
     "name": "stdout",
     "output_type": "stream",
     "text": [
      "Epoch: 233 | Epoch Time: 0m 16s\n",
      "\tTrain Loss: 0.0973416 | Train Acc: 97.92%\n",
      "\t Val. Loss: 0.0970807 |  Val. Acc: 97.91%\n"
     ]
    },
    {
     "name": "stderr",
     "output_type": "stream",
     "text": [
      "                                                                                \r"
     ]
    },
    {
     "name": "stdout",
     "output_type": "stream",
     "text": [
      "Epoch: 234 | Epoch Time: 0m 17s\n",
      "\tTrain Loss: 0.0960717 | Train Acc: 97.95%\n",
      "\t Val. Loss: 0.0958162 |  Val. Acc: 97.94%\n"
     ]
    },
    {
     "name": "stderr",
     "output_type": "stream",
     "text": [
      "                                                                                \r"
     ]
    },
    {
     "name": "stdout",
     "output_type": "stream",
     "text": [
      "Epoch: 235 | Epoch Time: 0m 16s\n",
      "\tTrain Loss: 0.0948243 | Train Acc: 97.97%\n",
      "\t Val. Loss: 0.0945897 |  Val. Acc: 97.96%\n"
     ]
    },
    {
     "name": "stderr",
     "output_type": "stream",
     "text": [
      "                                                                                \r"
     ]
    },
    {
     "name": "stdout",
     "output_type": "stream",
     "text": [
      "Epoch: 236 | Epoch Time: 0m 16s\n",
      "\tTrain Loss: 0.0936032 | Train Acc: 98.00%\n",
      "\t Val. Loss: 0.0933620 |  Val. Acc: 97.99%\n"
     ]
    },
    {
     "name": "stderr",
     "output_type": "stream",
     "text": [
      "                                                                                \r"
     ]
    },
    {
     "name": "stdout",
     "output_type": "stream",
     "text": [
      "Epoch: 237 | Epoch Time: 0m 16s\n",
      "\tTrain Loss: 0.0923982 | Train Acc: 98.02%\n",
      "\t Val. Loss: 0.0921968 |  Val. Acc: 98.02%\n"
     ]
    },
    {
     "name": "stderr",
     "output_type": "stream",
     "text": [
      "                                                                                \r"
     ]
    },
    {
     "name": "stdout",
     "output_type": "stream",
     "text": [
      "Epoch: 238 | Epoch Time: 0m 16s\n",
      "\tTrain Loss: 0.0912261 | Train Acc: 98.04%\n",
      "\t Val. Loss: 0.0910183 |  Val. Acc: 98.05%\n"
     ]
    },
    {
     "name": "stderr",
     "output_type": "stream",
     "text": [
      "                                                                                \r"
     ]
    },
    {
     "name": "stdout",
     "output_type": "stream",
     "text": [
      "Epoch: 239 | Epoch Time: 0m 16s\n",
      "\tTrain Loss: 0.0900768 | Train Acc: 98.07%\n",
      "\t Val. Loss: 0.0898743 |  Val. Acc: 98.07%\n"
     ]
    },
    {
     "name": "stderr",
     "output_type": "stream",
     "text": [
      "                                                                                \r"
     ]
    },
    {
     "name": "stdout",
     "output_type": "stream",
     "text": [
      "Epoch: 240 | Epoch Time: 0m 16s\n",
      "\tTrain Loss: 0.0889390 | Train Acc: 98.09%\n",
      "\t Val. Loss: 0.0887717 |  Val. Acc: 98.09%\n"
     ]
    },
    {
     "name": "stderr",
     "output_type": "stream",
     "text": [
      "                                                                                \r"
     ]
    },
    {
     "name": "stdout",
     "output_type": "stream",
     "text": [
      "Epoch: 241 | Epoch Time: 0m 17s\n",
      "\tTrain Loss: 0.0878242 | Train Acc: 98.12%\n",
      "\t Val. Loss: 0.0876555 |  Val. Acc: 98.11%\n"
     ]
    },
    {
     "name": "stderr",
     "output_type": "stream",
     "text": [
      "                                                                                \r"
     ]
    },
    {
     "name": "stdout",
     "output_type": "stream",
     "text": [
      "Epoch: 242 | Epoch Time: 0m 15s\n",
      "\tTrain Loss: 0.0867275 | Train Acc: 98.14%\n",
      "\t Val. Loss: 0.0865624 |  Val. Acc: 98.14%\n"
     ]
    },
    {
     "name": "stderr",
     "output_type": "stream",
     "text": [
      "                                                                                \r"
     ]
    },
    {
     "name": "stdout",
     "output_type": "stream",
     "text": [
      "Epoch: 243 | Epoch Time: 0m 16s\n",
      "\tTrain Loss: 0.0856544 | Train Acc: 98.17%\n",
      "\t Val. Loss: 0.0854816 |  Val. Acc: 98.16%\n"
     ]
    },
    {
     "name": "stderr",
     "output_type": "stream",
     "text": [
      "                                                                                \r"
     ]
    },
    {
     "name": "stdout",
     "output_type": "stream",
     "text": [
      "Epoch: 244 | Epoch Time: 0m 16s\n",
      "\tTrain Loss: 0.0845932 | Train Acc: 98.19%\n",
      "\t Val. Loss: 0.0844539 |  Val. Acc: 98.17%\n"
     ]
    },
    {
     "name": "stderr",
     "output_type": "stream",
     "text": [
      "                                                                                \r"
     ]
    },
    {
     "name": "stdout",
     "output_type": "stream",
     "text": [
      "Epoch: 245 | Epoch Time: 0m 16s\n",
      "\tTrain Loss: 0.0835498 | Train Acc: 98.21%\n",
      "\t Val. Loss: 0.0834099 |  Val. Acc: 98.20%\n"
     ]
    },
    {
     "name": "stderr",
     "output_type": "stream",
     "text": [
      "                                                                                \r"
     ]
    },
    {
     "name": "stdout",
     "output_type": "stream",
     "text": [
      "Epoch: 246 | Epoch Time: 0m 16s\n",
      "\tTrain Loss: 0.0825307 | Train Acc: 98.23%\n",
      "\t Val. Loss: 0.0824054 |  Val. Acc: 98.22%\n"
     ]
    },
    {
     "name": "stderr",
     "output_type": "stream",
     "text": [
      "                                                                                \r"
     ]
    },
    {
     "name": "stdout",
     "output_type": "stream",
     "text": [
      "Epoch: 247 | Epoch Time: 0m 16s\n",
      "\tTrain Loss: 0.0815324 | Train Acc: 98.25%\n",
      "\t Val. Loss: 0.0814039 |  Val. Acc: 98.24%\n"
     ]
    },
    {
     "name": "stderr",
     "output_type": "stream",
     "text": [
      "                                                                                \r"
     ]
    },
    {
     "name": "stdout",
     "output_type": "stream",
     "text": [
      "Epoch: 248 | Epoch Time: 0m 16s\n",
      "\tTrain Loss: 0.0805446 | Train Acc: 98.27%\n",
      "\t Val. Loss: 0.0804417 |  Val. Acc: 98.27%\n"
     ]
    },
    {
     "name": "stderr",
     "output_type": "stream",
     "text": [
      "                                                                                \r"
     ]
    },
    {
     "name": "stdout",
     "output_type": "stream",
     "text": [
      "Epoch: 249 | Epoch Time: 0m 16s\n",
      "\tTrain Loss: 0.0795809 | Train Acc: 98.29%\n",
      "\t Val. Loss: 0.0794862 |  Val. Acc: 98.27%\n"
     ]
    },
    {
     "name": "stderr",
     "output_type": "stream",
     "text": [
      "                                                                                \r"
     ]
    },
    {
     "name": "stdout",
     "output_type": "stream",
     "text": [
      "Epoch: 250 | Epoch Time: 0m 16s\n",
      "\tTrain Loss: 0.0786309 | Train Acc: 98.31%\n",
      "\t Val. Loss: 0.0785319 |  Val. Acc: 98.30%\n"
     ]
    },
    {
     "name": "stderr",
     "output_type": "stream",
     "text": [
      "                                                                                \r"
     ]
    },
    {
     "name": "stdout",
     "output_type": "stream",
     "text": [
      "Epoch: 251 | Epoch Time: 0m 16s\n",
      "\tTrain Loss: 0.0777070 | Train Acc: 98.33%\n",
      "\t Val. Loss: 0.0776154 |  Val. Acc: 98.32%\n"
     ]
    },
    {
     "name": "stderr",
     "output_type": "stream",
     "text": [
      "                                                                                \r"
     ]
    },
    {
     "name": "stdout",
     "output_type": "stream",
     "text": [
      "Epoch: 252 | Epoch Time: 0m 15s\n",
      "\tTrain Loss: 0.0767928 | Train Acc: 98.35%\n",
      "\t Val. Loss: 0.0767266 |  Val. Acc: 98.33%\n"
     ]
    },
    {
     "name": "stderr",
     "output_type": "stream",
     "text": [
      "                                                                                \r"
     ]
    },
    {
     "name": "stdout",
     "output_type": "stream",
     "text": [
      "Epoch: 253 | Epoch Time: 0m 15s\n",
      "\tTrain Loss: 0.0759002 | Train Acc: 98.37%\n",
      "\t Val. Loss: 0.0758454 |  Val. Acc: 98.36%\n"
     ]
    },
    {
     "name": "stderr",
     "output_type": "stream",
     "text": [
      "                                                                                \r"
     ]
    },
    {
     "name": "stdout",
     "output_type": "stream",
     "text": [
      "Epoch: 254 | Epoch Time: 0m 17s\n",
      "\tTrain Loss: 0.0750172 | Train Acc: 98.39%\n",
      "\t Val. Loss: 0.0749631 |  Val. Acc: 98.37%\n"
     ]
    },
    {
     "name": "stderr",
     "output_type": "stream",
     "text": [
      "                                                                                \r"
     ]
    },
    {
     "name": "stdout",
     "output_type": "stream",
     "text": [
      "Epoch: 255 | Epoch Time: 0m 17s\n",
      "\tTrain Loss: 0.0741538 | Train Acc: 98.41%\n",
      "\t Val. Loss: 0.0740984 |  Val. Acc: 98.39%\n"
     ]
    },
    {
     "name": "stderr",
     "output_type": "stream",
     "text": [
      "                                                                                \r"
     ]
    },
    {
     "name": "stdout",
     "output_type": "stream",
     "text": [
      "Epoch: 256 | Epoch Time: 0m 16s\n",
      "\tTrain Loss: 0.0732964 | Train Acc: 98.43%\n",
      "\t Val. Loss: 0.0732478 |  Val. Acc: 98.41%\n"
     ]
    },
    {
     "name": "stderr",
     "output_type": "stream",
     "text": [
      "                                                                                \r"
     ]
    },
    {
     "name": "stdout",
     "output_type": "stream",
     "text": [
      "Epoch: 257 | Epoch Time: 0m 16s\n",
      "\tTrain Loss: 0.0724564 | Train Acc: 98.44%\n",
      "\t Val. Loss: 0.0724275 |  Val. Acc: 98.43%\n"
     ]
    },
    {
     "name": "stderr",
     "output_type": "stream",
     "text": [
      "                                                                                \r"
     ]
    },
    {
     "name": "stdout",
     "output_type": "stream",
     "text": [
      "Epoch: 258 | Epoch Time: 0m 16s\n",
      "\tTrain Loss: 0.0716377 | Train Acc: 98.47%\n",
      "\t Val. Loss: 0.0716373 |  Val. Acc: 98.45%\n"
     ]
    },
    {
     "name": "stderr",
     "output_type": "stream",
     "text": [
      "                                                                                \r"
     ]
    },
    {
     "name": "stdout",
     "output_type": "stream",
     "text": [
      "Epoch: 259 | Epoch Time: 0m 16s\n",
      "\tTrain Loss: 0.0708356 | Train Acc: 98.48%\n",
      "\t Val. Loss: 0.0708221 |  Val. Acc: 98.47%\n"
     ]
    },
    {
     "name": "stderr",
     "output_type": "stream",
     "text": [
      "                                                                                \r"
     ]
    },
    {
     "name": "stdout",
     "output_type": "stream",
     "text": [
      "Epoch: 260 | Epoch Time: 0m 16s\n",
      "\tTrain Loss: 0.0700377 | Train Acc: 98.50%\n",
      "\t Val. Loss: 0.0700432 |  Val. Acc: 98.49%\n"
     ]
    },
    {
     "name": "stderr",
     "output_type": "stream",
     "text": [
      "                                                                                \r"
     ]
    },
    {
     "name": "stdout",
     "output_type": "stream",
     "text": [
      "Epoch: 261 | Epoch Time: 0m 16s\n",
      "\tTrain Loss: 0.0692652 | Train Acc: 98.51%\n",
      "\t Val. Loss: 0.0692632 |  Val. Acc: 98.51%\n"
     ]
    },
    {
     "name": "stderr",
     "output_type": "stream",
     "text": [
      "                                                                                \r"
     ]
    },
    {
     "name": "stdout",
     "output_type": "stream",
     "text": [
      "Epoch: 262 | Epoch Time: 0m 16s\n",
      "\tTrain Loss: 0.0684977 | Train Acc: 98.53%\n",
      "\t Val. Loss: 0.0685212 |  Val. Acc: 98.53%\n"
     ]
    },
    {
     "name": "stderr",
     "output_type": "stream",
     "text": [
      "                                                                                \r"
     ]
    },
    {
     "name": "stdout",
     "output_type": "stream",
     "text": [
      "Epoch: 263 | Epoch Time: 0m 16s\n",
      "\tTrain Loss: 0.0677411 | Train Acc: 98.55%\n",
      "\t Val. Loss: 0.0677599 |  Val. Acc: 98.55%\n"
     ]
    },
    {
     "name": "stderr",
     "output_type": "stream",
     "text": [
      "                                                                                \r"
     ]
    },
    {
     "name": "stdout",
     "output_type": "stream",
     "text": [
      "Epoch: 264 | Epoch Time: 0m 17s\n",
      "\tTrain Loss: 0.0670002 | Train Acc: 98.56%\n",
      "\t Val. Loss: 0.0670169 |  Val. Acc: 98.56%\n"
     ]
    },
    {
     "name": "stderr",
     "output_type": "stream",
     "text": [
      "                                                                                \r"
     ]
    },
    {
     "name": "stdout",
     "output_type": "stream",
     "text": [
      "Epoch: 265 | Epoch Time: 0m 17s\n",
      "\tTrain Loss: 0.0662718 | Train Acc: 98.58%\n",
      "\t Val. Loss: 0.0663043 |  Val. Acc: 98.58%\n"
     ]
    },
    {
     "name": "stderr",
     "output_type": "stream",
     "text": [
      "                                                                                \r"
     ]
    },
    {
     "name": "stdout",
     "output_type": "stream",
     "text": [
      "Epoch: 266 | Epoch Time: 0m 16s\n",
      "\tTrain Loss: 0.0655474 | Train Acc: 98.59%\n",
      "\t Val. Loss: 0.0655969 |  Val. Acc: 98.59%\n"
     ]
    },
    {
     "name": "stderr",
     "output_type": "stream",
     "text": [
      "                                                                                \r"
     ]
    },
    {
     "name": "stdout",
     "output_type": "stream",
     "text": [
      "Epoch: 267 | Epoch Time: 0m 15s\n",
      "\tTrain Loss: 0.0648482 | Train Acc: 98.61%\n",
      "\t Val. Loss: 0.0649106 |  Val. Acc: 98.61%\n"
     ]
    },
    {
     "name": "stderr",
     "output_type": "stream",
     "text": [
      "                                                                                \r"
     ]
    },
    {
     "name": "stdout",
     "output_type": "stream",
     "text": [
      "Epoch: 268 | Epoch Time: 0m 16s\n",
      "\tTrain Loss: 0.0641607 | Train Acc: 98.62%\n",
      "\t Val. Loss: 0.0642121 |  Val. Acc: 98.62%\n"
     ]
    },
    {
     "name": "stderr",
     "output_type": "stream",
     "text": [
      "                                                                                \r"
     ]
    },
    {
     "name": "stdout",
     "output_type": "stream",
     "text": [
      "Epoch: 269 | Epoch Time: 0m 17s\n",
      "\tTrain Loss: 0.0634826 | Train Acc: 98.64%\n",
      "\t Val. Loss: 0.0635486 |  Val. Acc: 98.63%\n"
     ]
    },
    {
     "name": "stderr",
     "output_type": "stream",
     "text": [
      "                                                                                \r"
     ]
    },
    {
     "name": "stdout",
     "output_type": "stream",
     "text": [
      "Epoch: 270 | Epoch Time: 0m 16s\n",
      "\tTrain Loss: 0.0628098 | Train Acc: 98.66%\n",
      "\t Val. Loss: 0.0628978 |  Val. Acc: 98.66%\n"
     ]
    },
    {
     "name": "stderr",
     "output_type": "stream",
     "text": [
      "                                                                                \r"
     ]
    },
    {
     "name": "stdout",
     "output_type": "stream",
     "text": [
      "Epoch: 271 | Epoch Time: 0m 16s\n",
      "\tTrain Loss: 0.0621569 | Train Acc: 98.67%\n",
      "\t Val. Loss: 0.0622371 |  Val. Acc: 98.67%\n"
     ]
    },
    {
     "name": "stderr",
     "output_type": "stream",
     "text": [
      "                                                                                \r"
     ]
    },
    {
     "name": "stdout",
     "output_type": "stream",
     "text": [
      "Epoch: 272 | Epoch Time: 0m 15s\n",
      "\tTrain Loss: 0.0615139 | Train Acc: 98.68%\n",
      "\t Val. Loss: 0.0616080 |  Val. Acc: 98.69%\n"
     ]
    },
    {
     "name": "stderr",
     "output_type": "stream",
     "text": [
      "                                                                                \r"
     ]
    },
    {
     "name": "stdout",
     "output_type": "stream",
     "text": [
      "Epoch: 273 | Epoch Time: 0m 16s\n",
      "\tTrain Loss: 0.0608721 | Train Acc: 98.70%\n",
      "\t Val. Loss: 0.0609831 |  Val. Acc: 98.70%\n"
     ]
    },
    {
     "name": "stderr",
     "output_type": "stream",
     "text": [
      "                                                                                \r"
     ]
    },
    {
     "name": "stdout",
     "output_type": "stream",
     "text": [
      "Epoch: 274 | Epoch Time: 0m 15s\n",
      "\tTrain Loss: 0.0602499 | Train Acc: 98.71%\n",
      "\t Val. Loss: 0.0603613 |  Val. Acc: 98.71%\n"
     ]
    },
    {
     "name": "stderr",
     "output_type": "stream",
     "text": [
      "                                                                                \r"
     ]
    },
    {
     "name": "stdout",
     "output_type": "stream",
     "text": [
      "Epoch: 275 | Epoch Time: 0m 17s\n",
      "\tTrain Loss: 0.0596360 | Train Acc: 98.72%\n",
      "\t Val. Loss: 0.0597657 |  Val. Acc: 98.73%\n"
     ]
    },
    {
     "name": "stderr",
     "output_type": "stream",
     "text": [
      "                                                                                \r"
     ]
    },
    {
     "name": "stdout",
     "output_type": "stream",
     "text": [
      "Epoch: 276 | Epoch Time: 0m 17s\n",
      "\tTrain Loss: 0.0590307 | Train Acc: 98.73%\n",
      "\t Val. Loss: 0.0591605 |  Val. Acc: 98.75%\n"
     ]
    },
    {
     "name": "stderr",
     "output_type": "stream",
     "text": [
      "                                                                                \r"
     ]
    },
    {
     "name": "stdout",
     "output_type": "stream",
     "text": [
      "Epoch: 277 | Epoch Time: 0m 16s\n",
      "\tTrain Loss: 0.0584350 | Train Acc: 98.75%\n",
      "\t Val. Loss: 0.0585766 |  Val. Acc: 98.75%\n"
     ]
    },
    {
     "name": "stderr",
     "output_type": "stream",
     "text": [
      "                                                                                \r"
     ]
    },
    {
     "name": "stdout",
     "output_type": "stream",
     "text": [
      "Epoch: 278 | Epoch Time: 0m 16s\n",
      "\tTrain Loss: 0.0578441 | Train Acc: 98.76%\n",
      "\t Val. Loss: 0.0580104 |  Val. Acc: 98.77%\n"
     ]
    },
    {
     "name": "stderr",
     "output_type": "stream",
     "text": [
      "                                                                                \r"
     ]
    },
    {
     "name": "stdout",
     "output_type": "stream",
     "text": [
      "Epoch: 279 | Epoch Time: 0m 17s\n",
      "\tTrain Loss: 0.0572716 | Train Acc: 98.76%\n",
      "\t Val. Loss: 0.0574356 |  Val. Acc: 98.78%\n"
     ]
    },
    {
     "name": "stderr",
     "output_type": "stream",
     "text": [
      "                                                                                \r"
     ]
    },
    {
     "name": "stdout",
     "output_type": "stream",
     "text": [
      "Epoch: 280 | Epoch Time: 0m 16s\n",
      "\tTrain Loss: 0.0566988 | Train Acc: 98.78%\n",
      "\t Val. Loss: 0.0568635 |  Val. Acc: 98.78%\n"
     ]
    },
    {
     "name": "stderr",
     "output_type": "stream",
     "text": [
      "                                                                                \r"
     ]
    },
    {
     "name": "stdout",
     "output_type": "stream",
     "text": [
      "Epoch: 281 | Epoch Time: 0m 16s\n",
      "\tTrain Loss: 0.0561474 | Train Acc: 98.79%\n",
      "\t Val. Loss: 0.0563272 |  Val. Acc: 98.80%\n"
     ]
    },
    {
     "name": "stderr",
     "output_type": "stream",
     "text": [
      "                                                                                \r"
     ]
    },
    {
     "name": "stdout",
     "output_type": "stream",
     "text": [
      "Epoch: 282 | Epoch Time: 0m 15s\n",
      "\tTrain Loss: 0.0555912 | Train Acc: 98.80%\n",
      "\t Val. Loss: 0.0557755 |  Val. Acc: 98.81%\n"
     ]
    },
    {
     "name": "stderr",
     "output_type": "stream",
     "text": [
      "                                                                                \r"
     ]
    },
    {
     "name": "stdout",
     "output_type": "stream",
     "text": [
      "Epoch: 283 | Epoch Time: 0m 16s\n",
      "\tTrain Loss: 0.0550578 | Train Acc: 98.82%\n",
      "\t Val. Loss: 0.0552471 |  Val. Acc: 98.82%\n"
     ]
    },
    {
     "name": "stderr",
     "output_type": "stream",
     "text": [
      "                                                                                \r"
     ]
    },
    {
     "name": "stdout",
     "output_type": "stream",
     "text": [
      "Epoch: 284 | Epoch Time: 0m 16s\n",
      "\tTrain Loss: 0.0545265 | Train Acc: 98.83%\n",
      "\t Val. Loss: 0.0547163 |  Val. Acc: 98.83%\n"
     ]
    },
    {
     "name": "stderr",
     "output_type": "stream",
     "text": [
      "                                                                                \r"
     ]
    },
    {
     "name": "stdout",
     "output_type": "stream",
     "text": [
      "Epoch: 285 | Epoch Time: 0m 16s\n",
      "\tTrain Loss: 0.0539997 | Train Acc: 98.84%\n",
      "\t Val. Loss: 0.0541958 |  Val. Acc: 98.84%\n"
     ]
    },
    {
     "name": "stderr",
     "output_type": "stream",
     "text": [
      "                                                                                \r"
     ]
    },
    {
     "name": "stdout",
     "output_type": "stream",
     "text": [
      "Epoch: 286 | Epoch Time: 0m 16s\n",
      "\tTrain Loss: 0.0534898 | Train Acc: 98.85%\n",
      "\t Val. Loss: 0.0536971 |  Val. Acc: 98.85%\n"
     ]
    },
    {
     "name": "stderr",
     "output_type": "stream",
     "text": [
      "                                                                                \r"
     ]
    },
    {
     "name": "stdout",
     "output_type": "stream",
     "text": [
      "Epoch: 287 | Epoch Time: 0m 15s\n",
      "\tTrain Loss: 0.0529813 | Train Acc: 98.87%\n",
      "\t Val. Loss: 0.0532055 |  Val. Acc: 98.86%\n"
     ]
    },
    {
     "name": "stderr",
     "output_type": "stream",
     "text": [
      "                                                                                \r"
     ]
    },
    {
     "name": "stdout",
     "output_type": "stream",
     "text": [
      "Epoch: 288 | Epoch Time: 0m 16s\n",
      "\tTrain Loss: 0.0524766 | Train Acc: 98.88%\n",
      "\t Val. Loss: 0.0527060 |  Val. Acc: 98.87%\n"
     ]
    },
    {
     "name": "stderr",
     "output_type": "stream",
     "text": [
      "                                                                                \r"
     ]
    },
    {
     "name": "stdout",
     "output_type": "stream",
     "text": [
      "Epoch: 289 | Epoch Time: 0m 16s\n",
      "\tTrain Loss: 0.0519889 | Train Acc: 98.88%\n",
      "\t Val. Loss: 0.0522227 |  Val. Acc: 98.88%\n"
     ]
    },
    {
     "name": "stderr",
     "output_type": "stream",
     "text": [
      "                                                                                \r"
     ]
    },
    {
     "name": "stdout",
     "output_type": "stream",
     "text": [
      "Epoch: 290 | Epoch Time: 0m 16s\n",
      "\tTrain Loss: 0.0515083 | Train Acc: 98.90%\n",
      "\t Val. Loss: 0.0517529 |  Val. Acc: 98.90%\n"
     ]
    },
    {
     "name": "stderr",
     "output_type": "stream",
     "text": [
      "                                                                                \r"
     ]
    },
    {
     "name": "stdout",
     "output_type": "stream",
     "text": [
      "Epoch: 291 | Epoch Time: 0m 17s\n",
      "\tTrain Loss: 0.0510251 | Train Acc: 98.91%\n",
      "\t Val. Loss: 0.0512833 |  Val. Acc: 98.90%\n"
     ]
    },
    {
     "name": "stderr",
     "output_type": "stream",
     "text": [
      "                                                                                \r"
     ]
    },
    {
     "name": "stdout",
     "output_type": "stream",
     "text": [
      "Epoch: 292 | Epoch Time: 0m 16s\n",
      "\tTrain Loss: 0.0505575 | Train Acc: 98.92%\n",
      "\t Val. Loss: 0.0508109 |  Val. Acc: 98.91%\n"
     ]
    },
    {
     "name": "stderr",
     "output_type": "stream",
     "text": [
      "                                                                                \r"
     ]
    },
    {
     "name": "stdout",
     "output_type": "stream",
     "text": [
      "Epoch: 293 | Epoch Time: 0m 16s\n",
      "\tTrain Loss: 0.0500980 | Train Acc: 98.93%\n",
      "\t Val. Loss: 0.0503540 |  Val. Acc: 98.92%\n"
     ]
    },
    {
     "name": "stderr",
     "output_type": "stream",
     "text": [
      "                                                                                \r"
     ]
    },
    {
     "name": "stdout",
     "output_type": "stream",
     "text": [
      "Epoch: 294 | Epoch Time: 0m 17s\n",
      "\tTrain Loss: 0.0496389 | Train Acc: 98.93%\n",
      "\t Val. Loss: 0.0499108 |  Val. Acc: 98.92%\n"
     ]
    },
    {
     "name": "stderr",
     "output_type": "stream",
     "text": [
      "                                                                                \r"
     ]
    },
    {
     "name": "stdout",
     "output_type": "stream",
     "text": [
      "Epoch: 295 | Epoch Time: 0m 16s\n",
      "\tTrain Loss: 0.0491916 | Train Acc: 98.95%\n",
      "\t Val. Loss: 0.0494676 |  Val. Acc: 98.94%\n"
     ]
    },
    {
     "name": "stderr",
     "output_type": "stream",
     "text": [
      "                                                                                \r"
     ]
    },
    {
     "name": "stdout",
     "output_type": "stream",
     "text": [
      "Epoch: 296 | Epoch Time: 0m 16s\n",
      "\tTrain Loss: 0.0487458 | Train Acc: 98.96%\n",
      "\t Val. Loss: 0.0490216 |  Val. Acc: 98.95%\n"
     ]
    },
    {
     "name": "stderr",
     "output_type": "stream",
     "text": [
      "                                                                                \r"
     ]
    },
    {
     "name": "stdout",
     "output_type": "stream",
     "text": [
      "Epoch: 297 | Epoch Time: 0m 16s\n",
      "\tTrain Loss: 0.0483112 | Train Acc: 98.97%\n",
      "\t Val. Loss: 0.0485997 |  Val. Acc: 98.96%\n"
     ]
    },
    {
     "name": "stderr",
     "output_type": "stream",
     "text": [
      "                                                                                \r"
     ]
    },
    {
     "name": "stdout",
     "output_type": "stream",
     "text": [
      "Epoch: 298 | Epoch Time: 0m 16s\n",
      "\tTrain Loss: 0.0478778 | Train Acc: 98.98%\n",
      "\t Val. Loss: 0.0481788 |  Val. Acc: 98.96%\n"
     ]
    },
    {
     "name": "stderr",
     "output_type": "stream",
     "text": [
      "                                                                                \r"
     ]
    },
    {
     "name": "stdout",
     "output_type": "stream",
     "text": [
      "Epoch: 299 | Epoch Time: 0m 17s\n",
      "\tTrain Loss: 0.0474554 | Train Acc: 98.98%\n",
      "\t Val. Loss: 0.0477565 |  Val. Acc: 98.97%\n"
     ]
    },
    {
     "name": "stderr",
     "output_type": "stream",
     "text": [
      "                                                                                \r"
     ]
    },
    {
     "name": "stdout",
     "output_type": "stream",
     "text": [
      "Epoch: 300 | Epoch Time: 0m 16s\n",
      "\tTrain Loss: 0.0470374 | Train Acc: 98.99%\n",
      "\t Val. Loss: 0.0473404 |  Val. Acc: 98.98%\n",
      "Finished Training\n"
     ]
    }
   ],
   "source": [
    "EPOCHS = 250\n",
    "best_valid_loss = float('inf')\n",
    "list_train_loss = []\n",
    "list_val_loss = []\n",
    "\n",
    "list_train_acc = []\n",
    "list_val_acc = []\n",
    "\n",
    "for epoch in range(EPOCHS):\n",
    "    start_time = time.monotonic()\n",
    "    train_loss, train_acc = train(model, train_loader, optimizer, criterion, device)\n",
    "    valid_loss, valid_acc = evaluate(model, val_loader, criterion, device)\n",
    "    \n",
    "    end_time = time.monotonic()\n",
    "    epoch_mins, epoch_secs = epoch_time(start_time, end_time)\n",
    "\n",
    "    print(f'Epoch: {epoch+1:02} | Epoch Time: {epoch_mins}m {epoch_secs}s')\n",
    "    print(f'\\tTrain Loss: {train_loss:.7f} | Train Acc: {train_acc*100:.2f}%')\n",
    "    print(f'\\t Val. Loss: {valid_loss:.7f} |  Val. Acc: {valid_acc*100:.2f}%')\n",
    "    \n",
    "    list_val_loss.append(valid_loss)\n",
    "    list_train_loss.append(train_loss)\n",
    "    \n",
    "    list_val_acc.append(valid_acc)\n",
    "    list_train_acc.append(train_acc)\n",
    "    \n",
    "    if (epoch %20 == 0 or (epoch > 200 and epoch %5 == 0))and valid_loss < best_valid_loss:\n",
    "        torch.save(model.state_dict(), \"./LinearClassifierFinal/control_animals_expt_mse_e\"+str(epoch)+\"_v\"+str(valid_acc)+\".p\")\n",
    "print('Finished Training')"
   ]
  },
  {
   "cell_type": "code",
   "execution_count": 317,
   "metadata": {},
   "outputs": [
    {
     "name": "stderr",
     "output_type": "stream",
     "text": [
      "No artists with labels found to put in legend.  Note that artists whose label start with an underscore are ignored when legend() is called with no argument.\n"
     ]
    },
    {
     "data": {
      "text/plain": [
       "[<matplotlib.lines.Line2D at 0x7f83fee233d0>]"
      ]
     },
     "execution_count": 317,
     "metadata": {},
     "output_type": "execute_result"
    },
    {
     "data": {
      "image/png": "[encoded data removed]",
      "text/plain": [
       "<Figure size 432x288 with 1 Axes>"
      ]
     },
     "metadata": {
      "needs_background": "light"
     },
     "output_type": "display_data"
    }
   ],
   "source": [
    "# Plot Loss vs Epochs\n",
    "plt.legend(loc='upper left')\n",
    "plt.xlabel('Epochs')\n",
    "plt.ylabel('Loss')\n",
    "\n",
    "plt.plot(range(len(list_train_loss)),list_train_loss,'tab:orange',label='Training Loss')\n",
    "plt.plot(range(len(list_val_loss)), list_val_loss,'tab:blue',label='Validation Loss')"
   ]
  },
  {
   "cell_type": "code",
   "execution_count": 318,
   "metadata": {},
   "outputs": [
    {
     "name": "stderr",
     "output_type": "stream",
     "text": [
      "No artists with labels found to put in legend.  Note that artists whose label start with an underscore are ignored when legend() is called with no argument.\n"
     ]
    },
    {
     "data": {
      "text/plain": [
       "[<matplotlib.lines.Line2D at 0x7f83fedf0c40>]"
      ]
     },
     "execution_count": 318,
     "metadata": {},
     "output_type": "execute_result"
    },
    {
     "data": {
      "image/png": "[encoded data removed]",
      "text/plain": [
       "<Figure size 432x288 with 1 Axes>"
      ]
     },
     "metadata": {
      "needs_background": "light"
     },
     "output_type": "display_data"
    }
   ],
   "source": [
    "# Plot Accuracy vs Epochs\n",
    "plt.legend(loc='upper left')\n",
    "plt.xlabel('Epochs')\n",
    "plt.ylabel('Accuracy')\n",
    "\n",
    "plt.plot(range(len(list_train_acc)),list_train_acc,'tab:orange',label='Training Accuracy')\n",
    "plt.plot(range(len(list_val_acc)),list_val_acc,'tab:blue',label='Validation Accuracy')"
   ]
  },
  {
   "cell_type": "code",
   "execution_count": 45,
   "metadata": {},
   "outputs": [],
   "source": [
    "# Returns Cohort Name and Animal ID\n",
    "def get_video_details(file_name):\n",
    "    # Get cohort name\n",
    "    cohort_name = file_name.split(\"FC-\")[-1][0].lower()\n",
    "    animal_id = file_name.split(\"cam_\")[-1].split(\"-\")[0]\n",
    "    return cohort_name, animal_id"
   ]
  },
  {
   "cell_type": "code",
   "execution_count": 46,
   "metadata": {},
   "outputs": [],
   "source": [
    "frame_data_set = set(frame_data_list)\n",
    "final_training_set = set(final_training_list)"
   ]
  },
  {
   "cell_type": "code",
   "execution_count": 47,
   "metadata": {},
   "outputs": [],
   "source": [
    "#New Random Seed\n",
    "random.seed(1234)\n",
    "testing_sample_number = 1200000\n",
    "test_list = random.sample(list(frame_data_set - final_training_set), testing_sample_number)"
   ]
  },
  {
   "cell_type": "code",
   "execution_count": 51,
   "metadata": {},
   "outputs": [],
   "source": [
    "test_latent_array = []\n",
    "test_label_array = []"
   ]
  },
  {
   "cell_type": "code",
   "execution_count": 49,
   "metadata": {},
   "outputs": [
    {
     "name": "stdout",
     "output_type": "stream",
     "text": [
      "PCA Training Samples split:\n",
      "Preexposure: 405761 \n",
      "Postcond: 227063 \n",
      "Postext: 189788 \n",
      "Postret: 377388\n"
     ]
    }
   ],
   "source": [
    "preexposure = 0\n",
    "postcond = 0\n",
    "postext = 0\n",
    "postret = 0\n",
    "\n",
    "for sample in test_list:\n",
    "    if \"preexposure\" in sample:\n",
    "        preexposure += 1\n",
    "    elif \"postcond\" in sample:\n",
    "        postcond += 1\n",
    "    elif \"postext\" in sample:\n",
    "        postext += 1\n",
    "    elif \"postret\" in sample:\n",
    "        postret += 1\n",
    "\n",
    "print(\"PCA Training Samples split:\\nPreexposure:\", preexposure, \"\\nPostcond:\", postcond, \"\\nPostext:\", postext, \"\\nPostret:\", postret)"
   ]
  },
  {
   "cell_type": "code",
   "execution_count": null,
   "metadata": {},
   "outputs": [
    {
     "name": "stdout",
     "output_type": "stream",
     "text": [
      "Processed 10000 Images..\n"
     ]
    }
   ],
   "source": [
    "image_count = 0\n",
    "\n",
    "for image in test_list[len(test_label_array):]:\n",
    "    image_count += 1\n",
    "    if image_count % 10000 == 0:\n",
    "        print(\"Processed\", image_count, \"Images..\")\n",
    "    name = image\n",
    "    image = cv2.imread(image)\n",
    "    image = cv2.resize(image, (224, 224), interpolation = cv2.INTER_AREA)\n",
    "    tensor_frame = torchvision.transforms.functional.to_tensor(image).unsqueeze(0).cuda()\n",
    "    with torch.no_grad():\n",
    "        latent_representation = ae_model_weighted.module.encoder(tensor_frame)\n",
    "    test_latent_array.append(latent_representation.squeeze().cpu().numpy())\n",
    "    \n",
    "    # Append One Hot encoded Labels\n",
    "    if \"preexposure\" in name:\n",
    "        test_label_array.append([1.0, 0.0, 0.0, 0.0])\n",
    "    elif \"postcond\" in name:\n",
    "        test_label_array.append([0.0, 1.0, 0.0, 0.0])\n",
    "    elif \"postext\" in name:\n",
    "        test_label_array.append([0.0, 0.0, 1.0, 0.0])\n",
    "    elif \"postret\" in name:\n",
    "        test_label_array.append([0.0, 0.0, 0.0, 1.0])\n",
    "    else:\n",
    "        print(\"ERROR: Incorrect Experiment Phase, no label associated.\")\n",
    "        "
   ]
  },
  {
   "cell_type": "code",
   "execution_count": 294,
   "metadata": {},
   "outputs": [
    {
     "data": {
      "text/plain": [
       "1200000"
      ]
     },
     "execution_count": 294,
     "metadata": {},
     "output_type": "execute_result"
    }
   ],
   "source": [
    "len(test_label_array)"
   ]
  },
  {
   "cell_type": "code",
   "execution_count": 319,
   "metadata": {},
   "outputs": [],
   "source": [
    "# Save Test Latents\n",
    "# np.save(\"shuffledTestLatents1_2mil_ae_weighted.npy\", test_latent_array)\n",
    "# np.save(\"shuffledTestLabels1_2mil_ae_weighted.npy\", test_label_array)\n",
    "\n",
    "# Load Test Latents\n",
    "test_latent_array = np.load(\"shuffledTestLatents1_2mil.npy\")\n",
    "test_label_array = np.load(\"shuffledTestLabels1_2mil.npy\")"
   ]
  },
  {
   "cell_type": "code",
   "execution_count": 493,
   "metadata": {},
   "outputs": [],
   "source": [
    "test_latent_array = np.load(\"shuffledTestLatents1_2mil.npy\")\n",
    "test_label_array = np.load(\"shuffledTestLabels1_2mil.npy\")"
   ]
  },
  {
   "cell_type": "code",
   "execution_count": 495,
   "metadata": {},
   "outputs": [
    {
     "name": "stdout",
     "output_type": "stream",
     "text": [
      "Length before appending: 1200000\n",
      "Length after appending: 1361675\n"
     ]
    }
   ],
   "source": [
    "print(\"Length before appending:\", len(test_label_array))\n",
    "pre_testing_labels = [[1.0, 0.0, 0.0, 0.0] for i in range(len(testing_latents))]\n",
    "test_label_array2 = np.concatenate((test_label_array, pre_testing_labels))\n",
    "test_latent_array2 = np.concatenate((test_latent_array, testing_latents))\n",
    "print(\"Length after appending:\", len(test_label_array2))"
   ]
  },
  {
   "cell_type": "code",
   "execution_count": 496,
   "metadata": {},
   "outputs": [],
   "source": [
    "# Testing Dataset\n",
    "batch_size = 512\n",
    "# test_data = list(zip(test_latent_array, test_label_array))\n",
    "\n",
    "# test_data = list(zip(testing_latents, pre_testing_labels))\n",
    "test_data = list(zip(test_latent_array2, test_label_array2))\n",
    "test_dataset = LatentDataset(test_data)\n",
    "test_loader = torch.utils.data.DataLoader(test_dataset, batch_size=batch_size, num_workers = 4, shuffle=True)"
   ]
  },
  {
   "cell_type": "code",
   "execution_count": 497,
   "metadata": {},
   "outputs": [],
   "source": [
    "# Loading pre-trained Model\n",
    "# model.load_state_dict(torch.load(\"LinearClassifierFinal/latent_classifier_e1995_v0.9997875.p\"))"
   ]
  },
  {
   "cell_type": "code",
   "execution_count": 498,
   "metadata": {},
   "outputs": [],
   "source": [
    "def test(model, iterator, criterion, device):\n",
    "\n",
    "    epoch_loss = 0\n",
    "    epoch_acc = 0\n",
    "    \n",
    "    predictions = []\n",
    "    targets = []\n",
    "\n",
    "    model.eval()\n",
    "    with torch.no_grad():\n",
    "        for sample in tqdm(iterator, desc=\"Validating\", leave=False):\n",
    "            latent, label = sample\n",
    "        \n",
    "            latent = latent.to(device)\n",
    "            label = label.squeeze().to(device)\n",
    "            \n",
    "            y_pred = model(latent)\n",
    "\n",
    "            loss = criterion(y_pred, label)\n",
    "            acc = calculate_accuracy(y_pred, label)\n",
    "\n",
    "            epoch_loss += loss.item()\n",
    "            epoch_acc += acc.item()\n",
    "            \n",
    "            targets.append(label)\n",
    "            predictions.append(y_pred)\n",
    "\n",
    "    return epoch_loss / len(iterator), epoch_acc / len(iterator), predictions, targets"
   ]
  },
  {
   "cell_type": "code",
   "execution_count": 499,
   "metadata": {},
   "outputs": [
    {
     "data": {
      "text/plain": [
       "MLP(\n",
       "  (input_fc): Linear(in_features=32, out_features=128, bias=True)\n",
       "  (hidden_fc1): Linear(in_features=128, out_features=64, bias=True)\n",
       "  (hidden_fc2): Linear(in_features=64, out_features=32, bias=True)\n",
       "  (output_fc): Linear(in_features=32, out_features=4, bias=True)\n",
       ")"
      ]
     },
     "execution_count": 499,
     "metadata": {},
     "output_type": "execute_result"
    }
   ],
   "source": [
    "# old_model = model\n",
    "new_model = model\n",
    "new_model.load_state_dict(torch.load(\"LinearClassifierFinal/control_animals_expt_mse_e295_v0.9895146048379565.p\"))\n",
    "new_model.eval()"
   ]
  },
  {
   "cell_type": "code",
   "execution_count": 500,
   "metadata": {},
   "outputs": [
    {
     "name": "stderr",
     "output_type": "stream",
     "text": [
      "                                                                                \r"
     ]
    },
    {
     "name": "stdout",
     "output_type": "stream",
     "text": [
      "Finished Testing in 9.632754767022561 seconds\n"
     ]
    }
   ],
   "source": [
    "# Testing the model\n",
    "start_time = time.monotonic()\n",
    "test_loss, test_acc, predictions, targets = test(new_model, test_loader, criterion, device)\n",
    "\n",
    "end_time = time.monotonic()\n",
    "epoch_mins, epoch_secs = epoch_time(start_time, end_time)\n",
    "\n",
    "# list_test_loss.append(test_loss)\n",
    "# list_test_acc.append(test_acc)\n",
    "        \n",
    "print('Finished Testing in', end_time-start_time, \"seconds\")"
   ]
  },
  {
   "cell_type": "code",
   "execution_count": 501,
   "metadata": {},
   "outputs": [
    {
     "name": "stdout",
     "output_type": "stream",
     "text": [
      "Test Loss: 13.270867398628823  Test Acc: 0.2799679671239136\n"
     ]
    }
   ],
   "source": [
    "print(\"Test Loss:\", test_loss, \" Test Acc:\", test_acc)"
   ]
  },
  {
   "cell_type": "code",
   "execution_count": 449,
   "metadata": {},
   "outputs": [],
   "source": [
    "test_predictions = []\n",
    "test_targets = []\n",
    "\n",
    "for prediction_batch in predictions:\n",
    "    for prediction in prediction_batch:\n",
    "        test_predictions.append(torch.argmax(prediction, dim = 0).cpu().numpy())\n",
    "        \n",
    "for target_batch in targets:\n",
    "    for target in target_batch:\n",
    "        test_targets.append(torch.argmax(target, dim = 0).cpu().numpy())"
   ]
  },
  {
   "cell_type": "code",
   "execution_count": 450,
   "metadata": {},
   "outputs": [],
   "source": [
    "# Array of (Batch, Index) of incorrect predictions\n",
    "# misclassified_indices = []\n",
    "\n",
    "# for batch in range(len(predictions)):\n",
    "#     for index in range(len(predictions[batch])):\n",
    "#         if torch.argmax(predictions[batch][index], dim = 0).cpu().numpy() != torch.argmax(targets[batch][index], dim = 0).cpu().numpy():\n",
    "#             misclassified_indices.append((batch, index))\n",
    "# misclassified_indices[0:10]"
   ]
  },
  {
   "cell_type": "code",
   "execution_count": 451,
   "metadata": {},
   "outputs": [],
   "source": [
    "# for index in misclassified_indices:\n",
    "#     print((index[0], index[1]), \"-> Prediction:\" , torch.argmax(predictions[index[0]][index[1]], dim = 0).cpu().numpy(), \"Label:\", torch.argmax(targets[index[0]][index[1]], dim = 0).cpu().numpy())"
   ]
  },
  {
   "cell_type": "code",
   "execution_count": 452,
   "metadata": {},
   "outputs": [
    {
     "name": "stdout",
     "output_type": "stream",
     "text": [
      "[[117663   1072   8614  34326]\n",
      " [     0      0      0      0]\n",
      " [     0      0      0      0]\n",
      " [     0      0      0      0]]\n"
     ]
    }
   ],
   "source": [
    "from sklearn.metrics import confusion_matrix\n",
    "\n",
    "cf_matrix = confusion_matrix(test_targets, test_predictions)\n",
    "\n",
    "print(cf_matrix)"
   ]
  },
  {
   "cell_type": "code",
   "execution_count": 453,
   "metadata": {},
   "outputs": [
    {
     "data": {
      "image/png": "[encoded data removed]",
      "text/plain": [
       "<Figure size 432x288 with 2 Axes>"
      ]
     },
     "metadata": {
      "needs_background": "light"
     },
     "output_type": "display_data"
    }
   ],
   "source": [
    "import seaborn as sns\n",
    "\n",
    "ax = sns.heatmap(cf_matrix, annot=True, cmap='Blues')\n",
    "\n",
    "ax.set_title('Linear Classifier Trained on Autoencoder Latents\\n\\n');\n",
    "ax.set_xlabel('\\nPredicted Values')\n",
    "ax.set_ylabel('Ground Truth Values\\n');\n",
    "\n",
    "ax.xaxis.set_ticklabels(['Preexposure', 'Postcond', 'Postext', 'Postret'])\n",
    "ax.yaxis.set_ticklabels(['Preexposure', 'Postcond', 'Postext', 'Postret'])\n",
    "\n",
    "plt.show()"
   ]
  },
  {
   "cell_type": "code",
   "execution_count": 65,
   "metadata": {},
   "outputs": [],
   "source": [
    "# TODO List:\n",
    "# Get mapping of Test and Training Sets -> DONE\n",
    "# Create disjoint train and test list -> Frame Level -> DONE\n",
    "# Create disjoint train and test list -> Animal Level (:IMPORTANT: Acc should be low.) \n",
    "# Create disjoint train and test list -> Co-hort Level\n",
    "# Control Animals on U-MAP and Linear Classifier -> DONE\n",
    "# GradCAM -> Gradient across both encoder and classifier ->DONE"
   ]
  },
  {
   "cell_type": "code",
   "execution_count": 454,
   "metadata": {},
   "outputs": [],
   "source": [
    "class FusedModelDataset(torch.utils.data.Dataset):\n",
    "    def __init__(self, frame_list, augmentations = None):\n",
    "        super(FusedModelDataset, self).__init__()\n",
    "        self.frame_list = frame_list\n",
    "        self.augmentations = augmentations\n",
    "    \n",
    "    def __len__(self):\n",
    "        return len(self.frame_list)\n",
    "\n",
    "    def __getitem__(self, idx):\n",
    "        # Load Image using PIL\n",
    "        img = Image.open(self.frame_list[idx])\n",
    "        # Resize to 224x224\n",
    "        img = torchvision.transforms.Resize((224, 224))(img)\n",
    "        # Need to convert to a Tensor, Resize doesn't return a Tensor\n",
    "        img = torchvision.transforms.ToTensor()(img)\n",
    "        label = torch.tensor(get_experiment_phase_from_name(self.frame_list[idx]))\n",
    "        return img, label"
   ]
  },
  {
   "cell_type": "code",
   "execution_count": 461,
   "metadata": {},
   "outputs": [],
   "source": [
    "control_list = list(control_set)"
   ]
  },
  {
   "cell_type": "code",
   "execution_count": 462,
   "metadata": {},
   "outputs": [],
   "source": [
    "batch_size = 512\n",
    "fused_model_test_list = control_list[:1024]\n",
    "fused_model_testing = FusedModelDataset(fused_model_test_list)\n",
    "fused_model_test_loader = torch.utils.data.DataLoader(fused_model_testing, batch_size=batch_size, num_workers = 4, shuffle=True)"
   ]
  },
  {
   "cell_type": "code",
   "execution_count": 463,
   "metadata": {},
   "outputs": [],
   "source": [
    "class MLP2(nn.Module):\n",
    "    def __init__(self, input_dim, output_dim):\n",
    "        super().__init__()\n",
    "\n",
    "        self.input_fc = nn.Linear(input_dim, 128)\n",
    "        self.hidden_fc1 = nn.Linear(128, 64)\n",
    "        self.hidden_fc2 = nn.Linear(64, 32)\n",
    "        self.output_fc = nn.Linear(32, output_dim)\n",
    "\n",
    "    def forward(self, x):\n",
    "        h_1 = F.relu(self.input_fc(x))\n",
    "        h_2 = F.relu(self.hidden_fc1(h_1))\n",
    "        h_3 = F.relu(self.hidden_fc2(h_2))\n",
    "        y_out = self.output_fc(h_3)\n",
    "        y_pred = torch.sigmoid(y_out)\n",
    "\n",
    "        return y_out"
   ]
  },
  {
   "cell_type": "code",
   "execution_count": 464,
   "metadata": {},
   "outputs": [],
   "source": [
    "class FusedEncodingModel(nn.Module):\n",
    "    def __init__(self, autoencoder_model, mlp_model2, autoencoder_model_weights_path, mlp_model_weights_path):\n",
    "        super().__init__()\n",
    "        \n",
    "       \n",
    "            \n",
    "        INPUT_DIM = 32\n",
    "        OUTPUT_DIM = 4\n",
    "\n",
    "#         mlp_model2 = MLP2(INPUT_DIM, OUTPUT_DIM)\n",
    "\n",
    "        self.autoencoder_model = autoencoder_model\n",
    "        self.autoencoder_model.load_state_dict(torch.load(autoencoder_model_weights_path))\n",
    "        \n",
    "        self.encoder = self.autoencoder_model.module.encoder\n",
    "        \n",
    "        self.mlp_model = mlp_model2\n",
    "#         self.mlp_model.load_state_dict(torch.load(mlp_model_weights_path))\n",
    "\n",
    "    def forward(self, x):\n",
    "        latent_representation = self.encoder(x)\n",
    "        class_prediction = self.mlp_model(latent_representation)\n",
    "        \n",
    "        return class_prediction"
   ]
  },
  {
   "cell_type": "code",
   "execution_count": 465,
   "metadata": {},
   "outputs": [
    {
     "data": {
      "text/plain": [
       "FusedEncodingModel(\n",
       "  (autoencoder_model): DataParallel(\n",
       "    (module): newAE(\n",
       "      (encoder): ResNet18Enc(\n",
       "        (ResNet18): ResNet(\n",
       "          (conv1): Conv2d(3, 64, kernel_size=(7, 7), stride=(2, 2), padding=(3, 3), bias=False)\n",
       "          (bn1): BatchNorm2d(64, eps=1e-05, momentum=0.1, affine=True, track_running_stats=True)\n",
       "          (relu): ReLU(inplace=True)\n",
       "          (maxpool): MaxPool2d(kernel_size=3, stride=2, padding=1, dilation=1, ceil_mode=False)\n",
       "          (layer1): Sequential(\n",
       "            (0): BasicBlock(\n",
       "              (conv1): Conv2d(64, 64, kernel_size=(3, 3), stride=(1, 1), padding=(1, 1), bias=False)\n",
       "              (bn1): BatchNorm2d(64, eps=1e-05, momentum=0.1, affine=True, track_running_stats=True)\n",
       "              (relu): ReLU(inplace=True)\n",
       "              (conv2): Conv2d(64, 64, kernel_size=(3, 3), stride=(1, 1), padding=(1, 1), bias=False)\n",
       "              (bn2): BatchNorm2d(64, eps=1e-05, momentum=0.1, affine=True, track_running_stats=True)\n",
       "            )\n",
       "            (1): BasicBlock(\n",
       "              (conv1): Conv2d(64, 64, kernel_size=(3, 3), stride=(1, 1), padding=(1, 1), bias=False)\n",
       "              (bn1): BatchNorm2d(64, eps=1e-05, momentum=0.1, affine=True, track_running_stats=True)\n",
       "              (relu): ReLU(inplace=True)\n",
       "              (conv2): Conv2d(64, 64, kernel_size=(3, 3), stride=(1, 1), padding=(1, 1), bias=False)\n",
       "              (bn2): BatchNorm2d(64, eps=1e-05, momentum=0.1, affine=True, track_running_stats=True)\n",
       "            )\n",
       "          )\n",
       "          (layer2): Sequential(\n",
       "            (0): BasicBlock(\n",
       "              (conv1): Conv2d(64, 128, kernel_size=(3, 3), stride=(2, 2), padding=(1, 1), bias=False)\n",
       "              (bn1): BatchNorm2d(128, eps=1e-05, momentum=0.1, affine=True, track_running_stats=True)\n",
       "              (relu): ReLU(inplace=True)\n",
       "              (conv2): Conv2d(128, 128, kernel_size=(3, 3), stride=(1, 1), padding=(1, 1), bias=False)\n",
       "              (bn2): BatchNorm2d(128, eps=1e-05, momentum=0.1, affine=True, track_running_stats=True)\n",
       "              (downsample): Sequential(\n",
       "                (0): Conv2d(64, 128, kernel_size=(1, 1), stride=(2, 2), bias=False)\n",
       "                (1): BatchNorm2d(128, eps=1e-05, momentum=0.1, affine=True, track_running_stats=True)\n",
       "              )\n",
       "            )\n",
       "            (1): BasicBlock(\n",
       "              (conv1): Conv2d(128, 128, kernel_size=(3, 3), stride=(1, 1), padding=(1, 1), bias=False)\n",
       "              (bn1): BatchNorm2d(128, eps=1e-05, momentum=0.1, affine=True, track_running_stats=True)\n",
       "              (relu): ReLU(inplace=True)\n",
       "              (conv2): Conv2d(128, 128, kernel_size=(3, 3), stride=(1, 1), padding=(1, 1), bias=False)\n",
       "              (bn2): BatchNorm2d(128, eps=1e-05, momentum=0.1, affine=True, track_running_stats=True)\n",
       "            )\n",
       "          )\n",
       "          (layer3): Sequential(\n",
       "            (0): BasicBlock(\n",
       "              (conv1): Conv2d(128, 256, kernel_size=(3, 3), stride=(2, 2), padding=(1, 1), bias=False)\n",
       "              (bn1): BatchNorm2d(256, eps=1e-05, momentum=0.1, affine=True, track_running_stats=True)\n",
       "              (relu): ReLU(inplace=True)\n",
       "              (conv2): Conv2d(256, 256, kernel_size=(3, 3), stride=(1, 1), padding=(1, 1), bias=False)\n",
       "              (bn2): BatchNorm2d(256, eps=1e-05, momentum=0.1, affine=True, track_running_stats=True)\n",
       "              (downsample): Sequential(\n",
       "                (0): Conv2d(128, 256, kernel_size=(1, 1), stride=(2, 2), bias=False)\n",
       "                (1): BatchNorm2d(256, eps=1e-05, momentum=0.1, affine=True, track_running_stats=True)\n",
       "              )\n",
       "            )\n",
       "            (1): BasicBlock(\n",
       "              (conv1): Conv2d(256, 256, kernel_size=(3, 3), stride=(1, 1), padding=(1, 1), bias=False)\n",
       "              (bn1): BatchNorm2d(256, eps=1e-05, momentum=0.1, affine=True, track_running_stats=True)\n",
       "              (relu): ReLU(inplace=True)\n",
       "              (conv2): Conv2d(256, 256, kernel_size=(3, 3), stride=(1, 1), padding=(1, 1), bias=False)\n",
       "              (bn2): BatchNorm2d(256, eps=1e-05, momentum=0.1, affine=True, track_running_stats=True)\n",
       "            )\n",
       "          )\n",
       "          (layer4): Sequential(\n",
       "            (0): BasicBlock(\n",
       "              (conv1): Conv2d(256, 512, kernel_size=(3, 3), stride=(2, 2), padding=(1, 1), bias=False)\n",
       "              (bn1): BatchNorm2d(512, eps=1e-05, momentum=0.1, affine=True, track_running_stats=True)\n",
       "              (relu): ReLU(inplace=True)\n",
       "              (conv2): Conv2d(512, 512, kernel_size=(3, 3), stride=(1, 1), padding=(1, 1), bias=False)\n",
       "              (bn2): BatchNorm2d(512, eps=1e-05, momentum=0.1, affine=True, track_running_stats=True)\n",
       "              (downsample): Sequential(\n",
       "                (0): Conv2d(256, 512, kernel_size=(1, 1), stride=(2, 2), bias=False)\n",
       "                (1): BatchNorm2d(512, eps=1e-05, momentum=0.1, affine=True, track_running_stats=True)\n",
       "              )\n",
       "            )\n",
       "            (1): BasicBlock(\n",
       "              (conv1): Conv2d(512, 512, kernel_size=(3, 3), stride=(1, 1), padding=(1, 1), bias=False)\n",
       "              (bn1): BatchNorm2d(512, eps=1e-05, momentum=0.1, affine=True, track_running_stats=True)\n",
       "              (relu): ReLU(inplace=True)\n",
       "              (conv2): Conv2d(512, 512, kernel_size=(3, 3), stride=(1, 1), padding=(1, 1), bias=False)\n",
       "              (bn2): BatchNorm2d(512, eps=1e-05, momentum=0.1, affine=True, track_running_stats=True)\n",
       "            )\n",
       "          )\n",
       "          (avgpool): AdaptiveAvgPool2d(output_size=(1, 1))\n",
       "          (fc): Linear(in_features=512, out_features=32, bias=True)\n",
       "        )\n",
       "      )\n",
       "      (decoder): ResNet18Dec(\n",
       "        (linear): Linear(in_features=32, out_features=512, bias=True)\n",
       "        (layer4): Sequential(\n",
       "          (0): BasicBlockDec(\n",
       "            (conv2): Conv2d(512, 512, kernel_size=(3, 3), stride=(1, 1), padding=(1, 1), bias=False)\n",
       "            (bn2): BatchNorm2d(512, eps=1e-05, momentum=0.1, affine=True, track_running_stats=True)\n",
       "            (conv1): Conv2d(512, 512, kernel_size=(3, 3), stride=(1, 1), padding=(1, 1), bias=False)\n",
       "            (bn1): BatchNorm2d(512, eps=1e-05, momentum=0.1, affine=True, track_running_stats=True)\n",
       "            (shortcut): Sequential()\n",
       "          )\n",
       "          (1): BasicBlockDec(\n",
       "            (conv2): Conv2d(512, 512, kernel_size=(3, 3), stride=(1, 1), padding=(1, 1), bias=False)\n",
       "            (bn2): BatchNorm2d(512, eps=1e-05, momentum=0.1, affine=True, track_running_stats=True)\n",
       "            (conv1): ResizeConv2d(\n",
       "              (conv): Conv2d(512, 256, kernel_size=(3, 3), stride=(1, 1), padding=(1, 1))\n",
       "            )\n",
       "            (bn1): BatchNorm2d(256, eps=1e-05, momentum=0.1, affine=True, track_running_stats=True)\n",
       "            (shortcut): Sequential(\n",
       "              (0): ResizeConv2d(\n",
       "                (conv): Conv2d(512, 256, kernel_size=(3, 3), stride=(1, 1), padding=(1, 1))\n",
       "              )\n",
       "              (1): BatchNorm2d(256, eps=1e-05, momentum=0.1, affine=True, track_running_stats=True)\n",
       "            )\n",
       "          )\n",
       "        )\n",
       "        (layer3): Sequential(\n",
       "          (0): BasicBlockDec(\n",
       "            (conv2): Conv2d(256, 256, kernel_size=(3, 3), stride=(1, 1), padding=(1, 1), bias=False)\n",
       "            (bn2): BatchNorm2d(256, eps=1e-05, momentum=0.1, affine=True, track_running_stats=True)\n",
       "            (conv1): Conv2d(256, 256, kernel_size=(3, 3), stride=(1, 1), padding=(1, 1), bias=False)\n",
       "            (bn1): BatchNorm2d(256, eps=1e-05, momentum=0.1, affine=True, track_running_stats=True)\n",
       "            (shortcut): Sequential()\n",
       "          )\n",
       "          (1): BasicBlockDec(\n",
       "            (conv2): Conv2d(256, 256, kernel_size=(3, 3), stride=(1, 1), padding=(1, 1), bias=False)\n",
       "            (bn2): BatchNorm2d(256, eps=1e-05, momentum=0.1, affine=True, track_running_stats=True)\n",
       "            (conv1): ResizeConv2d(\n",
       "              (conv): Conv2d(256, 128, kernel_size=(3, 3), stride=(1, 1), padding=(1, 1))\n",
       "            )\n",
       "            (bn1): BatchNorm2d(128, eps=1e-05, momentum=0.1, affine=True, track_running_stats=True)\n",
       "            (shortcut): Sequential(\n",
       "              (0): ResizeConv2d(\n",
       "                (conv): Conv2d(256, 128, kernel_size=(3, 3), stride=(1, 1), padding=(1, 1))\n",
       "              )\n",
       "              (1): BatchNorm2d(128, eps=1e-05, momentum=0.1, affine=True, track_running_stats=True)\n",
       "            )\n",
       "          )\n",
       "        )\n",
       "        (layer2): Sequential(\n",
       "          (0): BasicBlockDec(\n",
       "            (conv2): Conv2d(128, 128, kernel_size=(3, 3), stride=(1, 1), padding=(1, 1), bias=False)\n",
       "            (bn2): BatchNorm2d(128, eps=1e-05, momentum=0.1, affine=True, track_running_stats=True)\n",
       "            (conv1): Conv2d(128, 128, kernel_size=(3, 3), stride=(1, 1), padding=(1, 1), bias=False)\n",
       "            (bn1): BatchNorm2d(128, eps=1e-05, momentum=0.1, affine=True, track_running_stats=True)\n",
       "            (shortcut): Sequential()\n",
       "          )\n",
       "          (1): BasicBlockDec(\n",
       "            (conv2): Conv2d(128, 128, kernel_size=(3, 3), stride=(1, 1), padding=(1, 1), bias=False)\n",
       "            (bn2): BatchNorm2d(128, eps=1e-05, momentum=0.1, affine=True, track_running_stats=True)\n",
       "            (conv1): ResizeConv2d(\n",
       "              (conv): Conv2d(128, 64, kernel_size=(3, 3), stride=(1, 1), padding=(1, 1))\n",
       "            )\n",
       "            (bn1): BatchNorm2d(64, eps=1e-05, momentum=0.1, affine=True, track_running_stats=True)\n",
       "            (shortcut): Sequential(\n",
       "              (0): ResizeConv2d(\n",
       "                (conv): Conv2d(128, 64, kernel_size=(3, 3), stride=(1, 1), padding=(1, 1))\n",
       "              )\n",
       "              (1): BatchNorm2d(64, eps=1e-05, momentum=0.1, affine=True, track_running_stats=True)\n",
       "            )\n",
       "          )\n",
       "        )\n",
       "        (layer1): Sequential(\n",
       "          (0): BasicBlockDec(\n",
       "            (conv2): Conv2d(64, 64, kernel_size=(3, 3), stride=(1, 1), padding=(1, 1), bias=False)\n",
       "            (bn2): BatchNorm2d(64, eps=1e-05, momentum=0.1, affine=True, track_running_stats=True)\n",
       "            (conv1): Conv2d(64, 64, kernel_size=(3, 3), stride=(1, 1), padding=(1, 1), bias=False)\n",
       "            (bn1): BatchNorm2d(64, eps=1e-05, momentum=0.1, affine=True, track_running_stats=True)\n",
       "            (shortcut): Sequential()\n",
       "          )\n",
       "          (1): BasicBlockDec(\n",
       "            (conv2): Conv2d(64, 64, kernel_size=(3, 3), stride=(1, 1), padding=(1, 1), bias=False)\n",
       "            (bn2): BatchNorm2d(64, eps=1e-05, momentum=0.1, affine=True, track_running_stats=True)\n",
       "            (conv1): Conv2d(64, 64, kernel_size=(3, 3), stride=(1, 1), padding=(1, 1), bias=False)\n",
       "            (bn1): BatchNorm2d(64, eps=1e-05, momentum=0.1, affine=True, track_running_stats=True)\n",
       "            (shortcut): Sequential()\n",
       "          )\n",
       "        )\n",
       "        (conv1): ResizeConv2d(\n",
       "          (conv): Conv2d(64, 3, kernel_size=(3, 3), stride=(1, 1), padding=(1, 1))\n",
       "        )\n",
       "      )\n",
       "    )\n",
       "  )\n",
       "  (encoder): ResNet18Enc(\n",
       "    (ResNet18): ResNet(\n",
       "      (conv1): Conv2d(3, 64, kernel_size=(7, 7), stride=(2, 2), padding=(3, 3), bias=False)\n",
       "      (bn1): BatchNorm2d(64, eps=1e-05, momentum=0.1, affine=True, track_running_stats=True)\n",
       "      (relu): ReLU(inplace=True)\n",
       "      (maxpool): MaxPool2d(kernel_size=3, stride=2, padding=1, dilation=1, ceil_mode=False)\n",
       "      (layer1): Sequential(\n",
       "        (0): BasicBlock(\n",
       "          (conv1): Conv2d(64, 64, kernel_size=(3, 3), stride=(1, 1), padding=(1, 1), bias=False)\n",
       "          (bn1): BatchNorm2d(64, eps=1e-05, momentum=0.1, affine=True, track_running_stats=True)\n",
       "          (relu): ReLU(inplace=True)\n",
       "          (conv2): Conv2d(64, 64, kernel_size=(3, 3), stride=(1, 1), padding=(1, 1), bias=False)\n",
       "          (bn2): BatchNorm2d(64, eps=1e-05, momentum=0.1, affine=True, track_running_stats=True)\n",
       "        )\n",
       "        (1): BasicBlock(\n",
       "          (conv1): Conv2d(64, 64, kernel_size=(3, 3), stride=(1, 1), padding=(1, 1), bias=False)\n",
       "          (bn1): BatchNorm2d(64, eps=1e-05, momentum=0.1, affine=True, track_running_stats=True)\n",
       "          (relu): ReLU(inplace=True)\n",
       "          (conv2): Conv2d(64, 64, kernel_size=(3, 3), stride=(1, 1), padding=(1, 1), bias=False)\n",
       "          (bn2): BatchNorm2d(64, eps=1e-05, momentum=0.1, affine=True, track_running_stats=True)\n",
       "        )\n",
       "      )\n",
       "      (layer2): Sequential(\n",
       "        (0): BasicBlock(\n",
       "          (conv1): Conv2d(64, 128, kernel_size=(3, 3), stride=(2, 2), padding=(1, 1), bias=False)\n",
       "          (bn1): BatchNorm2d(128, eps=1e-05, momentum=0.1, affine=True, track_running_stats=True)\n",
       "          (relu): ReLU(inplace=True)\n",
       "          (conv2): Conv2d(128, 128, kernel_size=(3, 3), stride=(1, 1), padding=(1, 1), bias=False)\n",
       "          (bn2): BatchNorm2d(128, eps=1e-05, momentum=0.1, affine=True, track_running_stats=True)\n",
       "          (downsample): Sequential(\n",
       "            (0): Conv2d(64, 128, kernel_size=(1, 1), stride=(2, 2), bias=False)\n",
       "            (1): BatchNorm2d(128, eps=1e-05, momentum=0.1, affine=True, track_running_stats=True)\n",
       "          )\n",
       "        )\n",
       "        (1): BasicBlock(\n",
       "          (conv1): Conv2d(128, 128, kernel_size=(3, 3), stride=(1, 1), padding=(1, 1), bias=False)\n",
       "          (bn1): BatchNorm2d(128, eps=1e-05, momentum=0.1, affine=True, track_running_stats=True)\n",
       "          (relu): ReLU(inplace=True)\n",
       "          (conv2): Conv2d(128, 128, kernel_size=(3, 3), stride=(1, 1), padding=(1, 1), bias=False)\n",
       "          (bn2): BatchNorm2d(128, eps=1e-05, momentum=0.1, affine=True, track_running_stats=True)\n",
       "        )\n",
       "      )\n",
       "      (layer3): Sequential(\n",
       "        (0): BasicBlock(\n",
       "          (conv1): Conv2d(128, 256, kernel_size=(3, 3), stride=(2, 2), padding=(1, 1), bias=False)\n",
       "          (bn1): BatchNorm2d(256, eps=1e-05, momentum=0.1, affine=True, track_running_stats=True)\n",
       "          (relu): ReLU(inplace=True)\n",
       "          (conv2): Conv2d(256, 256, kernel_size=(3, 3), stride=(1, 1), padding=(1, 1), bias=False)\n",
       "          (bn2): BatchNorm2d(256, eps=1e-05, momentum=0.1, affine=True, track_running_stats=True)\n",
       "          (downsample): Sequential(\n",
       "            (0): Conv2d(128, 256, kernel_size=(1, 1), stride=(2, 2), bias=False)\n",
       "            (1): BatchNorm2d(256, eps=1e-05, momentum=0.1, affine=True, track_running_stats=True)\n",
       "          )\n",
       "        )\n",
       "        (1): BasicBlock(\n",
       "          (conv1): Conv2d(256, 256, kernel_size=(3, 3), stride=(1, 1), padding=(1, 1), bias=False)\n",
       "          (bn1): BatchNorm2d(256, eps=1e-05, momentum=0.1, affine=True, track_running_stats=True)\n",
       "          (relu): ReLU(inplace=True)\n",
       "          (conv2): Conv2d(256, 256, kernel_size=(3, 3), stride=(1, 1), padding=(1, 1), bias=False)\n",
       "          (bn2): BatchNorm2d(256, eps=1e-05, momentum=0.1, affine=True, track_running_stats=True)\n",
       "        )\n",
       "      )\n",
       "      (layer4): Sequential(\n",
       "        (0): BasicBlock(\n",
       "          (conv1): Conv2d(256, 512, kernel_size=(3, 3), stride=(2, 2), padding=(1, 1), bias=False)\n",
       "          (bn1): BatchNorm2d(512, eps=1e-05, momentum=0.1, affine=True, track_running_stats=True)\n",
       "          (relu): ReLU(inplace=True)\n",
       "          (conv2): Conv2d(512, 512, kernel_size=(3, 3), stride=(1, 1), padding=(1, 1), bias=False)\n",
       "          (bn2): BatchNorm2d(512, eps=1e-05, momentum=0.1, affine=True, track_running_stats=True)\n",
       "          (downsample): Sequential(\n",
       "            (0): Conv2d(256, 512, kernel_size=(1, 1), stride=(2, 2), bias=False)\n",
       "            (1): BatchNorm2d(512, eps=1e-05, momentum=0.1, affine=True, track_running_stats=True)\n",
       "          )\n",
       "        )\n",
       "        (1): BasicBlock(\n",
       "          (conv1): Conv2d(512, 512, kernel_size=(3, 3), stride=(1, 1), padding=(1, 1), bias=False)\n",
       "          (bn1): BatchNorm2d(512, eps=1e-05, momentum=0.1, affine=True, track_running_stats=True)\n",
       "          (relu): ReLU(inplace=True)\n",
       "          (conv2): Conv2d(512, 512, kernel_size=(3, 3), stride=(1, 1), padding=(1, 1), bias=False)\n",
       "          (bn2): BatchNorm2d(512, eps=1e-05, momentum=0.1, affine=True, track_running_stats=True)\n",
       "        )\n",
       "      )\n",
       "      (avgpool): AdaptiveAvgPool2d(output_size=(1, 1))\n",
       "      (fc): Linear(in_features=512, out_features=32, bias=True)\n",
       "    )\n",
       "  )\n",
       "  (mlp_model): MLP(\n",
       "    (input_fc): Linear(in_features=32, out_features=128, bias=True)\n",
       "    (hidden_fc1): Linear(in_features=128, out_features=64, bias=True)\n",
       "    (hidden_fc2): Linear(in_features=64, out_features=32, bias=True)\n",
       "    (output_fc): Linear(in_features=32, out_features=4, bias=True)\n",
       "  )\n",
       ")"
      ]
     },
     "execution_count": 465,
     "metadata": {},
     "output_type": "execute_result"
    }
   ],
   "source": [
    "fused_model = FusedEncodingModel(ae_model_weighted, model, \"new_architecture_MSE_e2400.p\", \"control_animals_expt_mse_e295_v0.9895146048379565.p\")\n",
    "fused_model = fused_model.to(device)\n",
    "fused_model.eval()"
   ]
  },
  {
   "cell_type": "markdown",
   "metadata": {},
   "source": [
    "### GradCam"
   ]
  },
  {
   "cell_type": "code",
   "execution_count": 466,
   "metadata": {},
   "outputs": [],
   "source": [
    "from pytorch_grad_cam import GradCAM, ScoreCAM, GradCAMPlusPlus, AblationCAM, XGradCAM, EigenCAM, FullGrad\n",
    "from pytorch_grad_cam.utils.model_targets import ClassifierOutputTarget\n",
    "from pytorch_grad_cam.utils.image import show_cam_on_image"
   ]
  },
  {
   "cell_type": "code",
   "execution_count": 492,
   "metadata": {},
   "outputs": [
    {
     "data": {
      "text/plain": [
       "torch.Size([1, 3, 224, 224])"
      ]
     },
     "execution_count": 492,
     "metadata": {},
     "output_type": "execute_result"
    },
    {
     "data": {
      "image/png": "[encoded data removed]",
      "text/plain": [
       "<Figure size 720x720 with 1 Axes>"
      ]
     },
     "metadata": {
      "needs_background": "light"
     },
     "output_type": "display_data"
    }
   ],
   "source": [
    "target_layers = [fused_model.encoder.ResNet18.layer3[-1]]\n",
    "test_image = control_list[1007]\n",
    "test_image = cv2.imread(test_image)\n",
    "test_image = cv2.resize(test_image, (224, 224))\n",
    "plt.figure(figsize=(10,10))\n",
    "plt.imshow(test_image)\n",
    "input_tensor = torchvision.transforms.functional.to_tensor(test_image/255.).unsqueeze(0).float()\n",
    "input_tensor.shape"
   ]
  },
  {
   "cell_type": "code",
   "execution_count": 470,
   "metadata": {},
   "outputs": [],
   "source": [
    "cam = GradCAM(model=fused_model, target_layers=target_layers, use_cuda=True)"
   ]
  },
  {
   "cell_type": "code",
   "execution_count": 471,
   "metadata": {},
   "outputs": [],
   "source": [
    "def show_gradcam_for_image(file_name):\n",
    "    test_image = cv2.imread(file_name)\n",
    "    test_image = cv2.resize(test_image, (224, 224))\n",
    "    input_tensor = torchvision.transforms.functional.to_tensor(test_image/255.).unsqueeze(0).float()\n",
    "    \n",
    "    grayscale_cam = cam(input_tensor=input_tensor)\n",
    "    grayscale_cam = grayscale_cam[0, :]\n",
    "    visualization = show_cam_on_image(test_image/255., grayscale_cam, use_rgb=True)\n",
    "    plt.figure(figsize=(10,10))\n",
    "    plt.xticks([])\n",
    "    plt.yticks([])\n",
    "    plt.imshow(visualization)"
   ]
  },
  {
   "cell_type": "code",
   "execution_count": 491,
   "metadata": {},
   "outputs": [
    {
     "data": {
      "image/png": "[encoded data removed]",
      "text/plain": [
       "<Figure size 720x720 with 1 Axes>"
      ]
     },
     "metadata": {},
     "output_type": "display_data"
    }
   ],
   "source": [
    "show_gradcam_for_image(control_list[1007])"
   ]
  },
  {
   "cell_type": "code",
   "execution_count": null,
   "metadata": {},
   "outputs": [],
   "source": []
  }
 ],
 "metadata": {
  "kernelspec": {
   "display_name": "pythorch",
   "language": "python",
   "name": "pythorch"
  },
  "language_info": {
   "codemirror_mode": {
    "name": "ipython",
    "version": 3
   },
   "file_extension": ".py",
   "mimetype": "text/x-python",
   "name": "python",
   "nbconvert_exporter": "python",
   "pygments_lexer": "ipython3",
   "version": "3.9.10"
  }
 },
 "nbformat": 4,
 "nbformat_minor": 4
}
