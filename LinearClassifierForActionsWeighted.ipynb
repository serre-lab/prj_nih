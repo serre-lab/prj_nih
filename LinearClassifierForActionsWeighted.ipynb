{
 "cells": [
  {
   "cell_type": "code",
   "execution_count": 2,
   "metadata": {},
   "outputs": [
    {
     "name": "stderr",
     "output_type": "stream",
     "text": [
      "/home/anagara8/.conda/envs/pytorch/lib/python3.9/site-packages/tqdm/auto.py:22: TqdmWarning: IProgress not found. Please update jupyter and ipywidgets. See https://ipywidgets.readthedocs.io/en/stable/user_install.html\n",
      "  from .autonotebook import tqdm as notebook_tqdm\n"
     ]
    }
   ],
   "source": [
    "from datetime import timedelta\n",
    "import torch\n",
    "from torch.autograd import Variable\n",
    "import torchvision\n",
    "import torch.nn as nn\n",
    "import torch.nn.functional as F\n",
    "from torchvision import datasets, models,transforms\n",
    "import torch.optim as optim\n",
    "from torch.optim import lr_scheduler\n",
    "from torch.utils.data import TensorDataset, DataLoader,random_split\n",
    "from __future__ import print_function\n",
    "import numpy as np \n",
    "import pandas as pd\n",
    "import os\n",
    "import time\n",
    "import random\n",
    "import matplotlib.pyplot as plt \n",
    "from torch.autograd import Function\n",
    "from collections import OrderedDict\n",
    "import torch.nn as nn\n",
    "import math\n",
    "import torchvision.models as models\n",
    "import pickle\n",
    "from tqdm.auto import tqdm\n",
    "import cv2\n",
    "import wandb\n",
    "from sklearn.model_selection import KFold\n",
    "# from torchsummary import summary\n",
    "import glob\n",
    "from sklearn.manifold import TSNE\n",
    "import seaborn as sns\n",
    "import collections\n",
    "from PIL import Image\n",
    "from sklearn.preprocessing import StandardScaler\n",
    "from sklearn.decomposition import PCA\n",
    "import umap\n",
    "import umap.umap_ as UMAP\n",
    "import pims"
   ]
  },
  {
   "cell_type": "code",
   "execution_count": 3,
   "metadata": {},
   "outputs": [],
   "source": [
    "class ResizeConv2d(nn.Module):\n",
    "\n",
    "    def __init__(self, in_channels, out_channels, kernel_size, scale_factor, mode='nearest'):\n",
    "        super().__init__()\n",
    "        self.scale_factor = scale_factor\n",
    "        self.mode = mode\n",
    "        self.conv = nn.Conv2d(in_channels, out_channels, kernel_size, stride=1, padding=1)\n",
    "\n",
    "    def forward(self, x):\n",
    "        x = F.interpolate(x, scale_factor=self.scale_factor, mode=self.mode)\n",
    "        x = self.conv(x)\n",
    "        return x\n",
    "\n",
    "class BasicBlockEnc(nn.Module):\n",
    "\n",
    "    def __init__(self, in_planes, stride=1):\n",
    "        super().__init__()\n",
    "\n",
    "        planes = in_planes*stride\n",
    "\n",
    "        self.conv1 = nn.Conv2d(in_planes, planes, kernel_size=3, stride=stride, padding=1, bias=False)\n",
    "        self.bn1 = nn.BatchNorm2d(planes)\n",
    "        self.conv2 = nn.Conv2d(planes, planes, kernel_size=3, stride=1, padding=1, bias=False)\n",
    "        self.bn2 = nn.BatchNorm2d(planes)\n",
    "\n",
    "        if stride == 1:\n",
    "            self.shortcut = nn.Sequential()\n",
    "        else:\n",
    "            self.shortcut = nn.Sequential(\n",
    "                nn.Conv2d(in_planes, planes, kernel_size=1, stride=stride, bias=False),\n",
    "                nn.BatchNorm2d(planes)\n",
    "            )\n",
    "\n",
    "    def forward(self, x):\n",
    "        out = torch.relu(self.bn1(self.conv1(x)))\n",
    "        out = self.bn2(self.conv2(out))\n",
    "        out += self.shortcut(x)\n",
    "        out = torch.relu(out)\n",
    "        return out\n",
    "\n",
    "class BasicBlockDec(nn.Module):\n",
    "\n",
    "    def __init__(self, in_planes, stride=1):\n",
    "        super().__init__()\n",
    "\n",
    "        planes = int(in_planes/stride)\n",
    "\n",
    "        self.conv2 = nn.Conv2d(in_planes, in_planes, kernel_size=3, stride=1, padding=1, bias=False)\n",
    "        self.bn2 = nn.BatchNorm2d(in_planes)\n",
    "        # self.bn1 could have been placed here, but that messes up the order of the layers when printing the class\n",
    "\n",
    "        if stride == 1:\n",
    "            self.conv1 = nn.Conv2d(in_planes, planes, kernel_size=3, stride=1, padding=1, bias=False)\n",
    "            self.bn1 = nn.BatchNorm2d(planes)\n",
    "            self.shortcut = nn.Sequential()\n",
    "        else:\n",
    "            self.conv1 = ResizeConv2d(in_planes, planes, kernel_size=3, scale_factor=stride)\n",
    "            self.bn1 = nn.BatchNorm2d(planes)\n",
    "            self.shortcut = nn.Sequential(\n",
    "                ResizeConv2d(in_planes, planes, kernel_size=3, scale_factor=stride),\n",
    "                nn.BatchNorm2d(planes)\n",
    "            )\n",
    "\n",
    "    def forward(self, x):\n",
    "        out = torch.relu(self.bn2(self.conv2(x)))\n",
    "        out = self.bn1(self.conv1(out))\n",
    "        out += self.shortcut(x)\n",
    "        out = torch.relu(out)\n",
    "        return out\n",
    "\n",
    "class ResNet18Enc(nn.Module):\n",
    "    def __init__(self, z_dim=32):\n",
    "        super(ResNet18Enc, self).__init__()\n",
    "        self.z_dim = z_dim\n",
    "        self.ResNet18 = models.resnet18(pretrained=True)\n",
    "        self.num_feature = self.ResNet18.fc.in_features\n",
    "        self.ResNet18.fc = nn.Linear(self.num_feature, 1*self.z_dim)\n",
    "        \n",
    "    def forward(self, x):\n",
    "        x = self.ResNet18(x)\n",
    "        return x\n",
    "\n",
    "class ResNet18Dec(nn.Module):\n",
    "\n",
    "    def __init__(self, num_Blocks=[2,2,2,2], z_dim=32, nc=3):\n",
    "        super().__init__()\n",
    "        self.in_planes = 512\n",
    "\n",
    "        self.linear = nn.Linear(z_dim, 512)\n",
    "\n",
    "        self.layer4 = self._make_layer(BasicBlockDec, 256, num_Blocks[3], stride=2)\n",
    "        self.layer3 = self._make_layer(BasicBlockDec, 128, num_Blocks[2], stride=2)\n",
    "        self.layer2 = self._make_layer(BasicBlockDec, 64, num_Blocks[1], stride=2)\n",
    "        self.layer1 = self._make_layer(BasicBlockDec, 64, num_Blocks[0], stride=1)\n",
    "        self.conv1 = ResizeConv2d(64, nc, kernel_size=3, scale_factor=2)\n",
    "\n",
    "    def _make_layer(self, BasicBlockDec, planes, num_Blocks, stride):\n",
    "        strides = [stride] + [1]*(num_Blocks-1)\n",
    "        layers = []\n",
    "        for stride in reversed(strides):\n",
    "            layers += [BasicBlockDec(self.in_planes, stride)]\n",
    "        self.in_planes = planes\n",
    "        return nn.Sequential(*layers)\n",
    "\n",
    "    def forward(self, z):\n",
    "        x = self.linear(z)\n",
    "        x = x.view(z.size(0), 512, 1, 1)\n",
    "        x = F.interpolate(x, scale_factor=7)\n",
    "        x = self.layer4(x)\n",
    "        x = self.layer3(x)\n",
    "        x = self.layer2(x)\n",
    "        x = self.layer1(x)\n",
    "        x = F.interpolate(x, size=(112,112), mode='bilinear')\n",
    "        x = torch.sigmoid(self.conv1(x))\n",
    "        # [x, channels, height, width]\n",
    "        x = x.view(x.size(0), 3, 224, 224)\n",
    "        return x\n",
    "\n",
    "class newAE(nn.Module):\n",
    "\n",
    "    def __init__(self, z_dim):\n",
    "        super(newAE, self).__init__()\n",
    "        self.encoder = ResNet18Enc(z_dim=z_dim)\n",
    "        self.decoder = ResNet18Dec(z_dim=z_dim)\n",
    "\n",
    "    def forward(self, x):\n",
    "        z = self.encoder(x)\n",
    "#         mean, logvar = self.encoder(x)\n",
    "#         z = self.reparameterize(mean, logvar)\n",
    "        x = self.decoder(z)\n",
    "        return x\n",
    "\n",
    "    @staticmethod\n",
    "    def reparameterize(mean, logvar):\n",
    "        std = torch.exp(logvar / 2) # in log-space, squareroot is divide by two\n",
    "        epsilon = torch.randn_like(std)\n",
    "        return epsilon * std + mean"
   ]
  },
  {
   "cell_type": "code",
   "execution_count": 4,
   "metadata": {},
   "outputs": [
    {
     "name": "stderr",
     "output_type": "stream",
     "text": [
      "/home/anagara8/.conda/envs/pytorch/lib/python3.9/site-packages/torch/cuda/__init__.py:80: UserWarning: CUDA initialization: CUDA unknown error - this may be due to an incorrectly set up environment, e.g. changing env variable CUDA_VISIBLE_DEVICES after program start. Setting the available devices to be zero. (Triggered internally at  /opt/conda/conda-bld/pytorch_1639180487213/work/c10/cuda/CUDAFunctions.cpp:112.)\n",
      "  return torch._C._cuda_getDeviceCount() > 0\n"
     ]
    },
    {
     "ename": "RuntimeError",
     "evalue": "CUDA unknown error - this may be due to an incorrectly set up environment, e.g. changing env variable CUDA_VISIBLE_DEVICES after program start. Setting the available devices to be zero.",
     "output_type": "error",
     "traceback": [
      "\u001b[0;31m---------------------------------------------------------------------------\u001b[0m",
      "\u001b[0;31mRuntimeError\u001b[0m                              Traceback (most recent call last)",
      "Input \u001b[0;32mIn [4]\u001b[0m, in \u001b[0;36m<cell line: 3>\u001b[0;34m()\u001b[0m\n\u001b[1;32m      1\u001b[0m ae_model_weighted \u001b[38;5;241m=\u001b[39m newAE(\u001b[38;5;241m32\u001b[39m)\n\u001b[1;32m      2\u001b[0m ae_model_weighted \u001b[38;5;241m=\u001b[39m nn\u001b[38;5;241m.\u001b[39mDataParallel(ae_model_weighted)\n\u001b[0;32m----> 3\u001b[0m ae_model_weighted \u001b[38;5;241m=\u001b[39m \u001b[43mae_model_weighted\u001b[49m\u001b[38;5;241;43m.\u001b[39;49m\u001b[43mcuda\u001b[49m\u001b[43m(\u001b[49m\u001b[43m)\u001b[49m\n\u001b[1;32m      4\u001b[0m ae_model_weighted\u001b[38;5;241m.\u001b[39mload_state_dict(torch\u001b[38;5;241m.\u001b[39mload(\u001b[38;5;124m\"\u001b[39m\u001b[38;5;124mnew_architecture_weighted_loss_e490.p\u001b[39m\u001b[38;5;124m\"\u001b[39m))\n\u001b[1;32m      5\u001b[0m ae_model_weighted\u001b[38;5;241m.\u001b[39meval()\n",
      "File \u001b[0;32m~/.conda/envs/pytorch/lib/python3.9/site-packages/torch/nn/modules/module.py:680\u001b[0m, in \u001b[0;36mModule.cuda\u001b[0;34m(self, device)\u001b[0m\n\u001b[1;32m    663\u001b[0m \u001b[38;5;28;01mdef\u001b[39;00m \u001b[38;5;21mcuda\u001b[39m(\u001b[38;5;28mself\u001b[39m: T, device: Optional[Union[\u001b[38;5;28mint\u001b[39m, device]] \u001b[38;5;241m=\u001b[39m \u001b[38;5;28;01mNone\u001b[39;00m) \u001b[38;5;241m-\u001b[39m\u001b[38;5;241m>\u001b[39m T:\n\u001b[1;32m    664\u001b[0m     \u001b[38;5;124mr\u001b[39m\u001b[38;5;124;03m\"\"\"Moves all model parameters and buffers to the GPU.\u001b[39;00m\n\u001b[1;32m    665\u001b[0m \n\u001b[1;32m    666\u001b[0m \u001b[38;5;124;03m    This also makes associated parameters and buffers different objects. So\u001b[39;00m\n\u001b[0;32m   (...)\u001b[0m\n\u001b[1;32m    678\u001b[0m \u001b[38;5;124;03m        Module: self\u001b[39;00m\n\u001b[1;32m    679\u001b[0m \u001b[38;5;124;03m    \"\"\"\u001b[39;00m\n\u001b[0;32m--> 680\u001b[0m     \u001b[38;5;28;01mreturn\u001b[39;00m \u001b[38;5;28;43mself\u001b[39;49m\u001b[38;5;241;43m.\u001b[39;49m\u001b[43m_apply\u001b[49m\u001b[43m(\u001b[49m\u001b[38;5;28;43;01mlambda\u001b[39;49;00m\u001b[43m \u001b[49m\u001b[43mt\u001b[49m\u001b[43m:\u001b[49m\u001b[43m \u001b[49m\u001b[43mt\u001b[49m\u001b[38;5;241;43m.\u001b[39;49m\u001b[43mcuda\u001b[49m\u001b[43m(\u001b[49m\u001b[43mdevice\u001b[49m\u001b[43m)\u001b[49m\u001b[43m)\u001b[49m\n",
      "File \u001b[0;32m~/.conda/envs/pytorch/lib/python3.9/site-packages/torch/nn/modules/module.py:570\u001b[0m, in \u001b[0;36mModule._apply\u001b[0;34m(self, fn)\u001b[0m\n\u001b[1;32m    568\u001b[0m \u001b[38;5;28;01mdef\u001b[39;00m \u001b[38;5;21m_apply\u001b[39m(\u001b[38;5;28mself\u001b[39m, fn):\n\u001b[1;32m    569\u001b[0m     \u001b[38;5;28;01mfor\u001b[39;00m module \u001b[38;5;129;01min\u001b[39;00m \u001b[38;5;28mself\u001b[39m\u001b[38;5;241m.\u001b[39mchildren():\n\u001b[0;32m--> 570\u001b[0m         \u001b[43mmodule\u001b[49m\u001b[38;5;241;43m.\u001b[39;49m\u001b[43m_apply\u001b[49m\u001b[43m(\u001b[49m\u001b[43mfn\u001b[49m\u001b[43m)\u001b[49m\n\u001b[1;32m    572\u001b[0m     \u001b[38;5;28;01mdef\u001b[39;00m \u001b[38;5;21mcompute_should_use_set_data\u001b[39m(tensor, tensor_applied):\n\u001b[1;32m    573\u001b[0m         \u001b[38;5;28;01mif\u001b[39;00m torch\u001b[38;5;241m.\u001b[39m_has_compatible_shallow_copy_type(tensor, tensor_applied):\n\u001b[1;32m    574\u001b[0m             \u001b[38;5;66;03m# If the new tensor has compatible tensor type as the existing tensor,\u001b[39;00m\n\u001b[1;32m    575\u001b[0m             \u001b[38;5;66;03m# the current behavior is to change the tensor in-place using `.data =`,\u001b[39;00m\n\u001b[0;32m   (...)\u001b[0m\n\u001b[1;32m    580\u001b[0m             \u001b[38;5;66;03m# global flag to let the user control whether they want the future\u001b[39;00m\n\u001b[1;32m    581\u001b[0m             \u001b[38;5;66;03m# behavior of overwriting the existing tensor or not.\u001b[39;00m\n",
      "File \u001b[0;32m~/.conda/envs/pytorch/lib/python3.9/site-packages/torch/nn/modules/module.py:570\u001b[0m, in \u001b[0;36mModule._apply\u001b[0;34m(self, fn)\u001b[0m\n\u001b[1;32m    568\u001b[0m \u001b[38;5;28;01mdef\u001b[39;00m \u001b[38;5;21m_apply\u001b[39m(\u001b[38;5;28mself\u001b[39m, fn):\n\u001b[1;32m    569\u001b[0m     \u001b[38;5;28;01mfor\u001b[39;00m module \u001b[38;5;129;01min\u001b[39;00m \u001b[38;5;28mself\u001b[39m\u001b[38;5;241m.\u001b[39mchildren():\n\u001b[0;32m--> 570\u001b[0m         \u001b[43mmodule\u001b[49m\u001b[38;5;241;43m.\u001b[39;49m\u001b[43m_apply\u001b[49m\u001b[43m(\u001b[49m\u001b[43mfn\u001b[49m\u001b[43m)\u001b[49m\n\u001b[1;32m    572\u001b[0m     \u001b[38;5;28;01mdef\u001b[39;00m \u001b[38;5;21mcompute_should_use_set_data\u001b[39m(tensor, tensor_applied):\n\u001b[1;32m    573\u001b[0m         \u001b[38;5;28;01mif\u001b[39;00m torch\u001b[38;5;241m.\u001b[39m_has_compatible_shallow_copy_type(tensor, tensor_applied):\n\u001b[1;32m    574\u001b[0m             \u001b[38;5;66;03m# If the new tensor has compatible tensor type as the existing tensor,\u001b[39;00m\n\u001b[1;32m    575\u001b[0m             \u001b[38;5;66;03m# the current behavior is to change the tensor in-place using `.data =`,\u001b[39;00m\n\u001b[0;32m   (...)\u001b[0m\n\u001b[1;32m    580\u001b[0m             \u001b[38;5;66;03m# global flag to let the user control whether they want the future\u001b[39;00m\n\u001b[1;32m    581\u001b[0m             \u001b[38;5;66;03m# behavior of overwriting the existing tensor or not.\u001b[39;00m\n",
      "    \u001b[0;31m[... skipping similar frames: Module._apply at line 570 (1 times)]\u001b[0m\n",
      "File \u001b[0;32m~/.conda/envs/pytorch/lib/python3.9/site-packages/torch/nn/modules/module.py:570\u001b[0m, in \u001b[0;36mModule._apply\u001b[0;34m(self, fn)\u001b[0m\n\u001b[1;32m    568\u001b[0m \u001b[38;5;28;01mdef\u001b[39;00m \u001b[38;5;21m_apply\u001b[39m(\u001b[38;5;28mself\u001b[39m, fn):\n\u001b[1;32m    569\u001b[0m     \u001b[38;5;28;01mfor\u001b[39;00m module \u001b[38;5;129;01min\u001b[39;00m \u001b[38;5;28mself\u001b[39m\u001b[38;5;241m.\u001b[39mchildren():\n\u001b[0;32m--> 570\u001b[0m         \u001b[43mmodule\u001b[49m\u001b[38;5;241;43m.\u001b[39;49m\u001b[43m_apply\u001b[49m\u001b[43m(\u001b[49m\u001b[43mfn\u001b[49m\u001b[43m)\u001b[49m\n\u001b[1;32m    572\u001b[0m     \u001b[38;5;28;01mdef\u001b[39;00m \u001b[38;5;21mcompute_should_use_set_data\u001b[39m(tensor, tensor_applied):\n\u001b[1;32m    573\u001b[0m         \u001b[38;5;28;01mif\u001b[39;00m torch\u001b[38;5;241m.\u001b[39m_has_compatible_shallow_copy_type(tensor, tensor_applied):\n\u001b[1;32m    574\u001b[0m             \u001b[38;5;66;03m# If the new tensor has compatible tensor type as the existing tensor,\u001b[39;00m\n\u001b[1;32m    575\u001b[0m             \u001b[38;5;66;03m# the current behavior is to change the tensor in-place using `.data =`,\u001b[39;00m\n\u001b[0;32m   (...)\u001b[0m\n\u001b[1;32m    580\u001b[0m             \u001b[38;5;66;03m# global flag to let the user control whether they want the future\u001b[39;00m\n\u001b[1;32m    581\u001b[0m             \u001b[38;5;66;03m# behavior of overwriting the existing tensor or not.\u001b[39;00m\n",
      "File \u001b[0;32m~/.conda/envs/pytorch/lib/python3.9/site-packages/torch/nn/modules/module.py:593\u001b[0m, in \u001b[0;36mModule._apply\u001b[0;34m(self, fn)\u001b[0m\n\u001b[1;32m    589\u001b[0m \u001b[38;5;66;03m# Tensors stored in modules are graph leaves, and we don't want to\u001b[39;00m\n\u001b[1;32m    590\u001b[0m \u001b[38;5;66;03m# track autograd history of `param_applied`, so we have to use\u001b[39;00m\n\u001b[1;32m    591\u001b[0m \u001b[38;5;66;03m# `with torch.no_grad():`\u001b[39;00m\n\u001b[1;32m    592\u001b[0m \u001b[38;5;28;01mwith\u001b[39;00m torch\u001b[38;5;241m.\u001b[39mno_grad():\n\u001b[0;32m--> 593\u001b[0m     param_applied \u001b[38;5;241m=\u001b[39m \u001b[43mfn\u001b[49m\u001b[43m(\u001b[49m\u001b[43mparam\u001b[49m\u001b[43m)\u001b[49m\n\u001b[1;32m    594\u001b[0m should_use_set_data \u001b[38;5;241m=\u001b[39m compute_should_use_set_data(param, param_applied)\n\u001b[1;32m    595\u001b[0m \u001b[38;5;28;01mif\u001b[39;00m should_use_set_data:\n",
      "File \u001b[0;32m~/.conda/envs/pytorch/lib/python3.9/site-packages/torch/nn/modules/module.py:680\u001b[0m, in \u001b[0;36mModule.cuda.<locals>.<lambda>\u001b[0;34m(t)\u001b[0m\n\u001b[1;32m    663\u001b[0m \u001b[38;5;28;01mdef\u001b[39;00m \u001b[38;5;21mcuda\u001b[39m(\u001b[38;5;28mself\u001b[39m: T, device: Optional[Union[\u001b[38;5;28mint\u001b[39m, device]] \u001b[38;5;241m=\u001b[39m \u001b[38;5;28;01mNone\u001b[39;00m) \u001b[38;5;241m-\u001b[39m\u001b[38;5;241m>\u001b[39m T:\n\u001b[1;32m    664\u001b[0m     \u001b[38;5;124mr\u001b[39m\u001b[38;5;124;03m\"\"\"Moves all model parameters and buffers to the GPU.\u001b[39;00m\n\u001b[1;32m    665\u001b[0m \n\u001b[1;32m    666\u001b[0m \u001b[38;5;124;03m    This also makes associated parameters and buffers different objects. So\u001b[39;00m\n\u001b[0;32m   (...)\u001b[0m\n\u001b[1;32m    678\u001b[0m \u001b[38;5;124;03m        Module: self\u001b[39;00m\n\u001b[1;32m    679\u001b[0m \u001b[38;5;124;03m    \"\"\"\u001b[39;00m\n\u001b[0;32m--> 680\u001b[0m     \u001b[38;5;28;01mreturn\u001b[39;00m \u001b[38;5;28mself\u001b[39m\u001b[38;5;241m.\u001b[39m_apply(\u001b[38;5;28;01mlambda\u001b[39;00m t: \u001b[43mt\u001b[49m\u001b[38;5;241;43m.\u001b[39;49m\u001b[43mcuda\u001b[49m\u001b[43m(\u001b[49m\u001b[43mdevice\u001b[49m\u001b[43m)\u001b[49m)\n",
      "File \u001b[0;32m~/.conda/envs/pytorch/lib/python3.9/site-packages/torch/cuda/__init__.py:214\u001b[0m, in \u001b[0;36m_lazy_init\u001b[0;34m()\u001b[0m\n\u001b[1;32m    210\u001b[0m     \u001b[38;5;28;01mraise\u001b[39;00m \u001b[38;5;167;01mAssertionError\u001b[39;00m(\n\u001b[1;32m    211\u001b[0m         \u001b[38;5;124m\"\u001b[39m\u001b[38;5;124mlibcudart functions unavailable. It looks like you have a broken build?\u001b[39m\u001b[38;5;124m\"\u001b[39m)\n\u001b[1;32m    212\u001b[0m \u001b[38;5;66;03m# This function throws if there's a driver initialization error, no GPUs\u001b[39;00m\n\u001b[1;32m    213\u001b[0m \u001b[38;5;66;03m# are found or any other error occurs\u001b[39;00m\n\u001b[0;32m--> 214\u001b[0m \u001b[43mtorch\u001b[49m\u001b[38;5;241;43m.\u001b[39;49m\u001b[43m_C\u001b[49m\u001b[38;5;241;43m.\u001b[39;49m\u001b[43m_cuda_init\u001b[49m\u001b[43m(\u001b[49m\u001b[43m)\u001b[49m\n\u001b[1;32m    215\u001b[0m \u001b[38;5;66;03m# Some of the queued calls may reentrantly call _lazy_init();\u001b[39;00m\n\u001b[1;32m    216\u001b[0m \u001b[38;5;66;03m# we need to just return without initializing in that case.\u001b[39;00m\n\u001b[1;32m    217\u001b[0m \u001b[38;5;66;03m# However, we must not let any *other* threads in!\u001b[39;00m\n\u001b[1;32m    218\u001b[0m _tls\u001b[38;5;241m.\u001b[39mis_initializing \u001b[38;5;241m=\u001b[39m \u001b[38;5;28;01mTrue\u001b[39;00m\n",
      "\u001b[0;31mRuntimeError\u001b[0m: CUDA unknown error - this may be due to an incorrectly set up environment, e.g. changing env variable CUDA_VISIBLE_DEVICES after program start. Setting the available devices to be zero."
     ]
    }
   ],
   "source": [
    "ae_model_weighted = newAE(32)\n",
    "ae_model_weighted = nn.DataParallel(ae_model_weighted)\n",
    "ae_model_weighted = ae_model_weighted.cuda()\n",
    "ae_model_weighted.load_state_dict(torch.load(\"new_architecture_weighted_loss_e490.p\"))\n",
    "ae_model_weighted.eval()"
   ]
  },
  {
   "cell_type": "code",
   "execution_count": 1,
   "metadata": {
    "scrolled": false
   },
   "outputs": [
    {
     "ename": "NameError",
     "evalue": "name 'time' is not defined",
     "output_type": "error",
     "traceback": [
      "\u001b[0;31m---------------------------------------------------------------------------\u001b[0m",
      "\u001b[0;31mNameError\u001b[0m                                 Traceback (most recent call last)",
      "Input \u001b[0;32mIn [1]\u001b[0m, in \u001b[0;36m<cell line: 2>\u001b[0;34m()\u001b[0m\n\u001b[1;32m      1\u001b[0m \u001b[38;5;66;03m# Loading all frames\u001b[39;00m\n\u001b[0;32m----> 2\u001b[0m start \u001b[38;5;241m=\u001b[39m \u001b[43mtime\u001b[49m\u001b[38;5;241m.\u001b[39mtime()\n\u001b[1;32m      3\u001b[0m all_frames_list \u001b[38;5;241m=\u001b[39m np\u001b[38;5;241m.\u001b[39mload(\u001b[38;5;124m\"\u001b[39m\u001b[38;5;124mall_frame_and_action_list.npy\u001b[39m\u001b[38;5;124m\"\u001b[39m)\n\u001b[1;32m      4\u001b[0m end \u001b[38;5;241m=\u001b[39m time\u001b[38;5;241m.\u001b[39mtime()\n",
      "\u001b[0;31mNameError\u001b[0m: name 'time' is not defined"
     ]
    }
   ],
   "source": [
    "# Loading all frames\n",
    "start = time.time()\n",
    "all_frames_list = np.load(\"all_frame_and_action_list.npy\")\n",
    "end = time.time()\n",
    "print(\"Training File List containing\", len(all_frames_list), \"frames loaded in:\", end - start)"
   ]
  },
  {
   "cell_type": "code",
   "execution_count": 22,
   "metadata": {},
   "outputs": [],
   "source": [
    "random.seed(42)\n",
    "random.shuffle(all_frames_list)"
   ]
  },
  {
   "cell_type": "code",
   "execution_count": 23,
   "metadata": {},
   "outputs": [
    {
     "name": "stdout",
     "output_type": "stream",
     "text": [
      "Length of untouched Training list: 8387210\n",
      "Length of training list without control animals: 6688187\n",
      "Length of control animal list: 1699023\n",
      "Length of edited training + control animals: 8387210\n"
     ]
    }
   ],
   "source": [
    "# Removing the Control Animals\n",
    "\n",
    "# Control animal camera IDs:\n",
    "control_animal_list = [\"cam_17202338\",\n",
    "                        \"cam_17202345\",\n",
    "                        \"cam_17202346\",#('9')\n",
    "                        \"cam_6394839\",\n",
    "                        \"cam_6394846\",\n",
    "                        \"cam_6394840\"]\n",
    "\n",
    "control_animal_samples = []\n",
    "\n",
    "# Store indices for poping\n",
    "control_animal_indices = []\n",
    "\n",
    "# Convert from Numpy Array to Python List\n",
    "final_training_list = all_frames_list\n",
    "# Create a copy for sanity checks\n",
    "final_training_list2 = []\n",
    "\n",
    "training_latents = []\n",
    "training_labels = []\n",
    "\n",
    "testing_latents = []\n",
    "testing_labels = []\n",
    "\n",
    "for idx in range(len(final_training_list)):\n",
    "    # We know all control animals are from FC-D\n",
    "    animal_found = False\n",
    "    if \"FC-D\" in final_training_list[idx]:\n",
    "        for control_animal in control_animal_list:\n",
    "            if control_animal in final_training_list[idx]:\n",
    "                control_animal_samples.append(final_training_list[idx])\n",
    "                control_animal_indices.append(idx)\n",
    "                animal_found = True\n",
    "#     if not animal_found:\n",
    "#         training_latents.append(all_latents_array[idx])\n",
    "#         training_labels.append(all_labels_array[idx])\n",
    "#     else:\n",
    "#         testing_latents.append(all_latents_array[idx])\n",
    "#         testing_labels.append(all_labels_array[idx])\n",
    "            \n",
    "initial_training_set = set(final_training_list)\n",
    "control_set = set(control_animal_samples)\n",
    "final_training_list2 = list(initial_training_set-control_set)\n",
    "\n",
    "print(\"Length of untouched Training list:\", len(final_training_list))\n",
    "print(\"Length of training list without control animals:\", len(final_training_list2))\n",
    "print(\"Length of control animal list:\", len(control_animal_samples))\n",
    "print(\"Length of edited training + control animals:\", len(control_animal_samples) + len(final_training_list2))\n",
    "# print(\"Length of corresponding latents and labels:\", len(training_latents), len(training_labels))\n",
    "# print(\"Length of Testing vectors:\", len(testing_latents))"
   ]
  },
  {
   "cell_type": "code",
   "execution_count": 25,
   "metadata": {},
   "outputs": [
    {
     "name": "stdout",
     "output_type": "stream",
     "text": [
      "Length of final_training_list: 1000000 with 250000 Preexposure 250000 Postcond 250000 Postext 250000 Postret.\n"
     ]
    }
   ],
   "source": [
    "# Create a training list of 1mil files\n",
    "final_training_list = []\n",
    "\n",
    "preexposure_count = 0\n",
    "postcond_count = 0\n",
    "postext_count = 0\n",
    "postret_count = 0\n",
    "\n",
    "# 1353968 -> Number of frames of postret (smallest class)\n",
    "for sample in final_training_list2:\n",
    "    if \"preexposure\" in sample:\n",
    "        if preexposure_count < 250000:\n",
    "            final_training_list.append(sample)\n",
    "            preexposure_count += 1\n",
    "    elif \"postcond\" in sample:\n",
    "        if postcond_count < 250000:\n",
    "            final_training_list.append(sample)\n",
    "            postcond_count += 1\n",
    "    elif \"postext\" in sample:\n",
    "        if postext_count < 250000:\n",
    "            final_training_list.append(sample)\n",
    "            postext_count += 1\n",
    "    elif \"postret\" in sample:\n",
    "        if postret_count < 250000:\n",
    "            final_training_list.append(sample)\n",
    "            postret_count += 1\n",
    "            \n",
    "print(\"Length of final_training_list:\", len(final_training_list), \"with\", preexposure_count, \"Preexposure\", postcond_count, \"Postcond\", postext_count, \"Postext\", postret_count, \"Postret.\")"
   ]
  },
  {
   "cell_type": "code",
   "execution_count": 29,
   "metadata": {},
   "outputs": [],
   "source": [
    "all_labels_array = []\n",
    "all_latents_array = []"
   ]
  },
  {
   "cell_type": "code",
   "execution_count": null,
   "metadata": {},
   "outputs": [
    {
     "name": "stdout",
     "output_type": "stream",
     "text": [
      "Processed 10000 Images..\n"
     ]
    }
   ],
   "source": [
    "image_count = 0\n",
    "\n",
    "for image in final_training_list[len(all_labels_array):]:\n",
    "    image_count += 1\n",
    "    if image_count % 10000 == 0:\n",
    "        print(\"Processed\", image_count, \"Images..\")\n",
    "    name = image\n",
    "    if \"preexposure\" in name:\n",
    "        append_name = \"/media/data_cifs/anagara8/preexposure_action/\"\n",
    "    elif \"postcond\" in name:\n",
    "        append_name = \"/media/data_cifs/anagara8/postcond_action/\"\n",
    "    elif \"postext\" in name:\n",
    "        append_name = \"/media/data_cifs/anagara8/postext_action/\"\n",
    "    elif \"postret\" in name:\n",
    "        append_name = \"/media/data_cifs/anagara8/postret_action/\"\n",
    "    \n",
    "    image = cv2.imread(append_name + image)\n",
    "    image = cv2.resize(image, (224, 224), interpolation = cv2.INTER_AREA)\n",
    "    tensor_frame = torchvision.transforms.functional.to_tensor(image).unsqueeze(0).cuda()\n",
    "    with torch.no_grad():\n",
    "        latent_representation = ae_model_weighted.module.encoder(tensor_frame)\n",
    "    all_latents_array.append(latent_representation.squeeze().cpu().numpy())\n",
    "    \n",
    "#     # Append One Hot encoded Labels\n",
    "    if \"preexposure\" in name:\n",
    "        all_labels_array.append([1.0, 0.0, 0.0, 0.0])\n",
    "    elif \"postcond\" in name:\n",
    "        all_labels_array.append([0.0, 1.0, 0.0, 0.0])\n",
    "    elif \"postext\" in name:\n",
    "        all_labels_array.append([0.0, 0.0, 1.0, 0.0])\n",
    "    elif \"postret\" in name:\n",
    "        all_labels_array.append([0.0, 0.0, 0.0, 1.0])\n",
    "#     else:\n",
    "#         print(\"ERROR: Incorrect Experiment Phase, no label associated.\")\n",
    "\n",
    "        \n",
    "print(\"All done!\")"
   ]
  },
  {
   "cell_type": "code",
   "execution_count": 36,
   "metadata": {},
   "outputs": [
    {
     "data": {
      "text/plain": [
       "1000000"
      ]
     },
     "execution_count": 36,
     "metadata": {},
     "output_type": "execute_result"
    }
   ],
   "source": [
    "len(all_labels_array)"
   ]
  },
  {
   "cell_type": "code",
   "execution_count": 37,
   "metadata": {},
   "outputs": [],
   "source": [
    "np.save(\"1mil_latents_array_weighted_model.npy\", all_latents_array)"
   ]
  },
  {
   "cell_type": "code",
   "execution_count": 38,
   "metadata": {},
   "outputs": [],
   "source": [
    "frame_names = []\n",
    "for image in final_training_list:\n",
    "    name = image\n",
    "    if \"preexposure\" in name:\n",
    "        append_name = \"/media/data_cifs/anagara8/preexposure_action/\"\n",
    "    elif \"postcond\" in name:\n",
    "        append_name = \"/media/data_cifs/anagara8/postcond_action/\"\n",
    "    elif \"postext\" in name:\n",
    "        append_name = \"/media/data_cifs/anagara8/postext_action/\"\n",
    "    elif \"postret\" in name:\n",
    "        append_name = \"/media/data_cifs/anagara8/postret_action/\"\n",
    "    frame_names.append(append_name)"
   ]
  },
  {
   "cell_type": "code",
   "execution_count": 39,
   "metadata": {},
   "outputs": [
    {
     "data": {
      "text/plain": [
       "1000000"
      ]
     },
     "execution_count": 39,
     "metadata": {},
     "output_type": "execute_result"
    }
   ],
   "source": [
    "len(frame_names)"
   ]
  },
  {
   "cell_type": "code",
   "execution_count": 40,
   "metadata": {},
   "outputs": [],
   "source": [
    "np.save(\"1mil_latents_array_weighted_modelFRAMES.npy\", frame_names)"
   ]
  },
  {
   "cell_type": "code",
   "execution_count": 42,
   "metadata": {},
   "outputs": [],
   "source": [
    "np.save(\"1mil_labels_array_weighted_model.npy\", all_labels_array)"
   ]
  },
  {
   "cell_type": "code",
   "execution_count": 43,
   "metadata": {},
   "outputs": [],
   "source": [
    "# Creating the DataLoader\n",
    "class LatentDataset(torch.utils.data.Dataset):\n",
    "    def __init__(self, dataset, augmentations = None):\n",
    "        super(LatentDataset, self).__init__()\n",
    "        \n",
    "        # Latents are stored as the first element\n",
    "        self.vector_list = [item[0] for item in dataset]\n",
    "        # Labels are stored as the second element\n",
    "        self.label_list = [item[1] for item in dataset]\n",
    "        \n",
    "        self.augmentations = augmentations\n",
    "    \n",
    "    def __len__(self):\n",
    "        return len(self.label_list)\n",
    "\n",
    "    def __getitem__(self, idx):\n",
    "        vector = torch.tensor(self.vector_list[idx])\n",
    "        label = torch.tensor(self.label_list[idx])\n",
    "        return vector, label"
   ]
  },
  {
   "cell_type": "code",
   "execution_count": 44,
   "metadata": {},
   "outputs": [
    {
     "name": "stdout",
     "output_type": "stream",
     "text": [
      "Length: 1000000 -> Training set size: 800000 | Validation set size: 200000\n"
     ]
    }
   ],
   "source": [
    "m = len(all_latents_array)\n",
    "test_train_split = 0.2\n",
    "\n",
    "torch.manual_seed(42)\n",
    "\n",
    "train_data, val_data = random_split(list(zip(all_latents_array, all_labels_array)), [int(math.ceil(m-m*test_train_split)), int(m*test_train_split)])\n",
    "print(\"Length:\", len(train_data) + len(val_data), \"-> Training set size:\", len(train_data), \"| Validation set size:\", len(val_data))\n",
    "\n",
    "# train_data, val_data = random_split(list(zip(all_latents_array, all_labels_array)), [int(math.ceil(m-m*test_train_split)), int(m*test_train_split)])\n",
    "# print(\"Length:\", len(train_data) + len(val_data), \"-> Training set size:\", len(train_data), \"| Validation set size:\", len(val_data))"
   ]
  },
  {
   "cell_type": "code",
   "execution_count": 45,
   "metadata": {},
   "outputs": [],
   "source": [
    "train_dataset = LatentDataset(train_data)\n",
    "val_dataset = LatentDataset(val_data)"
   ]
  },
  {
   "cell_type": "code",
   "execution_count": 46,
   "metadata": {},
   "outputs": [],
   "source": [
    "batch_size = 512\n",
    "\n",
    "train_loader = torch.utils.data.DataLoader(train_dataset, batch_size=batch_size, num_workers = 4, shuffle=True)\n",
    "val_loader = torch.utils.data.DataLoader(val_dataset, batch_size=batch_size, num_workers = 4, shuffle=False)"
   ]
  },
  {
   "cell_type": "code",
   "execution_count": 47,
   "metadata": {},
   "outputs": [],
   "source": [
    "class MLP(nn.Module):\n",
    "    def __init__(self, input_dim, output_dim):\n",
    "        super().__init__()\n",
    "\n",
    "        self.input_fc = nn.Linear(input_dim, 128)\n",
    "        self.hidden_fc1 = nn.Linear(128, 64)\n",
    "        self.hidden_fc2 = nn.Linear(64, 32)\n",
    "        self.output_fc = nn.Linear(32, output_dim)\n",
    "\n",
    "    def forward(self, x):\n",
    "        batch_size = x.shape[0]\n",
    "        x = x.view(batch_size, -1)\n",
    "        h_1 = F.relu(self.input_fc(x))\n",
    "        h_2 = F.relu(self.hidden_fc1(h_1))\n",
    "        h_3 = F.relu(self.hidden_fc2(h_2))\n",
    "        y_out = self.output_fc(h_3)\n",
    "        y_pred = torch.sigmoid(y_out)\n",
    "        \n",
    "        return y_out"
   ]
  },
  {
   "cell_type": "code",
   "execution_count": 48,
   "metadata": {},
   "outputs": [],
   "source": [
    "INPUT_DIM = 32\n",
    "OUTPUT_DIM = 4\n",
    "\n",
    "model = MLP(INPUT_DIM, OUTPUT_DIM)"
   ]
  },
  {
   "cell_type": "code",
   "execution_count": 49,
   "metadata": {},
   "outputs": [
    {
     "name": "stdout",
     "output_type": "stream",
     "text": [
      "Using cuda\n"
     ]
    }
   ],
   "source": [
    "device = torch.device('cuda' if torch.cuda.is_available() else 'cpu')\n",
    "print(\"Using\", device)"
   ]
  },
  {
   "cell_type": "code",
   "execution_count": 50,
   "metadata": {},
   "outputs": [],
   "source": [
    "model = model.to(device)\n",
    "\n",
    "optimizer = optim.Adam(model.parameters(), lr = 0.000001)\n",
    "\n",
    "criterion = nn.CrossEntropyLoss()\n",
    "criterion = criterion.to(device)"
   ]
  },
  {
   "cell_type": "code",
   "execution_count": 51,
   "metadata": {},
   "outputs": [
    {
     "name": "stdout",
     "output_type": "stream",
     "text": [
      "The model has 14,692 trainable parameters\n"
     ]
    }
   ],
   "source": [
    "def epoch_time(start_time, end_time):\n",
    "    elapsed_time = end_time - start_time\n",
    "    elapsed_mins = int(elapsed_time / 60)\n",
    "    elapsed_secs = int(elapsed_time - (elapsed_mins * 60))\n",
    "    return elapsed_mins, elapsed_secs\n",
    "\n",
    "def calculate_accuracy(y_pred, y):\n",
    "    y_pred = torch.argmax(y_pred, dim = 1)\n",
    "    y = torch.argmax(y, dim = 1)\n",
    "    \n",
    "    acc = torch.unique(y_pred[y_pred==y], return_counts = True)[1].sum()\n",
    "    acc = acc / y.shape[0]\n",
    "    return acc\n",
    "\n",
    "def count_parameters(model):\n",
    "    return sum(p.numel() for p in model.parameters() if p.requires_grad)\n",
    "\n",
    "print(f'The model has {count_parameters(model):,} trainable parameters')"
   ]
  },
  {
   "cell_type": "code",
   "execution_count": 52,
   "metadata": {},
   "outputs": [],
   "source": [
    "def evaluate(model, iterator, criterion, device):\n",
    "\n",
    "    epoch_loss = 0\n",
    "    epoch_acc = 0\n",
    "\n",
    "    model.eval()\n",
    "    with torch.no_grad():\n",
    "        for sample in tqdm(iterator, desc=\"Validating\", leave=False):\n",
    "            latent, label = sample\n",
    "        \n",
    "            latent = latent.to(device)\n",
    "            label = label.squeeze().to(device)\n",
    "            \n",
    "            y_pred = model(latent)\n",
    "\n",
    "            loss = criterion(y_pred, label)\n",
    "            acc = calculate_accuracy(y_pred, label)\n",
    "\n",
    "            epoch_loss += loss.item()\n",
    "            epoch_acc += acc.item()\n",
    "\n",
    "    return epoch_loss / len(iterator), epoch_acc / len(iterator)"
   ]
  },
  {
   "cell_type": "code",
   "execution_count": 53,
   "metadata": {},
   "outputs": [],
   "source": [
    "def train(model, iterator, optimizer, criterion, device):\n",
    "    epoch_loss = 0\n",
    "    epoch_acc = 0\n",
    "    model.train()\n",
    "\n",
    "    for sample in tqdm(iterator, desc=\"Training\", leave=False):\n",
    "        latent, label = sample\n",
    "        \n",
    "        latent = latent.to(device)\n",
    "        label = label.to(device)\n",
    "\n",
    "        optimizer.zero_grad()\n",
    "        y_pred = model(latent)\n",
    "\n",
    "        loss = criterion(y_pred, label)\n",
    "        acc = calculate_accuracy(y_pred, label)\n",
    "        \n",
    "        loss.backward()\n",
    "        optimizer.step()\n",
    "        epoch_loss += loss.item()\n",
    "        epoch_acc += acc.item()\n",
    "\n",
    "    return epoch_loss / len(iterator), epoch_acc / len(iterator)"
   ]
  },
  {
   "cell_type": "code",
   "execution_count": null,
   "metadata": {},
   "outputs": [],
   "source": [
    "EPOCHS = 400\n",
    "best_valid_loss = float('inf')\n",
    "list_train_loss = []\n",
    "list_val_loss = []\n",
    "\n",
    "list_train_acc = []\n",
    "list_val_acc = []"
   ]
  },
  {
   "cell_type": "code",
   "execution_count": 57,
   "metadata": {},
   "outputs": [
    {
     "name": "stderr",
     "output_type": "stream",
     "text": [
      "                                                                                \r"
     ]
    },
    {
     "name": "stdout",
     "output_type": "stream",
     "text": [
      "Epoch: 01 | Epoch Time: 0m 12s\n",
      "\tTrain Loss: 0.2240719 | Train Acc: 93.68%\n",
      "\t Val. Loss: 0.2229777 |  Val. Acc: 93.71%\n"
     ]
    },
    {
     "name": "stderr",
     "output_type": "stream",
     "text": [
      "                                                                                \r"
     ]
    },
    {
     "name": "stdout",
     "output_type": "stream",
     "text": [
      "Epoch: 02 | Epoch Time: 0m 10s\n",
      "\tTrain Loss: 0.2217838 | Train Acc: 93.76%\n",
      "\t Val. Loss: 0.2206819 |  Val. Acc: 93.79%\n"
     ]
    },
    {
     "name": "stderr",
     "output_type": "stream",
     "text": [
      "                                                                                \r"
     ]
    },
    {
     "name": "stdout",
     "output_type": "stream",
     "text": [
      "Epoch: 03 | Epoch Time: 0m 10s\n",
      "\tTrain Loss: 0.2195190 | Train Acc: 93.83%\n",
      "\t Val. Loss: 0.2184489 |  Val. Acc: 93.88%\n"
     ]
    },
    {
     "name": "stderr",
     "output_type": "stream",
     "text": [
      "                                                                                \r"
     ]
    },
    {
     "name": "stdout",
     "output_type": "stream",
     "text": [
      "Epoch: 04 | Epoch Time: 0m 10s\n",
      "\tTrain Loss: 0.2172592 | Train Acc: 93.91%\n",
      "\t Val. Loss: 0.2162148 |  Val. Acc: 93.95%\n"
     ]
    },
    {
     "name": "stderr",
     "output_type": "stream",
     "text": [
      "                                                                                \r"
     ]
    },
    {
     "name": "stdout",
     "output_type": "stream",
     "text": [
      "Epoch: 05 | Epoch Time: 0m 10s\n",
      "\tTrain Loss: 0.2150461 | Train Acc: 93.98%\n",
      "\t Val. Loss: 0.2140082 |  Val. Acc: 94.03%\n"
     ]
    },
    {
     "name": "stderr",
     "output_type": "stream",
     "text": [
      "                                                                                \r"
     ]
    },
    {
     "name": "stdout",
     "output_type": "stream",
     "text": [
      "Epoch: 06 | Epoch Time: 0m 11s\n",
      "\tTrain Loss: 0.2128882 | Train Acc: 94.05%\n",
      "\t Val. Loss: 0.2118408 |  Val. Acc: 94.10%\n"
     ]
    },
    {
     "name": "stderr",
     "output_type": "stream",
     "text": [
      "                                                                                \r"
     ]
    },
    {
     "name": "stdout",
     "output_type": "stream",
     "text": [
      "Epoch: 07 | Epoch Time: 0m 11s\n",
      "\tTrain Loss: 0.2107155 | Train Acc: 94.12%\n",
      "\t Val. Loss: 0.2096837 |  Val. Acc: 94.16%\n"
     ]
    },
    {
     "name": "stderr",
     "output_type": "stream",
     "text": [
      "                                                                                \r"
     ]
    },
    {
     "name": "stdout",
     "output_type": "stream",
     "text": [
      "Epoch: 08 | Epoch Time: 0m 11s\n",
      "\tTrain Loss: 0.2085776 | Train Acc: 94.19%\n",
      "\t Val. Loss: 0.2075673 |  Val. Acc: 94.23%\n"
     ]
    },
    {
     "name": "stderr",
     "output_type": "stream",
     "text": [
      "                                                                                \r"
     ]
    },
    {
     "name": "stdout",
     "output_type": "stream",
     "text": [
      "Epoch: 09 | Epoch Time: 0m 11s\n",
      "\tTrain Loss: 0.2064717 | Train Acc: 94.26%\n",
      "\t Val. Loss: 0.2054873 |  Val. Acc: 94.31%\n"
     ]
    },
    {
     "name": "stderr",
     "output_type": "stream",
     "text": [
      "                                                                                \r"
     ]
    },
    {
     "name": "stdout",
     "output_type": "stream",
     "text": [
      "Epoch: 10 | Epoch Time: 0m 11s\n",
      "\tTrain Loss: 0.2043686 | Train Acc: 94.33%\n",
      "\t Val. Loss: 0.2033998 |  Val. Acc: 94.38%\n"
     ]
    },
    {
     "name": "stderr",
     "output_type": "stream",
     "text": [
      "                                                                                \r"
     ]
    },
    {
     "name": "stdout",
     "output_type": "stream",
     "text": [
      "Epoch: 11 | Epoch Time: 0m 10s\n",
      "\tTrain Loss: 0.2023145 | Train Acc: 94.40%\n",
      "\t Val. Loss: 0.2013548 |  Val. Acc: 94.45%\n"
     ]
    },
    {
     "name": "stderr",
     "output_type": "stream",
     "text": [
      "                                                                                \r"
     ]
    },
    {
     "name": "stdout",
     "output_type": "stream",
     "text": [
      "Epoch: 12 | Epoch Time: 0m 10s\n",
      "\tTrain Loss: 0.2002793 | Train Acc: 94.47%\n",
      "\t Val. Loss: 0.1993384 |  Val. Acc: 94.50%\n"
     ]
    },
    {
     "name": "stderr",
     "output_type": "stream",
     "text": [
      "                                                                                \r"
     ]
    },
    {
     "name": "stdout",
     "output_type": "stream",
     "text": [
      "Epoch: 13 | Epoch Time: 0m 10s\n",
      "\tTrain Loss: 0.1982795 | Train Acc: 94.54%\n",
      "\t Val. Loss: 0.1973262 |  Val. Acc: 94.57%\n"
     ]
    },
    {
     "name": "stderr",
     "output_type": "stream",
     "text": [
      "                                                                                \r"
     ]
    },
    {
     "name": "stdout",
     "output_type": "stream",
     "text": [
      "Epoch: 14 | Epoch Time: 0m 10s\n",
      "\tTrain Loss: 0.1962885 | Train Acc: 94.61%\n",
      "\t Val. Loss: 0.1954088 |  Val. Acc: 94.64%\n"
     ]
    },
    {
     "name": "stderr",
     "output_type": "stream",
     "text": [
      "                                                                                \r"
     ]
    },
    {
     "name": "stdout",
     "output_type": "stream",
     "text": [
      "Epoch: 15 | Epoch Time: 0m 10s\n",
      "\tTrain Loss: 0.1943278 | Train Acc: 94.68%\n",
      "\t Val. Loss: 0.1934265 |  Val. Acc: 94.69%\n"
     ]
    },
    {
     "name": "stderr",
     "output_type": "stream",
     "text": [
      "                                                                                \r"
     ]
    },
    {
     "name": "stdout",
     "output_type": "stream",
     "text": [
      "Epoch: 16 | Epoch Time: 0m 10s\n",
      "\tTrain Loss: 0.1923776 | Train Acc: 94.74%\n",
      "\t Val. Loss: 0.1914939 |  Val. Acc: 94.76%\n"
     ]
    },
    {
     "name": "stderr",
     "output_type": "stream",
     "text": [
      "                                                                                \r"
     ]
    },
    {
     "name": "stdout",
     "output_type": "stream",
     "text": [
      "Epoch: 17 | Epoch Time: 0m 11s\n",
      "\tTrain Loss: 0.1904825 | Train Acc: 94.81%\n",
      "\t Val. Loss: 0.1895878 |  Val. Acc: 94.82%\n"
     ]
    },
    {
     "name": "stderr",
     "output_type": "stream",
     "text": [
      "                                                                                \r"
     ]
    },
    {
     "name": "stdout",
     "output_type": "stream",
     "text": [
      "Epoch: 18 | Epoch Time: 0m 11s\n",
      "\tTrain Loss: 0.1885728 | Train Acc: 94.87%\n",
      "\t Val. Loss: 0.1876950 |  Val. Acc: 94.87%\n"
     ]
    },
    {
     "name": "stderr",
     "output_type": "stream",
     "text": [
      "                                                                                \r"
     ]
    },
    {
     "name": "stdout",
     "output_type": "stream",
     "text": [
      "Epoch: 19 | Epoch Time: 0m 11s\n",
      "\tTrain Loss: 0.1866933 | Train Acc: 94.93%\n",
      "\t Val. Loss: 0.1858408 |  Val. Acc: 94.95%\n"
     ]
    },
    {
     "name": "stderr",
     "output_type": "stream",
     "text": [
      "                                                                                \r"
     ]
    },
    {
     "name": "stdout",
     "output_type": "stream",
     "text": [
      "Epoch: 20 | Epoch Time: 0m 11s\n",
      "\tTrain Loss: 0.1848430 | Train Acc: 95.00%\n",
      "\t Val. Loss: 0.1840152 |  Val. Acc: 95.01%\n"
     ]
    },
    {
     "name": "stderr",
     "output_type": "stream",
     "text": [
      "                                                                                \r"
     ]
    },
    {
     "name": "stdout",
     "output_type": "stream",
     "text": [
      "Epoch: 21 | Epoch Time: 0m 11s\n",
      "\tTrain Loss: 0.1830169 | Train Acc: 95.06%\n",
      "\t Val. Loss: 0.1821961 |  Val. Acc: 95.07%\n"
     ]
    },
    {
     "name": "stderr",
     "output_type": "stream",
     "text": [
      "                                                                                \r"
     ]
    },
    {
     "name": "stdout",
     "output_type": "stream",
     "text": [
      "Epoch: 22 | Epoch Time: 0m 10s\n",
      "\tTrain Loss: 0.1812214 | Train Acc: 95.11%\n",
      "\t Val. Loss: 0.1803983 |  Val. Acc: 95.12%\n"
     ]
    },
    {
     "name": "stderr",
     "output_type": "stream",
     "text": [
      "                                                                                \r"
     ]
    },
    {
     "name": "stdout",
     "output_type": "stream",
     "text": [
      "Epoch: 23 | Epoch Time: 0m 10s\n",
      "\tTrain Loss: 0.1794149 | Train Acc: 95.17%\n",
      "\t Val. Loss: 0.1786197 |  Val. Acc: 95.16%\n"
     ]
    },
    {
     "name": "stderr",
     "output_type": "stream",
     "text": [
      "                                                                                \r"
     ]
    },
    {
     "name": "stdout",
     "output_type": "stream",
     "text": [
      "Epoch: 24 | Epoch Time: 0m 10s\n",
      "\tTrain Loss: 0.1776431 | Train Acc: 95.22%\n",
      "\t Val. Loss: 0.1768381 |  Val. Acc: 95.22%\n"
     ]
    },
    {
     "name": "stderr",
     "output_type": "stream",
     "text": [
      "                                                                                \r"
     ]
    },
    {
     "name": "stdout",
     "output_type": "stream",
     "text": [
      "Epoch: 25 | Epoch Time: 0m 9s\n",
      "\tTrain Loss: 0.1758841 | Train Acc: 95.28%\n",
      "\t Val. Loss: 0.1751053 |  Val. Acc: 95.29%\n"
     ]
    },
    {
     "name": "stderr",
     "output_type": "stream",
     "text": [
      "                                                                                \r"
     ]
    },
    {
     "name": "stdout",
     "output_type": "stream",
     "text": [
      "Epoch: 26 | Epoch Time: 0m 10s\n",
      "\tTrain Loss: 0.1741538 | Train Acc: 95.33%\n",
      "\t Val. Loss: 0.1733849 |  Val. Acc: 95.35%\n"
     ]
    },
    {
     "name": "stderr",
     "output_type": "stream",
     "text": [
      "                                                                                \r"
     ]
    },
    {
     "name": "stdout",
     "output_type": "stream",
     "text": [
      "Epoch: 27 | Epoch Time: 0m 10s\n",
      "\tTrain Loss: 0.1724320 | Train Acc: 95.38%\n",
      "\t Val. Loss: 0.1716927 |  Val. Acc: 95.39%\n"
     ]
    },
    {
     "name": "stderr",
     "output_type": "stream",
     "text": [
      "                                                                                \r"
     ]
    },
    {
     "name": "stdout",
     "output_type": "stream",
     "text": [
      "Epoch: 28 | Epoch Time: 0m 11s\n",
      "\tTrain Loss: 0.1707473 | Train Acc: 95.43%\n",
      "\t Val. Loss: 0.1700135 |  Val. Acc: 95.44%\n"
     ]
    },
    {
     "name": "stderr",
     "output_type": "stream",
     "text": [
      "                                                                                \r"
     ]
    },
    {
     "name": "stdout",
     "output_type": "stream",
     "text": [
      "Epoch: 29 | Epoch Time: 0m 11s\n",
      "\tTrain Loss: 0.1690765 | Train Acc: 95.49%\n",
      "\t Val. Loss: 0.1683466 |  Val. Acc: 95.48%\n"
     ]
    },
    {
     "name": "stderr",
     "output_type": "stream",
     "text": [
      "                                                                                \r"
     ]
    },
    {
     "name": "stdout",
     "output_type": "stream",
     "text": [
      "Epoch: 30 | Epoch Time: 0m 11s\n",
      "\tTrain Loss: 0.1674330 | Train Acc: 95.53%\n",
      "\t Val. Loss: 0.1667268 |  Val. Acc: 95.52%\n"
     ]
    },
    {
     "name": "stderr",
     "output_type": "stream",
     "text": [
      "                                                                                \r"
     ]
    },
    {
     "name": "stdout",
     "output_type": "stream",
     "text": [
      "Epoch: 31 | Epoch Time: 0m 11s\n",
      "\tTrain Loss: 0.1657851 | Train Acc: 95.58%\n",
      "\t Val. Loss: 0.1650873 |  Val. Acc: 95.57%\n"
     ]
    },
    {
     "name": "stderr",
     "output_type": "stream",
     "text": [
      "                                                                                \r"
     ]
    },
    {
     "name": "stdout",
     "output_type": "stream",
     "text": [
      "Epoch: 32 | Epoch Time: 0m 11s\n",
      "\tTrain Loss: 0.1641788 | Train Acc: 95.63%\n",
      "\t Val. Loss: 0.1634867 |  Val. Acc: 95.61%\n"
     ]
    },
    {
     "name": "stderr",
     "output_type": "stream",
     "text": [
      "                                                                                \r"
     ]
    },
    {
     "name": "stdout",
     "output_type": "stream",
     "text": [
      "Epoch: 33 | Epoch Time: 0m 11s\n",
      "\tTrain Loss: 0.1625970 | Train Acc: 95.67%\n",
      "\t Val. Loss: 0.1619264 |  Val. Acc: 95.66%\n"
     ]
    },
    {
     "name": "stderr",
     "output_type": "stream",
     "text": [
      "                                                                                \r"
     ]
    },
    {
     "name": "stdout",
     "output_type": "stream",
     "text": [
      "Epoch: 34 | Epoch Time: 0m 10s\n",
      "\tTrain Loss: 0.1610357 | Train Acc: 95.72%\n",
      "\t Val. Loss: 0.1603786 |  Val. Acc: 95.71%\n"
     ]
    },
    {
     "name": "stderr",
     "output_type": "stream",
     "text": [
      "                                                                                \r"
     ]
    },
    {
     "name": "stdout",
     "output_type": "stream",
     "text": [
      "Epoch: 35 | Epoch Time: 0m 10s\n",
      "\tTrain Loss: 0.1594868 | Train Acc: 95.77%\n",
      "\t Val. Loss: 0.1588358 |  Val. Acc: 95.76%\n"
     ]
    },
    {
     "name": "stderr",
     "output_type": "stream",
     "text": [
      "                                                                                \r"
     ]
    },
    {
     "name": "stdout",
     "output_type": "stream",
     "text": [
      "Epoch: 36 | Epoch Time: 0m 11s\n",
      "\tTrain Loss: 0.1579475 | Train Acc: 95.81%\n",
      "\t Val. Loss: 0.1573307 |  Val. Acc: 95.79%\n"
     ]
    },
    {
     "name": "stderr",
     "output_type": "stream",
     "text": [
      "                                                                                \r"
     ]
    },
    {
     "name": "stdout",
     "output_type": "stream",
     "text": [
      "Epoch: 37 | Epoch Time: 0m 10s\n",
      "\tTrain Loss: 0.1564495 | Train Acc: 95.87%\n",
      "\t Val. Loss: 0.1558261 |  Val. Acc: 95.84%\n"
     ]
    },
    {
     "name": "stderr",
     "output_type": "stream",
     "text": [
      "                                                                                \r"
     ]
    },
    {
     "name": "stdout",
     "output_type": "stream",
     "text": [
      "Epoch: 38 | Epoch Time: 0m 10s\n",
      "\tTrain Loss: 0.1549393 | Train Acc: 95.91%\n",
      "\t Val. Loss: 0.1543328 |  Val. Acc: 95.89%\n"
     ]
    },
    {
     "name": "stderr",
     "output_type": "stream",
     "text": [
      "                                                                                \r"
     ]
    },
    {
     "name": "stdout",
     "output_type": "stream",
     "text": [
      "Epoch: 39 | Epoch Time: 0m 11s\n",
      "\tTrain Loss: 0.1534674 | Train Acc: 95.95%\n",
      "\t Val. Loss: 0.1528887 |  Val. Acc: 95.95%\n"
     ]
    },
    {
     "name": "stderr",
     "output_type": "stream",
     "text": [
      "                                                                                \r"
     ]
    },
    {
     "name": "stdout",
     "output_type": "stream",
     "text": [
      "Epoch: 40 | Epoch Time: 0m 11s\n",
      "\tTrain Loss: 0.1520141 | Train Acc: 96.00%\n",
      "\t Val. Loss: 0.1514145 |  Val. Acc: 95.99%\n"
     ]
    },
    {
     "name": "stderr",
     "output_type": "stream",
     "text": [
      "                                                                                \r"
     ]
    },
    {
     "name": "stdout",
     "output_type": "stream",
     "text": [
      "Epoch: 41 | Epoch Time: 0m 11s\n",
      "\tTrain Loss: 0.1505750 | Train Acc: 96.03%\n",
      "\t Val. Loss: 0.1499955 |  Val. Acc: 96.04%\n"
     ]
    },
    {
     "name": "stderr",
     "output_type": "stream",
     "text": [
      "                                                                                \r"
     ]
    },
    {
     "name": "stdout",
     "output_type": "stream",
     "text": [
      "Epoch: 42 | Epoch Time: 0m 10s\n",
      "\tTrain Loss: 0.1491382 | Train Acc: 96.07%\n",
      "\t Val. Loss: 0.1485720 |  Val. Acc: 96.08%\n"
     ]
    },
    {
     "name": "stderr",
     "output_type": "stream",
     "text": [
      "                                                                                \r"
     ]
    },
    {
     "name": "stdout",
     "output_type": "stream",
     "text": [
      "Epoch: 43 | Epoch Time: 0m 10s\n",
      "\tTrain Loss: 0.1477349 | Train Acc: 96.12%\n",
      "\t Val. Loss: 0.1471718 |  Val. Acc: 96.12%\n"
     ]
    },
    {
     "name": "stderr",
     "output_type": "stream",
     "text": [
      "                                                                                \r"
     ]
    },
    {
     "name": "stdout",
     "output_type": "stream",
     "text": [
      "Epoch: 44 | Epoch Time: 0m 10s\n",
      "\tTrain Loss: 0.1463419 | Train Acc: 96.16%\n",
      "\t Val. Loss: 0.1458214 |  Val. Acc: 96.16%\n"
     ]
    },
    {
     "name": "stderr",
     "output_type": "stream",
     "text": [
      "                                                                                \r"
     ]
    },
    {
     "name": "stdout",
     "output_type": "stream",
     "text": [
      "Epoch: 45 | Epoch Time: 0m 10s\n",
      "\tTrain Loss: 0.1449690 | Train Acc: 96.20%\n",
      "\t Val. Loss: 0.1444609 |  Val. Acc: 96.20%\n"
     ]
    },
    {
     "name": "stderr",
     "output_type": "stream",
     "text": [
      "                                                                                \r"
     ]
    },
    {
     "name": "stdout",
     "output_type": "stream",
     "text": [
      "Epoch: 46 | Epoch Time: 0m 10s\n",
      "\tTrain Loss: 0.1436095 | Train Acc: 96.23%\n",
      "\t Val. Loss: 0.1431034 |  Val. Acc: 96.24%\n"
     ]
    },
    {
     "name": "stderr",
     "output_type": "stream",
     "text": [
      "                                                                                \r"
     ]
    },
    {
     "name": "stdout",
     "output_type": "stream",
     "text": [
      "Epoch: 47 | Epoch Time: 0m 10s\n",
      "\tTrain Loss: 0.1422935 | Train Acc: 96.27%\n",
      "\t Val. Loss: 0.1417727 |  Val. Acc: 96.28%\n"
     ]
    },
    {
     "name": "stderr",
     "output_type": "stream",
     "text": [
      "                                                                                \r"
     ]
    },
    {
     "name": "stdout",
     "output_type": "stream",
     "text": [
      "Epoch: 48 | Epoch Time: 0m 10s\n",
      "\tTrain Loss: 0.1409530 | Train Acc: 96.31%\n",
      "\t Val. Loss: 0.1404714 |  Val. Acc: 96.31%\n"
     ]
    },
    {
     "name": "stderr",
     "output_type": "stream",
     "text": [
      "                                                                                \r"
     ]
    },
    {
     "name": "stdout",
     "output_type": "stream",
     "text": [
      "Epoch: 49 | Epoch Time: 0m 10s\n",
      "\tTrain Loss: 0.1396564 | Train Acc: 96.36%\n",
      "\t Val. Loss: 0.1391806 |  Val. Acc: 96.35%\n"
     ]
    },
    {
     "name": "stderr",
     "output_type": "stream",
     "text": [
      "                                                                                \r"
     ]
    },
    {
     "name": "stdout",
     "output_type": "stream",
     "text": [
      "Epoch: 50 | Epoch Time: 0m 11s\n",
      "\tTrain Loss: 0.1383545 | Train Acc: 96.40%\n",
      "\t Val. Loss: 0.1379048 |  Val. Acc: 96.37%\n"
     ]
    },
    {
     "name": "stderr",
     "output_type": "stream",
     "text": [
      "                                                                                \r"
     ]
    },
    {
     "name": "stdout",
     "output_type": "stream",
     "text": [
      "Epoch: 51 | Epoch Time: 0m 11s\n",
      "\tTrain Loss: 0.1370895 | Train Acc: 96.43%\n",
      "\t Val. Loss: 0.1366304 |  Val. Acc: 96.42%\n"
     ]
    },
    {
     "name": "stderr",
     "output_type": "stream",
     "text": [
      "                                                                                \r"
     ]
    },
    {
     "name": "stdout",
     "output_type": "stream",
     "text": [
      "Epoch: 52 | Epoch Time: 0m 11s\n",
      "\tTrain Loss: 0.1358233 | Train Acc: 96.47%\n",
      "\t Val. Loss: 0.1353912 |  Val. Acc: 96.47%\n"
     ]
    },
    {
     "name": "stderr",
     "output_type": "stream",
     "text": [
      "                                                                                \r"
     ]
    },
    {
     "name": "stdout",
     "output_type": "stream",
     "text": [
      "Epoch: 53 | Epoch Time: 0m 11s\n",
      "\tTrain Loss: 0.1345772 | Train Acc: 96.50%\n",
      "\t Val. Loss: 0.1341573 |  Val. Acc: 96.49%\n"
     ]
    },
    {
     "name": "stderr",
     "output_type": "stream",
     "text": [
      "                                                                                \r"
     ]
    },
    {
     "name": "stdout",
     "output_type": "stream",
     "text": [
      "Epoch: 54 | Epoch Time: 0m 11s\n",
      "\tTrain Loss: 0.1333379 | Train Acc: 96.54%\n",
      "\t Val. Loss: 0.1329287 |  Val. Acc: 96.54%\n"
     ]
    },
    {
     "name": "stderr",
     "output_type": "stream",
     "text": [
      "                                                                                \r"
     ]
    },
    {
     "name": "stdout",
     "output_type": "stream",
     "text": [
      "Epoch: 55 | Epoch Time: 0m 10s\n",
      "\tTrain Loss: 0.1321361 | Train Acc: 96.57%\n",
      "\t Val. Loss: 0.1317243 |  Val. Acc: 96.58%\n"
     ]
    },
    {
     "name": "stderr",
     "output_type": "stream",
     "text": [
      "                                                                                \r"
     ]
    },
    {
     "name": "stdout",
     "output_type": "stream",
     "text": [
      "Epoch: 56 | Epoch Time: 0m 10s\n",
      "\tTrain Loss: 0.1309282 | Train Acc: 96.61%\n",
      "\t Val. Loss: 0.1305382 |  Val. Acc: 96.60%\n"
     ]
    },
    {
     "name": "stderr",
     "output_type": "stream",
     "text": [
      "                                                                                \r"
     ]
    },
    {
     "name": "stdout",
     "output_type": "stream",
     "text": [
      "Epoch: 57 | Epoch Time: 0m 10s\n",
      "\tTrain Loss: 0.1297354 | Train Acc: 96.64%\n",
      "\t Val. Loss: 0.1293670 |  Val. Acc: 96.63%\n"
     ]
    },
    {
     "name": "stderr",
     "output_type": "stream",
     "text": [
      "                                                                                \r"
     ]
    },
    {
     "name": "stdout",
     "output_type": "stream",
     "text": [
      "Epoch: 58 | Epoch Time: 0m 10s\n",
      "\tTrain Loss: 0.1285772 | Train Acc: 96.68%\n",
      "\t Val. Loss: 0.1281914 |  Val. Acc: 96.66%\n"
     ]
    },
    {
     "name": "stderr",
     "output_type": "stream",
     "text": [
      "                                                                                \r"
     ]
    },
    {
     "name": "stdout",
     "output_type": "stream",
     "text": [
      "Epoch: 59 | Epoch Time: 0m 10s\n",
      "\tTrain Loss: 0.1274118 | Train Acc: 96.72%\n",
      "\t Val. Loss: 0.1270526 |  Val. Acc: 96.68%\n"
     ]
    },
    {
     "name": "stderr",
     "output_type": "stream",
     "text": [
      "                                                                                \r"
     ]
    },
    {
     "name": "stdout",
     "output_type": "stream",
     "text": [
      "Epoch: 60 | Epoch Time: 0m 10s\n",
      "\tTrain Loss: 0.1262653 | Train Acc: 96.74%\n",
      "\t Val. Loss: 0.1259295 |  Val. Acc: 96.73%\n"
     ]
    },
    {
     "name": "stderr",
     "output_type": "stream",
     "text": [
      "                                                                                \r"
     ]
    },
    {
     "name": "stdout",
     "output_type": "stream",
     "text": [
      "Epoch: 61 | Epoch Time: 0m 11s\n",
      "\tTrain Loss: 0.1251386 | Train Acc: 96.78%\n",
      "\t Val. Loss: 0.1248029 |  Val. Acc: 96.77%\n"
     ]
    },
    {
     "name": "stderr",
     "output_type": "stream",
     "text": [
      "                                                                                \r"
     ]
    },
    {
     "name": "stdout",
     "output_type": "stream",
     "text": [
      "Epoch: 62 | Epoch Time: 0m 10s\n",
      "\tTrain Loss: 0.1240279 | Train Acc: 96.82%\n",
      "\t Val. Loss: 0.1237036 |  Val. Acc: 96.82%\n"
     ]
    },
    {
     "name": "stderr",
     "output_type": "stream",
     "text": [
      "                                                                                \r"
     ]
    },
    {
     "name": "stdout",
     "output_type": "stream",
     "text": [
      "Epoch: 63 | Epoch Time: 0m 11s\n",
      "\tTrain Loss: 0.1229312 | Train Acc: 96.85%\n",
      "\t Val. Loss: 0.1226036 |  Val. Acc: 96.83%\n"
     ]
    },
    {
     "name": "stderr",
     "output_type": "stream",
     "text": [
      "                                                                                \r"
     ]
    },
    {
     "name": "stdout",
     "output_type": "stream",
     "text": [
      "Epoch: 64 | Epoch Time: 0m 10s\n",
      "\tTrain Loss: 0.1218427 | Train Acc: 96.88%\n",
      "\t Val. Loss: 0.1215362 |  Val. Acc: 96.87%\n"
     ]
    },
    {
     "name": "stderr",
     "output_type": "stream",
     "text": [
      "                                                                                \r"
     ]
    },
    {
     "name": "stdout",
     "output_type": "stream",
     "text": [
      "Epoch: 65 | Epoch Time: 0m 11s\n",
      "\tTrain Loss: 0.1207638 | Train Acc: 96.91%\n",
      "\t Val. Loss: 0.1204778 |  Val. Acc: 96.90%\n"
     ]
    },
    {
     "name": "stderr",
     "output_type": "stream",
     "text": [
      "                                                                                \r"
     ]
    },
    {
     "name": "stdout",
     "output_type": "stream",
     "text": [
      "Epoch: 66 | Epoch Time: 0m 10s\n",
      "\tTrain Loss: 0.1197022 | Train Acc: 96.93%\n",
      "\t Val. Loss: 0.1194364 |  Val. Acc: 96.93%\n"
     ]
    },
    {
     "name": "stderr",
     "output_type": "stream",
     "text": [
      "                                                                                \r"
     ]
    },
    {
     "name": "stdout",
     "output_type": "stream",
     "text": [
      "Epoch: 67 | Epoch Time: 0m 10s\n",
      "\tTrain Loss: 0.1186709 | Train Acc: 96.96%\n",
      "\t Val. Loss: 0.1184127 |  Val. Acc: 96.96%\n"
     ]
    },
    {
     "name": "stderr",
     "output_type": "stream",
     "text": [
      "                                                                                \r"
     ]
    },
    {
     "name": "stdout",
     "output_type": "stream",
     "text": [
      "Epoch: 68 | Epoch Time: 0m 11s\n",
      "\tTrain Loss: 0.1176263 | Train Acc: 96.99%\n",
      "\t Val. Loss: 0.1173732 |  Val. Acc: 96.99%\n"
     ]
    },
    {
     "name": "stderr",
     "output_type": "stream",
     "text": [
      "                                                                                \r"
     ]
    },
    {
     "name": "stdout",
     "output_type": "stream",
     "text": [
      "Epoch: 69 | Epoch Time: 0m 10s\n",
      "\tTrain Loss: 0.1166015 | Train Acc: 97.02%\n",
      "\t Val. Loss: 0.1163479 |  Val. Acc: 97.03%\n"
     ]
    },
    {
     "name": "stderr",
     "output_type": "stream",
     "text": [
      "                                                                                \r"
     ]
    },
    {
     "name": "stdout",
     "output_type": "stream",
     "text": [
      "Epoch: 70 | Epoch Time: 0m 10s\n",
      "\tTrain Loss: 0.1155947 | Train Acc: 97.05%\n",
      "\t Val. Loss: 0.1153522 |  Val. Acc: 97.06%\n"
     ]
    },
    {
     "name": "stderr",
     "output_type": "stream",
     "text": [
      "                                                                                \r"
     ]
    },
    {
     "name": "stdout",
     "output_type": "stream",
     "text": [
      "Epoch: 71 | Epoch Time: 0m 10s\n",
      "\tTrain Loss: 0.1145968 | Train Acc: 97.08%\n",
      "\t Val. Loss: 0.1143867 |  Val. Acc: 97.09%\n"
     ]
    },
    {
     "name": "stderr",
     "output_type": "stream",
     "text": [
      "                                                                                \r"
     ]
    },
    {
     "name": "stdout",
     "output_type": "stream",
     "text": [
      "Epoch: 72 | Epoch Time: 0m 11s\n",
      "\tTrain Loss: 0.1136130 | Train Acc: 97.11%\n",
      "\t Val. Loss: 0.1134021 |  Val. Acc: 97.12%\n"
     ]
    },
    {
     "name": "stderr",
     "output_type": "stream",
     "text": [
      "                                                                                \r"
     ]
    },
    {
     "name": "stdout",
     "output_type": "stream",
     "text": [
      "Epoch: 73 | Epoch Time: 0m 11s\n",
      "\tTrain Loss: 0.1126552 | Train Acc: 97.14%\n",
      "\t Val. Loss: 0.1124294 |  Val. Acc: 97.15%\n"
     ]
    },
    {
     "name": "stderr",
     "output_type": "stream",
     "text": [
      "                                                                                \r"
     ]
    },
    {
     "name": "stdout",
     "output_type": "stream",
     "text": [
      "Epoch: 74 | Epoch Time: 0m 11s\n",
      "\tTrain Loss: 0.1116613 | Train Acc: 97.17%\n",
      "\t Val. Loss: 0.1114715 |  Val. Acc: 97.16%\n"
     ]
    },
    {
     "name": "stderr",
     "output_type": "stream",
     "text": [
      "                                                                                \r"
     ]
    },
    {
     "name": "stdout",
     "output_type": "stream",
     "text": [
      "Epoch: 75 | Epoch Time: 0m 11s\n",
      "\tTrain Loss: 0.1107270 | Train Acc: 97.19%\n",
      "\t Val. Loss: 0.1105387 |  Val. Acc: 97.20%\n"
     ]
    },
    {
     "name": "stderr",
     "output_type": "stream",
     "text": [
      "                                                                                \r"
     ]
    },
    {
     "name": "stdout",
     "output_type": "stream",
     "text": [
      "Epoch: 76 | Epoch Time: 0m 11s\n",
      "\tTrain Loss: 0.1097725 | Train Acc: 97.23%\n",
      "\t Val. Loss: 0.1096078 |  Val. Acc: 97.23%\n"
     ]
    },
    {
     "name": "stderr",
     "output_type": "stream",
     "text": [
      "                                                                                \r"
     ]
    },
    {
     "name": "stdout",
     "output_type": "stream",
     "text": [
      "Epoch: 77 | Epoch Time: 0m 10s\n",
      "\tTrain Loss: 0.1088556 | Train Acc: 97.25%\n",
      "\t Val. Loss: 0.1086967 |  Val. Acc: 97.26%\n"
     ]
    },
    {
     "name": "stderr",
     "output_type": "stream",
     "text": [
      "                                                                                \r"
     ]
    },
    {
     "name": "stdout",
     "output_type": "stream",
     "text": [
      "Epoch: 78 | Epoch Time: 0m 11s\n",
      "\tTrain Loss: 0.1079192 | Train Acc: 97.28%\n",
      "\t Val. Loss: 0.1077856 |  Val. Acc: 97.29%\n"
     ]
    },
    {
     "name": "stderr",
     "output_type": "stream",
     "text": [
      "                                                                                \r"
     ]
    },
    {
     "name": "stdout",
     "output_type": "stream",
     "text": [
      "Epoch: 79 | Epoch Time: 0m 10s\n",
      "\tTrain Loss: 0.1070181 | Train Acc: 97.31%\n",
      "\t Val. Loss: 0.1068716 |  Val. Acc: 97.32%\n"
     ]
    },
    {
     "name": "stderr",
     "output_type": "stream",
     "text": [
      "                                                                                \r"
     ]
    },
    {
     "name": "stdout",
     "output_type": "stream",
     "text": [
      "Epoch: 80 | Epoch Time: 0m 11s\n",
      "\tTrain Loss: 0.1061175 | Train Acc: 97.33%\n",
      "\t Val. Loss: 0.1059921 |  Val. Acc: 97.34%\n"
     ]
    },
    {
     "name": "stderr",
     "output_type": "stream",
     "text": [
      "                                                                                \r"
     ]
    },
    {
     "name": "stdout",
     "output_type": "stream",
     "text": [
      "Epoch: 81 | Epoch Time: 0m 10s\n",
      "\tTrain Loss: 0.1052345 | Train Acc: 97.35%\n",
      "\t Val. Loss: 0.1051248 |  Val. Acc: 97.37%\n"
     ]
    },
    {
     "name": "stderr",
     "output_type": "stream",
     "text": [
      "                                                                                \r"
     ]
    },
    {
     "name": "stdout",
     "output_type": "stream",
     "text": [
      "Epoch: 82 | Epoch Time: 0m 10s\n",
      "\tTrain Loss: 0.1043487 | Train Acc: 97.38%\n",
      "\t Val. Loss: 0.1042588 |  Val. Acc: 97.40%\n"
     ]
    },
    {
     "name": "stderr",
     "output_type": "stream",
     "text": [
      "                                                                                \r"
     ]
    },
    {
     "name": "stdout",
     "output_type": "stream",
     "text": [
      "Epoch: 83 | Epoch Time: 0m 11s\n",
      "\tTrain Loss: 0.1034939 | Train Acc: 97.41%\n",
      "\t Val. Loss: 0.1033919 |  Val. Acc: 97.40%\n"
     ]
    },
    {
     "name": "stderr",
     "output_type": "stream",
     "text": [
      "                                                                                \r"
     ]
    },
    {
     "name": "stdout",
     "output_type": "stream",
     "text": [
      "Epoch: 84 | Epoch Time: 0m 10s\n",
      "\tTrain Loss: 0.1026275 | Train Acc: 97.43%\n",
      "\t Val. Loss: 0.1025438 |  Val. Acc: 97.43%\n"
     ]
    },
    {
     "name": "stderr",
     "output_type": "stream",
     "text": [
      "                                                                                \r"
     ]
    },
    {
     "name": "stdout",
     "output_type": "stream",
     "text": [
      "Epoch: 85 | Epoch Time: 0m 11s\n",
      "\tTrain Loss: 0.1017783 | Train Acc: 97.46%\n",
      "\t Val. Loss: 0.1017037 |  Val. Acc: 97.46%\n"
     ]
    },
    {
     "name": "stderr",
     "output_type": "stream",
     "text": [
      "                                                                                \r"
     ]
    },
    {
     "name": "stdout",
     "output_type": "stream",
     "text": [
      "Epoch: 86 | Epoch Time: 0m 11s\n",
      "\tTrain Loss: 0.1009424 | Train Acc: 97.48%\n",
      "\t Val. Loss: 0.1009063 |  Val. Acc: 97.48%\n"
     ]
    },
    {
     "name": "stderr",
     "output_type": "stream",
     "text": [
      "                                                                                \r"
     ]
    },
    {
     "name": "stdout",
     "output_type": "stream",
     "text": [
      "Epoch: 87 | Epoch Time: 0m 11s\n",
      "\tTrain Loss: 0.1001131 | Train Acc: 97.51%\n",
      "\t Val. Loss: 0.1000753 |  Val. Acc: 97.51%\n"
     ]
    },
    {
     "name": "stderr",
     "output_type": "stream",
     "text": [
      "                                                                                \r"
     ]
    },
    {
     "name": "stdout",
     "output_type": "stream",
     "text": [
      "Epoch: 88 | Epoch Time: 0m 10s\n",
      "\tTrain Loss: 0.0992938 | Train Acc: 97.53%\n",
      "\t Val. Loss: 0.0992901 |  Val. Acc: 97.52%\n"
     ]
    },
    {
     "name": "stderr",
     "output_type": "stream",
     "text": [
      "                                                                                \r"
     ]
    },
    {
     "name": "stdout",
     "output_type": "stream",
     "text": [
      "Epoch: 89 | Epoch Time: 0m 11s\n",
      "\tTrain Loss: 0.0984980 | Train Acc: 97.56%\n",
      "\t Val. Loss: 0.0984748 |  Val. Acc: 97.55%\n"
     ]
    },
    {
     "name": "stderr",
     "output_type": "stream",
     "text": [
      "                                                                                \r"
     ]
    },
    {
     "name": "stdout",
     "output_type": "stream",
     "text": [
      "Epoch: 90 | Epoch Time: 0m 10s\n",
      "\tTrain Loss: 0.0976984 | Train Acc: 97.58%\n",
      "\t Val. Loss: 0.0976975 |  Val. Acc: 97.57%\n"
     ]
    },
    {
     "name": "stderr",
     "output_type": "stream",
     "text": [
      "                                                                                \r"
     ]
    },
    {
     "name": "stdout",
     "output_type": "stream",
     "text": [
      "Epoch: 91 | Epoch Time: 0m 10s\n",
      "\tTrain Loss: 0.0969095 | Train Acc: 97.59%\n",
      "\t Val. Loss: 0.0969107 |  Val. Acc: 97.59%\n"
     ]
    },
    {
     "name": "stderr",
     "output_type": "stream",
     "text": [
      "                                                                                \r"
     ]
    },
    {
     "name": "stdout",
     "output_type": "stream",
     "text": [
      "Epoch: 92 | Epoch Time: 0m 10s\n",
      "\tTrain Loss: 0.0961196 | Train Acc: 97.62%\n",
      "\t Val. Loss: 0.0961433 |  Val. Acc: 97.61%\n"
     ]
    },
    {
     "name": "stderr",
     "output_type": "stream",
     "text": [
      "                                                                                \r"
     ]
    },
    {
     "name": "stdout",
     "output_type": "stream",
     "text": [
      "Epoch: 93 | Epoch Time: 0m 10s\n",
      "\tTrain Loss: 0.0953461 | Train Acc: 97.63%\n",
      "\t Val. Loss: 0.0953850 |  Val. Acc: 97.62%\n"
     ]
    },
    {
     "name": "stderr",
     "output_type": "stream",
     "text": [
      "                                                                                \r"
     ]
    },
    {
     "name": "stdout",
     "output_type": "stream",
     "text": [
      "Epoch: 94 | Epoch Time: 0m 11s\n",
      "\tTrain Loss: 0.0945845 | Train Acc: 97.66%\n",
      "\t Val. Loss: 0.0946285 |  Val. Acc: 97.65%\n"
     ]
    },
    {
     "name": "stderr",
     "output_type": "stream",
     "text": [
      "                                                                                \r"
     ]
    },
    {
     "name": "stdout",
     "output_type": "stream",
     "text": [
      "Epoch: 95 | Epoch Time: 0m 11s\n",
      "\tTrain Loss: 0.0938277 | Train Acc: 97.68%\n",
      "\t Val. Loss: 0.0938927 |  Val. Acc: 97.67%\n"
     ]
    },
    {
     "name": "stderr",
     "output_type": "stream",
     "text": [
      "                                                                                \r"
     ]
    },
    {
     "name": "stdout",
     "output_type": "stream",
     "text": [
      "Epoch: 96 | Epoch Time: 0m 11s\n",
      "\tTrain Loss: 0.0930923 | Train Acc: 97.70%\n",
      "\t Val. Loss: 0.0931685 |  Val. Acc: 97.69%\n"
     ]
    },
    {
     "name": "stderr",
     "output_type": "stream",
     "text": [
      "                                                                                \r"
     ]
    },
    {
     "name": "stdout",
     "output_type": "stream",
     "text": [
      "Epoch: 97 | Epoch Time: 0m 11s\n",
      "\tTrain Loss: 0.0923433 | Train Acc: 97.72%\n",
      "\t Val. Loss: 0.0924389 |  Val. Acc: 97.70%\n"
     ]
    },
    {
     "name": "stderr",
     "output_type": "stream",
     "text": [
      "                                                                                \r"
     ]
    },
    {
     "name": "stdout",
     "output_type": "stream",
     "text": [
      "Epoch: 98 | Epoch Time: 0m 10s\n",
      "\tTrain Loss: 0.0916350 | Train Acc: 97.74%\n",
      "\t Val. Loss: 0.0917106 |  Val. Acc: 97.72%\n"
     ]
    },
    {
     "name": "stderr",
     "output_type": "stream",
     "text": [
      "                                                                                \r"
     ]
    },
    {
     "name": "stdout",
     "output_type": "stream",
     "text": [
      "Epoch: 99 | Epoch Time: 0m 10s\n",
      "\tTrain Loss: 0.0909050 | Train Acc: 97.76%\n",
      "\t Val. Loss: 0.0910118 |  Val. Acc: 97.73%\n"
     ]
    },
    {
     "name": "stderr",
     "output_type": "stream",
     "text": [
      "                                                                                \r"
     ]
    },
    {
     "name": "stdout",
     "output_type": "stream",
     "text": [
      "Epoch: 100 | Epoch Time: 0m 10s\n",
      "\tTrain Loss: 0.0902035 | Train Acc: 97.78%\n",
      "\t Val. Loss: 0.0903034 |  Val. Acc: 97.76%\n"
     ]
    },
    {
     "name": "stderr",
     "output_type": "stream",
     "text": [
      "                                                                                \r"
     ]
    },
    {
     "name": "stdout",
     "output_type": "stream",
     "text": [
      "Epoch: 101 | Epoch Time: 0m 10s\n",
      "\tTrain Loss: 0.0894906 | Train Acc: 97.80%\n",
      "\t Val. Loss: 0.0896070 |  Val. Acc: 97.78%\n"
     ]
    },
    {
     "name": "stderr",
     "output_type": "stream",
     "text": [
      "                                                                                \r"
     ]
    },
    {
     "name": "stdout",
     "output_type": "stream",
     "text": [
      "Epoch: 102 | Epoch Time: 0m 10s\n",
      "\tTrain Loss: 0.0888057 | Train Acc: 97.82%\n",
      "\t Val. Loss: 0.0889214 |  Val. Acc: 97.79%\n"
     ]
    },
    {
     "name": "stderr",
     "output_type": "stream",
     "text": [
      "                                                                                \r"
     ]
    },
    {
     "name": "stdout",
     "output_type": "stream",
     "text": [
      "Epoch: 103 | Epoch Time: 0m 10s\n",
      "\tTrain Loss: 0.0881175 | Train Acc: 97.84%\n",
      "\t Val. Loss: 0.0882504 |  Val. Acc: 97.81%\n"
     ]
    },
    {
     "name": "stderr",
     "output_type": "stream",
     "text": [
      "                                                                                \r"
     ]
    },
    {
     "name": "stdout",
     "output_type": "stream",
     "text": [
      "Epoch: 104 | Epoch Time: 0m 10s\n",
      "\tTrain Loss: 0.0874389 | Train Acc: 97.86%\n",
      "\t Val. Loss: 0.0875851 |  Val. Acc: 97.83%\n"
     ]
    },
    {
     "name": "stderr",
     "output_type": "stream",
     "text": [
      "                                                                                \r"
     ]
    },
    {
     "name": "stdout",
     "output_type": "stream",
     "text": [
      "Epoch: 105 | Epoch Time: 0m 10s\n",
      "\tTrain Loss: 0.0867682 | Train Acc: 97.87%\n",
      "\t Val. Loss: 0.0869265 |  Val. Acc: 97.85%\n"
     ]
    },
    {
     "name": "stderr",
     "output_type": "stream",
     "text": [
      "                                                                                \r"
     ]
    },
    {
     "name": "stdout",
     "output_type": "stream",
     "text": [
      "Epoch: 106 | Epoch Time: 0m 11s\n",
      "\tTrain Loss: 0.0861113 | Train Acc: 97.89%\n",
      "\t Val. Loss: 0.0862713 |  Val. Acc: 97.88%\n"
     ]
    },
    {
     "name": "stderr",
     "output_type": "stream",
     "text": [
      "                                                                                \r"
     ]
    },
    {
     "name": "stdout",
     "output_type": "stream",
     "text": [
      "Epoch: 107 | Epoch Time: 0m 11s\n",
      "\tTrain Loss: 0.0854861 | Train Acc: 97.91%\n",
      "\t Val. Loss: 0.0856179 |  Val. Acc: 97.89%\n"
     ]
    },
    {
     "name": "stderr",
     "output_type": "stream",
     "text": [
      "                                                                                \r"
     ]
    },
    {
     "name": "stdout",
     "output_type": "stream",
     "text": [
      "Epoch: 108 | Epoch Time: 0m 11s\n",
      "\tTrain Loss: 0.0848058 | Train Acc: 97.93%\n",
      "\t Val. Loss: 0.0849975 |  Val. Acc: 97.91%\n"
     ]
    },
    {
     "name": "stderr",
     "output_type": "stream",
     "text": [
      "                                                                                \r"
     ]
    },
    {
     "name": "stdout",
     "output_type": "stream",
     "text": [
      "Epoch: 109 | Epoch Time: 0m 11s\n",
      "\tTrain Loss: 0.0841695 | Train Acc: 97.95%\n",
      "\t Val. Loss: 0.0843618 |  Val. Acc: 97.93%\n"
     ]
    },
    {
     "name": "stderr",
     "output_type": "stream",
     "text": [
      "                                                                                \r"
     ]
    },
    {
     "name": "stdout",
     "output_type": "stream",
     "text": [
      "Epoch: 110 | Epoch Time: 0m 10s\n",
      "\tTrain Loss: 0.0835314 | Train Acc: 97.96%\n",
      "\t Val. Loss: 0.0837361 |  Val. Acc: 97.94%\n"
     ]
    },
    {
     "name": "stderr",
     "output_type": "stream",
     "text": [
      "                                                                                \r"
     ]
    },
    {
     "name": "stdout",
     "output_type": "stream",
     "text": [
      "Epoch: 111 | Epoch Time: 0m 10s\n",
      "\tTrain Loss: 0.0829070 | Train Acc: 97.98%\n",
      "\t Val. Loss: 0.0831119 |  Val. Acc: 97.96%\n"
     ]
    },
    {
     "name": "stderr",
     "output_type": "stream",
     "text": [
      "                                                                                \r"
     ]
    },
    {
     "name": "stdout",
     "output_type": "stream",
     "text": [
      "Epoch: 112 | Epoch Time: 0m 10s\n",
      "\tTrain Loss: 0.0822958 | Train Acc: 98.00%\n",
      "\t Val. Loss: 0.0825134 |  Val. Acc: 97.99%\n"
     ]
    },
    {
     "name": "stderr",
     "output_type": "stream",
     "text": [
      "                                                                                \r"
     ]
    },
    {
     "name": "stdout",
     "output_type": "stream",
     "text": [
      "Epoch: 113 | Epoch Time: 0m 10s\n",
      "\tTrain Loss: 0.0816723 | Train Acc: 98.01%\n",
      "\t Val. Loss: 0.0819133 |  Val. Acc: 98.00%\n"
     ]
    },
    {
     "name": "stderr",
     "output_type": "stream",
     "text": [
      "                                                                                \r"
     ]
    },
    {
     "name": "stdout",
     "output_type": "stream",
     "text": [
      "Epoch: 114 | Epoch Time: 0m 10s\n",
      "\tTrain Loss: 0.0810686 | Train Acc: 98.03%\n",
      "\t Val. Loss: 0.0813230 |  Val. Acc: 98.01%\n"
     ]
    },
    {
     "name": "stderr",
     "output_type": "stream",
     "text": [
      "                                                                                \r"
     ]
    },
    {
     "name": "stdout",
     "output_type": "stream",
     "text": [
      "Epoch: 115 | Epoch Time: 0m 10s\n",
      "\tTrain Loss: 0.0804717 | Train Acc: 98.05%\n",
      "\t Val. Loss: 0.0807151 |  Val. Acc: 98.04%\n"
     ]
    },
    {
     "name": "stderr",
     "output_type": "stream",
     "text": [
      "                                                                                \r"
     ]
    },
    {
     "name": "stdout",
     "output_type": "stream",
     "text": [
      "Epoch: 116 | Epoch Time: 0m 17s\n",
      "\tTrain Loss: 0.0798792 | Train Acc: 98.06%\n",
      "\t Val. Loss: 0.0801285 |  Val. Acc: 98.06%\n"
     ]
    },
    {
     "name": "stderr",
     "output_type": "stream",
     "text": [
      "                                                                                \r"
     ]
    },
    {
     "name": "stdout",
     "output_type": "stream",
     "text": [
      "Epoch: 117 | Epoch Time: 0m 11s\n",
      "\tTrain Loss: 0.0792913 | Train Acc: 98.08%\n",
      "\t Val. Loss: 0.0795553 |  Val. Acc: 98.07%\n"
     ]
    },
    {
     "name": "stderr",
     "output_type": "stream",
     "text": [
      "                                                                                \r"
     ]
    },
    {
     "name": "stdout",
     "output_type": "stream",
     "text": [
      "Epoch: 118 | Epoch Time: 0m 11s\n",
      "\tTrain Loss: 0.0787180 | Train Acc: 98.10%\n",
      "\t Val. Loss: 0.0789878 |  Val. Acc: 98.09%\n"
     ]
    },
    {
     "name": "stderr",
     "output_type": "stream",
     "text": [
      "                                                                                \r"
     ]
    },
    {
     "name": "stdout",
     "output_type": "stream",
     "text": [
      "Epoch: 119 | Epoch Time: 0m 11s\n",
      "\tTrain Loss: 0.0781374 | Train Acc: 98.11%\n",
      "\t Val. Loss: 0.0784202 |  Val. Acc: 98.11%\n"
     ]
    },
    {
     "name": "stderr",
     "output_type": "stream",
     "text": [
      "                                                                                \r"
     ]
    },
    {
     "name": "stdout",
     "output_type": "stream",
     "text": [
      "Epoch: 120 | Epoch Time: 0m 11s\n",
      "\tTrain Loss: 0.0775759 | Train Acc: 98.13%\n",
      "\t Val. Loss: 0.0778587 |  Val. Acc: 98.12%\n"
     ]
    },
    {
     "name": "stderr",
     "output_type": "stream",
     "text": [
      "                                                                                \r"
     ]
    },
    {
     "name": "stdout",
     "output_type": "stream",
     "text": [
      "Epoch: 121 | Epoch Time: 0m 10s\n",
      "\tTrain Loss: 0.0770154 | Train Acc: 98.14%\n",
      "\t Val. Loss: 0.0773019 |  Val. Acc: 98.13%\n"
     ]
    },
    {
     "name": "stderr",
     "output_type": "stream",
     "text": [
      "                                                                                \r"
     ]
    },
    {
     "name": "stdout",
     "output_type": "stream",
     "text": [
      "Epoch: 122 | Epoch Time: 0m 10s\n",
      "\tTrain Loss: 0.0764630 | Train Acc: 98.16%\n",
      "\t Val. Loss: 0.0767491 |  Val. Acc: 98.15%\n"
     ]
    },
    {
     "name": "stderr",
     "output_type": "stream",
     "text": [
      "                                                                                \r"
     ]
    },
    {
     "name": "stdout",
     "output_type": "stream",
     "text": [
      "Epoch: 123 | Epoch Time: 0m 10s\n",
      "\tTrain Loss: 0.0759033 | Train Acc: 98.17%\n",
      "\t Val. Loss: 0.0762122 |  Val. Acc: 98.17%\n"
     ]
    },
    {
     "name": "stderr",
     "output_type": "stream",
     "text": [
      "                                                                                \r"
     ]
    },
    {
     "name": "stdout",
     "output_type": "stream",
     "text": [
      "Epoch: 124 | Epoch Time: 0m 10s\n",
      "\tTrain Loss: 0.0753564 | Train Acc: 98.19%\n",
      "\t Val. Loss: 0.0756884 |  Val. Acc: 98.18%\n"
     ]
    },
    {
     "name": "stderr",
     "output_type": "stream",
     "text": [
      "                                                                                \r"
     ]
    },
    {
     "name": "stdout",
     "output_type": "stream",
     "text": [
      "Epoch: 125 | Epoch Time: 0m 10s\n",
      "\tTrain Loss: 0.0748468 | Train Acc: 98.21%\n",
      "\t Val. Loss: 0.0751480 |  Val. Acc: 98.19%\n"
     ]
    },
    {
     "name": "stderr",
     "output_type": "stream",
     "text": [
      "                                                                                \r"
     ]
    },
    {
     "name": "stdout",
     "output_type": "stream",
     "text": [
      "Epoch: 126 | Epoch Time: 0m 11s\n",
      "\tTrain Loss: 0.0742982 | Train Acc: 98.22%\n",
      "\t Val. Loss: 0.0746223 |  Val. Acc: 98.22%\n"
     ]
    },
    {
     "name": "stderr",
     "output_type": "stream",
     "text": [
      "                                                                                \r"
     ]
    },
    {
     "name": "stdout",
     "output_type": "stream",
     "text": [
      "Epoch: 127 | Epoch Time: 0m 11s\n",
      "\tTrain Loss: 0.0737595 | Train Acc: 98.24%\n",
      "\t Val. Loss: 0.0741009 |  Val. Acc: 98.23%\n"
     ]
    },
    {
     "name": "stderr",
     "output_type": "stream",
     "text": [
      "                                                                                \r"
     ]
    },
    {
     "name": "stdout",
     "output_type": "stream",
     "text": [
      "Epoch: 128 | Epoch Time: 0m 11s\n",
      "\tTrain Loss: 0.0732482 | Train Acc: 98.25%\n",
      "\t Val. Loss: 0.0735958 |  Val. Acc: 98.24%\n"
     ]
    },
    {
     "name": "stderr",
     "output_type": "stream",
     "text": [
      "                                                                                \r"
     ]
    },
    {
     "name": "stdout",
     "output_type": "stream",
     "text": [
      "Epoch: 129 | Epoch Time: 0m 11s\n",
      "\tTrain Loss: 0.0727298 | Train Acc: 98.27%\n",
      "\t Val. Loss: 0.0730845 |  Val. Acc: 98.26%\n"
     ]
    },
    {
     "name": "stderr",
     "output_type": "stream",
     "text": [
      "                                                                                \r"
     ]
    },
    {
     "name": "stdout",
     "output_type": "stream",
     "text": [
      "Epoch: 130 | Epoch Time: 0m 11s\n",
      "\tTrain Loss: 0.0722248 | Train Acc: 98.28%\n",
      "\t Val. Loss: 0.0725965 |  Val. Acc: 98.27%\n"
     ]
    },
    {
     "name": "stderr",
     "output_type": "stream",
     "text": [
      "                                                                                \r"
     ]
    },
    {
     "name": "stdout",
     "output_type": "stream",
     "text": [
      "Epoch: 131 | Epoch Time: 0m 11s\n",
      "\tTrain Loss: 0.0717144 | Train Acc: 98.29%\n",
      "\t Val. Loss: 0.0720797 |  Val. Acc: 98.29%\n"
     ]
    },
    {
     "name": "stderr",
     "output_type": "stream",
     "text": [
      "                                                                                \r"
     ]
    },
    {
     "name": "stdout",
     "output_type": "stream",
     "text": [
      "Epoch: 132 | Epoch Time: 0m 10s\n",
      "\tTrain Loss: 0.0712170 | Train Acc: 98.31%\n",
      "\t Val. Loss: 0.0715891 |  Val. Acc: 98.30%\n"
     ]
    },
    {
     "name": "stderr",
     "output_type": "stream",
     "text": [
      "                                                                                \r"
     ]
    },
    {
     "name": "stdout",
     "output_type": "stream",
     "text": [
      "Epoch: 133 | Epoch Time: 0m 10s\n",
      "\tTrain Loss: 0.0707136 | Train Acc: 98.32%\n",
      "\t Val. Loss: 0.0711014 |  Val. Acc: 98.31%\n"
     ]
    },
    {
     "name": "stderr",
     "output_type": "stream",
     "text": [
      "                                                                                \r"
     ]
    },
    {
     "name": "stdout",
     "output_type": "stream",
     "text": [
      "Epoch: 134 | Epoch Time: 0m 10s\n",
      "\tTrain Loss: 0.0702276 | Train Acc: 98.34%\n",
      "\t Val. Loss: 0.0706248 |  Val. Acc: 98.33%\n"
     ]
    },
    {
     "name": "stderr",
     "output_type": "stream",
     "text": [
      "                                                                                \r"
     ]
    },
    {
     "name": "stdout",
     "output_type": "stream",
     "text": [
      "Epoch: 135 | Epoch Time: 0m 10s\n",
      "\tTrain Loss: 0.0697562 | Train Acc: 98.35%\n",
      "\t Val. Loss: 0.0701376 |  Val. Acc: 98.34%\n"
     ]
    },
    {
     "name": "stderr",
     "output_type": "stream",
     "text": [
      "                                                                                \r"
     ]
    },
    {
     "name": "stdout",
     "output_type": "stream",
     "text": [
      "Epoch: 136 | Epoch Time: 0m 10s\n",
      "\tTrain Loss: 0.0692718 | Train Acc: 98.36%\n",
      "\t Val. Loss: 0.0696669 |  Val. Acc: 98.35%\n"
     ]
    },
    {
     "name": "stderr",
     "output_type": "stream",
     "text": [
      "                                                                                \r"
     ]
    },
    {
     "name": "stdout",
     "output_type": "stream",
     "text": [
      "Epoch: 137 | Epoch Time: 0m 10s\n",
      "\tTrain Loss: 0.0687939 | Train Acc: 98.37%\n",
      "\t Val. Loss: 0.0691985 |  Val. Acc: 98.37%\n"
     ]
    },
    {
     "name": "stderr",
     "output_type": "stream",
     "text": [
      "                                                                                \r"
     ]
    },
    {
     "name": "stdout",
     "output_type": "stream",
     "text": [
      "Epoch: 138 | Epoch Time: 0m 11s\n",
      "\tTrain Loss: 0.0683230 | Train Acc: 98.39%\n",
      "\t Val. Loss: 0.0687377 |  Val. Acc: 98.38%\n"
     ]
    },
    {
     "name": "stderr",
     "output_type": "stream",
     "text": [
      "                                                                                \r"
     ]
    },
    {
     "name": "stdout",
     "output_type": "stream",
     "text": [
      "Epoch: 139 | Epoch Time: 0m 11s\n",
      "\tTrain Loss: 0.0678656 | Train Acc: 98.40%\n",
      "\t Val. Loss: 0.0682867 |  Val. Acc: 98.40%\n"
     ]
    },
    {
     "name": "stderr",
     "output_type": "stream",
     "text": [
      "                                                                                \r"
     ]
    },
    {
     "name": "stdout",
     "output_type": "stream",
     "text": [
      "Epoch: 140 | Epoch Time: 0m 10s\n",
      "\tTrain Loss: 0.0674057 | Train Acc: 98.41%\n",
      "\t Val. Loss: 0.0678396 |  Val. Acc: 98.41%\n"
     ]
    },
    {
     "name": "stderr",
     "output_type": "stream",
     "text": [
      "                                                                                \r"
     ]
    },
    {
     "name": "stdout",
     "output_type": "stream",
     "text": [
      "Epoch: 141 | Epoch Time: 0m 10s\n",
      "\tTrain Loss: 0.0669458 | Train Acc: 98.42%\n",
      "\t Val. Loss: 0.0673870 |  Val. Acc: 98.42%\n"
     ]
    },
    {
     "name": "stderr",
     "output_type": "stream",
     "text": [
      "                                                                                \r"
     ]
    },
    {
     "name": "stdout",
     "output_type": "stream",
     "text": [
      "Epoch: 142 | Epoch Time: 0m 10s\n",
      "\tTrain Loss: 0.0664987 | Train Acc: 98.44%\n",
      "\t Val. Loss: 0.0669586 |  Val. Acc: 98.44%\n"
     ]
    },
    {
     "name": "stderr",
     "output_type": "stream",
     "text": [
      "                                                                                \r"
     ]
    },
    {
     "name": "stdout",
     "output_type": "stream",
     "text": [
      "Epoch: 143 | Epoch Time: 0m 10s\n",
      "\tTrain Loss: 0.0660533 | Train Acc: 98.45%\n",
      "\t Val. Loss: 0.0665111 |  Val. Acc: 98.45%\n"
     ]
    },
    {
     "name": "stderr",
     "output_type": "stream",
     "text": [
      "                                                                                \r"
     ]
    },
    {
     "name": "stdout",
     "output_type": "stream",
     "text": [
      "Epoch: 144 | Epoch Time: 0m 10s\n",
      "\tTrain Loss: 0.0656129 | Train Acc: 98.47%\n",
      "\t Val. Loss: 0.0660871 |  Val. Acc: 98.46%\n"
     ]
    },
    {
     "name": "stderr",
     "output_type": "stream",
     "text": [
      "                                                                                \r"
     ]
    },
    {
     "name": "stdout",
     "output_type": "stream",
     "text": [
      "Epoch: 145 | Epoch Time: 0m 10s\n",
      "\tTrain Loss: 0.0651959 | Train Acc: 98.47%\n",
      "\t Val. Loss: 0.0656542 |  Val. Acc: 98.48%\n"
     ]
    },
    {
     "name": "stderr",
     "output_type": "stream",
     "text": [
      "                                                                                \r"
     ]
    },
    {
     "name": "stdout",
     "output_type": "stream",
     "text": [
      "Epoch: 146 | Epoch Time: 0m 10s\n",
      "\tTrain Loss: 0.0647473 | Train Acc: 98.48%\n",
      "\t Val. Loss: 0.0652595 |  Val. Acc: 98.48%\n"
     ]
    },
    {
     "name": "stderr",
     "output_type": "stream",
     "text": [
      "                                                                                \r"
     ]
    },
    {
     "name": "stdout",
     "output_type": "stream",
     "text": [
      "Epoch: 147 | Epoch Time: 0m 11s\n",
      "\tTrain Loss: 0.0643266 | Train Acc: 98.50%\n",
      "\t Val. Loss: 0.0648111 |  Val. Acc: 98.49%\n"
     ]
    },
    {
     "name": "stderr",
     "output_type": "stream",
     "text": [
      "                                                                                \r"
     ]
    },
    {
     "name": "stdout",
     "output_type": "stream",
     "text": [
      "Epoch: 148 | Epoch Time: 0m 11s\n",
      "\tTrain Loss: 0.0639071 | Train Acc: 98.51%\n",
      "\t Val. Loss: 0.0644023 |  Val. Acc: 98.50%\n"
     ]
    },
    {
     "name": "stderr",
     "output_type": "stream",
     "text": [
      "                                                                                \r"
     ]
    },
    {
     "name": "stdout",
     "output_type": "stream",
     "text": [
      "Epoch: 149 | Epoch Time: 0m 11s\n",
      "\tTrain Loss: 0.0634899 | Train Acc: 98.52%\n",
      "\t Val. Loss: 0.0640033 |  Val. Acc: 98.51%\n"
     ]
    },
    {
     "name": "stderr",
     "output_type": "stream",
     "text": [
      "                                                                                \r"
     ]
    },
    {
     "name": "stdout",
     "output_type": "stream",
     "text": [
      "Epoch: 150 | Epoch Time: 0m 11s\n",
      "\tTrain Loss: 0.0630697 | Train Acc: 98.53%\n",
      "\t Val. Loss: 0.0635866 |  Val. Acc: 98.53%\n",
      "Finished Training\n"
     ]
    }
   ],
   "source": [
    "for epoch in range(EPOCHS):\n",
    "    start_time = time.monotonic()\n",
    "    train_loss, train_acc = train(model, train_loader, optimizer, criterion, device)\n",
    "    valid_loss, valid_acc = evaluate(model, val_loader, criterion, device)\n",
    "    \n",
    "    end_time = time.monotonic()\n",
    "    epoch_mins, epoch_secs = epoch_time(start_time, end_time)\n",
    "\n",
    "    print(f'Epoch: {epoch+1:02} | Epoch Time: {epoch_mins}m {epoch_secs}s')\n",
    "    print(f'\\tTrain Loss: {train_loss:.7f} | Train Acc: {train_acc*100:.2f}%')\n",
    "    print(f'\\t Val. Loss: {valid_loss:.7f} |  Val. Acc: {valid_acc*100:.2f}%')\n",
    "    \n",
    "    list_val_loss.append(valid_loss)\n",
    "    list_train_loss.append(train_loss)\n",
    "    \n",
    "    list_val_acc.append(valid_acc)\n",
    "    list_train_acc.append(train_acc)\n",
    "    \n",
    "    if (epoch %20 == 0 or (epoch > 200 and epoch %5 == 0))and valid_loss < best_valid_loss:\n",
    "        torch.save(model.state_dict(), \"./LinearClassifierFinal/no_control_in_training_WEIGHTED_e\"+str(epoch)+\"_v\"+str(valid_acc)+\".p\")\n",
    "print('Finished Training')"
   ]
  },
  {
   "cell_type": "code",
   "execution_count": 59,
   "metadata": {},
   "outputs": [
    {
     "name": "stderr",
     "output_type": "stream",
     "text": [
      "No artists with labels found to put in legend.  Note that artists whose label start with an underscore are ignored when legend() is called with no argument.\n"
     ]
    },
    {
     "data": {
      "text/plain": [
       "[<matplotlib.lines.Line2D at 0x7f928d8fd6d0>]"
      ]
     },
     "execution_count": 59,
     "metadata": {},
     "output_type": "execute_result"
    },
    {
     "data": {
      "image/png": "[encoded data removed]",
      "text/plain": [
       "<Figure size 432x288 with 1 Axes>"
      ]
     },
     "metadata": {
      "needs_background": "light"
     },
     "output_type": "display_data"
    }
   ],
   "source": [
    "# Plot Loss vs Epochs\n",
    "plt.legend(loc='upper left')\n",
    "plt.xlabel('Epochs')\n",
    "plt.ylabel('Loss')\n",
    "\n",
    "plt.plot(range(len(list_train_loss)),list_train_loss,'tab:orange',label='Training Loss')\n",
    "plt.plot(range(len(list_val_loss)), list_val_loss,'tab:blue',label='Validation Loss')"
   ]
  },
  {
   "cell_type": "code",
   "execution_count": 60,
   "metadata": {},
   "outputs": [
    {
     "name": "stderr",
     "output_type": "stream",
     "text": [
      "No artists with labels found to put in legend.  Note that artists whose label start with an underscore are ignored when legend() is called with no argument.\n"
     ]
    },
    {
     "data": {
      "text/plain": [
       "[<matplotlib.lines.Line2D at 0x7f928ef6bdc0>]"
      ]
     },
     "execution_count": 60,
     "metadata": {},
     "output_type": "execute_result"
    },
    {
     "data": {
      "image/png": "[encoded data removed]",
      "text/plain": [
       "<Figure size 432x288 with 1 Axes>"
      ]
     },
     "metadata": {
      "needs_background": "light"
     },
     "output_type": "display_data"
    }
   ],
   "source": [
    "# Plot Accuracy vs Epochs\n",
    "plt.legend(loc='upper left')\n",
    "plt.xlabel('Epochs')\n",
    "plt.ylabel('Accuracy')\n",
    "\n",
    "plt.plot(range(len(list_train_acc)),list_train_acc,'tab:orange',label='Training Accuracy')\n",
    "plt.plot(range(len(list_val_acc)),list_val_acc,'tab:blue',label='Validation Accuracy')"
   ]
  },
  {
   "cell_type": "code",
   "execution_count": 61,
   "metadata": {},
   "outputs": [
    {
     "name": "stdout",
     "output_type": "stream",
     "text": [
      "8387210 = 7387210 + 1000000\n"
     ]
    }
   ],
   "source": [
    "# Get Exclusive test set\n",
    "final_training_set = set(final_training_list)\n",
    "all_frames_set = set(all_frames_list)\n",
    "\n",
    "exclusive_testing_set = all_frames_set - final_training_set\n",
    "\n",
    "# Sanity check\n",
    "print(len(all_frames_set), \"=\", len(exclusive_testing_set), \"+\", len(final_training_set))\n",
    "\n",
    "# Randomly shuffle the test list\n",
    "exclusive_testing_list = list(exclusive_testing_set)\n",
    "random.seed(42)\n",
    "random.shuffle(exclusive_testing_list)"
   ]
  },
  {
   "cell_type": "code",
   "execution_count": 63,
   "metadata": {},
   "outputs": [
    {
     "name": "stdout",
     "output_type": "stream",
     "text": [
      "Length of final_testing_list: 1200000 with 300000 Preexposure 300000 Postcond 300000 Postext 300000 Postret.\n"
     ]
    }
   ],
   "source": [
    "# Create a training list of 1mil files\n",
    "final_testing_list = []\n",
    "\n",
    "preexposure_count = 0\n",
    "postcond_count = 0\n",
    "postext_count = 0\n",
    "postret_count = 0\n",
    "\n",
    "# 1353968 -> Number of frames of postret (smallest class)\n",
    "for sample in exclusive_testing_list:\n",
    "    if \"preexposure\" in sample:\n",
    "        if preexposure_count < 300000:\n",
    "            final_testing_list.append(sample)\n",
    "            preexposure_count += 1\n",
    "    elif \"postcond\" in sample:\n",
    "        if postcond_count < 300000:\n",
    "            final_testing_list.append(sample)\n",
    "            postcond_count += 1\n",
    "    elif \"postext\" in sample:\n",
    "        if postext_count < 300000:\n",
    "            final_testing_list.append(sample)\n",
    "            postext_count += 1\n",
    "    elif \"postret\" in sample:\n",
    "        if postret_count < 300000:\n",
    "            final_testing_list.append(sample)\n",
    "            postret_count += 1\n",
    "            \n",
    "print(\"Length of final_testing_list:\", len(final_testing_list), \"with\", preexposure_count, \"Preexposure\", postcond_count, \"Postcond\", postext_count, \"Postext\", postret_count, \"Postret.\")"
   ]
  },
  {
   "cell_type": "code",
   "execution_count": 64,
   "metadata": {},
   "outputs": [],
   "source": [
    "test_latent_array = []\n",
    "test_label_array = []"
   ]
  },
  {
   "cell_type": "code",
   "execution_count": 75,
   "metadata": {},
   "outputs": [
    {
     "name": "stdout",
     "output_type": "stream",
     "text": [
      "Processed 10000 Images..\n",
      "Processed 20000 Images..\n",
      "Processed 30000 Images..\n",
      "Processed 40000 Images..\n",
      "Processed 50000 Images..\n",
      "Processed 60000 Images..\n",
      "Processed 70000 Images..\n",
      "Processed 80000 Images..\n",
      "Processed 90000 Images..\n",
      "Processed 100000 Images..\n",
      "Processed 110000 Images..\n",
      "Processed 120000 Images..\n",
      "Processed 130000 Images..\n",
      "Processed 140000 Images..\n",
      "Processed 150000 Images..\n",
      "Processed 160000 Images..\n",
      "Processed 170000 Images..\n",
      "Processed 180000 Images..\n",
      "Processed 190000 Images..\n",
      "Processed 200000 Images..\n",
      "Processed 210000 Images..\n",
      "Processed 220000 Images..\n",
      "Processed 230000 Images..\n",
      "Processed 240000 Images..\n",
      "Processed 250000 Images..\n",
      "Processed 260000 Images..\n",
      "Processed 270000 Images..\n",
      "Processed 280000 Images..\n",
      "Processed 290000 Images..\n",
      "Processed 300000 Images..\n",
      "Processed 310000 Images..\n",
      "Processed 320000 Images..\n",
      "Processed 330000 Images..\n",
      "Processed 340000 Images..\n",
      "Processed 350000 Images..\n",
      "Processed 360000 Images..\n",
      "Processed 370000 Images..\n",
      "Processed 380000 Images..\n",
      "Processed 390000 Images..\n",
      "Processed 400000 Images..\n",
      "Processed 410000 Images..\n",
      "Processed 420000 Images..\n",
      "Processed 430000 Images..\n",
      "Processed 440000 Images..\n",
      "Processed 450000 Images..\n",
      "Processed 460000 Images..\n",
      "Processed 470000 Images..\n",
      "Processed 480000 Images..\n",
      "Processed 490000 Images..\n",
      "Processed 500000 Images..\n",
      "Processed 510000 Images..\n",
      "Processed 520000 Images..\n",
      "Processed 530000 Images..\n",
      "Processed 540000 Images..\n",
      "Processed 550000 Images..\n",
      "Processed 560000 Images..\n",
      "Processed 570000 Images..\n",
      "Processed 580000 Images..\n",
      "Processed 590000 Images..\n",
      "Processed 600000 Images..\n",
      "Processed 610000 Images..\n",
      "Processed 620000 Images..\n",
      "Processed 630000 Images..\n",
      "Processed 640000 Images..\n",
      "Processed 650000 Images..\n",
      "Processed 660000 Images..\n",
      "Processed 670000 Images..\n",
      "Processed 680000 Images..\n",
      "Processed 690000 Images..\n",
      "Processed 700000 Images..\n",
      "Processed 710000 Images..\n",
      "Processed 720000 Images..\n",
      "Processed 730000 Images..\n",
      "Processed 740000 Images..\n",
      "Processed 750000 Images..\n",
      "Processed 760000 Images..\n",
      "Processed 770000 Images..\n",
      "Processed 780000 Images..\n",
      "Processed 790000 Images..\n",
      "Processed 800000 Images..\n",
      "Processed 810000 Images..\n",
      "Processed 820000 Images..\n",
      "Processed 830000 Images..\n",
      "Processed 840000 Images..\n",
      "Processed 850000 Images..\n",
      "Processed 860000 Images..\n",
      "Processed 870000 Images..\n",
      "Processed 880000 Images..\n",
      "Processed 890000 Images..\n",
      "Processed 900000 Images..\n",
      "Processed 910000 Images..\n",
      "Processed 920000 Images..\n",
      "Processed 930000 Images..\n",
      "Processed 940000 Images..\n"
     ]
    }
   ],
   "source": [
    "image_count = 0\n",
    "\n",
    "for image in final_testing_list[len(test_label_array):]:\n",
    "    image_count += 1\n",
    "    if image_count % 10000 == 0:\n",
    "        print(\"Processed\", image_count, \"Images..\")\n",
    "    name = image\n",
    "    if \"preexposure\" in name:\n",
    "        append_name = \"/media/data_cifs/anagara8/preexposure_action/\"\n",
    "    elif \"postcond\" in name:\n",
    "        append_name = \"/media/data_cifs/anagara8/postcond_action/\"\n",
    "    elif \"postext\" in name:\n",
    "        append_name = \"/media/data_cifs/anagara8/postext_action/\"\n",
    "    elif \"postret\" in name:\n",
    "        append_name = \"/media/data_cifs/anagara8/postret_action/\"\n",
    "    \n",
    "    image = cv2.imread(append_name + image)\n",
    "    image = cv2.resize(image, (224, 224), interpolation = cv2.INTER_AREA)\n",
    "    tensor_frame = torchvision.transforms.functional.to_tensor(image).unsqueeze(0).cuda()\n",
    "    with torch.no_grad():\n",
    "        latent_representation = ae_model_weighted.module.encoder(tensor_frame)\n",
    "    test_latent_array.append(latent_representation.squeeze().cpu().numpy())\n",
    "    \n",
    "    # Append One Hot encoded Labels\n",
    "    if \"preexposure\" in name:\n",
    "        test_label_array.append([1.0, 0.0, 0.0, 0.0])\n",
    "    elif \"postcond\" in name:\n",
    "        test_label_array.append([0.0, 1.0, 0.0, 0.0])\n",
    "    elif \"postext\" in name:\n",
    "        test_label_array.append([0.0, 0.0, 1.0, 0.0])\n",
    "    elif \"postret\" in name:\n",
    "        test_label_array.append([0.0, 0.0, 0.0, 1.0])\n",
    "    else:\n",
    "        print(\"ERROR: Incorrect Experiment Phase, no label associated.\")\n",
    "        "
   ]
  },
  {
   "cell_type": "code",
   "execution_count": 69,
   "metadata": {},
   "outputs": [
    {
     "data": {
      "text/plain": [
       "257549"
      ]
     },
     "execution_count": 69,
     "metadata": {},
     "output_type": "execute_result"
    }
   ],
   "source": [
    "len(test_latent_array)"
   ]
  },
  {
   "cell_type": "code",
   "execution_count": 70,
   "metadata": {},
   "outputs": [],
   "source": [
    "# Testing Dataset\n",
    "batch_size = 512\n",
    "# test_data = list(zip(test_latent_array, test_label_array))\n",
    "\n",
    "# test_data = list(zip(testing_latents, pre_testing_labels))\n",
    "test_data = list(zip(onl , test_label_array))\n",
    "test_dataset = LatentDataset(test_data)\n",
    "test_loader = torch.utils.data.DataLoader(test_dataset, batch_size=batch_size, num_workers = 4, shuffle=True)"
   ]
  },
  {
   "cell_type": "code",
   "execution_count": 71,
   "metadata": {},
   "outputs": [],
   "source": [
    "def test(model, iterator, criterion, device):\n",
    "\n",
    "    epoch_loss = 0\n",
    "    epoch_acc = 0\n",
    "    \n",
    "    predictions = []\n",
    "    targets = []\n",
    "\n",
    "    model.eval()\n",
    "    with torch.no_grad():\n",
    "        for sample in tqdm(iterator, desc=\"Validating\", leave=False):\n",
    "            latent, label = sample\n",
    "        \n",
    "            latent = latent.to(device)\n",
    "            label = label.squeeze().to(device)\n",
    "            \n",
    "            y_pred = model(latent)\n",
    "\n",
    "            loss = criterion(y_pred, label)\n",
    "            acc = calculate_accuracy(y_pred, label)\n",
    "\n",
    "            epoch_loss += loss.item()\n",
    "            epoch_acc += acc.item()\n",
    "            \n",
    "            targets.append(label)\n",
    "            predictions.append(y_pred)\n",
    "\n",
    "    return epoch_loss / len(iterator), epoch_acc / len(iterator), predictions, targets"
   ]
  },
  {
   "cell_type": "code",
   "execution_count": 72,
   "metadata": {},
   "outputs": [
    {
     "name": "stderr",
     "output_type": "stream",
     "text": [
      "                                                                                \r"
     ]
    },
    {
     "name": "stdout",
     "output_type": "stream",
     "text": [
      "Finished Testing in 3.9071058180416003 seconds\n"
     ]
    }
   ],
   "source": [
    "# Testing the model\n",
    "start_time = time.monotonic()\n",
    "test_loss, test_acc, predictions, targets = test(model, test_loader, criterion, device)\n",
    "\n",
    "end_time = time.monotonic()\n",
    "epoch_mins, epoch_secs = epoch_time(start_time, end_time)\n",
    "\n",
    "# list_test_loss.append(test_loss)\n",
    "# list_test_acc.append(test_acc)\n",
    "        \n",
    "print('Finished Testing in', end_time-start_time, \"seconds\")"
   ]
  },
  {
   "cell_type": "code",
   "execution_count": 73,
   "metadata": {},
   "outputs": [
    {
     "name": "stdout",
     "output_type": "stream",
     "text": [
      "Test Loss: 1.8869860368588613  Test Acc: 0.8508208372763225\n"
     ]
    }
   ],
   "source": [
    "print(\"Test Loss:\", test_loss, \" Test Acc:\", test_acc)"
   ]
  },
  {
   "cell_type": "code",
   "execution_count": 74,
   "metadata": {},
   "outputs": [
    {
     "name": "stdout",
     "output_type": "stream",
     "text": [
      "[[66576 12057  3898  1368]\n",
      " [  855 46825   628   631]\n",
      " [ 3115  4908 30312    57]\n",
      " [ 1878  7024  2038 75379]]\n"
     ]
    },
    {
     "data": {
      "image/png": "[encoded data removed]",
      "text/plain": [
       "<Figure size 432x288 with 2 Axes>"
      ]
     },
     "metadata": {
      "needs_background": "light"
     },
     "output_type": "display_data"
    }
   ],
   "source": [
    "test_predictions = []\n",
    "test_targets = []\n",
    "\n",
    "for prediction_batch in predictions:\n",
    "    for prediction in prediction_batch:\n",
    "        test_predictions.append(torch.argmax(prediction, dim = 0).cpu().numpy())\n",
    "        \n",
    "for target_batch in targets:\n",
    "    for target in target_batch:\n",
    "        test_targets.append(torch.argmax(target, dim = 0).cpu().numpy())\n",
    "\n",
    "from sklearn.metrics import confusion_matrix\n",
    "\n",
    "cf_matrix = confusion_matrix(test_targets, test_predictions)\n",
    "\n",
    "print(cf_matrix)\n",
    "\n",
    "import seaborn as sns\n",
    "\n",
    "ax = sns.heatmap(cf_matrix, annot=True, cmap='Blues')\n",
    "\n",
    "ax.set_title('Linear Classifier Trained on Autoencoder Latents\\n\\n');\n",
    "ax.set_xlabel('\\nPredicted Values')\n",
    "ax.set_ylabel('Ground Truth Values\\n');\n",
    "\n",
    "ax.xaxis.set_ticklabels(['Preexposure', 'Postcond', 'Postext', 'Postret'])\n",
    "ax.yaxis.set_ticklabels(['Preexposure', 'Postcond', 'Postext', 'Postret'])\n",
    "\n",
    "plt.show()"
   ]
  },
  {
   "cell_type": "code",
   "execution_count": null,
   "metadata": {},
   "outputs": [],
   "source": []
  }
 ],
 "metadata": {
  "kernelspec": {
   "display_name": "pythorch",
   "language": "python",
   "name": "pythorch"
  },
  "language_info": {
   "codemirror_mode": {
    "name": "ipython",
    "version": 3
   },
   "file_extension": ".py",
   "mimetype": "text/x-python",
   "name": "python",
   "nbconvert_exporter": "python",
   "pygments_lexer": "ipython3",
   "version": "3.9.10"
  }
 },
 "nbformat": 4,
 "nbformat_minor": 4
}
