{
 "cells": [
  {
   "cell_type": "code",
   "execution_count": 1,
   "metadata": {},
   "outputs": [
    {
     "name": "stderr",
     "output_type": "stream",
     "text": [
      "/home/anagara8/.conda/envs/pytorch/lib/python3.9/site-packages/tqdm/auto.py:22: TqdmWarning: IProgress not found. Please update jupyter and ipywidgets. See https://ipywidgets.readthedocs.io/en/stable/user_install.html\n",
      "  from .autonotebook import tqdm as notebook_tqdm\n"
     ]
    }
   ],
   "source": [
    "from datetime import timedelta\n",
    "import torch\n",
    "from torch.autograd import Variable\n",
    "import torchvision\n",
    "import torch.nn as nn\n",
    "import torch.nn.functional as F\n",
    "from torchvision import datasets, models,transforms\n",
    "import torch.optim as optim\n",
    "from torch.optim import lr_scheduler\n",
    "from torch.utils.data import TensorDataset, DataLoader,random_split\n",
    "from __future__ import print_function\n",
    "import numpy as np \n",
    "import pandas as pd\n",
    "import os\n",
    "import time\n",
    "import random\n",
    "import matplotlib.pyplot as plt \n",
    "from torch.autograd import Function\n",
    "from collections import OrderedDict\n",
    "import torch.nn as nn\n",
    "import math\n",
    "import torchvision.models as models\n",
    "import pickle\n",
    "from tqdm.auto import tqdm\n",
    "import cv2\n",
    "# import wandb\n",
    "from sklearn.model_selection import KFold\n",
    "# from torchsummary import summary\n",
    "import glob\n",
    "from sklearn.manifold import TSNE\n",
    "import seaborn as sns\n",
    "import collections\n",
    "from PIL import Image\n",
    "from sklearn.preprocessing import StandardScaler\n",
    "from sklearn.decomposition import PCA\n",
    "import umap\n",
    "import umap.umap_ as UMAP\n",
    "import pims"
   ]
  },
  {
   "cell_type": "code",
   "execution_count": 2,
   "metadata": {},
   "outputs": [],
   "source": [
    "class ResizeConv2d(nn.Module):\n",
    "\n",
    "    def __init__(self, in_channels, out_channels, kernel_size, scale_factor, mode='nearest'):\n",
    "        super().__init__()\n",
    "        self.scale_factor = scale_factor\n",
    "        self.mode = mode\n",
    "        self.conv = nn.Conv2d(in_channels, out_channels, kernel_size, stride=1, padding=1)\n",
    "\n",
    "    def forward(self, x):\n",
    "        x = F.interpolate(x, scale_factor=self.scale_factor, mode=self.mode)\n",
    "        x = self.conv(x)\n",
    "        return x\n",
    "\n",
    "class BasicBlockEnc(nn.Module):\n",
    "\n",
    "    def __init__(self, in_planes, stride=1):\n",
    "        super().__init__()\n",
    "\n",
    "        planes = in_planes*stride\n",
    "\n",
    "        self.conv1 = nn.Conv2d(in_planes, planes, kernel_size=3, stride=stride, padding=1, bias=False)\n",
    "        self.bn1 = nn.BatchNorm2d(planes)\n",
    "        self.conv2 = nn.Conv2d(planes, planes, kernel_size=3, stride=1, padding=1, bias=False)\n",
    "        self.bn2 = nn.BatchNorm2d(planes)\n",
    "\n",
    "        if stride == 1:\n",
    "            self.shortcut = nn.Sequential()\n",
    "        else:\n",
    "            self.shortcut = nn.Sequential(\n",
    "                nn.Conv2d(in_planes, planes, kernel_size=1, stride=stride, bias=False),\n",
    "                nn.BatchNorm2d(planes)\n",
    "            )\n",
    "\n",
    "    def forward(self, x):\n",
    "        out = torch.relu(self.bn1(self.conv1(x)))\n",
    "        out = self.bn2(self.conv2(out))\n",
    "        out += self.shortcut(x)\n",
    "        out = torch.relu(out)\n",
    "        return out\n",
    "\n",
    "class BasicBlockDec(nn.Module):\n",
    "\n",
    "    def __init__(self, in_planes, stride=1):\n",
    "        super().__init__()\n",
    "\n",
    "        planes = int(in_planes/stride)\n",
    "\n",
    "        self.conv2 = nn.Conv2d(in_planes, in_planes, kernel_size=3, stride=1, padding=1, bias=False)\n",
    "        self.bn2 = nn.BatchNorm2d(in_planes)\n",
    "        # self.bn1 could have been placed here, but that messes up the order of the layers when printing the class\n",
    "\n",
    "        if stride == 1:\n",
    "            self.conv1 = nn.Conv2d(in_planes, planes, kernel_size=3, stride=1, padding=1, bias=False)\n",
    "            self.bn1 = nn.BatchNorm2d(planes)\n",
    "            self.shortcut = nn.Sequential()\n",
    "        else:\n",
    "            self.conv1 = ResizeConv2d(in_planes, planes, kernel_size=3, scale_factor=stride)\n",
    "            self.bn1 = nn.BatchNorm2d(planes)\n",
    "            self.shortcut = nn.Sequential(\n",
    "                ResizeConv2d(in_planes, planes, kernel_size=3, scale_factor=stride),\n",
    "                nn.BatchNorm2d(planes)\n",
    "            )\n",
    "\n",
    "    def forward(self, x):\n",
    "        out = torch.relu(self.bn2(self.conv2(x)))\n",
    "        out = self.bn1(self.conv1(out))\n",
    "        out += self.shortcut(x)\n",
    "        out = torch.relu(out)\n",
    "        return out\n",
    "\n",
    "class ResNet18Enc(nn.Module):\n",
    "    def __init__(self, z_dim=32):\n",
    "        super(ResNet18Enc, self).__init__()\n",
    "        self.z_dim = z_dim\n",
    "        self.ResNet18 = models.resnet18(pretrained=True)\n",
    "        self.num_feature = self.ResNet18.fc.in_features\n",
    "        self.ResNet18.fc = nn.Linear(self.num_feature, 1*self.z_dim)\n",
    "        \n",
    "    def forward(self, x):\n",
    "        x = self.ResNet18(x)\n",
    "        return x\n",
    "\n",
    "class ResNet18Dec(nn.Module):\n",
    "\n",
    "    def __init__(self, num_Blocks=[2,2,2,2], z_dim=32, nc=3):\n",
    "        super().__init__()\n",
    "        self.in_planes = 512\n",
    "\n",
    "        self.linear = nn.Linear(z_dim, 512)\n",
    "\n",
    "        self.layer4 = self._make_layer(BasicBlockDec, 256, num_Blocks[3], stride=2)\n",
    "        self.layer3 = self._make_layer(BasicBlockDec, 128, num_Blocks[2], stride=2)\n",
    "        self.layer2 = self._make_layer(BasicBlockDec, 64, num_Blocks[1], stride=2)\n",
    "        self.layer1 = self._make_layer(BasicBlockDec, 64, num_Blocks[0], stride=1)\n",
    "        self.conv1 = ResizeConv2d(64, nc, kernel_size=3, scale_factor=2)\n",
    "\n",
    "    def _make_layer(self, BasicBlockDec, planes, num_Blocks, stride):\n",
    "        strides = [stride] + [1]*(num_Blocks-1)\n",
    "        layers = []\n",
    "        for stride in reversed(strides):\n",
    "            layers += [BasicBlockDec(self.in_planes, stride)]\n",
    "        self.in_planes = planes\n",
    "        return nn.Sequential(*layers)\n",
    "\n",
    "    def forward(self, z):\n",
    "        x = self.linear(z)\n",
    "        x = x.view(z.size(0), 512, 1, 1)\n",
    "        x = F.interpolate(x, scale_factor=7)\n",
    "        x = self.layer4(x)\n",
    "        x = self.layer3(x)\n",
    "        x = self.layer2(x)\n",
    "        x = self.layer1(x)\n",
    "        x = F.interpolate(x, size=(112,112), mode='bilinear')\n",
    "        x = torch.sigmoid(self.conv1(x))\n",
    "        # [x, channels, height, width]\n",
    "        x = x.view(x.size(0), 3, 224, 224)\n",
    "        return x\n",
    "\n",
    "class newAE(nn.Module):\n",
    "\n",
    "    def __init__(self, z_dim):\n",
    "        super(newAE, self).__init__()\n",
    "        self.encoder = ResNet18Enc(z_dim=z_dim)\n",
    "        self.decoder = ResNet18Dec(z_dim=z_dim)\n",
    "\n",
    "    def forward(self, x):\n",
    "        z = self.encoder(x)\n",
    "#         mean, logvar = self.encoder(x)\n",
    "#         z = self.reparameterize(mean, logvar)\n",
    "        x = self.decoder(z)\n",
    "        return x\n",
    "\n",
    "    @staticmethod\n",
    "    def reparameterize(mean, logvar):\n",
    "        std = torch.exp(logvar / 2) # in log-space, squareroot is divide by two\n",
    "        epsilon = torch.randn_like(std)\n",
    "        return epsilon * std + mean"
   ]
  },
  {
   "cell_type": "code",
   "execution_count": 3,
   "metadata": {},
   "outputs": [
    {
     "data": {
      "text/plain": [
       "DataParallel(\n",
       "  (module): newAE(\n",
       "    (encoder): ResNet18Enc(\n",
       "      (ResNet18): ResNet(\n",
       "        (conv1): Conv2d(3, 64, kernel_size=(7, 7), stride=(2, 2), padding=(3, 3), bias=False)\n",
       "        (bn1): BatchNorm2d(64, eps=1e-05, momentum=0.1, affine=True, track_running_stats=True)\n",
       "        (relu): ReLU(inplace=True)\n",
       "        (maxpool): MaxPool2d(kernel_size=3, stride=2, padding=1, dilation=1, ceil_mode=False)\n",
       "        (layer1): Sequential(\n",
       "          (0): BasicBlock(\n",
       "            (conv1): Conv2d(64, 64, kernel_size=(3, 3), stride=(1, 1), padding=(1, 1), bias=False)\n",
       "            (bn1): BatchNorm2d(64, eps=1e-05, momentum=0.1, affine=True, track_running_stats=True)\n",
       "            (relu): ReLU(inplace=True)\n",
       "            (conv2): Conv2d(64, 64, kernel_size=(3, 3), stride=(1, 1), padding=(1, 1), bias=False)\n",
       "            (bn2): BatchNorm2d(64, eps=1e-05, momentum=0.1, affine=True, track_running_stats=True)\n",
       "          )\n",
       "          (1): BasicBlock(\n",
       "            (conv1): Conv2d(64, 64, kernel_size=(3, 3), stride=(1, 1), padding=(1, 1), bias=False)\n",
       "            (bn1): BatchNorm2d(64, eps=1e-05, momentum=0.1, affine=True, track_running_stats=True)\n",
       "            (relu): ReLU(inplace=True)\n",
       "            (conv2): Conv2d(64, 64, kernel_size=(3, 3), stride=(1, 1), padding=(1, 1), bias=False)\n",
       "            (bn2): BatchNorm2d(64, eps=1e-05, momentum=0.1, affine=True, track_running_stats=True)\n",
       "          )\n",
       "        )\n",
       "        (layer2): Sequential(\n",
       "          (0): BasicBlock(\n",
       "            (conv1): Conv2d(64, 128, kernel_size=(3, 3), stride=(2, 2), padding=(1, 1), bias=False)\n",
       "            (bn1): BatchNorm2d(128, eps=1e-05, momentum=0.1, affine=True, track_running_stats=True)\n",
       "            (relu): ReLU(inplace=True)\n",
       "            (conv2): Conv2d(128, 128, kernel_size=(3, 3), stride=(1, 1), padding=(1, 1), bias=False)\n",
       "            (bn2): BatchNorm2d(128, eps=1e-05, momentum=0.1, affine=True, track_running_stats=True)\n",
       "            (downsample): Sequential(\n",
       "              (0): Conv2d(64, 128, kernel_size=(1, 1), stride=(2, 2), bias=False)\n",
       "              (1): BatchNorm2d(128, eps=1e-05, momentum=0.1, affine=True, track_running_stats=True)\n",
       "            )\n",
       "          )\n",
       "          (1): BasicBlock(\n",
       "            (conv1): Conv2d(128, 128, kernel_size=(3, 3), stride=(1, 1), padding=(1, 1), bias=False)\n",
       "            (bn1): BatchNorm2d(128, eps=1e-05, momentum=0.1, affine=True, track_running_stats=True)\n",
       "            (relu): ReLU(inplace=True)\n",
       "            (conv2): Conv2d(128, 128, kernel_size=(3, 3), stride=(1, 1), padding=(1, 1), bias=False)\n",
       "            (bn2): BatchNorm2d(128, eps=1e-05, momentum=0.1, affine=True, track_running_stats=True)\n",
       "          )\n",
       "        )\n",
       "        (layer3): Sequential(\n",
       "          (0): BasicBlock(\n",
       "            (conv1): Conv2d(128, 256, kernel_size=(3, 3), stride=(2, 2), padding=(1, 1), bias=False)\n",
       "            (bn1): BatchNorm2d(256, eps=1e-05, momentum=0.1, affine=True, track_running_stats=True)\n",
       "            (relu): ReLU(inplace=True)\n",
       "            (conv2): Conv2d(256, 256, kernel_size=(3, 3), stride=(1, 1), padding=(1, 1), bias=False)\n",
       "            (bn2): BatchNorm2d(256, eps=1e-05, momentum=0.1, affine=True, track_running_stats=True)\n",
       "            (downsample): Sequential(\n",
       "              (0): Conv2d(128, 256, kernel_size=(1, 1), stride=(2, 2), bias=False)\n",
       "              (1): BatchNorm2d(256, eps=1e-05, momentum=0.1, affine=True, track_running_stats=True)\n",
       "            )\n",
       "          )\n",
       "          (1): BasicBlock(\n",
       "            (conv1): Conv2d(256, 256, kernel_size=(3, 3), stride=(1, 1), padding=(1, 1), bias=False)\n",
       "            (bn1): BatchNorm2d(256, eps=1e-05, momentum=0.1, affine=True, track_running_stats=True)\n",
       "            (relu): ReLU(inplace=True)\n",
       "            (conv2): Conv2d(256, 256, kernel_size=(3, 3), stride=(1, 1), padding=(1, 1), bias=False)\n",
       "            (bn2): BatchNorm2d(256, eps=1e-05, momentum=0.1, affine=True, track_running_stats=True)\n",
       "          )\n",
       "        )\n",
       "        (layer4): Sequential(\n",
       "          (0): BasicBlock(\n",
       "            (conv1): Conv2d(256, 512, kernel_size=(3, 3), stride=(2, 2), padding=(1, 1), bias=False)\n",
       "            (bn1): BatchNorm2d(512, eps=1e-05, momentum=0.1, affine=True, track_running_stats=True)\n",
       "            (relu): ReLU(inplace=True)\n",
       "            (conv2): Conv2d(512, 512, kernel_size=(3, 3), stride=(1, 1), padding=(1, 1), bias=False)\n",
       "            (bn2): BatchNorm2d(512, eps=1e-05, momentum=0.1, affine=True, track_running_stats=True)\n",
       "            (downsample): Sequential(\n",
       "              (0): Conv2d(256, 512, kernel_size=(1, 1), stride=(2, 2), bias=False)\n",
       "              (1): BatchNorm2d(512, eps=1e-05, momentum=0.1, affine=True, track_running_stats=True)\n",
       "            )\n",
       "          )\n",
       "          (1): BasicBlock(\n",
       "            (conv1): Conv2d(512, 512, kernel_size=(3, 3), stride=(1, 1), padding=(1, 1), bias=False)\n",
       "            (bn1): BatchNorm2d(512, eps=1e-05, momentum=0.1, affine=True, track_running_stats=True)\n",
       "            (relu): ReLU(inplace=True)\n",
       "            (conv2): Conv2d(512, 512, kernel_size=(3, 3), stride=(1, 1), padding=(1, 1), bias=False)\n",
       "            (bn2): BatchNorm2d(512, eps=1e-05, momentum=0.1, affine=True, track_running_stats=True)\n",
       "          )\n",
       "        )\n",
       "        (avgpool): AdaptiveAvgPool2d(output_size=(1, 1))\n",
       "        (fc): Linear(in_features=512, out_features=32, bias=True)\n",
       "      )\n",
       "    )\n",
       "    (decoder): ResNet18Dec(\n",
       "      (linear): Linear(in_features=32, out_features=512, bias=True)\n",
       "      (layer4): Sequential(\n",
       "        (0): BasicBlockDec(\n",
       "          (conv2): Conv2d(512, 512, kernel_size=(3, 3), stride=(1, 1), padding=(1, 1), bias=False)\n",
       "          (bn2): BatchNorm2d(512, eps=1e-05, momentum=0.1, affine=True, track_running_stats=True)\n",
       "          (conv1): Conv2d(512, 512, kernel_size=(3, 3), stride=(1, 1), padding=(1, 1), bias=False)\n",
       "          (bn1): BatchNorm2d(512, eps=1e-05, momentum=0.1, affine=True, track_running_stats=True)\n",
       "          (shortcut): Sequential()\n",
       "        )\n",
       "        (1): BasicBlockDec(\n",
       "          (conv2): Conv2d(512, 512, kernel_size=(3, 3), stride=(1, 1), padding=(1, 1), bias=False)\n",
       "          (bn2): BatchNorm2d(512, eps=1e-05, momentum=0.1, affine=True, track_running_stats=True)\n",
       "          (conv1): ResizeConv2d(\n",
       "            (conv): Conv2d(512, 256, kernel_size=(3, 3), stride=(1, 1), padding=(1, 1))\n",
       "          )\n",
       "          (bn1): BatchNorm2d(256, eps=1e-05, momentum=0.1, affine=True, track_running_stats=True)\n",
       "          (shortcut): Sequential(\n",
       "            (0): ResizeConv2d(\n",
       "              (conv): Conv2d(512, 256, kernel_size=(3, 3), stride=(1, 1), padding=(1, 1))\n",
       "            )\n",
       "            (1): BatchNorm2d(256, eps=1e-05, momentum=0.1, affine=True, track_running_stats=True)\n",
       "          )\n",
       "        )\n",
       "      )\n",
       "      (layer3): Sequential(\n",
       "        (0): BasicBlockDec(\n",
       "          (conv2): Conv2d(256, 256, kernel_size=(3, 3), stride=(1, 1), padding=(1, 1), bias=False)\n",
       "          (bn2): BatchNorm2d(256, eps=1e-05, momentum=0.1, affine=True, track_running_stats=True)\n",
       "          (conv1): Conv2d(256, 256, kernel_size=(3, 3), stride=(1, 1), padding=(1, 1), bias=False)\n",
       "          (bn1): BatchNorm2d(256, eps=1e-05, momentum=0.1, affine=True, track_running_stats=True)\n",
       "          (shortcut): Sequential()\n",
       "        )\n",
       "        (1): BasicBlockDec(\n",
       "          (conv2): Conv2d(256, 256, kernel_size=(3, 3), stride=(1, 1), padding=(1, 1), bias=False)\n",
       "          (bn2): BatchNorm2d(256, eps=1e-05, momentum=0.1, affine=True, track_running_stats=True)\n",
       "          (conv1): ResizeConv2d(\n",
       "            (conv): Conv2d(256, 128, kernel_size=(3, 3), stride=(1, 1), padding=(1, 1))\n",
       "          )\n",
       "          (bn1): BatchNorm2d(128, eps=1e-05, momentum=0.1, affine=True, track_running_stats=True)\n",
       "          (shortcut): Sequential(\n",
       "            (0): ResizeConv2d(\n",
       "              (conv): Conv2d(256, 128, kernel_size=(3, 3), stride=(1, 1), padding=(1, 1))\n",
       "            )\n",
       "            (1): BatchNorm2d(128, eps=1e-05, momentum=0.1, affine=True, track_running_stats=True)\n",
       "          )\n",
       "        )\n",
       "      )\n",
       "      (layer2): Sequential(\n",
       "        (0): BasicBlockDec(\n",
       "          (conv2): Conv2d(128, 128, kernel_size=(3, 3), stride=(1, 1), padding=(1, 1), bias=False)\n",
       "          (bn2): BatchNorm2d(128, eps=1e-05, momentum=0.1, affine=True, track_running_stats=True)\n",
       "          (conv1): Conv2d(128, 128, kernel_size=(3, 3), stride=(1, 1), padding=(1, 1), bias=False)\n",
       "          (bn1): BatchNorm2d(128, eps=1e-05, momentum=0.1, affine=True, track_running_stats=True)\n",
       "          (shortcut): Sequential()\n",
       "        )\n",
       "        (1): BasicBlockDec(\n",
       "          (conv2): Conv2d(128, 128, kernel_size=(3, 3), stride=(1, 1), padding=(1, 1), bias=False)\n",
       "          (bn2): BatchNorm2d(128, eps=1e-05, momentum=0.1, affine=True, track_running_stats=True)\n",
       "          (conv1): ResizeConv2d(\n",
       "            (conv): Conv2d(128, 64, kernel_size=(3, 3), stride=(1, 1), padding=(1, 1))\n",
       "          )\n",
       "          (bn1): BatchNorm2d(64, eps=1e-05, momentum=0.1, affine=True, track_running_stats=True)\n",
       "          (shortcut): Sequential(\n",
       "            (0): ResizeConv2d(\n",
       "              (conv): Conv2d(128, 64, kernel_size=(3, 3), stride=(1, 1), padding=(1, 1))\n",
       "            )\n",
       "            (1): BatchNorm2d(64, eps=1e-05, momentum=0.1, affine=True, track_running_stats=True)\n",
       "          )\n",
       "        )\n",
       "      )\n",
       "      (layer1): Sequential(\n",
       "        (0): BasicBlockDec(\n",
       "          (conv2): Conv2d(64, 64, kernel_size=(3, 3), stride=(1, 1), padding=(1, 1), bias=False)\n",
       "          (bn2): BatchNorm2d(64, eps=1e-05, momentum=0.1, affine=True, track_running_stats=True)\n",
       "          (conv1): Conv2d(64, 64, kernel_size=(3, 3), stride=(1, 1), padding=(1, 1), bias=False)\n",
       "          (bn1): BatchNorm2d(64, eps=1e-05, momentum=0.1, affine=True, track_running_stats=True)\n",
       "          (shortcut): Sequential()\n",
       "        )\n",
       "        (1): BasicBlockDec(\n",
       "          (conv2): Conv2d(64, 64, kernel_size=(3, 3), stride=(1, 1), padding=(1, 1), bias=False)\n",
       "          (bn2): BatchNorm2d(64, eps=1e-05, momentum=0.1, affine=True, track_running_stats=True)\n",
       "          (conv1): Conv2d(64, 64, kernel_size=(3, 3), stride=(1, 1), padding=(1, 1), bias=False)\n",
       "          (bn1): BatchNorm2d(64, eps=1e-05, momentum=0.1, affine=True, track_running_stats=True)\n",
       "          (shortcut): Sequential()\n",
       "        )\n",
       "      )\n",
       "      (conv1): ResizeConv2d(\n",
       "        (conv): Conv2d(64, 3, kernel_size=(3, 3), stride=(1, 1), padding=(1, 1))\n",
       "      )\n",
       "    )\n",
       "  )\n",
       ")"
      ]
     },
     "execution_count": 3,
     "metadata": {},
     "output_type": "execute_result"
    }
   ],
   "source": [
    "ae_model_mse = newAE(32)\n",
    "ae_model_mse = nn.DataParallel(ae_model_mse)\n",
    "ae_model_mse = ae_model_mse.cuda()\n",
    "ae_model_mse.load_state_dict(torch.load(\"new_architecture_MSE_e2400.p\"))\n",
    "ae_model_mse.eval()"
   ]
  },
  {
   "cell_type": "code",
   "execution_count": 4,
   "metadata": {},
   "outputs": [
    {
     "name": "stdout",
     "output_type": "stream",
     "text": [
      "Training File List containing 8387210 frames loaded in: 1.0353202819824219\n"
     ]
    }
   ],
   "source": [
    "# Loading all frames\n",
    "start = time.time()\n",
    "all_frames_list = np.load(\"all_frame_and_action_list.npy\")\n",
    "end = time.time()\n",
    "print(\"Training File List containing\", len(all_frames_list), \"frames loaded in:\", end - start)"
   ]
  },
  {
   "cell_type": "code",
   "execution_count": 5,
   "metadata": {},
   "outputs": [],
   "source": [
    "random.seed(42)\n",
    "random.shuffle(all_frames_list)"
   ]
  },
  {
   "cell_type": "code",
   "execution_count": 6,
   "metadata": {},
   "outputs": [
    {
     "name": "stdout",
     "output_type": "stream",
     "text": [
      "Length of untouched Training list: 8387210\n",
      "Length of training list without control animals: 6688187\n",
      "Length of control animal list: 1699023\n",
      "Length of edited training + control animals: 8387210\n"
     ]
    }
   ],
   "source": [
    "# Removing the Control Animals\n",
    "\n",
    "# Control animal camera IDs:\n",
    "control_animal_list = [\"cam_17202338\",\n",
    "                        \"cam_17202345\",\n",
    "                        \"cam_17202346\",#('9')\n",
    "                        \"cam_6394839\",\n",
    "                        \"cam_6394846\",\n",
    "                        \"cam_6394840\"]\n",
    "\n",
    "control_animal_samples = []\n",
    "\n",
    "# Store indices for poping\n",
    "control_animal_indices = []\n",
    "\n",
    "# Convert from Numpy Array to Python List\n",
    "final_training_list = all_frames_list\n",
    "# Create a copy for sanity checks\n",
    "final_training_list2 = []\n",
    "\n",
    "training_latents = []\n",
    "training_labels = []\n",
    "\n",
    "testing_latents = []\n",
    "testing_labels = []\n",
    "\n",
    "for idx in range(len(final_training_list)):\n",
    "    # We know all control animals are from FC-D\n",
    "    animal_found = False\n",
    "    if \"FC-D\" in final_training_list[idx]:\n",
    "        for control_animal in control_animal_list:\n",
    "            if control_animal in final_training_list[idx]:\n",
    "                control_animal_samples.append(final_training_list[idx])\n",
    "                control_animal_indices.append(idx)\n",
    "                animal_found = True\n",
    "#     if not animal_found:\n",
    "#         training_latents.append(all_latents_array[idx])\n",
    "#         training_labels.append(all_labels_array[idx])\n",
    "#     else:\n",
    "#         testing_latents.append(all_latents_array[idx])\n",
    "#         testing_labels.append(all_labels_array[idx])\n",
    "            \n",
    "initial_training_set = set(final_training_list)\n",
    "control_set = set(control_animal_samples)\n",
    "final_training_list2 = list(initial_training_set-control_set)\n",
    "\n",
    "print(\"Length of untouched Training list:\", len(final_training_list))\n",
    "print(\"Length of training list without control animals:\", len(final_training_list2))\n",
    "print(\"Length of control animal list:\", len(control_animal_samples))\n",
    "print(\"Length of edited training + control animals:\", len(control_animal_samples) + len(final_training_list2))\n",
    "# print(\"Length of corresponding latents and labels:\", len(training_latents), len(training_labels))\n",
    "# print(\"Length of Testing vectors:\", len(testing_latents))"
   ]
  },
  {
   "cell_type": "code",
   "execution_count": 7,
   "metadata": {},
   "outputs": [
    {
     "name": "stdout",
     "output_type": "stream",
     "text": [
      "Length of final_training_list: 1000000 with 250000 Preexposure 250000 Postcond 250000 Postext 250000 Postret.\n"
     ]
    }
   ],
   "source": [
    "# Create a training list of 1mil files\n",
    "final_training_list = []\n",
    "\n",
    "preexposure_count = 0\n",
    "postcond_count = 0\n",
    "postext_count = 0\n",
    "postret_count = 0\n",
    "\n",
    "# 1353968 -> Number of frames of postret (smallest class)\n",
    "for sample in final_training_list2:\n",
    "    if \"preexposure\" in sample:\n",
    "        if preexposure_count < 250000:\n",
    "            final_training_list.append(sample)\n",
    "            preexposure_count += 1\n",
    "    elif \"postcond\" in sample:\n",
    "        if postcond_count < 250000:\n",
    "            final_training_list.append(sample)\n",
    "            postcond_count += 1\n",
    "    elif \"postext\" in sample:\n",
    "        if postext_count < 250000:\n",
    "            final_training_list.append(sample)\n",
    "            postext_count += 1\n",
    "    elif \"postret\" in sample:\n",
    "        if postret_count < 250000:\n",
    "            final_training_list.append(sample)\n",
    "            postret_count += 1\n",
    "            \n",
    "print(\"Length of final_training_list:\", len(final_training_list), \"with\", preexposure_count, \"Preexposure\", postcond_count, \"Postcond\", postext_count, \"Postext\", postret_count, \"Postret.\")"
   ]
  },
  {
   "cell_type": "code",
   "execution_count": 8,
   "metadata": {},
   "outputs": [],
   "source": [
    "all_labels_array = []\n",
    "all_latents_array = []"
   ]
  },
  {
   "cell_type": "code",
   "execution_count": null,
   "metadata": {},
   "outputs": [
    {
     "name": "stdout",
     "output_type": "stream",
     "text": [
      "Processed 10000 Images..\n"
     ]
    }
   ],
   "source": [
    "image_count = 0\n",
    "\n",
    "for image in final_training_list[len(all_labels_array):]:\n",
    "    image_count += 1\n",
    "    if image_count % 10000 == 0:\n",
    "        print(\"Processed\", image_count, \"Images..\")\n",
    "    name = image\n",
    "    if \"preexposure\" in name:\n",
    "        append_name = \"/media/data_cifs/anagara8/preexposure_action/\"\n",
    "    elif \"postcond\" in name:\n",
    "        append_name = \"/media/data_cifs/anagara8/postcond_action/\"\n",
    "    elif \"postext\" in name:\n",
    "        append_name = \"/media/data_cifs/anagara8/postext_action/\"\n",
    "    elif \"postret\" in name:\n",
    "        append_name = \"/media/data_cifs/anagara8/postret_action/\"\n",
    "    \n",
    "    image = cv2.imread(append_name + image)\n",
    "    image = cv2.resize(image, (224, 224), interpolation = cv2.INTER_AREA)\n",
    "    tensor_frame = torchvision.transforms.functional.to_tensor(image).unsqueeze(0).cuda()\n",
    "    with torch.no_grad():\n",
    "        latent_representation = ae_model_mse.module.encoder(tensor_frame)\n",
    "    all_latents_array.append(latent_representation.squeeze().cpu().numpy())\n",
    "    \n",
    "    # Append One Hot encoded Labels\n",
    "    if \"preexposure\" in name:\n",
    "        all_labels_array.append([1.0, 0.0, 0.0, 0.0])\n",
    "    elif \"postcond\" in name:\n",
    "        all_labels_array.append([0.0, 1.0, 0.0, 0.0])\n",
    "    elif \"postext\" in name:\n",
    "        all_labels_array.append([0.0, 0.0, 1.0, 0.0])\n",
    "    elif \"postret\" in name:\n",
    "        all_labels_array.append([0.0, 0.0, 0.0, 1.0])\n",
    "    else:\n",
    "        print(\"ERROR: Incorrect Experiment Phase, no label associated.\")\n",
    "\n",
    "        \n",
    "print(\"All done!\")"
   ]
  },
  {
   "cell_type": "code",
   "execution_count": 29,
   "metadata": {},
   "outputs": [
    {
     "data": {
      "text/plain": [
       "1000000"
      ]
     },
     "execution_count": 29,
     "metadata": {},
     "output_type": "execute_result"
    }
   ],
   "source": [
    "len(all_latents_array)"
   ]
  },
  {
   "cell_type": "code",
   "execution_count": 9,
   "metadata": {},
   "outputs": [],
   "source": [
    "# np.save(\"1mil_latents_array_mse_model.npy\", all_latents_array)\n",
    "all_latents_array = np.load(\"1mil_latents_array_mse_model.npy\")"
   ]
  },
  {
   "cell_type": "code",
   "execution_count": 10,
   "metadata": {},
   "outputs": [
    {
     "data": {
      "text/plain": [
       "'FC-B_1-6_postretrieval_09-26_09-28video_2018Y_09M_27D_00h_39m_46s_cam_17202346-0000_45652.jpg'"
      ]
     },
     "execution_count": 10,
     "metadata": {},
     "output_type": "execute_result"
    }
   ],
   "source": [
    "final_training_list[0]"
   ]
  },
  {
   "cell_type": "code",
   "execution_count": 11,
   "metadata": {},
   "outputs": [],
   "source": [
    "frame_names = []\n",
    "for image in final_training_list:\n",
    "    name = image\n",
    "    if \"preexposure\" in name:\n",
    "        append_name = \"/media/data_cifs/anagara8/preexposure_action/\"+name\n",
    "    elif \"postcond\" in name:\n",
    "        append_name = \"/media/data_cifs/anagara8/postcond_action/\"+name\n",
    "    elif \"postext\" in name:\n",
    "        append_name = \"/media/data_cifs/anagara8/postext_action/\"+name\n",
    "    elif \"postret\" in name:\n",
    "        append_name = \"/media/data_cifs/anagara8/postret_action/\"+name\n",
    "    frame_names.append(append_name)"
   ]
  },
  {
   "cell_type": "code",
   "execution_count": 12,
   "metadata": {},
   "outputs": [],
   "source": [
    "# np.save(\"1mil_latents_array_mse_modelFRAMES.npy\", frame_names)\n",
    "frame_names = np.load(\"1mil_latents_array_mse_modelFRAMES.npy\")"
   ]
  },
  {
   "cell_type": "code",
   "execution_count": 13,
   "metadata": {},
   "outputs": [
    {
     "data": {
      "text/plain": [
       "1000000"
      ]
     },
     "execution_count": 13,
     "metadata": {},
     "output_type": "execute_result"
    }
   ],
   "source": [
    "len(frame_names)"
   ]
  },
  {
   "cell_type": "code",
   "execution_count": 14,
   "metadata": {},
   "outputs": [
    {
     "data": {
      "text/plain": [
       "'/media/data_cifs/anagara8/postext_action/'"
      ]
     },
     "execution_count": 14,
     "metadata": {},
     "output_type": "execute_result"
    }
   ],
   "source": [
    "frame_names[1]"
   ]
  },
  {
   "cell_type": "code",
   "execution_count": 15,
   "metadata": {},
   "outputs": [],
   "source": [
    "for image in final_training_list:\n",
    "    name = image\n",
    "    if \"preexposure\" in name:\n",
    "        all_labels_array.append([1.0, 0.0, 0.0, 0.0])\n",
    "    elif \"postcond\" in name:\n",
    "        all_labels_array.append([0.0, 1.0, 0.0, 0.0])\n",
    "    elif \"postext\" in name:\n",
    "        all_labels_array.append([0.0, 0.0, 1.0, 0.0])\n",
    "    elif \"postret\" in name:\n",
    "        all_labels_array.append([0.0, 0.0, 0.0, 1.0])\n",
    "    else:\n",
    "        print(\"ERROR: Incorrect Experiment Phase, no label associated.\")"
   ]
  },
  {
   "cell_type": "code",
   "execution_count": 16,
   "metadata": {},
   "outputs": [],
   "source": [
    "# np.save(\"1mil_labels_array_mse_model.npy\", all_labels_array)"
   ]
  },
  {
   "cell_type": "code",
   "execution_count": 17,
   "metadata": {},
   "outputs": [
    {
     "data": {
      "text/plain": [
       "1000000"
      ]
     },
     "execution_count": 17,
     "metadata": {},
     "output_type": "execute_result"
    }
   ],
   "source": [
    "len(all_latents_array)"
   ]
  },
  {
   "cell_type": "code",
   "execution_count": 18,
   "metadata": {},
   "outputs": [],
   "source": [
    "# Creating the DataLoader\n",
    "class LatentDataset(torch.utils.data.Dataset):\n",
    "    def __init__(self, dataset, augmentations = None):\n",
    "        super(LatentDataset, self).__init__()\n",
    "        \n",
    "        # Latents are stored as the first element\n",
    "        self.vector_list = [item[0] for item in dataset]\n",
    "        # Labels are stored as the second element\n",
    "        self.label_list = [item[1] for item in dataset]\n",
    "        \n",
    "        self.augmentations = augmentations\n",
    "    \n",
    "    def __len__(self):\n",
    "        return len(self.label_list)\n",
    "\n",
    "    def __getitem__(self, idx):\n",
    "        vector = torch.tensor(self.vector_list[idx])\n",
    "        label = torch.tensor(self.label_list[idx])\n",
    "        return vector, label"
   ]
  },
  {
   "cell_type": "code",
   "execution_count": 19,
   "metadata": {},
   "outputs": [
    {
     "name": "stdout",
     "output_type": "stream",
     "text": [
      "Length: 1000000 -> Training set size: 800000 | Validation set size: 200000\n"
     ]
    }
   ],
   "source": [
    "m = len(all_latents_array)\n",
    "test_train_split = 0.2\n",
    "\n",
    "torch.manual_seed(42)\n",
    "\n",
    "train_data, val_data = random_split(list(zip(all_latents_array, all_labels_array)), [int(math.ceil(m-m*test_train_split)), int(m*test_train_split)])\n",
    "print(\"Length:\", len(train_data) + len(val_data), \"-> Training set size:\", len(train_data), \"| Validation set size:\", len(val_data))\n",
    "\n",
    "# train_data, val_data = random_split(list(zip(all_latents_array, all_labels_array)), [int(math.ceil(m-m*test_train_split)), int(m*test_train_split)])\n",
    "# print(\"Length:\", len(train_data) + len(val_data), \"-> Training set size:\", len(train_data), \"| Validation set size:\", len(val_data))"
   ]
  },
  {
   "cell_type": "code",
   "execution_count": 20,
   "metadata": {},
   "outputs": [],
   "source": [
    "train_dataset = LatentDataset(train_data)\n",
    "val_dataset = LatentDataset(val_data)"
   ]
  },
  {
   "cell_type": "code",
   "execution_count": 21,
   "metadata": {},
   "outputs": [],
   "source": [
    "batch_size = 512\n",
    "\n",
    "train_loader = torch.utils.data.DataLoader(train_dataset, batch_size=batch_size, num_workers = 4, shuffle=True)\n",
    "val_loader = torch.utils.data.DataLoader(val_dataset, batch_size=batch_size, num_workers = 4, shuffle=False)"
   ]
  },
  {
   "cell_type": "code",
   "execution_count": 42,
   "metadata": {},
   "outputs": [],
   "source": [
    "class MLP(nn.Module):\n",
    "    def __init__(self, input_dim, output_dim):\n",
    "        super().__init__()\n",
    "\n",
    "        self.input_fc = nn.Linear(input_dim, 128)\n",
    "        self.hidden_fc1 = nn.Linear(128, 64)\n",
    "        self.hidden_fc2 = nn.Linear(64, 32)\n",
    "        self.output_fc = nn.Linear(32, output_dim)\n",
    "\n",
    "    def forward(self, x):\n",
    "        batch_size = x.shape[0]\n",
    "        x = x.view(batch_size, -1)\n",
    "        h_1 = F.relu(self.input_fc(x))\n",
    "        h_2 = F.relu(self.hidden_fc1(h_1))\n",
    "        h_3 = F.relu(self.hidden_fc2(h_2))\n",
    "        y_out = self.output_fc(h_3)\n",
    "        y_pred = torch.sigmoid(y_out)\n",
    "        \n",
    "        return y_out"
   ]
  },
  {
   "cell_type": "code",
   "execution_count": 43,
   "metadata": {},
   "outputs": [],
   "source": [
    "INPUT_DIM = 32\n",
    "OUTPUT_DIM = 4\n",
    "\n",
    "model = MLP(INPUT_DIM, OUTPUT_DIM)"
   ]
  },
  {
   "cell_type": "code",
   "execution_count": 44,
   "metadata": {},
   "outputs": [
    {
     "name": "stdout",
     "output_type": "stream",
     "text": [
      "Using cuda\n"
     ]
    }
   ],
   "source": [
    "device = torch.device('cuda' if torch.cuda.is_available() else 'cpu')\n",
    "print(\"Using\", device)"
   ]
  },
  {
   "cell_type": "code",
   "execution_count": 45,
   "metadata": {},
   "outputs": [],
   "source": [
    "model = model.to(device)\n",
    "\n",
    "optimizer = optim.Adam(model.parameters(), lr = 0.000001)\n",
    "\n",
    "criterion = nn.CrossEntropyLoss()\n",
    "criterion = criterion.to(device)"
   ]
  },
  {
   "cell_type": "code",
   "execution_count": 46,
   "metadata": {},
   "outputs": [
    {
     "name": "stdout",
     "output_type": "stream",
     "text": [
      "The model has 14,692 trainable parameters\n"
     ]
    }
   ],
   "source": [
    "def epoch_time(start_time, end_time):\n",
    "    elapsed_time = end_time - start_time\n",
    "    elapsed_mins = int(elapsed_time / 60)\n",
    "    elapsed_secs = int(elapsed_time - (elapsed_mins * 60))\n",
    "    return elapsed_mins, elapsed_secs\n",
    "\n",
    "def calculate_accuracy(y_pred, y):\n",
    "    y_pred = torch.argmax(y_pred, dim = 1)\n",
    "    y = torch.argmax(y, dim = 1)\n",
    "    \n",
    "    acc = torch.unique(y_pred[y_pred==y], return_counts = True)[1].sum()\n",
    "    acc = acc / y.shape[0]\n",
    "    return acc\n",
    "\n",
    "def count_parameters(model):\n",
    "    return sum(p.numel() for p in model.parameters() if p.requires_grad)\n",
    "\n",
    "print(f'The model has {count_parameters(model):,} trainable parameters')"
   ]
  },
  {
   "cell_type": "code",
   "execution_count": 47,
   "metadata": {},
   "outputs": [],
   "source": [
    "def evaluate(model, iterator, criterion, device):\n",
    "\n",
    "    epoch_loss = 0\n",
    "    epoch_acc = 0\n",
    "\n",
    "    model.eval()\n",
    "    with torch.no_grad():\n",
    "        for sample in tqdm(iterator, desc=\"Validating\", leave=False):\n",
    "            latent, label = sample\n",
    "        \n",
    "            latent = latent.to(device)\n",
    "            label = label.squeeze().to(device)\n",
    "            \n",
    "            y_pred = model(latent)\n",
    "\n",
    "            loss = criterion(y_pred, label)\n",
    "            acc = calculate_accuracy(y_pred, label)\n",
    "\n",
    "            epoch_loss += loss.item()\n",
    "            epoch_acc += acc.item()\n",
    "\n",
    "    return epoch_loss / len(iterator), epoch_acc / len(iterator)"
   ]
  },
  {
   "cell_type": "code",
   "execution_count": 48,
   "metadata": {},
   "outputs": [],
   "source": [
    "def train(model, iterator, optimizer, criterion, device):\n",
    "    epoch_loss = 0\n",
    "    epoch_acc = 0\n",
    "    model.train()\n",
    "\n",
    "    for sample in tqdm(iterator, desc=\"Training\", leave=False):\n",
    "        latent, label = sample\n",
    "        \n",
    "        latent = latent.to(device)\n",
    "        label = label.to(device)\n",
    "\n",
    "        optimizer.zero_grad()\n",
    "        y_pred = model(latent)\n",
    "\n",
    "        loss = criterion(y_pred, label)\n",
    "        acc = calculate_accuracy(y_pred, label)\n",
    "        \n",
    "        loss.backward()\n",
    "        optimizer.step()\n",
    "        epoch_loss += loss.item()\n",
    "        epoch_acc += acc.item()\n",
    "\n",
    "    return epoch_loss / len(iterator), epoch_acc / len(iterator)"
   ]
  },
  {
   "cell_type": "code",
   "execution_count": null,
   "metadata": {},
   "outputs": [],
   "source": [
    "EPOCHS = 150\n",
    "best_valid_loss = float('inf')\n",
    "list_train_loss = []\n",
    "list_val_loss = []\n",
    "\n",
    "list_train_acc = []\n",
    "list_val_acc = []"
   ]
  },
  {
   "cell_type": "code",
   "execution_count": 56,
   "metadata": {},
   "outputs": [
    {
     "name": "stderr",
     "output_type": "stream",
     "text": [
      "                                                                                \r"
     ]
    },
    {
     "name": "stdout",
     "output_type": "stream",
     "text": [
      "Epoch: 01 | Epoch Time: 0m 11s\n",
      "\tTrain Loss: 0.1207627 | Train Acc: 97.33%\n",
      "\t Val. Loss: 0.1208265 |  Val. Acc: 97.34%\n"
     ]
    },
    {
     "name": "stderr",
     "output_type": "stream",
     "text": [
      "                                                                                \r"
     ]
    },
    {
     "name": "stdout",
     "output_type": "stream",
     "text": [
      "Epoch: 02 | Epoch Time: 0m 11s\n",
      "\tTrain Loss: 0.1191260 | Train Acc: 97.36%\n",
      "\t Val. Loss: 0.1191884 |  Val. Acc: 97.37%\n"
     ]
    },
    {
     "name": "stderr",
     "output_type": "stream",
     "text": [
      "                                                                                \r"
     ]
    },
    {
     "name": "stdout",
     "output_type": "stream",
     "text": [
      "Epoch: 03 | Epoch Time: 0m 11s\n",
      "\tTrain Loss: 0.1174995 | Train Acc: 97.40%\n",
      "\t Val. Loss: 0.1175920 |  Val. Acc: 97.41%\n"
     ]
    },
    {
     "name": "stderr",
     "output_type": "stream",
     "text": [
      "                                                                                \r"
     ]
    },
    {
     "name": "stdout",
     "output_type": "stream",
     "text": [
      "Epoch: 04 | Epoch Time: 0m 11s\n",
      "\tTrain Loss: 0.1159283 | Train Acc: 97.43%\n",
      "\t Val. Loss: 0.1160249 |  Val. Acc: 97.44%\n"
     ]
    },
    {
     "name": "stderr",
     "output_type": "stream",
     "text": [
      "                                                                                \r"
     ]
    },
    {
     "name": "stdout",
     "output_type": "stream",
     "text": [
      "Epoch: 05 | Epoch Time: 0m 12s\n",
      "\tTrain Loss: 0.1143663 | Train Acc: 97.47%\n",
      "\t Val. Loss: 0.1144978 |  Val. Acc: 97.47%\n"
     ]
    },
    {
     "name": "stderr",
     "output_type": "stream",
     "text": [
      "                                                                                \r"
     ]
    },
    {
     "name": "stdout",
     "output_type": "stream",
     "text": [
      "Epoch: 06 | Epoch Time: 0m 12s\n",
      "\tTrain Loss: 0.1128453 | Train Acc: 97.50%\n",
      "\t Val. Loss: 0.1129595 |  Val. Acc: 97.50%\n"
     ]
    },
    {
     "name": "stderr",
     "output_type": "stream",
     "text": [
      "                                                                                \r"
     ]
    },
    {
     "name": "stdout",
     "output_type": "stream",
     "text": [
      "Epoch: 07 | Epoch Time: 0m 12s\n",
      "\tTrain Loss: 0.1113277 | Train Acc: 97.53%\n",
      "\t Val. Loss: 0.1114782 |  Val. Acc: 97.53%\n"
     ]
    },
    {
     "name": "stderr",
     "output_type": "stream",
     "text": [
      "                                                                                \r"
     ]
    },
    {
     "name": "stdout",
     "output_type": "stream",
     "text": [
      "Epoch: 08 | Epoch Time: 0m 12s\n",
      "\tTrain Loss: 0.1098659 | Train Acc: 97.56%\n",
      "\t Val. Loss: 0.1100192 |  Val. Acc: 97.56%\n"
     ]
    },
    {
     "name": "stderr",
     "output_type": "stream",
     "text": [
      "                                                                                \r"
     ]
    },
    {
     "name": "stdout",
     "output_type": "stream",
     "text": [
      "Epoch: 09 | Epoch Time: 0m 12s\n",
      "\tTrain Loss: 0.1084012 | Train Acc: 97.58%\n",
      "\t Val. Loss: 0.1085866 |  Val. Acc: 97.58%\n"
     ]
    },
    {
     "name": "stderr",
     "output_type": "stream",
     "text": [
      "                                                                                \r"
     ]
    },
    {
     "name": "stdout",
     "output_type": "stream",
     "text": [
      "Epoch: 10 | Epoch Time: 0m 11s\n",
      "\tTrain Loss: 0.1069608 | Train Acc: 97.62%\n",
      "\t Val. Loss: 0.1071585 |  Val. Acc: 97.62%\n"
     ]
    },
    {
     "name": "stderr",
     "output_type": "stream",
     "text": [
      "                                                                                \r"
     ]
    },
    {
     "name": "stdout",
     "output_type": "stream",
     "text": [
      "Epoch: 11 | Epoch Time: 0m 11s\n",
      "\tTrain Loss: 0.1055686 | Train Acc: 97.64%\n",
      "\t Val. Loss: 0.1057879 |  Val. Acc: 97.64%\n"
     ]
    },
    {
     "name": "stderr",
     "output_type": "stream",
     "text": [
      "                                                                                \r"
     ]
    },
    {
     "name": "stdout",
     "output_type": "stream",
     "text": [
      "Epoch: 12 | Epoch Time: 0m 11s\n",
      "\tTrain Loss: 0.1041982 | Train Acc: 97.68%\n",
      "\t Val. Loss: 0.1044277 |  Val. Acc: 97.68%\n"
     ]
    },
    {
     "name": "stderr",
     "output_type": "stream",
     "text": [
      "                                                                                \r"
     ]
    },
    {
     "name": "stdout",
     "output_type": "stream",
     "text": [
      "Epoch: 13 | Epoch Time: 0m 12s\n",
      "\tTrain Loss: 0.1028387 | Train Acc: 97.71%\n",
      "\t Val. Loss: 0.1030908 |  Val. Acc: 97.69%\n"
     ]
    },
    {
     "name": "stderr",
     "output_type": "stream",
     "text": [
      "                                                                                \r"
     ]
    },
    {
     "name": "stdout",
     "output_type": "stream",
     "text": [
      "Epoch: 14 | Epoch Time: 0m 11s\n",
      "\tTrain Loss: 0.1015150 | Train Acc: 97.74%\n",
      "\t Val. Loss: 0.1017876 |  Val. Acc: 97.72%\n"
     ]
    },
    {
     "name": "stderr",
     "output_type": "stream",
     "text": [
      "                                                                                \r"
     ]
    },
    {
     "name": "stdout",
     "output_type": "stream",
     "text": [
      "Epoch: 15 | Epoch Time: 0m 12s\n",
      "\tTrain Loss: 0.1002102 | Train Acc: 97.77%\n",
      "\t Val. Loss: 0.1004889 |  Val. Acc: 97.75%\n"
     ]
    },
    {
     "name": "stderr",
     "output_type": "stream",
     "text": [
      "                                                                                \r"
     ]
    },
    {
     "name": "stdout",
     "output_type": "stream",
     "text": [
      "Epoch: 16 | Epoch Time: 0m 12s\n",
      "\tTrain Loss: 0.0989338 | Train Acc: 97.79%\n",
      "\t Val. Loss: 0.0992418 |  Val. Acc: 97.77%\n"
     ]
    },
    {
     "name": "stderr",
     "output_type": "stream",
     "text": [
      "                                                                                \r"
     ]
    },
    {
     "name": "stdout",
     "output_type": "stream",
     "text": [
      "Epoch: 17 | Epoch Time: 0m 12s\n",
      "\tTrain Loss: 0.0976926 | Train Acc: 97.82%\n",
      "\t Val. Loss: 0.0980092 |  Val. Acc: 97.80%\n"
     ]
    },
    {
     "name": "stderr",
     "output_type": "stream",
     "text": [
      "                                                                                \r"
     ]
    },
    {
     "name": "stdout",
     "output_type": "stream",
     "text": [
      "Epoch: 18 | Epoch Time: 0m 12s\n",
      "\tTrain Loss: 0.0964592 | Train Acc: 97.85%\n",
      "\t Val. Loss: 0.0967849 |  Val. Acc: 97.82%\n"
     ]
    },
    {
     "name": "stderr",
     "output_type": "stream",
     "text": [
      "                                                                                \r"
     ]
    },
    {
     "name": "stdout",
     "output_type": "stream",
     "text": [
      "Epoch: 19 | Epoch Time: 0m 12s\n",
      "\tTrain Loss: 0.0952488 | Train Acc: 97.87%\n",
      "\t Val. Loss: 0.0955921 |  Val. Acc: 97.83%\n"
     ]
    },
    {
     "name": "stderr",
     "output_type": "stream",
     "text": [
      "                                                                                \r"
     ]
    },
    {
     "name": "stdout",
     "output_type": "stream",
     "text": [
      "Epoch: 20 | Epoch Time: 0m 11s\n",
      "\tTrain Loss: 0.0940729 | Train Acc: 97.89%\n",
      "\t Val. Loss: 0.0944137 |  Val. Acc: 97.85%\n"
     ]
    },
    {
     "name": "stderr",
     "output_type": "stream",
     "text": [
      "                                                                                \r"
     ]
    },
    {
     "name": "stdout",
     "output_type": "stream",
     "text": [
      "Epoch: 21 | Epoch Time: 0m 11s\n",
      "\tTrain Loss: 0.0929052 | Train Acc: 97.91%\n",
      "\t Val. Loss: 0.0932695 |  Val. Acc: 97.88%\n"
     ]
    },
    {
     "name": "stderr",
     "output_type": "stream",
     "text": [
      "                                                                                \r"
     ]
    },
    {
     "name": "stdout",
     "output_type": "stream",
     "text": [
      "Epoch: 22 | Epoch Time: 0m 10s\n",
      "\tTrain Loss: 0.0917647 | Train Acc: 97.94%\n",
      "\t Val. Loss: 0.0921420 |  Val. Acc: 97.90%\n"
     ]
    },
    {
     "name": "stderr",
     "output_type": "stream",
     "text": [
      "                                                                                \r"
     ]
    },
    {
     "name": "stdout",
     "output_type": "stream",
     "text": [
      "Epoch: 23 | Epoch Time: 0m 11s\n",
      "\tTrain Loss: 0.0906395 | Train Acc: 97.96%\n",
      "\t Val. Loss: 0.0910218 |  Val. Acc: 97.92%\n"
     ]
    },
    {
     "name": "stderr",
     "output_type": "stream",
     "text": [
      "                                                                                \r"
     ]
    },
    {
     "name": "stdout",
     "output_type": "stream",
     "text": [
      "Epoch: 24 | Epoch Time: 0m 11s\n",
      "\tTrain Loss: 0.0895385 | Train Acc: 97.99%\n",
      "\t Val. Loss: 0.0899386 |  Val. Acc: 97.94%\n"
     ]
    },
    {
     "name": "stderr",
     "output_type": "stream",
     "text": [
      "                                                                                \r"
     ]
    },
    {
     "name": "stdout",
     "output_type": "stream",
     "text": [
      "Epoch: 25 | Epoch Time: 0m 11s\n",
      "\tTrain Loss: 0.0884662 | Train Acc: 98.01%\n",
      "\t Val. Loss: 0.0888679 |  Val. Acc: 97.97%\n"
     ]
    },
    {
     "name": "stderr",
     "output_type": "stream",
     "text": [
      "                                                                                \r"
     ]
    },
    {
     "name": "stdout",
     "output_type": "stream",
     "text": [
      "Epoch: 26 | Epoch Time: 0m 12s\n",
      "\tTrain Loss: 0.0874051 | Train Acc: 98.03%\n",
      "\t Val. Loss: 0.0878332 |  Val. Acc: 98.00%\n"
     ]
    },
    {
     "name": "stderr",
     "output_type": "stream",
     "text": [
      "                                                                                \r"
     ]
    },
    {
     "name": "stdout",
     "output_type": "stream",
     "text": [
      "Epoch: 27 | Epoch Time: 0m 12s\n",
      "\tTrain Loss: 0.0863592 | Train Acc: 98.06%\n",
      "\t Val. Loss: 0.0867997 |  Val. Acc: 98.02%\n"
     ]
    },
    {
     "name": "stderr",
     "output_type": "stream",
     "text": [
      "                                                                                \r"
     ]
    },
    {
     "name": "stdout",
     "output_type": "stream",
     "text": [
      "Epoch: 28 | Epoch Time: 0m 12s\n",
      "\tTrain Loss: 0.0853323 | Train Acc: 98.08%\n",
      "\t Val. Loss: 0.0857658 |  Val. Acc: 98.03%\n"
     ]
    },
    {
     "name": "stderr",
     "output_type": "stream",
     "text": [
      "                                                                                \r"
     ]
    },
    {
     "name": "stdout",
     "output_type": "stream",
     "text": [
      "Epoch: 29 | Epoch Time: 0m 12s\n",
      "\tTrain Loss: 0.0843335 | Train Acc: 98.10%\n",
      "\t Val. Loss: 0.0847656 |  Val. Acc: 98.05%\n"
     ]
    },
    {
     "name": "stderr",
     "output_type": "stream",
     "text": [
      "                                                                                \r"
     ]
    },
    {
     "name": "stdout",
     "output_type": "stream",
     "text": [
      "Epoch: 30 | Epoch Time: 0m 12s\n",
      "\tTrain Loss: 0.0833270 | Train Acc: 98.12%\n",
      "\t Val. Loss: 0.0837767 |  Val. Acc: 98.07%\n"
     ]
    },
    {
     "name": "stderr",
     "output_type": "stream",
     "text": [
      "                                                                                \r"
     ]
    },
    {
     "name": "stdout",
     "output_type": "stream",
     "text": [
      "Epoch: 31 | Epoch Time: 0m 11s\n",
      "\tTrain Loss: 0.0823604 | Train Acc: 98.14%\n",
      "\t Val. Loss: 0.0828236 |  Val. Acc: 98.09%\n"
     ]
    },
    {
     "name": "stderr",
     "output_type": "stream",
     "text": [
      "                                                                                \r"
     ]
    },
    {
     "name": "stdout",
     "output_type": "stream",
     "text": [
      "Epoch: 32 | Epoch Time: 0m 11s\n",
      "\tTrain Loss: 0.0813925 | Train Acc: 98.17%\n",
      "\t Val. Loss: 0.0818750 |  Val. Acc: 98.12%\n"
     ]
    },
    {
     "name": "stderr",
     "output_type": "stream",
     "text": [
      "                                                                                \r"
     ]
    },
    {
     "name": "stdout",
     "output_type": "stream",
     "text": [
      "Epoch: 33 | Epoch Time: 0m 11s\n",
      "\tTrain Loss: 0.0804543 | Train Acc: 98.19%\n",
      "\t Val. Loss: 0.0809469 |  Val. Acc: 98.14%\n"
     ]
    },
    {
     "name": "stderr",
     "output_type": "stream",
     "text": [
      "                                                                                \r"
     ]
    },
    {
     "name": "stdout",
     "output_type": "stream",
     "text": [
      "Epoch: 34 | Epoch Time: 0m 11s\n",
      "\tTrain Loss: 0.0795366 | Train Acc: 98.21%\n",
      "\t Val. Loss: 0.0800297 |  Val. Acc: 98.16%\n"
     ]
    },
    {
     "name": "stderr",
     "output_type": "stream",
     "text": [
      "                                                                                \r"
     ]
    },
    {
     "name": "stdout",
     "output_type": "stream",
     "text": [
      "Epoch: 35 | Epoch Time: 0m 12s\n",
      "\tTrain Loss: 0.0786206 | Train Acc: 98.23%\n",
      "\t Val. Loss: 0.0791286 |  Val. Acc: 98.18%\n"
     ]
    },
    {
     "name": "stderr",
     "output_type": "stream",
     "text": [
      "                                                                                \r"
     ]
    },
    {
     "name": "stdout",
     "output_type": "stream",
     "text": [
      "Epoch: 36 | Epoch Time: 0m 12s\n",
      "\tTrain Loss: 0.0777375 | Train Acc: 98.24%\n",
      "\t Val. Loss: 0.0782394 |  Val. Acc: 98.20%\n"
     ]
    },
    {
     "name": "stderr",
     "output_type": "stream",
     "text": [
      "                                                                                \r"
     ]
    },
    {
     "name": "stdout",
     "output_type": "stream",
     "text": [
      "Epoch: 37 | Epoch Time: 0m 12s\n",
      "\tTrain Loss: 0.0768525 | Train Acc: 98.26%\n",
      "\t Val. Loss: 0.0773666 |  Val. Acc: 98.21%\n"
     ]
    },
    {
     "name": "stderr",
     "output_type": "stream",
     "text": [
      "                                                                                \r"
     ]
    },
    {
     "name": "stdout",
     "output_type": "stream",
     "text": [
      "Epoch: 38 | Epoch Time: 0m 12s\n",
      "\tTrain Loss: 0.0759878 | Train Acc: 98.28%\n",
      "\t Val. Loss: 0.0765163 |  Val. Acc: 98.22%\n"
     ]
    },
    {
     "name": "stderr",
     "output_type": "stream",
     "text": [
      "                                                                                \r"
     ]
    },
    {
     "name": "stdout",
     "output_type": "stream",
     "text": [
      "Epoch: 39 | Epoch Time: 0m 12s\n",
      "\tTrain Loss: 0.0751510 | Train Acc: 98.30%\n",
      "\t Val. Loss: 0.0756769 |  Val. Acc: 98.24%\n"
     ]
    },
    {
     "name": "stderr",
     "output_type": "stream",
     "text": [
      "                                                                                \r"
     ]
    },
    {
     "name": "stdout",
     "output_type": "stream",
     "text": [
      "Epoch: 40 | Epoch Time: 0m 11s\n",
      "\tTrain Loss: 0.0743000 | Train Acc: 98.32%\n",
      "\t Val. Loss: 0.0748536 |  Val. Acc: 98.25%\n"
     ]
    },
    {
     "name": "stderr",
     "output_type": "stream",
     "text": [
      "                                                                                \r"
     ]
    },
    {
     "name": "stdout",
     "output_type": "stream",
     "text": [
      "Epoch: 41 | Epoch Time: 0m 11s\n",
      "\tTrain Loss: 0.0734788 | Train Acc: 98.34%\n",
      "\t Val. Loss: 0.0740433 |  Val. Acc: 98.27%\n"
     ]
    },
    {
     "name": "stderr",
     "output_type": "stream",
     "text": [
      "                                                                                \r"
     ]
    },
    {
     "name": "stdout",
     "output_type": "stream",
     "text": [
      "Epoch: 42 | Epoch Time: 0m 11s\n",
      "\tTrain Loss: 0.0726717 | Train Acc: 98.36%\n",
      "\t Val. Loss: 0.0732457 |  Val. Acc: 98.30%\n"
     ]
    },
    {
     "name": "stderr",
     "output_type": "stream",
     "text": [
      "                                                                                \r"
     ]
    },
    {
     "name": "stdout",
     "output_type": "stream",
     "text": [
      "Epoch: 43 | Epoch Time: 0m 11s\n",
      "\tTrain Loss: 0.0719029 | Train Acc: 98.37%\n",
      "\t Val. Loss: 0.0724483 |  Val. Acc: 98.32%\n"
     ]
    },
    {
     "name": "stderr",
     "output_type": "stream",
     "text": [
      "                                                                                \r"
     ]
    },
    {
     "name": "stdout",
     "output_type": "stream",
     "text": [
      "Epoch: 44 | Epoch Time: 0m 11s\n",
      "\tTrain Loss: 0.0711147 | Train Acc: 98.39%\n",
      "\t Val. Loss: 0.0716874 |  Val. Acc: 98.33%\n"
     ]
    },
    {
     "name": "stderr",
     "output_type": "stream",
     "text": [
      "                                                                                \r"
     ]
    },
    {
     "name": "stdout",
     "output_type": "stream",
     "text": [
      "Epoch: 45 | Epoch Time: 0m 12s\n",
      "\tTrain Loss: 0.0703408 | Train Acc: 98.41%\n",
      "\t Val. Loss: 0.0709250 |  Val. Acc: 98.35%\n"
     ]
    },
    {
     "name": "stderr",
     "output_type": "stream",
     "text": [
      "                                                                                \r"
     ]
    },
    {
     "name": "stdout",
     "output_type": "stream",
     "text": [
      "Epoch: 46 | Epoch Time: 0m 12s\n",
      "\tTrain Loss: 0.0695900 | Train Acc: 98.42%\n",
      "\t Val. Loss: 0.0701865 |  Val. Acc: 98.36%\n"
     ]
    },
    {
     "name": "stderr",
     "output_type": "stream",
     "text": [
      "                                                                                \r"
     ]
    },
    {
     "name": "stdout",
     "output_type": "stream",
     "text": [
      "Epoch: 47 | Epoch Time: 0m 13s\n",
      "\tTrain Loss: 0.0688523 | Train Acc: 98.43%\n",
      "\t Val. Loss: 0.0694656 |  Val. Acc: 98.38%\n"
     ]
    },
    {
     "name": "stderr",
     "output_type": "stream",
     "text": [
      "                                                                                \r"
     ]
    },
    {
     "name": "stdout",
     "output_type": "stream",
     "text": [
      "Epoch: 48 | Epoch Time: 0m 12s\n",
      "\tTrain Loss: 0.0681328 | Train Acc: 98.45%\n",
      "\t Val. Loss: 0.0687318 |  Val. Acc: 98.40%\n"
     ]
    },
    {
     "name": "stderr",
     "output_type": "stream",
     "text": [
      "                                                                                \r"
     ]
    },
    {
     "name": "stdout",
     "output_type": "stream",
     "text": [
      "Epoch: 49 | Epoch Time: 0m 12s\n",
      "\tTrain Loss: 0.0674203 | Train Acc: 98.47%\n",
      "\t Val. Loss: 0.0680268 |  Val. Acc: 98.41%\n"
     ]
    },
    {
     "name": "stderr",
     "output_type": "stream",
     "text": [
      "                                                                                \r"
     ]
    },
    {
     "name": "stdout",
     "output_type": "stream",
     "text": [
      "Epoch: 50 | Epoch Time: 0m 11s\n",
      "\tTrain Loss: 0.0667170 | Train Acc: 98.48%\n",
      "\t Val. Loss: 0.0673335 |  Val. Acc: 98.42%\n"
     ]
    },
    {
     "name": "stderr",
     "output_type": "stream",
     "text": [
      "                                                                                \r"
     ]
    },
    {
     "name": "stdout",
     "output_type": "stream",
     "text": [
      "Epoch: 51 | Epoch Time: 0m 12s\n",
      "\tTrain Loss: 0.0660322 | Train Acc: 98.49%\n",
      "\t Val. Loss: 0.0666517 |  Val. Acc: 98.43%\n"
     ]
    },
    {
     "name": "stderr",
     "output_type": "stream",
     "text": [
      "                                                                                \r"
     ]
    },
    {
     "name": "stdout",
     "output_type": "stream",
     "text": [
      "Epoch: 52 | Epoch Time: 0m 12s\n",
      "\tTrain Loss: 0.0653465 | Train Acc: 98.51%\n",
      "\t Val. Loss: 0.0660044 |  Val. Acc: 98.45%\n"
     ]
    },
    {
     "name": "stderr",
     "output_type": "stream",
     "text": [
      "                                                                                \r"
     ]
    },
    {
     "name": "stdout",
     "output_type": "stream",
     "text": [
      "Epoch: 53 | Epoch Time: 0m 11s\n",
      "\tTrain Loss: 0.0646882 | Train Acc: 98.52%\n",
      "\t Val. Loss: 0.0653238 |  Val. Acc: 98.46%\n"
     ]
    },
    {
     "name": "stderr",
     "output_type": "stream",
     "text": [
      "                                                                                \r"
     ]
    },
    {
     "name": "stdout",
     "output_type": "stream",
     "text": [
      "Epoch: 54 | Epoch Time: 0m 11s\n",
      "\tTrain Loss: 0.0640246 | Train Acc: 98.54%\n",
      "\t Val. Loss: 0.0646622 |  Val. Acc: 98.47%\n"
     ]
    },
    {
     "name": "stderr",
     "output_type": "stream",
     "text": [
      "                                                                                \r"
     ]
    },
    {
     "name": "stdout",
     "output_type": "stream",
     "text": [
      "Epoch: 55 | Epoch Time: 0m 12s\n",
      "\tTrain Loss: 0.0633825 | Train Acc: 98.55%\n",
      "\t Val. Loss: 0.0640136 |  Val. Acc: 98.49%\n"
     ]
    },
    {
     "name": "stderr",
     "output_type": "stream",
     "text": [
      "                                                                                \r"
     ]
    },
    {
     "name": "stdout",
     "output_type": "stream",
     "text": [
      "Epoch: 56 | Epoch Time: 0m 11s\n",
      "\tTrain Loss: 0.0627457 | Train Acc: 98.56%\n",
      "\t Val. Loss: 0.0633916 |  Val. Acc: 98.51%\n"
     ]
    },
    {
     "name": "stderr",
     "output_type": "stream",
     "text": [
      "                                                                                \r"
     ]
    },
    {
     "name": "stdout",
     "output_type": "stream",
     "text": [
      "Epoch: 57 | Epoch Time: 0m 12s\n",
      "\tTrain Loss: 0.0621172 | Train Acc: 98.58%\n",
      "\t Val. Loss: 0.0627674 |  Val. Acc: 98.52%\n"
     ]
    },
    {
     "name": "stderr",
     "output_type": "stream",
     "text": [
      "                                                                                \r"
     ]
    },
    {
     "name": "stdout",
     "output_type": "stream",
     "text": [
      "Epoch: 58 | Epoch Time: 0m 12s\n",
      "\tTrain Loss: 0.0615073 | Train Acc: 98.59%\n",
      "\t Val. Loss: 0.0621600 |  Val. Acc: 98.53%\n"
     ]
    },
    {
     "name": "stderr",
     "output_type": "stream",
     "text": [
      "                                                                                \r"
     ]
    },
    {
     "name": "stdout",
     "output_type": "stream",
     "text": [
      "Epoch: 59 | Epoch Time: 0m 12s\n",
      "\tTrain Loss: 0.0609017 | Train Acc: 98.60%\n",
      "\t Val. Loss: 0.0615694 |  Val. Acc: 98.55%\n"
     ]
    },
    {
     "name": "stderr",
     "output_type": "stream",
     "text": [
      "                                                                                \r"
     ]
    },
    {
     "name": "stdout",
     "output_type": "stream",
     "text": [
      "Epoch: 60 | Epoch Time: 0m 11s\n",
      "\tTrain Loss: 0.0603141 | Train Acc: 98.61%\n",
      "\t Val. Loss: 0.0609628 |  Val. Acc: 98.56%\n"
     ]
    },
    {
     "name": "stderr",
     "output_type": "stream",
     "text": [
      "                                                                                \r"
     ]
    },
    {
     "name": "stdout",
     "output_type": "stream",
     "text": [
      "Epoch: 61 | Epoch Time: 0m 11s\n",
      "\tTrain Loss: 0.0597288 | Train Acc: 98.62%\n",
      "\t Val. Loss: 0.0603875 |  Val. Acc: 98.58%\n"
     ]
    },
    {
     "name": "stderr",
     "output_type": "stream",
     "text": [
      "                                                                                \r"
     ]
    },
    {
     "name": "stdout",
     "output_type": "stream",
     "text": [
      "Epoch: 62 | Epoch Time: 0m 11s\n",
      "\tTrain Loss: 0.0591449 | Train Acc: 98.64%\n",
      "\t Val. Loss: 0.0597988 |  Val. Acc: 98.59%\n"
     ]
    },
    {
     "name": "stderr",
     "output_type": "stream",
     "text": [
      "                                                                                \r"
     ]
    },
    {
     "name": "stdout",
     "output_type": "stream",
     "text": [
      "Epoch: 63 | Epoch Time: 0m 11s\n",
      "\tTrain Loss: 0.0585784 | Train Acc: 98.65%\n",
      "\t Val. Loss: 0.0592452 |  Val. Acc: 98.60%\n"
     ]
    },
    {
     "name": "stderr",
     "output_type": "stream",
     "text": [
      "                                                                                \r"
     ]
    },
    {
     "name": "stdout",
     "output_type": "stream",
     "text": [
      "Epoch: 64 | Epoch Time: 0m 11s\n",
      "\tTrain Loss: 0.0580113 | Train Acc: 98.66%\n",
      "\t Val. Loss: 0.0586868 |  Val. Acc: 98.62%\n"
     ]
    },
    {
     "name": "stderr",
     "output_type": "stream",
     "text": [
      "                                                                                \r"
     ]
    },
    {
     "name": "stdout",
     "output_type": "stream",
     "text": [
      "Epoch: 65 | Epoch Time: 0m 12s\n",
      "\tTrain Loss: 0.0574677 | Train Acc: 98.67%\n",
      "\t Val. Loss: 0.0581500 |  Val. Acc: 98.63%\n"
     ]
    },
    {
     "name": "stderr",
     "output_type": "stream",
     "text": [
      "                                                                                \r"
     ]
    },
    {
     "name": "stdout",
     "output_type": "stream",
     "text": [
      "Epoch: 66 | Epoch Time: 0m 12s\n",
      "\tTrain Loss: 0.0569295 | Train Acc: 98.68%\n",
      "\t Val. Loss: 0.0575930 |  Val. Acc: 98.64%\n"
     ]
    },
    {
     "name": "stderr",
     "output_type": "stream",
     "text": [
      "                                                                                \r"
     ]
    },
    {
     "name": "stdout",
     "output_type": "stream",
     "text": [
      "Epoch: 67 | Epoch Time: 0m 12s\n",
      "\tTrain Loss: 0.0563968 | Train Acc: 98.70%\n",
      "\t Val. Loss: 0.0570659 |  Val. Acc: 98.64%\n"
     ]
    },
    {
     "name": "stderr",
     "output_type": "stream",
     "text": [
      "                                                                                \r"
     ]
    },
    {
     "name": "stdout",
     "output_type": "stream",
     "text": [
      "Epoch: 68 | Epoch Time: 0m 12s\n",
      "\tTrain Loss: 0.0558808 | Train Acc: 98.71%\n",
      "\t Val. Loss: 0.0565541 |  Val. Acc: 98.66%\n"
     ]
    },
    {
     "name": "stderr",
     "output_type": "stream",
     "text": [
      "                                                                                \r"
     ]
    },
    {
     "name": "stdout",
     "output_type": "stream",
     "text": [
      "Epoch: 69 | Epoch Time: 0m 12s\n",
      "\tTrain Loss: 0.0553668 | Train Acc: 98.72%\n",
      "\t Val. Loss: 0.0560545 |  Val. Acc: 98.68%\n"
     ]
    },
    {
     "name": "stderr",
     "output_type": "stream",
     "text": [
      "                                                                                \r"
     ]
    },
    {
     "name": "stdout",
     "output_type": "stream",
     "text": [
      "Epoch: 70 | Epoch Time: 0m 11s\n",
      "\tTrain Loss: 0.0548546 | Train Acc: 98.73%\n",
      "\t Val. Loss: 0.0555364 |  Val. Acc: 98.69%\n"
     ]
    },
    {
     "name": "stderr",
     "output_type": "stream",
     "text": [
      "                                                                                \r"
     ]
    },
    {
     "name": "stdout",
     "output_type": "stream",
     "text": [
      "Epoch: 71 | Epoch Time: 0m 12s\n",
      "\tTrain Loss: 0.0543498 | Train Acc: 98.74%\n",
      "\t Val. Loss: 0.0550344 |  Val. Acc: 98.69%\n"
     ]
    },
    {
     "name": "stderr",
     "output_type": "stream",
     "text": [
      "                                                                                \r"
     ]
    },
    {
     "name": "stdout",
     "output_type": "stream",
     "text": [
      "Epoch: 72 | Epoch Time: 0m 11s\n",
      "\tTrain Loss: 0.0538681 | Train Acc: 98.75%\n",
      "\t Val. Loss: 0.0545434 |  Val. Acc: 98.70%\n"
     ]
    },
    {
     "name": "stderr",
     "output_type": "stream",
     "text": [
      "                                                                                \r"
     ]
    },
    {
     "name": "stdout",
     "output_type": "stream",
     "text": [
      "Epoch: 73 | Epoch Time: 0m 11s\n",
      "\tTrain Loss: 0.0534002 | Train Acc: 98.76%\n",
      "\t Val. Loss: 0.0540636 |  Val. Acc: 98.71%\n"
     ]
    },
    {
     "name": "stderr",
     "output_type": "stream",
     "text": [
      "                                                                                \r"
     ]
    },
    {
     "name": "stdout",
     "output_type": "stream",
     "text": [
      "Epoch: 74 | Epoch Time: 0m 11s\n",
      "\tTrain Loss: 0.0530120 | Train Acc: 98.77%\n",
      "\t Val. Loss: 0.0535870 |  Val. Acc: 98.72%\n"
     ]
    },
    {
     "name": "stderr",
     "output_type": "stream",
     "text": [
      "                                                                                \r"
     ]
    },
    {
     "name": "stdout",
     "output_type": "stream",
     "text": [
      "Epoch: 75 | Epoch Time: 0m 12s\n",
      "\tTrain Loss: 0.0524340 | Train Acc: 98.78%\n",
      "\t Val. Loss: 0.0531237 |  Val. Acc: 98.73%\n"
     ]
    },
    {
     "name": "stderr",
     "output_type": "stream",
     "text": [
      "                                                                                \r"
     ]
    },
    {
     "name": "stdout",
     "output_type": "stream",
     "text": [
      "Epoch: 76 | Epoch Time: 0m 11s\n",
      "\tTrain Loss: 0.0519707 | Train Acc: 98.79%\n",
      "\t Val. Loss: 0.0526572 |  Val. Acc: 98.74%\n"
     ]
    },
    {
     "name": "stderr",
     "output_type": "stream",
     "text": [
      "                                                                                \r"
     ]
    },
    {
     "name": "stdout",
     "output_type": "stream",
     "text": [
      "Epoch: 77 | Epoch Time: 0m 12s\n",
      "\tTrain Loss: 0.0515219 | Train Acc: 98.80%\n",
      "\t Val. Loss: 0.0522011 |  Val. Acc: 98.75%\n"
     ]
    },
    {
     "name": "stderr",
     "output_type": "stream",
     "text": [
      "                                                                                \r"
     ]
    },
    {
     "name": "stdout",
     "output_type": "stream",
     "text": [
      "Epoch: 78 | Epoch Time: 0m 12s\n",
      "\tTrain Loss: 0.0510691 | Train Acc: 98.81%\n",
      "\t Val. Loss: 0.0517489 |  Val. Acc: 98.75%\n"
     ]
    },
    {
     "name": "stderr",
     "output_type": "stream",
     "text": [
      "                                                                                \r"
     ]
    },
    {
     "name": "stdout",
     "output_type": "stream",
     "text": [
      "Epoch: 79 | Epoch Time: 0m 12s\n",
      "\tTrain Loss: 0.0506245 | Train Acc: 98.82%\n",
      "\t Val. Loss: 0.0513277 |  Val. Acc: 98.77%\n"
     ]
    },
    {
     "name": "stderr",
     "output_type": "stream",
     "text": [
      "                                                                                \r"
     ]
    },
    {
     "name": "stdout",
     "output_type": "stream",
     "text": [
      "Epoch: 80 | Epoch Time: 0m 12s\n",
      "\tTrain Loss: 0.0501840 | Train Acc: 98.83%\n",
      "\t Val. Loss: 0.0508788 |  Val. Acc: 98.78%\n"
     ]
    },
    {
     "name": "stderr",
     "output_type": "stream",
     "text": [
      "                                                                                \r"
     ]
    },
    {
     "name": "stdout",
     "output_type": "stream",
     "text": [
      "Epoch: 81 | Epoch Time: 0m 11s\n",
      "\tTrain Loss: 0.0497539 | Train Acc: 98.84%\n",
      "\t Val. Loss: 0.0504389 |  Val. Acc: 98.78%\n"
     ]
    },
    {
     "name": "stderr",
     "output_type": "stream",
     "text": [
      "                                                                                \r"
     ]
    },
    {
     "name": "stdout",
     "output_type": "stream",
     "text": [
      "Epoch: 82 | Epoch Time: 0m 10s\n",
      "\tTrain Loss: 0.0493275 | Train Acc: 98.84%\n",
      "\t Val. Loss: 0.0500111 |  Val. Acc: 98.79%\n"
     ]
    },
    {
     "name": "stderr",
     "output_type": "stream",
     "text": [
      "                                                                                \r"
     ]
    },
    {
     "name": "stdout",
     "output_type": "stream",
     "text": [
      "Epoch: 83 | Epoch Time: 0m 11s\n",
      "\tTrain Loss: 0.0489113 | Train Acc: 98.85%\n",
      "\t Val. Loss: 0.0495996 |  Val. Acc: 98.80%\n"
     ]
    },
    {
     "name": "stderr",
     "output_type": "stream",
     "text": [
      "                                                                                \r"
     ]
    },
    {
     "name": "stdout",
     "output_type": "stream",
     "text": [
      "Epoch: 84 | Epoch Time: 0m 11s\n",
      "\tTrain Loss: 0.0484953 | Train Acc: 98.86%\n",
      "\t Val. Loss: 0.0491870 |  Val. Acc: 98.81%\n"
     ]
    },
    {
     "name": "stderr",
     "output_type": "stream",
     "text": [
      "                                                                                \r"
     ]
    },
    {
     "name": "stdout",
     "output_type": "stream",
     "text": [
      "Epoch: 85 | Epoch Time: 0m 12s\n",
      "\tTrain Loss: 0.0480897 | Train Acc: 98.87%\n",
      "\t Val. Loss: 0.0487841 |  Val. Acc: 98.81%\n"
     ]
    },
    {
     "name": "stderr",
     "output_type": "stream",
     "text": [
      "                                                                                \r"
     ]
    },
    {
     "name": "stdout",
     "output_type": "stream",
     "text": [
      "Epoch: 86 | Epoch Time: 0m 12s\n",
      "\tTrain Loss: 0.0476942 | Train Acc: 98.88%\n",
      "\t Val. Loss: 0.0483803 |  Val. Acc: 98.83%\n"
     ]
    },
    {
     "name": "stderr",
     "output_type": "stream",
     "text": [
      "                                                                                \r"
     ]
    },
    {
     "name": "stdout",
     "output_type": "stream",
     "text": [
      "Epoch: 87 | Epoch Time: 0m 12s\n",
      "\tTrain Loss: 0.0473053 | Train Acc: 98.89%\n",
      "\t Val. Loss: 0.0479878 |  Val. Acc: 98.84%\n"
     ]
    },
    {
     "name": "stderr",
     "output_type": "stream",
     "text": [
      "                                                                                \r"
     ]
    },
    {
     "name": "stdout",
     "output_type": "stream",
     "text": [
      "Epoch: 88 | Epoch Time: 0m 12s\n",
      "\tTrain Loss: 0.0469094 | Train Acc: 98.90%\n",
      "\t Val. Loss: 0.0475890 |  Val. Acc: 98.85%\n"
     ]
    },
    {
     "name": "stderr",
     "output_type": "stream",
     "text": [
      "                                                                                \r"
     ]
    },
    {
     "name": "stdout",
     "output_type": "stream",
     "text": [
      "Epoch: 89 | Epoch Time: 0m 12s\n",
      "\tTrain Loss: 0.0465254 | Train Acc: 98.90%\n",
      "\t Val. Loss: 0.0472083 |  Val. Acc: 98.85%\n"
     ]
    },
    {
     "name": "stderr",
     "output_type": "stream",
     "text": [
      "                                                                                \r"
     ]
    },
    {
     "name": "stdout",
     "output_type": "stream",
     "text": [
      "Epoch: 90 | Epoch Time: 0m 12s\n",
      "\tTrain Loss: 0.0461472 | Train Acc: 98.91%\n",
      "\t Val. Loss: 0.0468249 |  Val. Acc: 98.86%\n"
     ]
    },
    {
     "name": "stderr",
     "output_type": "stream",
     "text": [
      "                                                                                \r"
     ]
    },
    {
     "name": "stdout",
     "output_type": "stream",
     "text": [
      "Epoch: 91 | Epoch Time: 0m 12s\n",
      "\tTrain Loss: 0.0457684 | Train Acc: 98.92%\n",
      "\t Val. Loss: 0.0464526 |  Val. Acc: 98.87%\n"
     ]
    },
    {
     "name": "stderr",
     "output_type": "stream",
     "text": [
      "                                                                                \r"
     ]
    },
    {
     "name": "stdout",
     "output_type": "stream",
     "text": [
      "Epoch: 92 | Epoch Time: 0m 11s\n",
      "\tTrain Loss: 0.0454027 | Train Acc: 98.92%\n",
      "\t Val. Loss: 0.0460846 |  Val. Acc: 98.88%\n"
     ]
    },
    {
     "name": "stderr",
     "output_type": "stream",
     "text": [
      "                                                                                \r"
     ]
    },
    {
     "name": "stdout",
     "output_type": "stream",
     "text": [
      "Epoch: 93 | Epoch Time: 0m 11s\n",
      "\tTrain Loss: 0.0450359 | Train Acc: 98.93%\n",
      "\t Val. Loss: 0.0457135 |  Val. Acc: 98.88%\n"
     ]
    },
    {
     "name": "stderr",
     "output_type": "stream",
     "text": [
      "                                                                                \r"
     ]
    },
    {
     "name": "stdout",
     "output_type": "stream",
     "text": [
      "Epoch: 94 | Epoch Time: 0m 11s\n",
      "\tTrain Loss: 0.0446852 | Train Acc: 98.94%\n",
      "\t Val. Loss: 0.0453479 |  Val. Acc: 98.89%\n"
     ]
    },
    {
     "name": "stderr",
     "output_type": "stream",
     "text": [
      "                                                                                \r"
     ]
    },
    {
     "name": "stdout",
     "output_type": "stream",
     "text": [
      "Epoch: 95 | Epoch Time: 0m 11s\n",
      "\tTrain Loss: 0.0443162 | Train Acc: 98.95%\n",
      "\t Val. Loss: 0.0449945 |  Val. Acc: 98.90%\n"
     ]
    },
    {
     "name": "stderr",
     "output_type": "stream",
     "text": [
      "                                                                                \r"
     ]
    },
    {
     "name": "stdout",
     "output_type": "stream",
     "text": [
      "Epoch: 96 | Epoch Time: 0m 12s\n",
      "\tTrain Loss: 0.0439670 | Train Acc: 98.96%\n",
      "\t Val. Loss: 0.0446438 |  Val. Acc: 98.91%\n"
     ]
    },
    {
     "name": "stderr",
     "output_type": "stream",
     "text": [
      "                                                                                \r"
     ]
    },
    {
     "name": "stdout",
     "output_type": "stream",
     "text": [
      "Epoch: 97 | Epoch Time: 0m 12s\n",
      "\tTrain Loss: 0.0436212 | Train Acc: 98.96%\n",
      "\t Val. Loss: 0.0443066 |  Val. Acc: 98.91%\n"
     ]
    },
    {
     "name": "stderr",
     "output_type": "stream",
     "text": [
      "                                                                                \r"
     ]
    },
    {
     "name": "stdout",
     "output_type": "stream",
     "text": [
      "Epoch: 98 | Epoch Time: 0m 12s\n",
      "\tTrain Loss: 0.0432789 | Train Acc: 98.97%\n",
      "\t Val. Loss: 0.0439520 |  Val. Acc: 98.92%\n"
     ]
    },
    {
     "name": "stderr",
     "output_type": "stream",
     "text": [
      "                                                                                \r"
     ]
    },
    {
     "name": "stdout",
     "output_type": "stream",
     "text": [
      "Epoch: 99 | Epoch Time: 0m 12s\n",
      "\tTrain Loss: 0.0429469 | Train Acc: 98.98%\n",
      "\t Val. Loss: 0.0436219 |  Val. Acc: 98.93%\n"
     ]
    },
    {
     "name": "stderr",
     "output_type": "stream",
     "text": [
      "                                                                                \r"
     ]
    },
    {
     "name": "stdout",
     "output_type": "stream",
     "text": [
      "Epoch: 100 | Epoch Time: 0m 12s\n",
      "\tTrain Loss: 0.0426091 | Train Acc: 98.98%\n",
      "\t Val. Loss: 0.0432848 |  Val. Acc: 98.94%\n"
     ]
    },
    {
     "name": "stderr",
     "output_type": "stream",
     "text": [
      "                                                                                \r"
     ]
    },
    {
     "name": "stdout",
     "output_type": "stream",
     "text": [
      "Epoch: 101 | Epoch Time: 0m 12s\n",
      "\tTrain Loss: 0.0422773 | Train Acc: 98.99%\n",
      "\t Val. Loss: 0.0429712 |  Val. Acc: 98.95%\n"
     ]
    },
    {
     "name": "stderr",
     "output_type": "stream",
     "text": [
      "                                                                                \r"
     ]
    },
    {
     "name": "stdout",
     "output_type": "stream",
     "text": [
      "Epoch: 102 | Epoch Time: 0m 11s\n",
      "\tTrain Loss: 0.0419568 | Train Acc: 99.00%\n",
      "\t Val. Loss: 0.0426171 |  Val. Acc: 98.95%\n"
     ]
    },
    {
     "name": "stderr",
     "output_type": "stream",
     "text": [
      "                                                                                \r"
     ]
    },
    {
     "name": "stdout",
     "output_type": "stream",
     "text": [
      "Epoch: 103 | Epoch Time: 0m 11s\n",
      "\tTrain Loss: 0.0416324 | Train Acc: 99.01%\n",
      "\t Val. Loss: 0.0422976 |  Val. Acc: 98.96%\n"
     ]
    },
    {
     "name": "stderr",
     "output_type": "stream",
     "text": [
      "                                                                                \r"
     ]
    },
    {
     "name": "stdout",
     "output_type": "stream",
     "text": [
      "Epoch: 104 | Epoch Time: 0m 11s\n",
      "\tTrain Loss: 0.0413225 | Train Acc: 99.01%\n",
      "\t Val. Loss: 0.0419788 |  Val. Acc: 98.97%\n"
     ]
    },
    {
     "name": "stderr",
     "output_type": "stream",
     "text": [
      "                                                                                \r"
     ]
    },
    {
     "name": "stdout",
     "output_type": "stream",
     "text": [
      "Epoch: 105 | Epoch Time: 0m 18s\n",
      "\tTrain Loss: 0.0410105 | Train Acc: 99.02%\n",
      "\t Val. Loss: 0.0416600 |  Val. Acc: 98.98%\n"
     ]
    },
    {
     "name": "stderr",
     "output_type": "stream",
     "text": [
      "                                                                                \r"
     ]
    },
    {
     "name": "stdout",
     "output_type": "stream",
     "text": [
      "Epoch: 106 | Epoch Time: 0m 12s\n",
      "\tTrain Loss: 0.0407011 | Train Acc: 99.03%\n",
      "\t Val. Loss: 0.0413544 |  Val. Acc: 98.99%\n"
     ]
    },
    {
     "name": "stderr",
     "output_type": "stream",
     "text": [
      "                                                                                \r"
     ]
    },
    {
     "name": "stdout",
     "output_type": "stream",
     "text": [
      "Epoch: 107 | Epoch Time: 0m 12s\n",
      "\tTrain Loss: 0.0403949 | Train Acc: 99.04%\n",
      "\t Val. Loss: 0.0410491 |  Val. Acc: 99.00%\n"
     ]
    },
    {
     "name": "stderr",
     "output_type": "stream",
     "text": [
      "                                                                                \r"
     ]
    },
    {
     "name": "stdout",
     "output_type": "stream",
     "text": [
      "Epoch: 108 | Epoch Time: 0m 12s\n",
      "\tTrain Loss: 0.0400953 | Train Acc: 99.04%\n",
      "\t Val. Loss: 0.0407445 |  Val. Acc: 99.00%\n"
     ]
    },
    {
     "name": "stderr",
     "output_type": "stream",
     "text": [
      "                                                                                \r"
     ]
    },
    {
     "name": "stdout",
     "output_type": "stream",
     "text": [
      "Epoch: 109 | Epoch Time: 0m 12s\n",
      "\tTrain Loss: 0.0398007 | Train Acc: 99.06%\n",
      "\t Val. Loss: 0.0404604 |  Val. Acc: 99.02%\n"
     ]
    },
    {
     "name": "stderr",
     "output_type": "stream",
     "text": [
      "                                                                                \r"
     ]
    },
    {
     "name": "stdout",
     "output_type": "stream",
     "text": [
      "Epoch: 110 | Epoch Time: 0m 12s\n",
      "\tTrain Loss: 0.0395073 | Train Acc: 99.06%\n",
      "\t Val. Loss: 0.0401592 |  Val. Acc: 99.01%\n"
     ]
    },
    {
     "name": "stderr",
     "output_type": "stream",
     "text": [
      "                                                                                \r"
     ]
    },
    {
     "name": "stdout",
     "output_type": "stream",
     "text": [
      "Epoch: 111 | Epoch Time: 0m 11s\n",
      "\tTrain Loss: 0.0392175 | Train Acc: 99.07%\n",
      "\t Val. Loss: 0.0398620 |  Val. Acc: 99.03%\n"
     ]
    },
    {
     "name": "stderr",
     "output_type": "stream",
     "text": [
      "                                                                                \r"
     ]
    },
    {
     "name": "stdout",
     "output_type": "stream",
     "text": [
      "Epoch: 112 | Epoch Time: 0m 11s\n",
      "\tTrain Loss: 0.0389402 | Train Acc: 99.08%\n",
      "\t Val. Loss: 0.0395749 |  Val. Acc: 99.04%\n"
     ]
    },
    {
     "name": "stderr",
     "output_type": "stream",
     "text": [
      "                                                                                \r"
     ]
    },
    {
     "name": "stdout",
     "output_type": "stream",
     "text": [
      "Epoch: 113 | Epoch Time: 0m 11s\n",
      "\tTrain Loss: 0.0386471 | Train Acc: 99.08%\n",
      "\t Val. Loss: 0.0393040 |  Val. Acc: 99.05%\n"
     ]
    },
    {
     "name": "stderr",
     "output_type": "stream",
     "text": [
      "                                                                                \r"
     ]
    },
    {
     "name": "stdout",
     "output_type": "stream",
     "text": [
      "Epoch: 114 | Epoch Time: 0m 12s\n",
      "\tTrain Loss: 0.0383717 | Train Acc: 99.09%\n",
      "\t Val. Loss: 0.0390198 |  Val. Acc: 99.06%\n"
     ]
    },
    {
     "name": "stderr",
     "output_type": "stream",
     "text": [
      "                                                                                \r"
     ]
    },
    {
     "name": "stdout",
     "output_type": "stream",
     "text": [
      "Epoch: 115 | Epoch Time: 0m 12s\n",
      "\tTrain Loss: 0.0380981 | Train Acc: 99.10%\n",
      "\t Val. Loss: 0.0387421 |  Val. Acc: 99.07%\n"
     ]
    },
    {
     "name": "stderr",
     "output_type": "stream",
     "text": [
      "                                                                                \r"
     ]
    },
    {
     "name": "stdout",
     "output_type": "stream",
     "text": [
      "Epoch: 116 | Epoch Time: 0m 12s\n",
      "\tTrain Loss: 0.0378224 | Train Acc: 99.11%\n",
      "\t Val. Loss: 0.0384594 |  Val. Acc: 99.07%\n"
     ]
    },
    {
     "name": "stderr",
     "output_type": "stream",
     "text": [
      "                                                                                \r"
     ]
    },
    {
     "name": "stdout",
     "output_type": "stream",
     "text": [
      "Epoch: 117 | Epoch Time: 0m 12s\n",
      "\tTrain Loss: 0.0375495 | Train Acc: 99.11%\n",
      "\t Val. Loss: 0.0381846 |  Val. Acc: 99.08%\n"
     ]
    },
    {
     "name": "stderr",
     "output_type": "stream",
     "text": [
      "                                                                                \r"
     ]
    },
    {
     "name": "stdout",
     "output_type": "stream",
     "text": [
      "Epoch: 118 | Epoch Time: 0m 12s\n",
      "\tTrain Loss: 0.0372881 | Train Acc: 99.12%\n",
      "\t Val. Loss: 0.0379278 |  Val. Acc: 99.09%\n"
     ]
    },
    {
     "name": "stderr",
     "output_type": "stream",
     "text": [
      "                                                                                \r"
     ]
    },
    {
     "name": "stdout",
     "output_type": "stream",
     "text": [
      "Epoch: 119 | Epoch Time: 0m 12s\n",
      "\tTrain Loss: 0.0370424 | Train Acc: 99.13%\n",
      "\t Val. Loss: 0.0376432 |  Val. Acc: 99.09%\n"
     ]
    },
    {
     "name": "stderr",
     "output_type": "stream",
     "text": [
      "                                                                                \r"
     ]
    },
    {
     "name": "stdout",
     "output_type": "stream",
     "text": [
      "Epoch: 120 | Epoch Time: 0m 12s\n",
      "\tTrain Loss: 0.0367637 | Train Acc: 99.14%\n",
      "\t Val. Loss: 0.0373833 |  Val. Acc: 99.09%\n"
     ]
    },
    {
     "name": "stderr",
     "output_type": "stream",
     "text": [
      "                                                                                \r"
     ]
    },
    {
     "name": "stdout",
     "output_type": "stream",
     "text": [
      "Epoch: 121 | Epoch Time: 0m 11s\n",
      "\tTrain Loss: 0.0365039 | Train Acc: 99.15%\n",
      "\t Val. Loss: 0.0371357 |  Val. Acc: 99.11%\n"
     ]
    },
    {
     "name": "stderr",
     "output_type": "stream",
     "text": [
      "                                                                                \r"
     ]
    },
    {
     "name": "stdout",
     "output_type": "stream",
     "text": [
      "Epoch: 122 | Epoch Time: 0m 11s\n",
      "\tTrain Loss: 0.0362465 | Train Acc: 99.16%\n",
      "\t Val. Loss: 0.0368658 |  Val. Acc: 99.11%\n"
     ]
    },
    {
     "name": "stderr",
     "output_type": "stream",
     "text": [
      "                                                                                \r"
     ]
    },
    {
     "name": "stdout",
     "output_type": "stream",
     "text": [
      "Epoch: 123 | Epoch Time: 0m 11s\n",
      "\tTrain Loss: 0.0360034 | Train Acc: 99.16%\n",
      "\t Val. Loss: 0.0366056 |  Val. Acc: 99.12%\n"
     ]
    },
    {
     "name": "stderr",
     "output_type": "stream",
     "text": [
      "                                                                                \r"
     ]
    },
    {
     "name": "stdout",
     "output_type": "stream",
     "text": [
      "Epoch: 124 | Epoch Time: 0m 11s\n",
      "\tTrain Loss: 0.0357449 | Train Acc: 99.17%\n",
      "\t Val. Loss: 0.0363554 |  Val. Acc: 99.12%\n"
     ]
    },
    {
     "name": "stderr",
     "output_type": "stream",
     "text": [
      "                                                                                \r"
     ]
    },
    {
     "name": "stdout",
     "output_type": "stream",
     "text": [
      "Epoch: 125 | Epoch Time: 0m 12s\n",
      "\tTrain Loss: 0.0355014 | Train Acc: 99.18%\n",
      "\t Val. Loss: 0.0361131 |  Val. Acc: 99.13%\n"
     ]
    },
    {
     "name": "stderr",
     "output_type": "stream",
     "text": [
      "                                                                                \r"
     ]
    },
    {
     "name": "stdout",
     "output_type": "stream",
     "text": [
      "Epoch: 126 | Epoch Time: 0m 12s\n",
      "\tTrain Loss: 0.0352586 | Train Acc: 99.18%\n",
      "\t Val. Loss: 0.0358657 |  Val. Acc: 99.13%\n"
     ]
    },
    {
     "name": "stderr",
     "output_type": "stream",
     "text": [
      "                                                                                \r"
     ]
    },
    {
     "name": "stdout",
     "output_type": "stream",
     "text": [
      "Epoch: 127 | Epoch Time: 0m 12s\n",
      "\tTrain Loss: 0.0350095 | Train Acc: 99.19%\n",
      "\t Val. Loss: 0.0356180 |  Val. Acc: 99.14%\n"
     ]
    },
    {
     "name": "stderr",
     "output_type": "stream",
     "text": [
      "                                                                                \r"
     ]
    },
    {
     "name": "stdout",
     "output_type": "stream",
     "text": [
      "Epoch: 128 | Epoch Time: 0m 11s\n",
      "\tTrain Loss: 0.0347719 | Train Acc: 99.20%\n",
      "\t Val. Loss: 0.0353760 |  Val. Acc: 99.15%\n"
     ]
    },
    {
     "name": "stderr",
     "output_type": "stream",
     "text": [
      "                                                                                \r"
     ]
    },
    {
     "name": "stdout",
     "output_type": "stream",
     "text": [
      "Epoch: 129 | Epoch Time: 0m 12s\n",
      "\tTrain Loss: 0.0345379 | Train Acc: 99.20%\n",
      "\t Val. Loss: 0.0351390 |  Val. Acc: 99.15%\n"
     ]
    },
    {
     "name": "stderr",
     "output_type": "stream",
     "text": [
      "                                                                                \r"
     ]
    },
    {
     "name": "stdout",
     "output_type": "stream",
     "text": [
      "Epoch: 130 | Epoch Time: 0m 11s\n",
      "\tTrain Loss: 0.0343026 | Train Acc: 99.21%\n",
      "\t Val. Loss: 0.0349178 |  Val. Acc: 99.16%\n"
     ]
    },
    {
     "name": "stderr",
     "output_type": "stream",
     "text": [
      "                                                                                \r"
     ]
    },
    {
     "name": "stdout",
     "output_type": "stream",
     "text": [
      "Epoch: 131 | Epoch Time: 0m 11s\n",
      "\tTrain Loss: 0.0340766 | Train Acc: 99.21%\n",
      "\t Val. Loss: 0.0346724 |  Val. Acc: 99.16%\n"
     ]
    },
    {
     "name": "stderr",
     "output_type": "stream",
     "text": [
      "                                                                                \r"
     ]
    },
    {
     "name": "stdout",
     "output_type": "stream",
     "text": [
      "Epoch: 132 | Epoch Time: 0m 11s\n",
      "\tTrain Loss: 0.0338514 | Train Acc: 99.22%\n",
      "\t Val. Loss: 0.0344763 |  Val. Acc: 99.18%\n"
     ]
    },
    {
     "name": "stderr",
     "output_type": "stream",
     "text": [
      "                                                                                \r"
     ]
    },
    {
     "name": "stdout",
     "output_type": "stream",
     "text": [
      "Epoch: 133 | Epoch Time: 0m 11s\n",
      "\tTrain Loss: 0.0336416 | Train Acc: 99.22%\n",
      "\t Val. Loss: 0.0342206 |  Val. Acc: 99.18%\n"
     ]
    },
    {
     "name": "stderr",
     "output_type": "stream",
     "text": [
      "                                                                                \r"
     ]
    },
    {
     "name": "stdout",
     "output_type": "stream",
     "text": [
      "Epoch: 134 | Epoch Time: 0m 12s\n",
      "\tTrain Loss: 0.0334040 | Train Acc: 99.23%\n",
      "\t Val. Loss: 0.0339984 |  Val. Acc: 99.19%\n"
     ]
    },
    {
     "name": "stderr",
     "output_type": "stream",
     "text": [
      "                                                                                \r"
     ]
    },
    {
     "name": "stdout",
     "output_type": "stream",
     "text": [
      "Epoch: 135 | Epoch Time: 0m 12s\n",
      "\tTrain Loss: 0.0331872 | Train Acc: 99.24%\n",
      "\t Val. Loss: 0.0337772 |  Val. Acc: 99.19%\n"
     ]
    },
    {
     "name": "stderr",
     "output_type": "stream",
     "text": [
      "                                                                                \r"
     ]
    },
    {
     "name": "stdout",
     "output_type": "stream",
     "text": [
      "Epoch: 136 | Epoch Time: 0m 12s\n",
      "\tTrain Loss: 0.0329716 | Train Acc: 99.24%\n",
      "\t Val. Loss: 0.0335629 |  Val. Acc: 99.20%\n"
     ]
    },
    {
     "name": "stderr",
     "output_type": "stream",
     "text": [
      "                                                                                \r"
     ]
    },
    {
     "name": "stdout",
     "output_type": "stream",
     "text": [
      "Epoch: 137 | Epoch Time: 0m 12s\n",
      "\tTrain Loss: 0.0327558 | Train Acc: 99.24%\n",
      "\t Val. Loss: 0.0333424 |  Val. Acc: 99.20%\n"
     ]
    },
    {
     "name": "stderr",
     "output_type": "stream",
     "text": [
      "                                                                                \r"
     ]
    },
    {
     "name": "stdout",
     "output_type": "stream",
     "text": [
      "Epoch: 138 | Epoch Time: 0m 13s\n",
      "\tTrain Loss: 0.0325435 | Train Acc: 99.25%\n",
      "\t Val. Loss: 0.0331305 |  Val. Acc: 99.21%\n"
     ]
    },
    {
     "name": "stderr",
     "output_type": "stream",
     "text": [
      "                                                                                \r"
     ]
    },
    {
     "name": "stdout",
     "output_type": "stream",
     "text": [
      "Epoch: 139 | Epoch Time: 0m 13s\n",
      "\tTrain Loss: 0.0323437 | Train Acc: 99.25%\n",
      "\t Val. Loss: 0.0329178 |  Val. Acc: 99.22%\n"
     ]
    },
    {
     "name": "stderr",
     "output_type": "stream",
     "text": [
      "                                                                                \r"
     ]
    },
    {
     "name": "stdout",
     "output_type": "stream",
     "text": [
      "Epoch: 140 | Epoch Time: 0m 13s\n",
      "\tTrain Loss: 0.0321360 | Train Acc: 99.26%\n",
      "\t Val. Loss: 0.0327302 |  Val. Acc: 99.23%\n"
     ]
    },
    {
     "name": "stderr",
     "output_type": "stream",
     "text": [
      "                                                                                \r"
     ]
    },
    {
     "name": "stdout",
     "output_type": "stream",
     "text": [
      "Epoch: 141 | Epoch Time: 0m 13s\n",
      "\tTrain Loss: 0.0319290 | Train Acc: 99.26%\n",
      "\t Val. Loss: 0.0325007 |  Val. Acc: 99.23%\n"
     ]
    },
    {
     "name": "stderr",
     "output_type": "stream",
     "text": [
      "                                                                                \r"
     ]
    },
    {
     "name": "stdout",
     "output_type": "stream",
     "text": [
      "Epoch: 142 | Epoch Time: 0m 12s\n",
      "\tTrain Loss: 0.0317255 | Train Acc: 99.27%\n",
      "\t Val. Loss: 0.0323097 |  Val. Acc: 99.24%\n"
     ]
    },
    {
     "name": "stderr",
     "output_type": "stream",
     "text": [
      "                                                                                \r"
     ]
    },
    {
     "name": "stdout",
     "output_type": "stream",
     "text": [
      "Epoch: 143 | Epoch Time: 0m 12s\n",
      "\tTrain Loss: 0.0315267 | Train Acc: 99.27%\n",
      "\t Val. Loss: 0.0321297 |  Val. Acc: 99.24%\n"
     ]
    },
    {
     "name": "stderr",
     "output_type": "stream",
     "text": [
      "                                                                                \r"
     ]
    },
    {
     "name": "stdout",
     "output_type": "stream",
     "text": [
      "Epoch: 144 | Epoch Time: 0m 12s\n",
      "\tTrain Loss: 0.0313526 | Train Acc: 99.28%\n",
      "\t Val. Loss: 0.0319130 |  Val. Acc: 99.25%\n"
     ]
    },
    {
     "name": "stderr",
     "output_type": "stream",
     "text": [
      "                                                                                \r"
     ]
    },
    {
     "name": "stdout",
     "output_type": "stream",
     "text": [
      "Epoch: 145 | Epoch Time: 0m 13s\n",
      "\tTrain Loss: 0.0311386 | Train Acc: 99.28%\n",
      "\t Val. Loss: 0.0317243 |  Val. Acc: 99.26%\n"
     ]
    },
    {
     "name": "stderr",
     "output_type": "stream",
     "text": [
      "                                                                                \r"
     ]
    },
    {
     "name": "stdout",
     "output_type": "stream",
     "text": [
      "Epoch: 146 | Epoch Time: 0m 12s\n",
      "\tTrain Loss: 0.0309462 | Train Acc: 99.29%\n",
      "\t Val. Loss: 0.0315107 |  Val. Acc: 99.26%\n"
     ]
    },
    {
     "name": "stderr",
     "output_type": "stream",
     "text": [
      "                                                                                \r"
     ]
    },
    {
     "name": "stdout",
     "output_type": "stream",
     "text": [
      "Epoch: 147 | Epoch Time: 0m 12s\n",
      "\tTrain Loss: 0.0307556 | Train Acc: 99.30%\n",
      "\t Val. Loss: 0.0313226 |  Val. Acc: 99.27%\n"
     ]
    },
    {
     "name": "stderr",
     "output_type": "stream",
     "text": [
      "                                                                                \r"
     ]
    },
    {
     "name": "stdout",
     "output_type": "stream",
     "text": [
      "Epoch: 148 | Epoch Time: 0m 13s\n",
      "\tTrain Loss: 0.0305679 | Train Acc: 99.30%\n",
      "\t Val. Loss: 0.0311276 |  Val. Acc: 99.27%\n"
     ]
    },
    {
     "name": "stderr",
     "output_type": "stream",
     "text": [
      "                                                                                \r"
     ]
    },
    {
     "name": "stdout",
     "output_type": "stream",
     "text": [
      "Epoch: 149 | Epoch Time: 0m 13s\n",
      "\tTrain Loss: 0.0303783 | Train Acc: 99.30%\n",
      "\t Val. Loss: 0.0309510 |  Val. Acc: 99.28%\n"
     ]
    },
    {
     "name": "stderr",
     "output_type": "stream",
     "text": [
      "                                                                                \r"
     ]
    },
    {
     "name": "stdout",
     "output_type": "stream",
     "text": [
      "Epoch: 150 | Epoch Time: 0m 13s\n",
      "\tTrain Loss: 0.0301954 | Train Acc: 99.31%\n",
      "\t Val. Loss: 0.0307546 |  Val. Acc: 99.28%\n",
      "Finished Training\n"
     ]
    }
   ],
   "source": [
    "for epoch in range(EPOCHS):\n",
    "    start_time = time.monotonic()\n",
    "    train_loss, train_acc = train(model, train_loader, optimizer, criterion, device)\n",
    "    valid_loss, valid_acc = evaluate(model, val_loader, criterion, device)\n",
    "    \n",
    "    end_time = time.monotonic()\n",
    "    epoch_mins, epoch_secs = epoch_time(start_time, end_time)\n",
    "\n",
    "    print(f'Epoch: {epoch+1:02} | Epoch Time: {epoch_mins}m {epoch_secs}s')\n",
    "    print(f'\\tTrain Loss: {train_loss:.7f} | Train Acc: {train_acc*100:.2f}%')\n",
    "    print(f'\\t Val. Loss: {valid_loss:.7f} |  Val. Acc: {valid_acc*100:.2f}%')\n",
    "    \n",
    "    list_val_loss.append(valid_loss)\n",
    "    list_train_loss.append(train_loss)\n",
    "    \n",
    "    list_val_acc.append(valid_acc)\n",
    "    list_train_acc.append(train_acc)\n",
    "    \n",
    "    if (epoch %20 == 0 or (epoch > 200 and epoch %5 == 0))and valid_loss < best_valid_loss:\n",
    "        torch.save(model.state_dict(), \"./LinearClassifierFinal/no_control_in_training_MSE_e\"+str(epoch)+\"_v\"+str(valid_acc)+\".p\")\n",
    "print('Finished Training')"
   ]
  },
  {
   "cell_type": "code",
   "execution_count": 57,
   "metadata": {},
   "outputs": [
    {
     "name": "stderr",
     "output_type": "stream",
     "text": [
      "No artists with labels found to put in legend.  Note that artists whose label start with an underscore are ignored when legend() is called with no argument.\n"
     ]
    },
    {
     "data": {
      "text/plain": [
       "[<matplotlib.lines.Line2D at 0x7fd4812b8df0>]"
      ]
     },
     "execution_count": 57,
     "metadata": {},
     "output_type": "execute_result"
    },
    {
     "data": {
      "image/png": "[encoded data removed]",
      "text/plain": [
       "<Figure size 432x288 with 1 Axes>"
      ]
     },
     "metadata": {
      "needs_background": "light"
     },
     "output_type": "display_data"
    }
   ],
   "source": [
    "# Plot Loss vs Epochs\n",
    "plt.legend(loc='upper left')\n",
    "plt.xlabel('Epochs')\n",
    "plt.ylabel('Loss')\n",
    "\n",
    "plt.plot(range(len(list_train_loss)),list_train_loss,'tab:orange',label='Training Loss')\n",
    "plt.plot(range(len(list_val_loss)), list_val_loss,'tab:blue',label='Validation Loss')"
   ]
  },
  {
   "cell_type": "code",
   "execution_count": 58,
   "metadata": {},
   "outputs": [
    {
     "name": "stderr",
     "output_type": "stream",
     "text": [
      "No artists with labels found to put in legend.  Note that artists whose label start with an underscore are ignored when legend() is called with no argument.\n"
     ]
    },
    {
     "data": {
      "text/plain": [
       "[<matplotlib.lines.Line2D at 0x7fd483b44910>]"
      ]
     },
     "execution_count": 58,
     "metadata": {},
     "output_type": "execute_result"
    },
    {
     "data": {
      "image/png": "[encoded data removed]",
      "text/plain": [
       "<Figure size 432x288 with 1 Axes>"
      ]
     },
     "metadata": {
      "needs_background": "light"
     },
     "output_type": "display_data"
    }
   ],
   "source": [
    "# Plot Accuracy vs Epochs\n",
    "plt.legend(loc='upper left')\n",
    "plt.xlabel('Epochs')\n",
    "plt.ylabel('Accuracy')\n",
    "\n",
    "plt.plot(range(len(list_train_acc)),list_train_acc,'tab:orange',label='Training Accuracy')\n",
    "plt.plot(range(len(list_val_acc)),list_val_acc,'tab:blue',label='Validation Accuracy')"
   ]
  },
  {
   "cell_type": "markdown",
   "metadata": {},
   "source": [
    "### Testing"
   ]
  },
  {
   "cell_type": "code",
   "execution_count": 22,
   "metadata": {},
   "outputs": [
    {
     "name": "stdout",
     "output_type": "stream",
     "text": [
      "8387210 = 7387210 + 1000000\n"
     ]
    }
   ],
   "source": [
    "# Get Exclusive test set\n",
    "final_training_set = set(final_training_list)\n",
    "all_frames_set = set(all_frames_list)\n",
    "\n",
    "exclusive_testing_set = all_frames_set - final_training_set\n",
    "\n",
    "# Sanity check\n",
    "print(len(all_frames_set), \"=\", len(exclusive_testing_set), \"+\", len(final_training_set))\n",
    "\n",
    "# Randomly shuffle the test list\n",
    "exclusive_testing_list = list(exclusive_testing_set)\n",
    "random.seed(42)\n",
    "random.shuffle(exclusive_testing_list)"
   ]
  },
  {
   "cell_type": "code",
   "execution_count": 23,
   "metadata": {},
   "outputs": [
    {
     "name": "stdout",
     "output_type": "stream",
     "text": [
      "Length of final_testing_list: 1200000 with 300000 Preexposure 300000 Postcond 300000 Postext 300000 Postret.\n"
     ]
    }
   ],
   "source": [
    "# Create a training list of 1mil files\n",
    "final_testing_list = []\n",
    "\n",
    "preexposure_count = 0\n",
    "postcond_count = 0\n",
    "postext_count = 0\n",
    "postret_count = 0\n",
    "\n",
    "# 1353968 -> Number of frames of postret (smallest class)\n",
    "for sample in exclusive_testing_list:\n",
    "    if \"preexposure\" in sample:\n",
    "        if preexposure_count < 300000:\n",
    "            final_testing_list.append(sample)\n",
    "            preexposure_count += 1\n",
    "    elif \"postcond\" in sample:\n",
    "        if postcond_count < 300000:\n",
    "            final_testing_list.append(sample)\n",
    "            postcond_count += 1\n",
    "    elif \"postext\" in sample:\n",
    "        if postext_count < 300000:\n",
    "            final_testing_list.append(sample)\n",
    "            postext_count += 1\n",
    "    elif \"postret\" in sample:\n",
    "        if postret_count < 300000:\n",
    "            final_testing_list.append(sample)\n",
    "            postret_count += 1\n",
    "            \n",
    "print(\"Length of final_testing_list:\", len(final_testing_list), \"with\", preexposure_count, \"Preexposure\", postcond_count, \"Postcond\", postext_count, \"Postext\", postret_count, \"Postret.\")"
   ]
  },
  {
   "cell_type": "code",
   "execution_count": 24,
   "metadata": {},
   "outputs": [
    {
     "data": {
      "text/plain": [
       "1200000"
      ]
     },
     "execution_count": 24,
     "metadata": {},
     "output_type": "execute_result"
    }
   ],
   "source": [
    "len(final_testing_list)"
   ]
  },
  {
   "cell_type": "code",
   "execution_count": 25,
   "metadata": {},
   "outputs": [],
   "source": [
    "test_latent_array = []\n",
    "test_label_array = []"
   ]
  },
  {
   "cell_type": "code",
   "execution_count": 26,
   "metadata": {},
   "outputs": [
    {
     "data": {
      "text/plain": [
       "1200000"
      ]
     },
     "execution_count": 26,
     "metadata": {},
     "output_type": "execute_result"
    }
   ],
   "source": [
    "len(final_testing_list)"
   ]
  },
  {
   "cell_type": "code",
   "execution_count": 28,
   "metadata": {},
   "outputs": [
    {
     "name": "stdout",
     "output_type": "stream",
     "text": [
      "Processed 10000 Images..\n",
      "Processed 20000 Images..\n",
      "Processed 30000 Images..\n",
      "Processed 40000 Images..\n",
      "Processed 50000 Images..\n",
      "Processed 60000 Images..\n",
      "Processed 70000 Images..\n",
      "Processed 80000 Images..\n",
      "Processed 90000 Images..\n",
      "Processed 100000 Images..\n",
      "Processed 110000 Images..\n",
      "Processed 120000 Images..\n",
      "Processed 130000 Images..\n",
      "Processed 140000 Images..\n"
     ]
    },
    {
     "ename": "RuntimeError",
     "evalue": "CUDA error: unspecified launch failure\nCUDA kernel errors might be asynchronously reported at some other API call,so the stacktrace below might be incorrect.\nFor debugging consider passing CUDA_LAUNCH_BLOCKING=1.",
     "output_type": "error",
     "traceback": [
      "\u001b[0;31m---------------------------------------------------------------------------\u001b[0m",
      "\u001b[0;31mRuntimeError\u001b[0m                              Traceback (most recent call last)",
      "Input \u001b[0;32mIn [28]\u001b[0m, in \u001b[0;36m<cell line: 3>\u001b[0;34m()\u001b[0m\n\u001b[1;32m     17\u001b[0m image \u001b[38;5;241m=\u001b[39m cv2\u001b[38;5;241m.\u001b[39mimread(append_name \u001b[38;5;241m+\u001b[39m image)\n\u001b[1;32m     18\u001b[0m image \u001b[38;5;241m=\u001b[39m cv2\u001b[38;5;241m.\u001b[39mresize(image, (\u001b[38;5;241m224\u001b[39m, \u001b[38;5;241m224\u001b[39m), interpolation \u001b[38;5;241m=\u001b[39m cv2\u001b[38;5;241m.\u001b[39mINTER_AREA)\n\u001b[0;32m---> 19\u001b[0m tensor_frame \u001b[38;5;241m=\u001b[39m \u001b[43mtorchvision\u001b[49m\u001b[38;5;241;43m.\u001b[39;49m\u001b[43mtransforms\u001b[49m\u001b[38;5;241;43m.\u001b[39;49m\u001b[43mfunctional\u001b[49m\u001b[38;5;241;43m.\u001b[39;49m\u001b[43mto_tensor\u001b[49m\u001b[43m(\u001b[49m\u001b[43mimage\u001b[49m\u001b[43m)\u001b[49m\u001b[38;5;241;43m.\u001b[39;49m\u001b[43munsqueeze\u001b[49m\u001b[43m(\u001b[49m\u001b[38;5;241;43m0\u001b[39;49m\u001b[43m)\u001b[49m\u001b[38;5;241;43m.\u001b[39;49m\u001b[43mcuda\u001b[49m\u001b[43m(\u001b[49m\u001b[43m)\u001b[49m\n\u001b[1;32m     20\u001b[0m \u001b[38;5;28;01mwith\u001b[39;00m torch\u001b[38;5;241m.\u001b[39mno_grad():\n\u001b[1;32m     21\u001b[0m     latent_representation \u001b[38;5;241m=\u001b[39m ae_model_mse\u001b[38;5;241m.\u001b[39mmodule\u001b[38;5;241m.\u001b[39mencoder(tensor_frame)\n",
      "\u001b[0;31mRuntimeError\u001b[0m: CUDA error: unspecified launch failure\nCUDA kernel errors might be asynchronously reported at some other API call,so the stacktrace below might be incorrect.\nFor debugging consider passing CUDA_LAUNCH_BLOCKING=1."
     ]
    }
   ],
   "source": [
    "image_count = 0\n",
    "\n",
    "for image in final_testing_list[len(test_label_array):]:\n",
    "    image_count += 1\n",
    "    if image_count % 10000 == 0:\n",
    "        print(\"Processed\", image_count, \"Images..\")\n",
    "    name = image\n",
    "    if \"preexposure\" in name:\n",
    "        append_name = \"/media/data_cifs/anagara8/preexposure_action/\"\n",
    "    elif \"postcond\" in name:\n",
    "        append_name = \"/media/data_cifs/anagara8/postcond_action/\"\n",
    "    elif \"postext\" in name:\n",
    "        append_name = \"/media/data_cifs/anagara8/postext_action/\"\n",
    "    elif \"postret\" in name:\n",
    "        append_name = \"/media/data_cifs/anagara8/postret_action/\"\n",
    "    \n",
    "    image = cv2.imread(append_name + image)\n",
    "    image = cv2.resize(image, (224, 224), interpolation = cv2.INTER_AREA)\n",
    "    tensor_frame = torchvision.transforms.functional.to_tensor(image).unsqueeze(0).cuda()\n",
    "    with torch.no_grad():\n",
    "        latent_representation = ae_model_mse.module.encoder(tensor_frame)\n",
    "    test_latent_array.append(latent_representation.squeeze().cpu().numpy())\n",
    "    \n",
    "    # Append One Hot encoded Labels\n",
    "    if \"preexposure\" in name:\n",
    "        test_label_array.append([1.0, 0.0, 0.0, 0.0])\n",
    "    elif \"postcond\" in name:\n",
    "        test_label_array.append([0.0, 1.0, 0.0, 0.0])\n",
    "    elif \"postext\" in name:\n",
    "        test_label_array.append([0.0, 0.0, 1.0, 0.0])\n",
    "    elif \"postret\" in name:\n",
    "        test_label_array.append([0.0, 0.0, 0.0, 1.0])\n",
    "    else:\n",
    "        print(\"ERROR: Incorrect Experiment Phase, no label associated.\")\n",
    "        "
   ]
  },
  {
   "cell_type": "code",
   "execution_count": null,
   "metadata": {},
   "outputs": [],
   "source": [
    "# SAVE HERE"
   ]
  },
  {
   "cell_type": "code",
   "execution_count": 68,
   "metadata": {},
   "outputs": [
    {
     "data": {
      "text/plain": [
       "257309"
      ]
     },
     "execution_count": 68,
     "metadata": {},
     "output_type": "execute_result"
    }
   ],
   "source": [
    "len(test_latent_array)"
   ]
  },
  {
   "cell_type": "code",
   "execution_count": 69,
   "metadata": {},
   "outputs": [],
   "source": [
    "# Testing Dataset\n",
    "batch_size = 512\n",
    "# test_data = list(zip(test_latent_array, test_label_array))\n",
    "\n",
    "# test_data = list(zip(testing_latents, pre_testing_labels))\n",
    "test_data = list(zip(test_latent_array, test_label_array))\n",
    "test_dataset = LatentDataset(test_data)\n",
    "test_loader = torch.utils.data.DataLoader(test_dataset, batch_size=batch_size, num_workers = 4, shuffle=True)"
   ]
  },
  {
   "cell_type": "code",
   "execution_count": 70,
   "metadata": {},
   "outputs": [],
   "source": [
    "def test(model, iterator, criterion, device):\n",
    "\n",
    "    epoch_loss = 0\n",
    "    epoch_acc = 0\n",
    "    \n",
    "    predictions = []\n",
    "    targets = []\n",
    "\n",
    "    model.eval()\n",
    "    with torch.no_grad():\n",
    "        for sample in tqdm(iterator, desc=\"Validating\", leave=False):\n",
    "            latent, label = sample\n",
    "        \n",
    "            latent = latent.to(device)\n",
    "            label = label.squeeze().to(device)\n",
    "            \n",
    "            y_pred = model(latent)\n",
    "\n",
    "            loss = criterion(y_pred, label)\n",
    "            acc = calculate_accuracy(y_pred, label)\n",
    "\n",
    "            epoch_loss += loss.item()\n",
    "            epoch_acc += acc.item()\n",
    "            \n",
    "            targets.append(label)\n",
    "            predictions.append(y_pred)\n",
    "\n",
    "    return epoch_loss / len(iterator), epoch_acc / len(iterator), predictions, targets"
   ]
  },
  {
   "cell_type": "code",
   "execution_count": 72,
   "metadata": {},
   "outputs": [
    {
     "name": "stderr",
     "output_type": "stream",
     "text": [
      "                                                                                \r"
     ]
    },
    {
     "name": "stdout",
     "output_type": "stream",
     "text": [
      "Finished Testing in 33.133653608034365 seconds\n"
     ]
    }
   ],
   "source": [
    "# Testing the model\n",
    "start_time = time.monotonic()\n",
    "test_loss, test_acc, predictions, targets = test(model, test_loader, criterion, device)\n",
    "\n",
    "end_time = time.monotonic()\n",
    "epoch_mins, epoch_secs = epoch_time(start_time, end_time)\n",
    "\n",
    "# list_test_loss.append(test_loss)\n",
    "# list_test_acc.append(test_acc)\n",
    "        \n",
    "print('Finished Testing in', end_time-start_time, \"seconds\")"
   ]
  },
  {
   "cell_type": "code",
   "execution_count": 73,
   "metadata": {},
   "outputs": [
    {
     "name": "stdout",
     "output_type": "stream",
     "text": [
      "Test Loss: 2.2179864235000157  Test Acc: 0.8553948648881249\n"
     ]
    }
   ],
   "source": [
    "print(\"Test Loss:\", test_loss, \" Test Acc:\", test_acc)"
   ]
  },
  {
   "cell_type": "code",
   "execution_count": 74,
   "metadata": {},
   "outputs": [
    {
     "name": "stdout",
     "output_type": "stream",
     "text": [
      "[[65118  9806  1933  7083]\n",
      " [  926 46091   266  1929]\n",
      " [    1  4745 28606  4343]\n",
      " [    0  5832   338 80292]]\n"
     ]
    },
    {
     "data": {
      "image/png": "[encoded data removed]",
      "text/plain": [
       "<Figure size 432x288 with 2 Axes>"
      ]
     },
     "metadata": {
      "needs_background": "light"
     },
     "output_type": "display_data"
    }
   ],
   "source": [
    "test_predictions = []\n",
    "test_targets = []\n",
    "\n",
    "for prediction_batch in predictions:\n",
    "    for prediction in prediction_batch:\n",
    "        test_predictions.append(torch.argmax(prediction, dim = 0).cpu().numpy())\n",
    "        \n",
    "for target_batch in targets:\n",
    "    for target in target_batch:\n",
    "        test_targets.append(torch.argmax(target, dim = 0).cpu().numpy())\n",
    "\n",
    "from sklearn.metrics import confusion_matrix\n",
    "\n",
    "cf_matrix = confusion_matrix(test_targets, test_predictions)\n",
    "\n",
    "print(cf_matrix)\n",
    "\n",
    "import seaborn as sns\n",
    "\n",
    "ax = sns.heatmap(cf_matrix, annot=True, cmap='Blues')\n",
    "\n",
    "ax.set_title('Linear Classifier Trained on Autoencoder Latents\\n\\n');\n",
    "ax.set_xlabel('\\nPredicted Values')\n",
    "ax.set_ylabel('Ground Truth Values\\n');\n",
    "\n",
    "ax.xaxis.set_ticklabels(['Preexposure', 'Postcond', 'Postext', 'Postret'])\n",
    "ax.yaxis.set_ticklabels(['Preexposure', 'Postcond', 'Postext', 'Postret'])\n",
    "\n",
    "plt.show()"
   ]
  },
  {
   "cell_type": "markdown",
   "metadata": {},
   "source": [
    "#### Fused Model"
   ]
  },
  {
   "cell_type": "code",
   "execution_count": 78,
   "metadata": {},
   "outputs": [],
   "source": [
    "class FusedEncodingModel(nn.Module):\n",
    "    def __init__(self, autoencoder_model, mlp_model2, autoencoder_model_weights_path, mlp_model_weights_path):\n",
    "        super().__init__()\n",
    "        \n",
    "       \n",
    "            \n",
    "        INPUT_DIM = 32\n",
    "        OUTPUT_DIM = 4\n",
    "\n",
    "#         mlp_model2 = MLP2(INPUT_DIM, OUTPUT_DIM)\n",
    "\n",
    "        self.autoencoder_model = autoencoder_model\n",
    "        self.autoencoder_model.load_state_dict(torch.load(autoencoder_model_weights_path))\n",
    "        \n",
    "        self.encoder = self.autoencoder_model.module.encoder\n",
    "        \n",
    "        self.mlp_model = mlp_model2\n",
    "#         self.mlp_model.load_state_dict(torch.load(mlp_model_weights_path))\n",
    "\n",
    "    def forward(self, x):\n",
    "        latent_representation = self.encoder(x)\n",
    "        class_prediction = self.mlp_model(latent_representation)\n",
    "        \n",
    "        return class_prediction"
   ]
  },
  {
   "cell_type": "code",
   "execution_count": 79,
   "metadata": {},
   "outputs": [
    {
     "data": {
      "text/plain": [
       "FusedEncodingModel(\n",
       "  (autoencoder_model): DataParallel(\n",
       "    (module): newAE(\n",
       "      (encoder): ResNet18Enc(\n",
       "        (ResNet18): ResNet(\n",
       "          (conv1): Conv2d(3, 64, kernel_size=(7, 7), stride=(2, 2), padding=(3, 3), bias=False)\n",
       "          (bn1): BatchNorm2d(64, eps=1e-05, momentum=0.1, affine=True, track_running_stats=True)\n",
       "          (relu): ReLU(inplace=True)\n",
       "          (maxpool): MaxPool2d(kernel_size=3, stride=2, padding=1, dilation=1, ceil_mode=False)\n",
       "          (layer1): Sequential(\n",
       "            (0): BasicBlock(\n",
       "              (conv1): Conv2d(64, 64, kernel_size=(3, 3), stride=(1, 1), padding=(1, 1), bias=False)\n",
       "              (bn1): BatchNorm2d(64, eps=1e-05, momentum=0.1, affine=True, track_running_stats=True)\n",
       "              (relu): ReLU(inplace=True)\n",
       "              (conv2): Conv2d(64, 64, kernel_size=(3, 3), stride=(1, 1), padding=(1, 1), bias=False)\n",
       "              (bn2): BatchNorm2d(64, eps=1e-05, momentum=0.1, affine=True, track_running_stats=True)\n",
       "            )\n",
       "            (1): BasicBlock(\n",
       "              (conv1): Conv2d(64, 64, kernel_size=(3, 3), stride=(1, 1), padding=(1, 1), bias=False)\n",
       "              (bn1): BatchNorm2d(64, eps=1e-05, momentum=0.1, affine=True, track_running_stats=True)\n",
       "              (relu): ReLU(inplace=True)\n",
       "              (conv2): Conv2d(64, 64, kernel_size=(3, 3), stride=(1, 1), padding=(1, 1), bias=False)\n",
       "              (bn2): BatchNorm2d(64, eps=1e-05, momentum=0.1, affine=True, track_running_stats=True)\n",
       "            )\n",
       "          )\n",
       "          (layer2): Sequential(\n",
       "            (0): BasicBlock(\n",
       "              (conv1): Conv2d(64, 128, kernel_size=(3, 3), stride=(2, 2), padding=(1, 1), bias=False)\n",
       "              (bn1): BatchNorm2d(128, eps=1e-05, momentum=0.1, affine=True, track_running_stats=True)\n",
       "              (relu): ReLU(inplace=True)\n",
       "              (conv2): Conv2d(128, 128, kernel_size=(3, 3), stride=(1, 1), padding=(1, 1), bias=False)\n",
       "              (bn2): BatchNorm2d(128, eps=1e-05, momentum=0.1, affine=True, track_running_stats=True)\n",
       "              (downsample): Sequential(\n",
       "                (0): Conv2d(64, 128, kernel_size=(1, 1), stride=(2, 2), bias=False)\n",
       "                (1): BatchNorm2d(128, eps=1e-05, momentum=0.1, affine=True, track_running_stats=True)\n",
       "              )\n",
       "            )\n",
       "            (1): BasicBlock(\n",
       "              (conv1): Conv2d(128, 128, kernel_size=(3, 3), stride=(1, 1), padding=(1, 1), bias=False)\n",
       "              (bn1): BatchNorm2d(128, eps=1e-05, momentum=0.1, affine=True, track_running_stats=True)\n",
       "              (relu): ReLU(inplace=True)\n",
       "              (conv2): Conv2d(128, 128, kernel_size=(3, 3), stride=(1, 1), padding=(1, 1), bias=False)\n",
       "              (bn2): BatchNorm2d(128, eps=1e-05, momentum=0.1, affine=True, track_running_stats=True)\n",
       "            )\n",
       "          )\n",
       "          (layer3): Sequential(\n",
       "            (0): BasicBlock(\n",
       "              (conv1): Conv2d(128, 256, kernel_size=(3, 3), stride=(2, 2), padding=(1, 1), bias=False)\n",
       "              (bn1): BatchNorm2d(256, eps=1e-05, momentum=0.1, affine=True, track_running_stats=True)\n",
       "              (relu): ReLU(inplace=True)\n",
       "              (conv2): Conv2d(256, 256, kernel_size=(3, 3), stride=(1, 1), padding=(1, 1), bias=False)\n",
       "              (bn2): BatchNorm2d(256, eps=1e-05, momentum=0.1, affine=True, track_running_stats=True)\n",
       "              (downsample): Sequential(\n",
       "                (0): Conv2d(128, 256, kernel_size=(1, 1), stride=(2, 2), bias=False)\n",
       "                (1): BatchNorm2d(256, eps=1e-05, momentum=0.1, affine=True, track_running_stats=True)\n",
       "              )\n",
       "            )\n",
       "            (1): BasicBlock(\n",
       "              (conv1): Conv2d(256, 256, kernel_size=(3, 3), stride=(1, 1), padding=(1, 1), bias=False)\n",
       "              (bn1): BatchNorm2d(256, eps=1e-05, momentum=0.1, affine=True, track_running_stats=True)\n",
       "              (relu): ReLU(inplace=True)\n",
       "              (conv2): Conv2d(256, 256, kernel_size=(3, 3), stride=(1, 1), padding=(1, 1), bias=False)\n",
       "              (bn2): BatchNorm2d(256, eps=1e-05, momentum=0.1, affine=True, track_running_stats=True)\n",
       "            )\n",
       "          )\n",
       "          (layer4): Sequential(\n",
       "            (0): BasicBlock(\n",
       "              (conv1): Conv2d(256, 512, kernel_size=(3, 3), stride=(2, 2), padding=(1, 1), bias=False)\n",
       "              (bn1): BatchNorm2d(512, eps=1e-05, momentum=0.1, affine=True, track_running_stats=True)\n",
       "              (relu): ReLU(inplace=True)\n",
       "              (conv2): Conv2d(512, 512, kernel_size=(3, 3), stride=(1, 1), padding=(1, 1), bias=False)\n",
       "              (bn2): BatchNorm2d(512, eps=1e-05, momentum=0.1, affine=True, track_running_stats=True)\n",
       "              (downsample): Sequential(\n",
       "                (0): Conv2d(256, 512, kernel_size=(1, 1), stride=(2, 2), bias=False)\n",
       "                (1): BatchNorm2d(512, eps=1e-05, momentum=0.1, affine=True, track_running_stats=True)\n",
       "              )\n",
       "            )\n",
       "            (1): BasicBlock(\n",
       "              (conv1): Conv2d(512, 512, kernel_size=(3, 3), stride=(1, 1), padding=(1, 1), bias=False)\n",
       "              (bn1): BatchNorm2d(512, eps=1e-05, momentum=0.1, affine=True, track_running_stats=True)\n",
       "              (relu): ReLU(inplace=True)\n",
       "              (conv2): Conv2d(512, 512, kernel_size=(3, 3), stride=(1, 1), padding=(1, 1), bias=False)\n",
       "              (bn2): BatchNorm2d(512, eps=1e-05, momentum=0.1, affine=True, track_running_stats=True)\n",
       "            )\n",
       "          )\n",
       "          (avgpool): AdaptiveAvgPool2d(output_size=(1, 1))\n",
       "          (fc): Linear(in_features=512, out_features=32, bias=True)\n",
       "        )\n",
       "      )\n",
       "      (decoder): ResNet18Dec(\n",
       "        (linear): Linear(in_features=32, out_features=512, bias=True)\n",
       "        (layer4): Sequential(\n",
       "          (0): BasicBlockDec(\n",
       "            (conv2): Conv2d(512, 512, kernel_size=(3, 3), stride=(1, 1), padding=(1, 1), bias=False)\n",
       "            (bn2): BatchNorm2d(512, eps=1e-05, momentum=0.1, affine=True, track_running_stats=True)\n",
       "            (conv1): Conv2d(512, 512, kernel_size=(3, 3), stride=(1, 1), padding=(1, 1), bias=False)\n",
       "            (bn1): BatchNorm2d(512, eps=1e-05, momentum=0.1, affine=True, track_running_stats=True)\n",
       "            (shortcut): Sequential()\n",
       "          )\n",
       "          (1): BasicBlockDec(\n",
       "            (conv2): Conv2d(512, 512, kernel_size=(3, 3), stride=(1, 1), padding=(1, 1), bias=False)\n",
       "            (bn2): BatchNorm2d(512, eps=1e-05, momentum=0.1, affine=True, track_running_stats=True)\n",
       "            (conv1): ResizeConv2d(\n",
       "              (conv): Conv2d(512, 256, kernel_size=(3, 3), stride=(1, 1), padding=(1, 1))\n",
       "            )\n",
       "            (bn1): BatchNorm2d(256, eps=1e-05, momentum=0.1, affine=True, track_running_stats=True)\n",
       "            (shortcut): Sequential(\n",
       "              (0): ResizeConv2d(\n",
       "                (conv): Conv2d(512, 256, kernel_size=(3, 3), stride=(1, 1), padding=(1, 1))\n",
       "              )\n",
       "              (1): BatchNorm2d(256, eps=1e-05, momentum=0.1, affine=True, track_running_stats=True)\n",
       "            )\n",
       "          )\n",
       "        )\n",
       "        (layer3): Sequential(\n",
       "          (0): BasicBlockDec(\n",
       "            (conv2): Conv2d(256, 256, kernel_size=(3, 3), stride=(1, 1), padding=(1, 1), bias=False)\n",
       "            (bn2): BatchNorm2d(256, eps=1e-05, momentum=0.1, affine=True, track_running_stats=True)\n",
       "            (conv1): Conv2d(256, 256, kernel_size=(3, 3), stride=(1, 1), padding=(1, 1), bias=False)\n",
       "            (bn1): BatchNorm2d(256, eps=1e-05, momentum=0.1, affine=True, track_running_stats=True)\n",
       "            (shortcut): Sequential()\n",
       "          )\n",
       "          (1): BasicBlockDec(\n",
       "            (conv2): Conv2d(256, 256, kernel_size=(3, 3), stride=(1, 1), padding=(1, 1), bias=False)\n",
       "            (bn2): BatchNorm2d(256, eps=1e-05, momentum=0.1, affine=True, track_running_stats=True)\n",
       "            (conv1): ResizeConv2d(\n",
       "              (conv): Conv2d(256, 128, kernel_size=(3, 3), stride=(1, 1), padding=(1, 1))\n",
       "            )\n",
       "            (bn1): BatchNorm2d(128, eps=1e-05, momentum=0.1, affine=True, track_running_stats=True)\n",
       "            (shortcut): Sequential(\n",
       "              (0): ResizeConv2d(\n",
       "                (conv): Conv2d(256, 128, kernel_size=(3, 3), stride=(1, 1), padding=(1, 1))\n",
       "              )\n",
       "              (1): BatchNorm2d(128, eps=1e-05, momentum=0.1, affine=True, track_running_stats=True)\n",
       "            )\n",
       "          )\n",
       "        )\n",
       "        (layer2): Sequential(\n",
       "          (0): BasicBlockDec(\n",
       "            (conv2): Conv2d(128, 128, kernel_size=(3, 3), stride=(1, 1), padding=(1, 1), bias=False)\n",
       "            (bn2): BatchNorm2d(128, eps=1e-05, momentum=0.1, affine=True, track_running_stats=True)\n",
       "            (conv1): Conv2d(128, 128, kernel_size=(3, 3), stride=(1, 1), padding=(1, 1), bias=False)\n",
       "            (bn1): BatchNorm2d(128, eps=1e-05, momentum=0.1, affine=True, track_running_stats=True)\n",
       "            (shortcut): Sequential()\n",
       "          )\n",
       "          (1): BasicBlockDec(\n",
       "            (conv2): Conv2d(128, 128, kernel_size=(3, 3), stride=(1, 1), padding=(1, 1), bias=False)\n",
       "            (bn2): BatchNorm2d(128, eps=1e-05, momentum=0.1, affine=True, track_running_stats=True)\n",
       "            (conv1): ResizeConv2d(\n",
       "              (conv): Conv2d(128, 64, kernel_size=(3, 3), stride=(1, 1), padding=(1, 1))\n",
       "            )\n",
       "            (bn1): BatchNorm2d(64, eps=1e-05, momentum=0.1, affine=True, track_running_stats=True)\n",
       "            (shortcut): Sequential(\n",
       "              (0): ResizeConv2d(\n",
       "                (conv): Conv2d(128, 64, kernel_size=(3, 3), stride=(1, 1), padding=(1, 1))\n",
       "              )\n",
       "              (1): BatchNorm2d(64, eps=1e-05, momentum=0.1, affine=True, track_running_stats=True)\n",
       "            )\n",
       "          )\n",
       "        )\n",
       "        (layer1): Sequential(\n",
       "          (0): BasicBlockDec(\n",
       "            (conv2): Conv2d(64, 64, kernel_size=(3, 3), stride=(1, 1), padding=(1, 1), bias=False)\n",
       "            (bn2): BatchNorm2d(64, eps=1e-05, momentum=0.1, affine=True, track_running_stats=True)\n",
       "            (conv1): Conv2d(64, 64, kernel_size=(3, 3), stride=(1, 1), padding=(1, 1), bias=False)\n",
       "            (bn1): BatchNorm2d(64, eps=1e-05, momentum=0.1, affine=True, track_running_stats=True)\n",
       "            (shortcut): Sequential()\n",
       "          )\n",
       "          (1): BasicBlockDec(\n",
       "            (conv2): Conv2d(64, 64, kernel_size=(3, 3), stride=(1, 1), padding=(1, 1), bias=False)\n",
       "            (bn2): BatchNorm2d(64, eps=1e-05, momentum=0.1, affine=True, track_running_stats=True)\n",
       "            (conv1): Conv2d(64, 64, kernel_size=(3, 3), stride=(1, 1), padding=(1, 1), bias=False)\n",
       "            (bn1): BatchNorm2d(64, eps=1e-05, momentum=0.1, affine=True, track_running_stats=True)\n",
       "            (shortcut): Sequential()\n",
       "          )\n",
       "        )\n",
       "        (conv1): ResizeConv2d(\n",
       "          (conv): Conv2d(64, 3, kernel_size=(3, 3), stride=(1, 1), padding=(1, 1))\n",
       "        )\n",
       "      )\n",
       "    )\n",
       "  )\n",
       "  (encoder): ResNet18Enc(\n",
       "    (ResNet18): ResNet(\n",
       "      (conv1): Conv2d(3, 64, kernel_size=(7, 7), stride=(2, 2), padding=(3, 3), bias=False)\n",
       "      (bn1): BatchNorm2d(64, eps=1e-05, momentum=0.1, affine=True, track_running_stats=True)\n",
       "      (relu): ReLU(inplace=True)\n",
       "      (maxpool): MaxPool2d(kernel_size=3, stride=2, padding=1, dilation=1, ceil_mode=False)\n",
       "      (layer1): Sequential(\n",
       "        (0): BasicBlock(\n",
       "          (conv1): Conv2d(64, 64, kernel_size=(3, 3), stride=(1, 1), padding=(1, 1), bias=False)\n",
       "          (bn1): BatchNorm2d(64, eps=1e-05, momentum=0.1, affine=True, track_running_stats=True)\n",
       "          (relu): ReLU(inplace=True)\n",
       "          (conv2): Conv2d(64, 64, kernel_size=(3, 3), stride=(1, 1), padding=(1, 1), bias=False)\n",
       "          (bn2): BatchNorm2d(64, eps=1e-05, momentum=0.1, affine=True, track_running_stats=True)\n",
       "        )\n",
       "        (1): BasicBlock(\n",
       "          (conv1): Conv2d(64, 64, kernel_size=(3, 3), stride=(1, 1), padding=(1, 1), bias=False)\n",
       "          (bn1): BatchNorm2d(64, eps=1e-05, momentum=0.1, affine=True, track_running_stats=True)\n",
       "          (relu): ReLU(inplace=True)\n",
       "          (conv2): Conv2d(64, 64, kernel_size=(3, 3), stride=(1, 1), padding=(1, 1), bias=False)\n",
       "          (bn2): BatchNorm2d(64, eps=1e-05, momentum=0.1, affine=True, track_running_stats=True)\n",
       "        )\n",
       "      )\n",
       "      (layer2): Sequential(\n",
       "        (0): BasicBlock(\n",
       "          (conv1): Conv2d(64, 128, kernel_size=(3, 3), stride=(2, 2), padding=(1, 1), bias=False)\n",
       "          (bn1): BatchNorm2d(128, eps=1e-05, momentum=0.1, affine=True, track_running_stats=True)\n",
       "          (relu): ReLU(inplace=True)\n",
       "          (conv2): Conv2d(128, 128, kernel_size=(3, 3), stride=(1, 1), padding=(1, 1), bias=False)\n",
       "          (bn2): BatchNorm2d(128, eps=1e-05, momentum=0.1, affine=True, track_running_stats=True)\n",
       "          (downsample): Sequential(\n",
       "            (0): Conv2d(64, 128, kernel_size=(1, 1), stride=(2, 2), bias=False)\n",
       "            (1): BatchNorm2d(128, eps=1e-05, momentum=0.1, affine=True, track_running_stats=True)\n",
       "          )\n",
       "        )\n",
       "        (1): BasicBlock(\n",
       "          (conv1): Conv2d(128, 128, kernel_size=(3, 3), stride=(1, 1), padding=(1, 1), bias=False)\n",
       "          (bn1): BatchNorm2d(128, eps=1e-05, momentum=0.1, affine=True, track_running_stats=True)\n",
       "          (relu): ReLU(inplace=True)\n",
       "          (conv2): Conv2d(128, 128, kernel_size=(3, 3), stride=(1, 1), padding=(1, 1), bias=False)\n",
       "          (bn2): BatchNorm2d(128, eps=1e-05, momentum=0.1, affine=True, track_running_stats=True)\n",
       "        )\n",
       "      )\n",
       "      (layer3): Sequential(\n",
       "        (0): BasicBlock(\n",
       "          (conv1): Conv2d(128, 256, kernel_size=(3, 3), stride=(2, 2), padding=(1, 1), bias=False)\n",
       "          (bn1): BatchNorm2d(256, eps=1e-05, momentum=0.1, affine=True, track_running_stats=True)\n",
       "          (relu): ReLU(inplace=True)\n",
       "          (conv2): Conv2d(256, 256, kernel_size=(3, 3), stride=(1, 1), padding=(1, 1), bias=False)\n",
       "          (bn2): BatchNorm2d(256, eps=1e-05, momentum=0.1, affine=True, track_running_stats=True)\n",
       "          (downsample): Sequential(\n",
       "            (0): Conv2d(128, 256, kernel_size=(1, 1), stride=(2, 2), bias=False)\n",
       "            (1): BatchNorm2d(256, eps=1e-05, momentum=0.1, affine=True, track_running_stats=True)\n",
       "          )\n",
       "        )\n",
       "        (1): BasicBlock(\n",
       "          (conv1): Conv2d(256, 256, kernel_size=(3, 3), stride=(1, 1), padding=(1, 1), bias=False)\n",
       "          (bn1): BatchNorm2d(256, eps=1e-05, momentum=0.1, affine=True, track_running_stats=True)\n",
       "          (relu): ReLU(inplace=True)\n",
       "          (conv2): Conv2d(256, 256, kernel_size=(3, 3), stride=(1, 1), padding=(1, 1), bias=False)\n",
       "          (bn2): BatchNorm2d(256, eps=1e-05, momentum=0.1, affine=True, track_running_stats=True)\n",
       "        )\n",
       "      )\n",
       "      (layer4): Sequential(\n",
       "        (0): BasicBlock(\n",
       "          (conv1): Conv2d(256, 512, kernel_size=(3, 3), stride=(2, 2), padding=(1, 1), bias=False)\n",
       "          (bn1): BatchNorm2d(512, eps=1e-05, momentum=0.1, affine=True, track_running_stats=True)\n",
       "          (relu): ReLU(inplace=True)\n",
       "          (conv2): Conv2d(512, 512, kernel_size=(3, 3), stride=(1, 1), padding=(1, 1), bias=False)\n",
       "          (bn2): BatchNorm2d(512, eps=1e-05, momentum=0.1, affine=True, track_running_stats=True)\n",
       "          (downsample): Sequential(\n",
       "            (0): Conv2d(256, 512, kernel_size=(1, 1), stride=(2, 2), bias=False)\n",
       "            (1): BatchNorm2d(512, eps=1e-05, momentum=0.1, affine=True, track_running_stats=True)\n",
       "          )\n",
       "        )\n",
       "        (1): BasicBlock(\n",
       "          (conv1): Conv2d(512, 512, kernel_size=(3, 3), stride=(1, 1), padding=(1, 1), bias=False)\n",
       "          (bn1): BatchNorm2d(512, eps=1e-05, momentum=0.1, affine=True, track_running_stats=True)\n",
       "          (relu): ReLU(inplace=True)\n",
       "          (conv2): Conv2d(512, 512, kernel_size=(3, 3), stride=(1, 1), padding=(1, 1), bias=False)\n",
       "          (bn2): BatchNorm2d(512, eps=1e-05, momentum=0.1, affine=True, track_running_stats=True)\n",
       "        )\n",
       "      )\n",
       "      (avgpool): AdaptiveAvgPool2d(output_size=(1, 1))\n",
       "      (fc): Linear(in_features=512, out_features=32, bias=True)\n",
       "    )\n",
       "  )\n",
       "  (mlp_model): MLP(\n",
       "    (input_fc): Linear(in_features=32, out_features=128, bias=True)\n",
       "    (hidden_fc1): Linear(in_features=128, out_features=64, bias=True)\n",
       "    (hidden_fc2): Linear(in_features=64, out_features=32, bias=True)\n",
       "    (output_fc): Linear(in_features=32, out_features=4, bias=True)\n",
       "  )\n",
       ")"
      ]
     },
     "execution_count": 79,
     "metadata": {},
     "output_type": "execute_result"
    }
   ],
   "source": [
    "fused_model = FusedEncodingModel(ae_model_mse, model, \"new_architecture_MSE_e2400.p\", \"control_animals_expt_mse_e295_v0.9895146048379565.p\")\n",
    "fused_model = fused_model.to(device)\n",
    "fused_model.eval()"
   ]
  },
  {
   "cell_type": "markdown",
   "metadata": {},
   "source": [
    "### GradCam"
   ]
  },
  {
   "cell_type": "code",
   "execution_count": 80,
   "metadata": {},
   "outputs": [
    {
     "ename": "NameError",
     "evalue": "name 'control_list' is not defined",
     "output_type": "error",
     "traceback": [
      "\u001b[0;31m---------------------------------------------------------------------------\u001b[0m",
      "\u001b[0;31mNameError\u001b[0m                                 Traceback (most recent call last)",
      "Input \u001b[0;32mIn [80]\u001b[0m, in \u001b[0;36m<cell line: 6>\u001b[0;34m()\u001b[0m\n\u001b[1;32m      3\u001b[0m \u001b[38;5;28;01mfrom\u001b[39;00m \u001b[38;5;21;01mpytorch_grad_cam\u001b[39;00m\u001b[38;5;21;01m.\u001b[39;00m\u001b[38;5;21;01mutils\u001b[39;00m\u001b[38;5;21;01m.\u001b[39;00m\u001b[38;5;21;01mimage\u001b[39;00m \u001b[38;5;28;01mimport\u001b[39;00m show_cam_on_image\n\u001b[1;32m      5\u001b[0m target_layers \u001b[38;5;241m=\u001b[39m [fused_model\u001b[38;5;241m.\u001b[39mencoder\u001b[38;5;241m.\u001b[39mResNet18\u001b[38;5;241m.\u001b[39mlayer3[\u001b[38;5;241m-\u001b[39m\u001b[38;5;241m1\u001b[39m]]\n\u001b[0;32m----> 6\u001b[0m test_image \u001b[38;5;241m=\u001b[39m \u001b[43mcontrol_list\u001b[49m[\u001b[38;5;241m1007\u001b[39m]\n\u001b[1;32m      7\u001b[0m test_image \u001b[38;5;241m=\u001b[39m cv2\u001b[38;5;241m.\u001b[39mimread(test_image)\n\u001b[1;32m      8\u001b[0m test_image \u001b[38;5;241m=\u001b[39m cv2\u001b[38;5;241m.\u001b[39mresize(test_image, (\u001b[38;5;241m224\u001b[39m, \u001b[38;5;241m224\u001b[39m))\n",
      "\u001b[0;31mNameError\u001b[0m: name 'control_list' is not defined"
     ]
    }
   ],
   "source": [
    "from pytorch_grad_cam import GradCAM, ScoreCAM, GradCAMPlusPlus, AblationCAM, XGradCAM, EigenCAM, FullGrad\n",
    "from pytorch_grad_cam.utils.model_targets import ClassifierOutputTarget\n",
    "from pytorch_grad_cam.utils.image import show_cam_on_image\n",
    "\n",
    "target_layers = [fused_model.encoder.ResNet18.layer3[-1]]\n",
    "test_image = control_list[1007]\n",
    "test_image = cv2.imread(test_image)\n",
    "test_image = cv2.resize(test_image, (224, 224))\n",
    "plt.figure(figsize=(10,10))\n",
    "plt.imshow(test_image)\n",
    "input_tensor = torchvision.transforms.functional.to_tensor(test_image/255.).unsqueeze(0).float()\n",
    "input_tensor.shape"
   ]
  },
  {
   "cell_type": "code",
   "execution_count": null,
   "metadata": {},
   "outputs": [],
   "source": []
  },
  {
   "cell_type": "code",
   "execution_count": 13,
   "metadata": {
    "scrolled": true
   },
   "outputs": [],
   "source": [
    "import segmentation_models_pytorch as smp\n",
    "import cv2\n",
    "import torchvision\n",
    "import matplotlib.pyplot as plt"
   ]
  },
  {
   "cell_type": "code",
   "execution_count": 63,
   "metadata": {},
   "outputs": [
    {
     "name": "stderr",
     "output_type": "stream",
     "text": [
      "Downloading: \"https://download.pytorch.org/models/resnet152-b121ed2d.pth\" to /home/anagara8/.cache/torch/hub/checkpoints/resnet152-b121ed2d.pth\n",
      "100%|████████████████████████████████████████| 230M/230M [00:05<00:00, 43.2MB/s]\n"
     ]
    }
   ],
   "source": [
    "model = smp.Unet(\n",
    "    encoder_name=\"resnet152\",     # choose encoder, e.g. mobilenet_v2 or efficientnet-b7\n",
    "    encoder_weights=\"imagenet\",     # use `imagenet` pre-trained weights for encoder initialization\n",
    "    in_channels=3,                  # model input channels (1 for gray-scale images, 3 for RGB, etc.)\n",
    "    classes=4                 # model output channels (number of classes in your dataset)\n",
    ")"
   ]
  },
  {
   "cell_type": "code",
   "execution_count": 64,
   "metadata": {
    "scrolled": true
   },
   "outputs": [],
   "source": [
    "image = cv2.imread(\"/media/data_cifs/anagara8/postret_action/FC-B_1-6_postretrieval_09-26_09-28video_2018Y_09M_27D_00h_39m_46s_cam_17202346-0000_45652.jpg\")\n",
    "image = torchvision.transforms.functional.to_tensor(image).unsqueeze(0).float()\n",
    "\n",
    "seg = model(image)"
   ]
  },
  {
   "cell_type": "code",
   "execution_count": 65,
   "metadata": {},
   "outputs": [],
   "source": [
    "seg = seg.squeeze().detach().cpu().numpy()"
   ]
  },
  {
   "cell_type": "code",
   "execution_count": 68,
   "metadata": {},
   "outputs": [
    {
     "data": {
      "text/plain": [
       "<matplotlib.image.AxesImage at 0x7fa7508f16a0>"
      ]
     },
     "execution_count": 68,
     "metadata": {},
     "output_type": "execute_result"
    },
    {
     "data": {
      "image/png": "[encoded data removed]",
      "text/plain": [
       "<Figure size 432x288 with 1 Axes>"
      ]
     },
     "metadata": {
      "needs_background": "light"
     },
     "output_type": "display_data"
    }
   ],
   "source": [
    "plt.imshow(seg[0], cmap=\"gray\")"
   ]
  },
  {
   "cell_type": "code",
   "execution_count": null,
   "metadata": {},
   "outputs": [],
   "source": []
  }
 ],
 "metadata": {
  "kernelspec": {
   "display_name": "pythorch",
   "language": "python",
   "name": "pythorch"
  },
  "language_info": {
   "codemirror_mode": {
    "name": "ipython",
    "version": 3
   },
   "file_extension": ".py",
   "mimetype": "text/x-python",
   "name": "python",
   "nbconvert_exporter": "python",
   "pygments_lexer": "ipython3",
   "version": "3.9.10"
  }
 },
 "nbformat": 4,
 "nbformat_minor": 4
}
