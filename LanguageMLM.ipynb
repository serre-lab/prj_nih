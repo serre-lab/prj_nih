{
 "cells": [
  {
   "cell_type": "code",
   "execution_count": 2,
   "id": "6d7d859d",
   "metadata": {},
   "outputs": [],
   "source": [
    "from datetime import timedelta\n",
    "import torch\n",
    "from torch.autograd import Variable\n",
    "import torchvision\n",
    "import torch.nn as nn\n",
    "import torch.nn.functional as F\n",
    "from torchvision import datasets, models,transforms\n",
    "import torch.optim as optim\n",
    "from torch.optim import lr_scheduler\n",
    "from torch.utils.data import TensorDataset, DataLoader,random_split\n",
    "from __future__ import print_function\n",
    "import numpy as np \n",
    "import pandas as pd\n",
    "import os\n",
    "import time\n",
    "import random\n",
    "import matplotlib.pyplot as plt \n",
    "from torch.autograd import Function\n",
    "from collections import OrderedDict\n",
    "import torch.nn as nn\n",
    "import math\n",
    "import torchvision.models as models\n",
    "import pickle\n",
    "import cv2\n",
    "import os\n",
    "import sys\n",
    "import glob\n",
    "import collections\n",
    "import pandas as pd\n",
    "import wandb\n",
    "from sklearn.model_selection import KFold\n",
    "# from torchsummary import summary\n",
    "import glob\n",
    "from sklearn.manifold import TSNE\n",
    "import seaborn as sns\n",
    "import collections\n",
    "from transformers import BertConfig, BertModel\n",
    "\n",
    "import torch\n",
    "from torch.utils.data import TensorDataset, DataLoader, RandomSampler, SequentialSampler\n",
    "from transformers import BertTokenizer, BertForSequenceClassification\n",
    "from sklearn.model_selection import train_test_split\n",
    "import tokenizers\n",
    "from transformers import Trainer, TrainingArguments\n",
    "from transformers import BertTokenizer, LineByLineTextDataset, BertModel, BertConfig, BertForMaskedLM, DataCollatorForLanguageModeling\n",
    "\n",
    "import pandas as pd\n",
    "import numpy as np\n",
    "\n",
    "from tabulate import tabulate\n",
    "from tqdm import trange\n",
    "import random\n",
    "\n",
    "SAVING_FRAMES_PER_SECOND = 30"
   ]
  },
  {
   "cell_type": "code",
   "execution_count": 3,
   "id": "d2c9c612",
   "metadata": {},
   "outputs": [
    {
     "data": {
      "text/plain": [
       "True"
      ]
     },
     "execution_count": 3,
     "metadata": {},
     "output_type": "execute_result"
    }
   ],
   "source": [
    "BEH_LABELS = ['drink', 'eat', 'groom', 'hang', 'sniff', 'rear', 'rest', 'walk', 'nibble']\n",
    "action_colours = ['tab:blue', 'tab:orange', 'limegreen', 'deepskyblue', 'tab:pink', 'tab:purple', 'tab:brown', 'red', 'black']\n",
    "len(action_colours) == len(BEH_LABELS)"
   ]
  },
  {
   "cell_type": "code",
   "execution_count": 4,
   "id": "5e7edc63",
   "metadata": {},
   "outputs": [],
   "source": [
    "VIDEO_FOLDER = \"/cifs/data/tserre/CLPS_Serre_Lab/nih/files_to_send/\"\n",
    "ACTION_FOLDER = \"/cifs/data/tserre/CLPS_Serre_Lab/nih/inference/results_csv/\""
   ]
  },
  {
   "cell_type": "code",
   "execution_count": 5,
   "id": "7ac6002d",
   "metadata": {},
   "outputs": [],
   "source": [
    "time_counter = {\n",
    "    'under5':0,\n",
    "    '5-10':0,\n",
    "    '10-15':0,\n",
    "    '15-20':0,\n",
    "    '20-25':0,\n",
    "    '25-30':0,\n",
    "    '30-35':0,\n",
    "    '35-40':0,\n",
    "    '40-45':0,\n",
    "    '45-50':0,\n",
    "    '50-55':0,\n",
    "    '55-60':0,\n",
    "    '60-90':0,\n",
    "    '90-450':0,\n",
    "    '450-1800':0,\n",
    "    '1800-4500':0,\n",
    "    'over4500':0,}"
   ]
  },
  {
   "cell_type": "code",
   "execution_count": 6,
   "id": "78125eb2",
   "metadata": {},
   "outputs": [],
   "source": [
    "def get_repeat_vocab(repeat_number):\n",
    "    # > '0-5'\n",
    "    # > '5-15'\n",
    "    # > '15-45'\n",
    "    # > '45-90'\n",
    "    # > '90-450'\n",
    "    # > '450-1800'\n",
    "    # > '1800-4500'\n",
    "    # > 'over4500'\n",
    "    if repeat_number > 0 and repeat_number <= 5:\n",
    "        box = \"under5\"\n",
    "    elif repeat_number > 5 and repeat_number <= 10:\n",
    "        box = \"5-10\"\n",
    "    elif repeat_number > 10 and repeat_number <= 15:\n",
    "        box = \"10-15\"\n",
    "    elif repeat_number > 15 and repeat_number <= 20:\n",
    "        box = \"15-20\"\n",
    "    elif repeat_number > 20 and repeat_number <= 25:\n",
    "        box = \"20-25\"\n",
    "    elif repeat_number > 25 and repeat_number <= 30:\n",
    "        box = \"25-30\"\n",
    "    elif repeat_number > 30 and repeat_number <= 35:\n",
    "        box = \"30-35\"\n",
    "    elif repeat_number > 35 and repeat_number <= 40:\n",
    "        box = \"35-40\"\n",
    "    elif repeat_number > 40 and repeat_number <= 45:\n",
    "        box = \"40-45\"\n",
    "    elif repeat_number > 45 and repeat_number <= 50:\n",
    "        box = \"45-50\"\n",
    "    elif repeat_number > 50 and repeat_number <= 55:\n",
    "        box = \"50-55\"\n",
    "    elif repeat_number > 55 and repeat_number <= 60:\n",
    "        box = \"55-60\"\n",
    "    elif repeat_number > 60 and repeat_number <= 90:\n",
    "        box = \"60-90\"\n",
    "    elif repeat_number > 90 and repeat_number <= 450:\n",
    "        box = \"90-450\"\n",
    "    elif repeat_number > 450 and repeat_number <= 1800:\n",
    "        box = \"450-1800\"\n",
    "    elif repeat_number > 1800 and repeat_number <= 4500:\n",
    "        box = \"1800-4500\"\n",
    "    elif repeat_number > 4500:\n",
    "        box = \"over4500\"\n",
    "    else:\n",
    "        raise ValueError('A very specific bad thing happened.')\n",
    "    time_counter[box] += 1\n",
    "    return box"
   ]
  },
  {
   "cell_type": "code",
   "execution_count": 7,
   "id": "fb7b46a3",
   "metadata": {},
   "outputs": [],
   "source": [
    "def cleaning_actions(action_list):\n",
    "    WINDOW_SIZE = 3 # Each side\n",
    "    \n",
    "    index = WINDOW_SIZE\n",
    "    action_length = len(action_list)\n",
    "    \n",
    "    while index < (action_length - WINDOW_SIZE - 1):\n",
    "        current_action = action_list[index]\n",
    "        window = action_list[index - WINDOW_SIZE : index + WINDOW_SIZE + 1]\n",
    "        window_elements = collections.Counter(window)\n",
    "        most_common_action = window_elements.most_common(1)[0][0]\n",
    "        if action_list[index] != most_common_action:\n",
    "            action_list[index] = most_common_action\n",
    "        index += 1\n",
    "    return action_list"
   ]
  },
  {
   "cell_type": "code",
   "execution_count": 8,
   "id": "6a335ede",
   "metadata": {},
   "outputs": [],
   "source": [
    "def generate_language_from_labels(action_list, class_label):\n",
    "    SENTENCE_LENGTH = 900 # in terms of frames\n",
    "    \n",
    "    start_index = 0\n",
    "    action_length = len(action_list)\n",
    "    \n",
    "    language = []\n",
    "#     label = []\n",
    "    sentence = \"\"\n",
    "    \n",
    "    current_sentence_length = 0\n",
    "    while start_index < action_length:\n",
    "        \n",
    "        current_action = action_list[start_index]\n",
    "        current_action_label = BEH_LABELS[current_action]\n",
    "        \n",
    "        next_action_idx = start_index + 1\n",
    "        \n",
    "        while next_action_idx < action_length and current_action == action_list[next_action_idx]:\n",
    "            next_action_idx  += 1\n",
    "        repeats = next_action_idx - start_index\n",
    "        \n",
    "        if current_sentence_length == 0:\n",
    "            sentence = \"\"\n",
    "            \n",
    "        current_sentence_length += repeats\n",
    "        start_index = next_action_idx\n",
    "        \n",
    "        sentence += str(current_action_label)+\" \"+get_repeat_vocab(repeats)+\" \"\n",
    "        \n",
    "        if current_sentence_length >= SENTENCE_LENGTH:\n",
    "            language.append(sentence)\n",
    "#             label.append(class_label)\n",
    "            current_sentence_length = 0\n",
    "            \n",
    "    if sentence != \"\":\n",
    "        language.append(sentence)\n",
    "#         label.append(class_label)\n",
    "    return language"
   ]
  },
  {
   "cell_type": "code",
   "execution_count": 9,
   "id": "b163e1f2",
   "metadata": {},
   "outputs": [],
   "source": [
    "all_preexposure_actions_17202338_c = np.load(\"all_preexposure_actions_17202338_c.npy\")\n",
    "all_postcond_actions_17202338_c = np.load(\"all_postcond_actions_17202338_c.npy\")"
   ]
  },
  {
   "cell_type": "code",
   "execution_count": 10,
   "id": "cdea00e3",
   "metadata": {},
   "outputs": [],
   "source": [
    "raw_text = []\n",
    "labels = []"
   ]
  },
  {
   "cell_type": "code",
   "execution_count": 11,
   "id": "4fa94199",
   "metadata": {},
   "outputs": [
    {
     "name": "stdout",
     "output_type": "stream",
     "text": [
      "Preexposure done.\n",
      "Postcond done.\n"
     ]
    }
   ],
   "source": [
    "cleaned_preexposure_c = cleaning_actions(all_preexposure_actions_17202338_c)\n",
    "print(\"Preexposure done.\")\n",
    "cleaned_postcond_c = cleaning_actions(all_postcond_actions_17202338_c)\n",
    "print(\"Postcond done.\")"
   ]
  },
  {
   "cell_type": "code",
   "execution_count": 12,
   "id": "c5ee3ec5",
   "metadata": {},
   "outputs": [
    {
     "name": "stdout",
     "output_type": "stream",
     "text": [
      "Number of Sequences: 4577\n",
      "Number of Labels: 4577\n"
     ]
    }
   ],
   "source": [
    "preexposure_c = generate_language_from_labels(cleaned_preexposure_c, 0)\n",
    "preexp_time_counter_c = time_counter\n",
    "raw_text += preexposure_c\n",
    "labels += [0]*len(preexposure_c)\n",
    "\n",
    "postcond_c = generate_language_from_labels(cleaned_postcond_c, 1)\n",
    "postcond_time_counter_c = time_counter\n",
    "raw_text += postcond_c\n",
    "labels += [1]*len(postcond_c)\n",
    "\n",
    "print(\"Number of Sequences:\", len(raw_text));\n",
    "print(\"Number of Labels:\", len(labels))"
   ]
  },
  {
   "cell_type": "code",
   "execution_count": 13,
   "id": "b4a20608",
   "metadata": {},
   "outputs": [
    {
     "data": {
      "image/png": "[encoded data removed]",
      "text/plain": [
       "<Figure size 3000x1500 with 1 Axes>"
      ]
     },
     "metadata": {},
     "output_type": "display_data"
    }
   ],
   "source": [
    "# Plot time distributions:\n",
    "times = [time_counter[x] for x in time_counter.keys()]\n",
    "\n",
    "X = [x for x in time_counter.keys()]\n",
    "X_axis = np.arange(len(X))\n",
    "\n",
    "plt.figure(figsize=(30, 15))\n",
    "plt.rcParams.update({'font.size': 22})\n",
    "plt.bar(X_axis , times, 0.4, label = 'Preexposure')\n",
    "\n",
    "plt.xticks(X_axis, X)\n",
    "plt.xlabel(\"Time Buckets of Actions in seconds\")\n",
    "plt.ylabel(\"Frequency\")\n",
    "plt.title(\"Action Frequency in Different Phases of Experiment Mouse\")\n",
    "plt.legend()\n",
    "plt.show()"
   ]
  },
  {
   "cell_type": "code",
   "execution_count": 14,
   "id": "d4ed43c2",
   "metadata": {},
   "outputs": [],
   "source": [
    "from tqdm import tqdm\n",
    "from transformers import BertTokenizer\n",
    "\n",
    "# create a python generator to dynamically load the data\n",
    "def batch_iterator(batch_size=100):\n",
    "    for i in tqdm(range(0, len(raw_text), batch_size)):\n",
    "        print(\"Batch:\", raw_text[i : i + batch_size])\n",
    "        yield raw_datasets[i : i + batch_size]\n",
    "\n",
    "tokenizer = BertTokenizer(\"nih_vocab.txt\", do_basic_tokenize=False)"
   ]
  },
  {
   "cell_type": "code",
   "execution_count": 15,
   "id": "6e546c45",
   "metadata": {},
   "outputs": [
    {
     "name": "stdout",
     "output_type": "stream",
     "text": [
      "{'input_ids': tensor([[ 2, 26,  9, 24,  5, 26,  6, 24,  7, 26, 13, 24,  9, 26,  6, 24,  9, 26,\n",
      "          5, 24, 15, 26, 18, 24,  9, 26, 17, 24, 18, 26,  8, 24, 11, 26, 16, 24,\n",
      "         17, 26, 17, 30,  7, 26,  8, 30, 14, 26, 15,  3,  0,  0,  0,  0,  0,  0,\n",
      "          0,  0,  0,  0,  0,  0,  0,  0,  0,  0,  0,  0,  0,  0,  0,  0,  0,  0,\n",
      "          0,  0,  0,  0,  0,  0,  0,  0,  0,  0,  0,  0,  0,  0,  0,  0,  0,  0,\n",
      "          0,  0,  0,  0,  0,  0,  0,  0,  0,  0,  0,  0,  0,  0,  0,  0,  0,  0,\n",
      "          0,  0,  0,  0,  0,  0,  0,  0,  0,  0,  0,  0,  0,  0,  0,  0,  0,  0,\n",
      "          0,  0,  0,  0,  0,  0,  0,  0,  0,  0,  0,  0,  0,  0,  0,  0,  0,  0,\n",
      "          0,  0,  0,  0,  0,  0,  0,  0,  0,  0,  0,  0,  0,  0,  0,  0,  0,  0,\n",
      "          0,  0,  0,  0,  0,  0,  0,  0,  0,  0,  0,  0,  0,  0,  0,  0,  0,  0,\n",
      "          0,  0,  0,  0,  0,  0,  0,  0,  0,  0,  0,  0,  0,  0,  0,  0,  0,  0,\n",
      "          0,  0,  0,  0,  0,  0,  0,  0,  0,  0,  0,  0,  0,  0,  0,  0,  0,  0,\n",
      "          0,  0,  0,  0,  0,  0,  0,  0,  0,  0,  0,  0,  0,  0,  0,  0,  0,  0,\n",
      "          0,  0,  0,  0,  0,  0,  0,  0,  0,  0,  0,  0,  0,  0,  0,  0,  0,  0,\n",
      "          0,  0,  0,  0,  0,  0,  0,  0,  0,  0,  0,  0,  0,  0,  0,  0,  0,  0,\n",
      "          0,  0,  0,  0,  0,  0,  0,  0,  0,  0,  0,  0,  0,  0,  0,  0,  0,  0,\n",
      "          0,  0,  0,  0,  0,  0,  0,  0,  0,  0,  0,  0,  0,  0,  0,  0,  0,  0,\n",
      "          0,  0,  0,  0,  0,  0,  0,  0,  0,  0,  0,  0,  0,  0,  0,  0,  0,  0,\n",
      "          0,  0,  0,  0,  0,  0,  0,  0,  0,  0,  0,  0,  0,  0,  0,  0,  0,  0,\n",
      "          0,  0,  0,  0,  0,  0,  0,  0,  0,  0,  0,  0,  0,  0,  0,  0,  0,  0,\n",
      "          0,  0,  0,  0,  0,  0,  0,  0,  0,  0,  0,  0,  0,  0,  0,  0,  0,  0,\n",
      "          0,  0,  0,  0,  0,  0,  0,  0,  0,  0,  0,  0,  0,  0,  0,  0,  0,  0,\n",
      "          0,  0,  0,  0,  0,  0,  0,  0,  0,  0,  0,  0,  0,  0,  0,  0,  0,  0,\n",
      "          0,  0,  0,  0,  0,  0,  0,  0,  0,  0,  0,  0,  0,  0,  0,  0,  0,  0,\n",
      "          0,  0,  0,  0,  0,  0,  0,  0,  0,  0,  0,  0,  0,  0,  0,  0,  0,  0,\n",
      "          0,  0,  0,  0,  0,  0,  0,  0,  0,  0,  0,  0,  0,  0,  0,  0,  0,  0,\n",
      "          0,  0,  0,  0,  0,  0,  0,  0,  0,  0,  0,  0,  0,  0,  0,  0,  0,  0,\n",
      "          0,  0,  0,  0,  0,  0,  0,  0,  0,  0,  0,  0,  0,  0,  0,  0,  0,  0,\n",
      "          0,  0,  0,  0,  0,  0,  0,  0]]), 'token_type_ids': tensor([[0, 0, 0, 0, 0, 0, 0, 0, 0, 0, 0, 0, 0, 0, 0, 0, 0, 0, 0, 0, 0, 0, 0, 0,\n",
      "         0, 0, 0, 0, 0, 0, 0, 0, 0, 0, 0, 0, 0, 0, 0, 0, 0, 0, 0, 0, 0, 0, 0, 0,\n",
      "         0, 0, 0, 0, 0, 0, 0, 0, 0, 0, 0, 0, 0, 0, 0, 0, 0, 0, 0, 0, 0, 0, 0, 0,\n",
      "         0, 0, 0, 0, 0, 0, 0, 0, 0, 0, 0, 0, 0, 0, 0, 0, 0, 0, 0, 0, 0, 0, 0, 0,\n",
      "         0, 0, 0, 0, 0, 0, 0, 0, 0, 0, 0, 0, 0, 0, 0, 0, 0, 0, 0, 0, 0, 0, 0, 0,\n",
      "         0, 0, 0, 0, 0, 0, 0, 0, 0, 0, 0, 0, 0, 0, 0, 0, 0, 0, 0, 0, 0, 0, 0, 0,\n",
      "         0, 0, 0, 0, 0, 0, 0, 0, 0, 0, 0, 0, 0, 0, 0, 0, 0, 0, 0, 0, 0, 0, 0, 0,\n",
      "         0, 0, 0, 0, 0, 0, 0, 0, 0, 0, 0, 0, 0, 0, 0, 0, 0, 0, 0, 0, 0, 0, 0, 0,\n",
      "         0, 0, 0, 0, 0, 0, 0, 0, 0, 0, 0, 0, 0, 0, 0, 0, 0, 0, 0, 0, 0, 0, 0, 0,\n",
      "         0, 0, 0, 0, 0, 0, 0, 0, 0, 0, 0, 0, 0, 0, 0, 0, 0, 0, 0, 0, 0, 0, 0, 0,\n",
      "         0, 0, 0, 0, 0, 0, 0, 0, 0, 0, 0, 0, 0, 0, 0, 0, 0, 0, 0, 0, 0, 0, 0, 0,\n",
      "         0, 0, 0, 0, 0, 0, 0, 0, 0, 0, 0, 0, 0, 0, 0, 0, 0, 0, 0, 0, 0, 0, 0, 0,\n",
      "         0, 0, 0, 0, 0, 0, 0, 0, 0, 0, 0, 0, 0, 0, 0, 0, 0, 0, 0, 0, 0, 0, 0, 0,\n",
      "         0, 0, 0, 0, 0, 0, 0, 0, 0, 0, 0, 0, 0, 0, 0, 0, 0, 0, 0, 0, 0, 0, 0, 0,\n",
      "         0, 0, 0, 0, 0, 0, 0, 0, 0, 0, 0, 0, 0, 0, 0, 0, 0, 0, 0, 0, 0, 0, 0, 0,\n",
      "         0, 0, 0, 0, 0, 0, 0, 0, 0, 0, 0, 0, 0, 0, 0, 0, 0, 0, 0, 0, 0, 0, 0, 0,\n",
      "         0, 0, 0, 0, 0, 0, 0, 0, 0, 0, 0, 0, 0, 0, 0, 0, 0, 0, 0, 0, 0, 0, 0, 0,\n",
      "         0, 0, 0, 0, 0, 0, 0, 0, 0, 0, 0, 0, 0, 0, 0, 0, 0, 0, 0, 0, 0, 0, 0, 0,\n",
      "         0, 0, 0, 0, 0, 0, 0, 0, 0, 0, 0, 0, 0, 0, 0, 0, 0, 0, 0, 0, 0, 0, 0, 0,\n",
      "         0, 0, 0, 0, 0, 0, 0, 0, 0, 0, 0, 0, 0, 0, 0, 0, 0, 0, 0, 0, 0, 0, 0, 0,\n",
      "         0, 0, 0, 0, 0, 0, 0, 0, 0, 0, 0, 0, 0, 0, 0, 0, 0, 0, 0, 0, 0, 0, 0, 0,\n",
      "         0, 0, 0, 0, 0, 0, 0, 0]]), 'attention_mask': tensor([[1, 1, 1, 1, 1, 1, 1, 1, 1, 1, 1, 1, 1, 1, 1, 1, 1, 1, 1, 1, 1, 1, 1, 1,\n",
      "         1, 1, 1, 1, 1, 1, 1, 1, 1, 1, 1, 1, 1, 1, 1, 1, 1, 1, 1, 1, 1, 1, 1, 1,\n",
      "         0, 0, 0, 0, 0, 0, 0, 0, 0, 0, 0, 0, 0, 0, 0, 0, 0, 0, 0, 0, 0, 0, 0, 0,\n",
      "         0, 0, 0, 0, 0, 0, 0, 0, 0, 0, 0, 0, 0, 0, 0, 0, 0, 0, 0, 0, 0, 0, 0, 0,\n",
      "         0, 0, 0, 0, 0, 0, 0, 0, 0, 0, 0, 0, 0, 0, 0, 0, 0, 0, 0, 0, 0, 0, 0, 0,\n",
      "         0, 0, 0, 0, 0, 0, 0, 0, 0, 0, 0, 0, 0, 0, 0, 0, 0, 0, 0, 0, 0, 0, 0, 0,\n",
      "         0, 0, 0, 0, 0, 0, 0, 0, 0, 0, 0, 0, 0, 0, 0, 0, 0, 0, 0, 0, 0, 0, 0, 0,\n",
      "         0, 0, 0, 0, 0, 0, 0, 0, 0, 0, 0, 0, 0, 0, 0, 0, 0, 0, 0, 0, 0, 0, 0, 0,\n",
      "         0, 0, 0, 0, 0, 0, 0, 0, 0, 0, 0, 0, 0, 0, 0, 0, 0, 0, 0, 0, 0, 0, 0, 0,\n",
      "         0, 0, 0, 0, 0, 0, 0, 0, 0, 0, 0, 0, 0, 0, 0, 0, 0, 0, 0, 0, 0, 0, 0, 0,\n",
      "         0, 0, 0, 0, 0, 0, 0, 0, 0, 0, 0, 0, 0, 0, 0, 0, 0, 0, 0, 0, 0, 0, 0, 0,\n",
      "         0, 0, 0, 0, 0, 0, 0, 0, 0, 0, 0, 0, 0, 0, 0, 0, 0, 0, 0, 0, 0, 0, 0, 0,\n",
      "         0, 0, 0, 0, 0, 0, 0, 0, 0, 0, 0, 0, 0, 0, 0, 0, 0, 0, 0, 0, 0, 0, 0, 0,\n",
      "         0, 0, 0, 0, 0, 0, 0, 0, 0, 0, 0, 0, 0, 0, 0, 0, 0, 0, 0, 0, 0, 0, 0, 0,\n",
      "         0, 0, 0, 0, 0, 0, 0, 0, 0, 0, 0, 0, 0, 0, 0, 0, 0, 0, 0, 0, 0, 0, 0, 0,\n",
      "         0, 0, 0, 0, 0, 0, 0, 0, 0, 0, 0, 0, 0, 0, 0, 0, 0, 0, 0, 0, 0, 0, 0, 0,\n",
      "         0, 0, 0, 0, 0, 0, 0, 0, 0, 0, 0, 0, 0, 0, 0, 0, 0, 0, 0, 0, 0, 0, 0, 0,\n",
      "         0, 0, 0, 0, 0, 0, 0, 0, 0, 0, 0, 0, 0, 0, 0, 0, 0, 0, 0, 0, 0, 0, 0, 0,\n",
      "         0, 0, 0, 0, 0, 0, 0, 0, 0, 0, 0, 0, 0, 0, 0, 0, 0, 0, 0, 0, 0, 0, 0, 0,\n",
      "         0, 0, 0, 0, 0, 0, 0, 0, 0, 0, 0, 0, 0, 0, 0, 0, 0, 0, 0, 0, 0, 0, 0, 0,\n",
      "         0, 0, 0, 0, 0, 0, 0, 0, 0, 0, 0, 0, 0, 0, 0, 0, 0, 0, 0, 0, 0, 0, 0, 0,\n",
      "         0, 0, 0, 0, 0, 0, 0, 0]])}\n"
     ]
    }
   ],
   "source": [
    "example_text = 'sniff 20-25 groom under5 sniff 5-10 groom 10-15 sniff 40-45 groom 20-25 sniff 5-10 groom 20-25 sniff under5 groom 50-55 sniff 90-450 groom 20-25 sniff 60-90 groom 90-450 sniff 15-20 groom 30-35 sniff 55-60 groom 60-90 sniff 60-90 nibble 10-15 sniff 15-20 nibble 45-50 sniff 50-55'\n",
    "bert_input = tokenizer(example_text,padding='max_length', max_length = 512, \n",
    "                       truncation=True, return_tensors=\"pt\")\n",
    "print(bert_input)"
   ]
  },
  {
   "cell_type": "code",
   "execution_count": 16,
   "id": "3fa47bbc",
   "metadata": {
    "scrolled": false
   },
   "outputs": [
    {
     "name": "stdout",
     "output_type": "stream",
     "text": [
      "╒══════════╤═════════════╕\n",
      "│ Tokens   │   Token IDs │\n",
      "╞══════════╪═════════════╡\n",
      "│ groom    │          24 │\n",
      "├──────────┼─────────────┤\n",
      "│ 10-15    │           7 │\n",
      "├──────────┼─────────────┤\n",
      "│ sniff    │          26 │\n",
      "├──────────┼─────────────┤\n",
      "│ 450-1800 │          19 │\n",
      "╘══════════╧═════════════╛\n"
     ]
    }
   ],
   "source": [
    "def print_rand_sentence():\n",
    "    '''\n",
    "    Displays the tokens and respective IDs of a random text sample\n",
    "    '''\n",
    "    index = random.randint(0, len(raw_text)-1)\n",
    "    table = np.array([tokenizer.tokenize(raw_text[index]), \n",
    "                    tokenizer.convert_tokens_to_ids(tokenizer.tokenize(raw_text[index]))]).T\n",
    "    print(tabulate(table,\n",
    "                 headers = ['Tokens', 'Token IDs'],\n",
    "                 tablefmt = 'fancy_grid'))\n",
    "\n",
    "print_rand_sentence()"
   ]
  },
  {
   "cell_type": "code",
   "execution_count": 17,
   "id": "8f1bc404",
   "metadata": {},
   "outputs": [
    {
     "name": "stdout",
     "output_type": "stream",
     "text": [
      "Maximum sequence length: 995\n",
      "Average: 184.27982261640798\n",
      "Standard Deviation: 116.50905664468583\n",
      "Final Vocabulary: {'drink', '40-45', '30-35', '5-10', '55-60', 'over4500', 'rear', '90-450', '50-55', '25-30', '15-20', '35-40', 'hang', '1800-4500', 'under5', '450-1800', 'groom', 'sniff', '60-90', 'walk', '20-25', 'rest', '10-15', 'nibble', 'eat', '45-50'}\n",
      "Length of Vocabulary: 26\n"
     ]
    }
   ],
   "source": [
    "# Checking max sequence length and vocabulary\n",
    "max_seq_len = 0\n",
    "seq_lens = []\n",
    "overall_set = set()\n",
    "for seq in preexposure_c:\n",
    "    overall_set.update(seq.split())\n",
    "    seq_lens.append(len(seq))\n",
    "    if len(seq) > max_seq_len:\n",
    "        max_seq_len = len(seq)\n",
    "print(\"Maximum sequence length:\", max_seq_len)\n",
    "seq_lens = np.array(seq_lens)\n",
    "print(\"Average:\", np.mean(seq_lens))\n",
    "print(\"Standard Deviation:\", np.std(seq_lens))\n",
    "print(\"Final Vocabulary:\", overall_set)\n",
    "print(\"Length of Vocabulary:\", len(overall_set))"
   ]
  },
  {
   "cell_type": "code",
   "execution_count": null,
   "id": "f004a53e",
   "metadata": {},
   "outputs": [],
   "source": [
    "class Mouse_Action_Sequence_Dataset(torch.utils.data.Dataset):\n",
    "    def __init__(self, raw_text, tokenizer):\n",
    "        super(Mouse_Action_Sequence_Dataset, self).__init__()\n",
    "        self.sequence_list = raw_text\n",
    "        self.tokenizer = tokenizer\n",
    "    \n",
    "    def __len__(self):\n",
    "        return len(self.sequence_list)\n",
    "\n",
    "    def __getitem__(self, idx):\n",
    "        sequence = self.sequence_list[idx]\n",
    "        tokenized_sequence = self.tokenizer.tokenize(sequence)\n",
    "        sequence_ids = tokenizer.convert_tokens_to_ids(tokenized_sequence)\n",
    "        tensor_sequence = torch.tensor(sequence_ids)\n",
    "        return {'input_ids': tensor_sequence}"
   ]
  },
  {
   "cell_type": "code",
   "execution_count": 18,
   "id": "98911157",
   "metadata": {},
   "outputs": [
    {
     "name": "stderr",
     "output_type": "stream",
     "text": [
      "/gpfs/data/tserre/anagara8/pytorch/lib/python3.9/site-packages/transformers/data/datasets/language_modeling.py:121: FutureWarning: This dataset will be removed from the library soon, preprocessing should be handled with the 🤗 Datasets library. You can have a look at this example script for pointers: https://github.com/huggingface/transformers/blob/main/examples/pytorch/language-modeling/run_mlm.py\n",
      "  warnings.warn(\n"
     ]
    }
   ],
   "source": [
    "dataset= LineByLineTextDataset(\n",
    "    tokenizer = tokenizer,\n",
    "    file_path = 'a.txt',\n",
    "    block_size = 128\n",
    ")"
   ]
  },
  {
   "cell_type": "code",
   "execution_count": null,
   "id": "358bb883",
   "metadata": {},
   "outputs": [],
   "source": [
    "dataset[0]"
   ]
  },
  {
   "cell_type": "code",
   "execution_count": null,
   "id": "cfc897b9",
   "metadata": {},
   "outputs": [],
   "source": [
    "dataset = Mouse_Action_Sequence_Dataset(raw_text, tokenizer)"
   ]
  },
  {
   "cell_type": "code",
   "execution_count": null,
   "id": "11321888",
   "metadata": {},
   "outputs": [],
   "source": [
    "dataset[0]"
   ]
  },
  {
   "cell_type": "code",
   "execution_count": 19,
   "id": "d207c42c",
   "metadata": {},
   "outputs": [],
   "source": [
    "config = BertConfig(\n",
    "    vocab_size=31,\n",
    "    hidden_size=128, \n",
    "    num_hidden_layers=12, \n",
    "    num_attention_heads=16,\n",
    "    max_position_embeddings=512\n",
    ")"
   ]
  },
  {
   "cell_type": "code",
   "execution_count": 20,
   "id": "c3b61ed6",
   "metadata": {},
   "outputs": [
    {
     "name": "stdout",
     "output_type": "stream",
     "text": [
      "No of parameters:  10361119\n"
     ]
    }
   ],
   "source": [
    "model = BertForMaskedLM(config)\n",
    "print('No of parameters: ', model.num_parameters())"
   ]
  },
  {
   "cell_type": "code",
   "execution_count": 21,
   "id": "22725535",
   "metadata": {},
   "outputs": [],
   "source": [
    "data_collator = DataCollatorForLanguageModeling(\n",
    "    tokenizer=tokenizer, mlm=True, mlm_probability=0.15\n",
    ")"
   ]
  },
  {
   "cell_type": "code",
   "execution_count": 23,
   "id": "f21d1779",
   "metadata": {},
   "outputs": [],
   "source": [
    "training_args = TrainingArguments(\n",
    "    output_dir='mlm_on_32_hours_LBL',\n",
    "    overwrite_output_dir=True,\n",
    "    num_train_epochs=10,\n",
    "    per_device_train_batch_size=32,\n",
    "    save_steps=10_000,\n",
    "    save_total_limit=2,\n",
    ")"
   ]
  },
  {
   "cell_type": "code",
   "execution_count": 24,
   "id": "cf23f03f",
   "metadata": {},
   "outputs": [],
   "source": [
    "trainer = Trainer(\n",
    "    model=model,\n",
    "    args=training_args,\n",
    "    data_collator=data_collator,\n",
    "    train_dataset=dataset,\n",
    ")"
   ]
  },
  {
   "cell_type": "code",
   "execution_count": null,
   "id": "098afeb6",
   "metadata": {},
   "outputs": [
    {
     "name": "stderr",
     "output_type": "stream",
     "text": [
      "/gpfs/data/tserre/anagara8/pytorch/lib/python3.9/site-packages/transformers/optimization.py:306: FutureWarning: This implementation of AdamW is deprecated and will be removed in a future version. Use the PyTorch implementation torch.optim.AdamW instead, or set `no_deprecation_warning=True` to disable this warning\n",
      "  warnings.warn(\n",
      "***** Running training *****\n",
      "  Num examples = 2\n",
      "  Num Epochs = 10\n",
      "  Instantaneous batch size per device = 32\n",
      "  Total train batch size (w. parallel, distributed & accumulation) = 64\n",
      "  Gradient Accumulation steps = 1\n",
      "  Total optimization steps = 10\n",
      "  Number of trainable parameters = 10361119\n",
      "Automatic Weights & Biases logging enabled, to disable set os.environ[\"WANDB_DISABLED\"] = \"true\"\n",
      "Failed to detect the name of this notebook, you can set it manually with the WANDB_NOTEBOOK_NAME environment variable to enable code saving.\n",
      "\u001b[34m\u001b[1mwandb\u001b[0m: Currently logged in as: \u001b[33mgrassknoted\u001b[0m (\u001b[33mserrelab\u001b[0m). Use \u001b[1m`wandb login --relogin`\u001b[0m to force relogin\n"
     ]
    },
    {
     "data": {
      "text/html": [
       "Tracking run with wandb version 0.13.5"
      ],
      "text/plain": [
       "<IPython.core.display.HTML object>"
      ]
     },
     "metadata": {},
     "output_type": "display_data"
    },
    {
     "data": {
      "text/html": [
       "Run data is saved locally in <code>/cifs/data/tserre/CLPS_Serre_Lab/anagara8/prj_nih/Notebooks/wandb/run-20221117_163619-3haaaoq9</code>"
      ],
      "text/plain": [
       "<IPython.core.display.HTML object>"
      ]
     },
     "metadata": {},
     "output_type": "display_data"
    },
    {
     "data": {
      "text/html": [
       "Syncing run <strong><a href=\"https://wandb.ai/serrelab/huggingface/runs/3haaaoq9\" target=\"_blank\">mlm_on_32_hours_LBL</a></strong> to <a href=\"https://wandb.ai/serrelab/huggingface\" target=\"_blank\">Weights & Biases</a> (<a href=\"https://wandb.me/run\" target=\"_blank\">docs</a>)<br/>"
      ],
      "text/plain": [
       "<IPython.core.display.HTML object>"
      ]
     },
     "metadata": {},
     "output_type": "display_data"
    },
    {
     "name": "stderr",
     "output_type": "stream",
     "text": [
      "/gpfs/data/tserre/anagara8/pytorch/lib/python3.9/site-packages/torch/nn/parallel/_functions.py:68: UserWarning: Was asked to gather along dimension 0, but all input tensors were scalars; will instead unsqueeze and return a vector.\n",
      "  warnings.warn('Was asked to gather along dimension 0, but all '\n"
     ]
    }
   ],
   "source": [
    "trainer.train()"
   ]
  },
  {
   "cell_type": "code",
   "execution_count": null,
   "id": "2dfda043",
   "metadata": {},
   "outputs": [],
   "source": []
  }
 ],
 "metadata": {
  "kernelspec": {
   "display_name": "Python 3 (ipykernel)",
   "language": "python",
   "name": "python3"
  },
  "language_info": {
   "codemirror_mode": {
    "name": "ipython",
    "version": 3
   },
   "file_extension": ".py",
   "mimetype": "text/x-python",
   "name": "python",
   "nbconvert_exporter": "python",
   "pygments_lexer": "ipython3",
   "version": "3.9.0"
  }
 },
 "nbformat": 4,
 "nbformat_minor": 5
}
